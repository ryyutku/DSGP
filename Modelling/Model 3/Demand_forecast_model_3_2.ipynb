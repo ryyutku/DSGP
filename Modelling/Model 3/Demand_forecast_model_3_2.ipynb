{
  "nbformat": 4,
  "nbformat_minor": 0,
  "metadata": {
    "colab": {
      "provenance": [],
      "include_colab_link": true
    },
    "kernelspec": {
      "name": "python3",
      "display_name": "Python 3"
    },
    "language_info": {
      "name": "python"
    }
  },
  "cells": [
    {
      "cell_type": "markdown",
      "metadata": {
        "id": "view-in-github",
        "colab_type": "text"
      },
      "source": [
        "<a href=\"https://colab.research.google.com/github/ryyutku/DSGP/blob/anuk/Modelling/Model%203/Demand_forecast_model_3_2.ipynb\" target=\"_parent\"><img src=\"https://colab.research.google.com/assets/colab-badge.svg\" alt=\"Open In Colab\"/></a>"
      ]
    },
    {
      "cell_type": "code",
      "execution_count": 181,
      "metadata": {
        "id": "w4Ts2_ucp3t1"
      },
      "outputs": [],
      "source": [
        "import pandas as pd\n",
        "import numpy as np\n",
        "import matplotlib.pyplot as plt\n",
        "from sklearn.preprocessing import MinMaxScaler, StandardScaler\n",
        "\n",
        "import statsmodels.api as sm\n",
        "from scipy.stats import linregress\n",
        "from statsmodels.tsa.stattools import adfuller\n",
        "from sklearn.linear_model import LinearRegression\n",
        "from sklearn.preprocessing import PolynomialFeatures\n",
        "from scipy.optimize import curve_fit"
      ]
    },
    {
      "cell_type": "code",
      "source": [
        "files = [\"Avg_Daily_Sales_Litres_ceypetco.csv\",\"Avg_Daily_Sales_MT_ceypetco.csv\",\"CIEC Data.csv\",\"GDP_historical_data.csv\",\"Import_Data_WITS.csv\",\"Population_colombo.csv\",\"Sales_IOC.csv\",\"Transport_Report_Tables.csv\" ]"
      ],
      "metadata": {
        "id": "-C_uhDArmdrX"
      },
      "execution_count": 182,
      "outputs": []
    },
    {
      "cell_type": "code",
      "source": [
        "ceypetco_sales_l_df = pd.read_csv(files[0]) # int64\n",
        "ceypetco_sales_m_df = pd.read_csv(files[1]) # int64\n",
        "ciec_df = pd.read_csv(files[2]) # float64\n",
        "gdp_df = pd.read_csv(files[3]) # converted to float64\n",
        "import_df = pd.read_csv(files[4]) # contains float64, int64 for years, object for the partner names and countries\n",
        "population_df = pd.read_csv(files[5]) # converted float64\n",
        "ioc_sales_df = pd.read_csv(files[6]) # converted to float64\n",
        "transport_df = pd.read_csv(files[7]) # converted to float64"
      ],
      "metadata": {
        "id": "blpO1CoMmx2e"
      },
      "execution_count": 183,
      "outputs": []
    },
    {
      "cell_type": "code",
      "source": [
        "# Converting the ioc_sales data into float\n",
        "ioc_sales_df = ioc_sales_df.replace({r'[\\n,]': ''}, regex=True)\n",
        "ioc_sales_df = ioc_sales_df.astype(float)"
      ],
      "metadata": {
        "id": "c4LPoMBUr0AO"
      },
      "execution_count": 184,
      "outputs": []
    },
    {
      "cell_type": "code",
      "source": [
        "# Converting the gdp historical data into float\n",
        "gdp_df = gdp_df.replace({r'[$%B,]':''},regex=True)\n",
        "gdp_df = gdp_df.replace('',np.nan)\n",
        "gdp_df = gdp_df.astype(float)"
      ],
      "metadata": {
        "id": "6qWfNVE8uoo5"
      },
      "execution_count": 185,
      "outputs": []
    },
    {
      "cell_type": "code",
      "source": [
        "# converting the population df to float\n",
        "population_df = population_df.replace({r'[,%]':''},regex=True)\n",
        "population_df = population_df.replace('',np.nan)\n",
        "population_df = population_df.astype(float)"
      ],
      "metadata": {
        "id": "-hslLy4xwHOR"
      },
      "execution_count": 186,
      "outputs": []
    },
    {
      "cell_type": "code",
      "source": [
        "# converting the transport df to float\n",
        "transport_df_str = transport_df.iloc[:,0:2]\n",
        "transport_df_n = transport_df.iloc[:, 2:].replace({r'[,%]':''},regex=True)\n",
        "transport_df_n = transport_df_n.astype(float)\n",
        "transport_df = transport_df_str.join(transport_df_n)"
      ],
      "metadata": {
        "id": "uA4TwGw2w4jc"
      },
      "execution_count": 187,
      "outputs": []
    },
    {
      "cell_type": "code",
      "source": [
        "ciec_df['date'] = pd.to_datetime((ciec_df['date']))"
      ],
      "metadata": {
        "id": "1Rjm5BlTQm4U"
      },
      "execution_count": 188,
      "outputs": []
    },
    {
      "cell_type": "code",
      "source": [
        "ciec_df.columns"
      ],
      "metadata": {
        "colab": {
          "base_uri": "https://localhost:8080/"
        },
        "id": "djkoxXXXnBhv",
        "outputId": "cfe67f2a-bbe0-4d63-e98e-9ee9b76cdea7"
      },
      "execution_count": 189,
      "outputs": [
        {
          "output_type": "execute_result",
          "data": {
            "text/plain": [
              "Index(['date', 'fuel_consumption', 'petroleum_imports_crudeOil',\n",
              "       'Taxes_on_Customs_and_Other_Import Duties',\n",
              "       'Foreign Direct Investments', 'GDP Goods and Services',\n",
              "       'GDP: Gross National Income', 'Government Debt',\n",
              "       'New Vehicle Registrations', 'Vehicle Sales', 'Port Stay Duration',\n",
              "       'Vehicle Sales Asia', 'No.of Vessels Colombo',\n",
              "       'Imports of Refined Products', 'Colombo port calls',\n",
              "       'Tax income profits_gains', 'Tax on Export', 'Tax Goods & Services',\n",
              "       'Tax Road Transport', 'GDP FCE Households', 'Diesel User Price',\n",
              "       'Petrol User Price', 'Consumption_Oil', 'Sales 90 Octane',\n",
              "       'Sales 95 Octane', 'Sales Auto Diesel', 'Household_income',\n",
              "       'Fuel_other_manufacture'],\n",
              "      dtype='object')"
            ]
          },
          "metadata": {},
          "execution_count": 189
        }
      ]
    },
    {
      "cell_type": "code",
      "source": [
        "ciec_df_cols = ['date', 'fuel_consumption', 'petroleum_imports_crudeOil',\n",
        "       'Taxes_on_Customs_and_Other_Import Duties',\n",
        "       'Foreign Direct Investments', 'GDP Goods and Services',\n",
        "       'GDP: Gross National Income', 'Government Debt',\n",
        "       'New Vehicle Registrations', 'Vehicle Sales', 'Port Stay Duration',\n",
        "       'Vehicle Sales Asia', 'No.of Vessels Colombo',\n",
        "       'Imports of Refined Products', 'Colombo port calls',\n",
        "       'Tax income profits_gains', 'Tax on Export', 'Tax Goods & Services',\n",
        "       'Tax Road Transport', 'GDP FCE Households', 'Diesel User Price',\n",
        "       'Petrol User Price', 'Consumption_Oil', 'Sales 90 Octane',\n",
        "       'Sales 95 Octane', 'Sales Auto Diesel', 'Household_income',\n",
        "       'Fuel_other_manufacture']"
      ],
      "metadata": {
        "id": "uTO9F0Y6nFS9"
      },
      "execution_count": 190,
      "outputs": []
    },
    {
      "cell_type": "code",
      "source": [
        "ciec_df.dtypes"
      ],
      "metadata": {
        "colab": {
          "base_uri": "https://localhost:8080/",
          "height": 962
        },
        "id": "htfRfPWp82l6",
        "outputId": "60e99eb8-1561-471b-bbd0-f8634981d11e",
        "collapsed": true
      },
      "execution_count": 191,
      "outputs": [
        {
          "output_type": "execute_result",
          "data": {
            "text/plain": [
              "date                                        datetime64[ns]\n",
              "fuel_consumption                                   float64\n",
              "petroleum_imports_crudeOil                         float64\n",
              "Taxes_on_Customs_and_Other_Import Duties           float64\n",
              "Foreign Direct Investments                         float64\n",
              "GDP Goods and Services                             float64\n",
              "GDP: Gross National Income                         float64\n",
              "Government Debt                                    float64\n",
              "New Vehicle Registrations                          float64\n",
              "Vehicle Sales                                      float64\n",
              "Port Stay Duration                                 float64\n",
              "Vehicle Sales Asia                                 float64\n",
              "No.of Vessels Colombo                              float64\n",
              "Imports of Refined Products                        float64\n",
              "Colombo port calls                                 float64\n",
              "Tax income profits_gains                           float64\n",
              "Tax on Export                                      float64\n",
              "Tax Goods & Services                               float64\n",
              "Tax Road Transport                                 float64\n",
              "GDP FCE Households                                 float64\n",
              "Diesel User Price                                  float64\n",
              "Petrol User Price                                  float64\n",
              "Consumption_Oil                                    float64\n",
              "Sales 90 Octane                                    float64\n",
              "Sales 95 Octane                                    float64\n",
              "Sales Auto Diesel                                  float64\n",
              "Household_income                                   float64\n",
              "Fuel_other_manufacture                             float64\n",
              "dtype: object"
            ],
            "text/html": [
              "<div>\n",
              "<style scoped>\n",
              "    .dataframe tbody tr th:only-of-type {\n",
              "        vertical-align: middle;\n",
              "    }\n",
              "\n",
              "    .dataframe tbody tr th {\n",
              "        vertical-align: top;\n",
              "    }\n",
              "\n",
              "    .dataframe thead th {\n",
              "        text-align: right;\n",
              "    }\n",
              "</style>\n",
              "<table border=\"1\" class=\"dataframe\">\n",
              "  <thead>\n",
              "    <tr style=\"text-align: right;\">\n",
              "      <th></th>\n",
              "      <th>0</th>\n",
              "    </tr>\n",
              "  </thead>\n",
              "  <tbody>\n",
              "    <tr>\n",
              "      <th>date</th>\n",
              "      <td>datetime64[ns]</td>\n",
              "    </tr>\n",
              "    <tr>\n",
              "      <th>fuel_consumption</th>\n",
              "      <td>float64</td>\n",
              "    </tr>\n",
              "    <tr>\n",
              "      <th>petroleum_imports_crudeOil</th>\n",
              "      <td>float64</td>\n",
              "    </tr>\n",
              "    <tr>\n",
              "      <th>Taxes_on_Customs_and_Other_Import Duties</th>\n",
              "      <td>float64</td>\n",
              "    </tr>\n",
              "    <tr>\n",
              "      <th>Foreign Direct Investments</th>\n",
              "      <td>float64</td>\n",
              "    </tr>\n",
              "    <tr>\n",
              "      <th>GDP Goods and Services</th>\n",
              "      <td>float64</td>\n",
              "    </tr>\n",
              "    <tr>\n",
              "      <th>GDP: Gross National Income</th>\n",
              "      <td>float64</td>\n",
              "    </tr>\n",
              "    <tr>\n",
              "      <th>Government Debt</th>\n",
              "      <td>float64</td>\n",
              "    </tr>\n",
              "    <tr>\n",
              "      <th>New Vehicle Registrations</th>\n",
              "      <td>float64</td>\n",
              "    </tr>\n",
              "    <tr>\n",
              "      <th>Vehicle Sales</th>\n",
              "      <td>float64</td>\n",
              "    </tr>\n",
              "    <tr>\n",
              "      <th>Port Stay Duration</th>\n",
              "      <td>float64</td>\n",
              "    </tr>\n",
              "    <tr>\n",
              "      <th>Vehicle Sales Asia</th>\n",
              "      <td>float64</td>\n",
              "    </tr>\n",
              "    <tr>\n",
              "      <th>No.of Vessels Colombo</th>\n",
              "      <td>float64</td>\n",
              "    </tr>\n",
              "    <tr>\n",
              "      <th>Imports of Refined Products</th>\n",
              "      <td>float64</td>\n",
              "    </tr>\n",
              "    <tr>\n",
              "      <th>Colombo port calls</th>\n",
              "      <td>float64</td>\n",
              "    </tr>\n",
              "    <tr>\n",
              "      <th>Tax income profits_gains</th>\n",
              "      <td>float64</td>\n",
              "    </tr>\n",
              "    <tr>\n",
              "      <th>Tax on Export</th>\n",
              "      <td>float64</td>\n",
              "    </tr>\n",
              "    <tr>\n",
              "      <th>Tax Goods &amp; Services</th>\n",
              "      <td>float64</td>\n",
              "    </tr>\n",
              "    <tr>\n",
              "      <th>Tax Road Transport</th>\n",
              "      <td>float64</td>\n",
              "    </tr>\n",
              "    <tr>\n",
              "      <th>GDP FCE Households</th>\n",
              "      <td>float64</td>\n",
              "    </tr>\n",
              "    <tr>\n",
              "      <th>Diesel User Price</th>\n",
              "      <td>float64</td>\n",
              "    </tr>\n",
              "    <tr>\n",
              "      <th>Petrol User Price</th>\n",
              "      <td>float64</td>\n",
              "    </tr>\n",
              "    <tr>\n",
              "      <th>Consumption_Oil</th>\n",
              "      <td>float64</td>\n",
              "    </tr>\n",
              "    <tr>\n",
              "      <th>Sales 90 Octane</th>\n",
              "      <td>float64</td>\n",
              "    </tr>\n",
              "    <tr>\n",
              "      <th>Sales 95 Octane</th>\n",
              "      <td>float64</td>\n",
              "    </tr>\n",
              "    <tr>\n",
              "      <th>Sales Auto Diesel</th>\n",
              "      <td>float64</td>\n",
              "    </tr>\n",
              "    <tr>\n",
              "      <th>Household_income</th>\n",
              "      <td>float64</td>\n",
              "    </tr>\n",
              "    <tr>\n",
              "      <th>Fuel_other_manufacture</th>\n",
              "      <td>float64</td>\n",
              "    </tr>\n",
              "  </tbody>\n",
              "</table>\n",
              "</div><br><label><b>dtype:</b> object</label>"
            ]
          },
          "metadata": {},
          "execution_count": 191
        }
      ]
    },
    {
      "cell_type": "markdown",
      "source": [
        "## **Checking the relationships of the columns to see how they must be interpolated**"
      ],
      "metadata": {
        "id": "W9yq6fmGoBZt"
      }
    },
    {
      "cell_type": "markdown",
      "source": [
        "Checking how the columns are related to other columns, For forecasting the null values"
      ],
      "metadata": {
        "id": "6PYfcrfvrTGJ"
      }
    },
    {
      "cell_type": "code",
      "source": [
        "def calculate_category_correlation(df,feature1, feature2):\n",
        "    # Drop rows where 'feature1' is NaN\n",
        "    df_valid_feature1 = df.dropna(subset=[feature1])\n",
        "\n",
        "    # Drop rows where 'feature2' are NaN\n",
        "    df_valid_feature2 = df.dropna(subset=[feature2], how='all')\n",
        "\n",
        "    # Find the overlapping date range where both 'feature1' and the 'feature2' exist\n",
        "    start_date = max(df_valid_feature1['date'].min(), df_valid_feature2['date'].min())\n",
        "    end_date = min(df_valid_feature1['date'].max(), df_valid_feature2['date'].max())\n",
        "\n",
        "    # Filter data to include only the overlapping date range\n",
        "    df_filtered = df[(df['date'] >= start_date) & (df['date'] <= end_date)]\n",
        "\n",
        "    # Compute correlation between 'fuel_consumption' and the aggregated category\n",
        "    correlation = df_filtered[[feature1, feature2]].corr().iloc[0, 1]\n",
        "\n",
        "    return correlation"
      ],
      "metadata": {
        "id": "0BhokyGioOZ_"
      },
      "execution_count": 192,
      "outputs": []
    },
    {
      "cell_type": "code",
      "source": [
        "def find_strong_correlations(df, columns, threshold=0.8):\n",
        "  strong_correlations = {}\n",
        "  for i in columns:\n",
        "    for j in columns:\n",
        "      if i != j:\n",
        "        correlation = calculate_category_correlation(df, i, j)\n",
        "        if abs(correlation) >= threshold:\n",
        "          if i not in strong_correlations:\n",
        "            strong_correlations[i] = []\n",
        "          strong_correlations[i].append((j,correlation))\n",
        "\n",
        "\n",
        "  if strong_correlations:\n",
        "    print(\"THE STRONG CORRELATIONS\")\n",
        "    for feature, related_features  in strong_correlations.items():\n",
        "      for related_feature, corr in related_features:\n",
        "        print(f\"{feature} and {related_feature} have a correlation of {corr:.2f}\")\n",
        "  else:\n",
        "    print(\"NO STRONG CORRELATIONS\")\n",
        "\n",
        "  return strong_correlations\n"
      ],
      "metadata": {
        "id": "ekmyZNRSxJqB"
      },
      "execution_count": 193,
      "outputs": []
    },
    {
      "cell_type": "code",
      "source": [
        "strong_correlations = find_strong_correlations(ciec_df,ciec_df_cols)"
      ],
      "metadata": {
        "colab": {
          "base_uri": "https://localhost:8080/"
        },
        "id": "RqigDCpZywuq",
        "outputId": "ab19e459-96cd-4c4e-c3da-4b58a4fff281",
        "collapsed": true
      },
      "execution_count": 194,
      "outputs": [
        {
          "output_type": "stream",
          "name": "stdout",
          "text": [
            "THE STRONG CORRELATIONS\n",
            "date and fuel_consumption have a correlation of 0.90\n",
            "date and GDP Goods and Services have a correlation of 0.91\n",
            "date and GDP: Gross National Income have a correlation of 0.93\n",
            "date and Government Debt have a correlation of 0.94\n",
            "date and Imports of Refined Products have a correlation of 0.88\n",
            "date and Tax income profits_gains have a correlation of 0.81\n",
            "date and Tax Goods & Services have a correlation of -0.93\n",
            "date and GDP FCE Households have a correlation of 0.89\n",
            "date and Petrol User Price have a correlation of -0.87\n",
            "date and Consumption_Oil have a correlation of 0.94\n",
            "date and Sales 90 Octane have a correlation of 0.96\n",
            "date and Sales 95 Octane have a correlation of 0.83\n",
            "date and Sales Auto Diesel have a correlation of 0.81\n",
            "date and Household_income have a correlation of 0.82\n",
            "fuel_consumption and date have a correlation of 0.90\n",
            "fuel_consumption and Vehicle Sales have a correlation of 0.83\n",
            "fuel_consumption and Petrol User Price have a correlation of -0.84\n",
            "fuel_consumption and Consumption_Oil have a correlation of 0.94\n",
            "fuel_consumption and Sales Auto Diesel have a correlation of 0.94\n",
            "petroleum_imports_crudeOil and Diesel User Price have a correlation of 0.81\n",
            "GDP Goods and Services and date have a correlation of 0.91\n",
            "GDP Goods and Services and GDP: Gross National Income have a correlation of 0.96\n",
            "GDP Goods and Services and Government Debt have a correlation of 0.93\n",
            "GDP Goods and Services and Tax income profits_gains have a correlation of 0.87\n",
            "GDP Goods and Services and GDP FCE Households have a correlation of 0.95\n",
            "GDP Goods and Services and Fuel_other_manufacture have a correlation of 0.87\n",
            "GDP: Gross National Income and date have a correlation of 0.93\n",
            "GDP: Gross National Income and GDP Goods and Services have a correlation of 0.96\n",
            "GDP: Gross National Income and Government Debt have a correlation of 0.97\n",
            "GDP: Gross National Income and Tax income profits_gains have a correlation of 0.90\n",
            "GDP: Gross National Income and GDP FCE Households have a correlation of 0.99\n",
            "GDP: Gross National Income and Sales 90 Octane have a correlation of 0.80\n",
            "GDP: Gross National Income and Fuel_other_manufacture have a correlation of 0.86\n",
            "Government Debt and date have a correlation of 0.94\n",
            "Government Debt and GDP Goods and Services have a correlation of 0.93\n",
            "Government Debt and GDP: Gross National Income have a correlation of 0.97\n",
            "Government Debt and New Vehicle Registrations have a correlation of -0.82\n",
            "Government Debt and Tax income profits_gains have a correlation of 0.86\n",
            "Government Debt and Tax Road Transport have a correlation of -0.91\n",
            "Government Debt and GDP FCE Households have a correlation of 0.96\n",
            "Government Debt and Sales Auto Diesel have a correlation of -0.82\n",
            "Government Debt and Fuel_other_manufacture have a correlation of 0.87\n",
            "New Vehicle Registrations and Government Debt have a correlation of -0.82\n",
            "Vehicle Sales and fuel_consumption have a correlation of 0.83\n",
            "Vehicle Sales and Vehicle Sales Asia have a correlation of 0.91\n",
            "Vehicle Sales and Tax on Export have a correlation of -0.88\n",
            "Vehicle Sales Asia and Vehicle Sales have a correlation of 0.91\n",
            "Imports of Refined Products and date have a correlation of 0.88\n",
            "Imports of Refined Products and Tax income profits_gains have a correlation of 0.86\n",
            "Imports of Refined Products and Tax Goods & Services have a correlation of -0.88\n",
            "Imports of Refined Products and Sales 90 Octane have a correlation of 0.84\n",
            "Tax income profits_gains and date have a correlation of 0.81\n",
            "Tax income profits_gains and GDP Goods and Services have a correlation of 0.87\n",
            "Tax income profits_gains and GDP: Gross National Income have a correlation of 0.90\n",
            "Tax income profits_gains and Government Debt have a correlation of 0.86\n",
            "Tax income profits_gains and Imports of Refined Products have a correlation of 0.86\n",
            "Tax income profits_gains and GDP FCE Households have a correlation of 0.92\n",
            "Tax income profits_gains and Sales 90 Octane have a correlation of 0.93\n",
            "Tax on Export and Vehicle Sales have a correlation of -0.88\n",
            "Tax Goods & Services and date have a correlation of -0.93\n",
            "Tax Goods & Services and Imports of Refined Products have a correlation of -0.88\n",
            "Tax Goods & Services and Consumption_Oil have a correlation of -0.81\n",
            "Tax Goods & Services and Sales 90 Octane have a correlation of -0.84\n",
            "Tax Road Transport and Government Debt have a correlation of -0.91\n",
            "GDP FCE Households and date have a correlation of 0.89\n",
            "GDP FCE Households and GDP Goods and Services have a correlation of 0.95\n",
            "GDP FCE Households and GDP: Gross National Income have a correlation of 0.99\n",
            "GDP FCE Households and Government Debt have a correlation of 0.96\n",
            "GDP FCE Households and Tax income profits_gains have a correlation of 0.92\n",
            "GDP FCE Households and Fuel_other_manufacture have a correlation of 0.88\n",
            "Diesel User Price and petroleum_imports_crudeOil have a correlation of 0.81\n",
            "Petrol User Price and date have a correlation of -0.87\n",
            "Petrol User Price and fuel_consumption have a correlation of -0.84\n",
            "Petrol User Price and Consumption_Oil have a correlation of -0.88\n",
            "Petrol User Price and Sales 90 Octane have a correlation of -0.84\n",
            "Petrol User Price and Sales 95 Octane have a correlation of -0.80\n",
            "Consumption_Oil and date have a correlation of 0.94\n",
            "Consumption_Oil and fuel_consumption have a correlation of 0.94\n",
            "Consumption_Oil and Tax Goods & Services have a correlation of -0.81\n",
            "Consumption_Oil and Petrol User Price have a correlation of -0.88\n",
            "Consumption_Oil and Sales 90 Octane have a correlation of 0.92\n",
            "Consumption_Oil and Sales 95 Octane have a correlation of 0.95\n",
            "Consumption_Oil and Sales Auto Diesel have a correlation of 0.80\n",
            "Sales 90 Octane and date have a correlation of 0.96\n",
            "Sales 90 Octane and GDP: Gross National Income have a correlation of 0.80\n",
            "Sales 90 Octane and Imports of Refined Products have a correlation of 0.84\n",
            "Sales 90 Octane and Tax income profits_gains have a correlation of 0.93\n",
            "Sales 90 Octane and Tax Goods & Services have a correlation of -0.84\n",
            "Sales 90 Octane and Petrol User Price have a correlation of -0.84\n",
            "Sales 90 Octane and Consumption_Oil have a correlation of 0.92\n",
            "Sales 90 Octane and Sales 95 Octane have a correlation of 0.91\n",
            "Sales 95 Octane and date have a correlation of 0.83\n",
            "Sales 95 Octane and Petrol User Price have a correlation of -0.80\n",
            "Sales 95 Octane and Consumption_Oil have a correlation of 0.95\n",
            "Sales 95 Octane and Sales 90 Octane have a correlation of 0.91\n",
            "Sales Auto Diesel and date have a correlation of 0.81\n",
            "Sales Auto Diesel and fuel_consumption have a correlation of 0.94\n",
            "Sales Auto Diesel and Government Debt have a correlation of -0.82\n",
            "Sales Auto Diesel and Consumption_Oil have a correlation of 0.80\n",
            "Household_income and date have a correlation of 0.82\n",
            "Fuel_other_manufacture and GDP Goods and Services have a correlation of 0.87\n",
            "Fuel_other_manufacture and GDP: Gross National Income have a correlation of 0.86\n",
            "Fuel_other_manufacture and Government Debt have a correlation of 0.87\n",
            "Fuel_other_manufacture and GDP FCE Households have a correlation of 0.88\n"
          ]
        }
      ]
    },
    {
      "cell_type": "code",
      "source": [
        "ciec_df.isnull().mean() *100"
      ],
      "metadata": {
        "colab": {
          "base_uri": "https://localhost:8080/",
          "height": 962
        },
        "id": "9OitwfvQ0r4M",
        "outputId": "2d0b46fb-4e33-4e97-e97d-ef910a0a01f1",
        "collapsed": true
      },
      "execution_count": 195,
      "outputs": [
        {
          "output_type": "execute_result",
          "data": {
            "text/plain": [
              "date                                         0.000000\n",
              "fuel_consumption                            28.649535\n",
              "petroleum_imports_crudeOil                   8.747950\n",
              "Taxes_on_Customs_and_Other_Import Duties     3.007108\n",
              "Foreign Direct Investments                  37.288136\n",
              "GDP Goods and Services                      57.900492\n",
              "GDP: Gross National Income                  57.900492\n",
              "Government Debt                             69.327501\n",
              "New Vehicle Registrations                    0.601422\n",
              "Vehicle Sales                               57.189721\n",
              "Port Stay Duration                          91.416074\n",
              "Vehicle Sales Asia                          57.189721\n",
              "No.of Vessels Colombo                       25.861126\n",
              "Imports of Refined Products                  8.747950\n",
              "Colombo port calls                          91.525424\n",
              "Tax income profits_gains                     3.007108\n",
              "Tax on Export                               51.448879\n",
              "Tax Goods & Services                         3.007108\n",
              "Tax Road Transport                          51.503554\n",
              "GDP FCE Households                          57.900492\n",
              "Diesel User Price                            8.693275\n",
              "Petrol User Price                            8.693275\n",
              "Consumption_Oil                              3.007108\n",
              "Sales 90 Octane                              8.747950\n",
              "Sales 95 Octane                             31.547294\n",
              "Sales Auto Diesel                           11.536359\n",
              "Household_income                            95.735375\n",
              "Fuel_other_manufacture                      68.890104\n",
              "dtype: float64"
            ],
            "text/html": [
              "<div>\n",
              "<style scoped>\n",
              "    .dataframe tbody tr th:only-of-type {\n",
              "        vertical-align: middle;\n",
              "    }\n",
              "\n",
              "    .dataframe tbody tr th {\n",
              "        vertical-align: top;\n",
              "    }\n",
              "\n",
              "    .dataframe thead th {\n",
              "        text-align: right;\n",
              "    }\n",
              "</style>\n",
              "<table border=\"1\" class=\"dataframe\">\n",
              "  <thead>\n",
              "    <tr style=\"text-align: right;\">\n",
              "      <th></th>\n",
              "      <th>0</th>\n",
              "    </tr>\n",
              "  </thead>\n",
              "  <tbody>\n",
              "    <tr>\n",
              "      <th>date</th>\n",
              "      <td>0.000000</td>\n",
              "    </tr>\n",
              "    <tr>\n",
              "      <th>fuel_consumption</th>\n",
              "      <td>28.649535</td>\n",
              "    </tr>\n",
              "    <tr>\n",
              "      <th>petroleum_imports_crudeOil</th>\n",
              "      <td>8.747950</td>\n",
              "    </tr>\n",
              "    <tr>\n",
              "      <th>Taxes_on_Customs_and_Other_Import Duties</th>\n",
              "      <td>3.007108</td>\n",
              "    </tr>\n",
              "    <tr>\n",
              "      <th>Foreign Direct Investments</th>\n",
              "      <td>37.288136</td>\n",
              "    </tr>\n",
              "    <tr>\n",
              "      <th>GDP Goods and Services</th>\n",
              "      <td>57.900492</td>\n",
              "    </tr>\n",
              "    <tr>\n",
              "      <th>GDP: Gross National Income</th>\n",
              "      <td>57.900492</td>\n",
              "    </tr>\n",
              "    <tr>\n",
              "      <th>Government Debt</th>\n",
              "      <td>69.327501</td>\n",
              "    </tr>\n",
              "    <tr>\n",
              "      <th>New Vehicle Registrations</th>\n",
              "      <td>0.601422</td>\n",
              "    </tr>\n",
              "    <tr>\n",
              "      <th>Vehicle Sales</th>\n",
              "      <td>57.189721</td>\n",
              "    </tr>\n",
              "    <tr>\n",
              "      <th>Port Stay Duration</th>\n",
              "      <td>91.416074</td>\n",
              "    </tr>\n",
              "    <tr>\n",
              "      <th>Vehicle Sales Asia</th>\n",
              "      <td>57.189721</td>\n",
              "    </tr>\n",
              "    <tr>\n",
              "      <th>No.of Vessels Colombo</th>\n",
              "      <td>25.861126</td>\n",
              "    </tr>\n",
              "    <tr>\n",
              "      <th>Imports of Refined Products</th>\n",
              "      <td>8.747950</td>\n",
              "    </tr>\n",
              "    <tr>\n",
              "      <th>Colombo port calls</th>\n",
              "      <td>91.525424</td>\n",
              "    </tr>\n",
              "    <tr>\n",
              "      <th>Tax income profits_gains</th>\n",
              "      <td>3.007108</td>\n",
              "    </tr>\n",
              "    <tr>\n",
              "      <th>Tax on Export</th>\n",
              "      <td>51.448879</td>\n",
              "    </tr>\n",
              "    <tr>\n",
              "      <th>Tax Goods &amp; Services</th>\n",
              "      <td>3.007108</td>\n",
              "    </tr>\n",
              "    <tr>\n",
              "      <th>Tax Road Transport</th>\n",
              "      <td>51.503554</td>\n",
              "    </tr>\n",
              "    <tr>\n",
              "      <th>GDP FCE Households</th>\n",
              "      <td>57.900492</td>\n",
              "    </tr>\n",
              "    <tr>\n",
              "      <th>Diesel User Price</th>\n",
              "      <td>8.693275</td>\n",
              "    </tr>\n",
              "    <tr>\n",
              "      <th>Petrol User Price</th>\n",
              "      <td>8.693275</td>\n",
              "    </tr>\n",
              "    <tr>\n",
              "      <th>Consumption_Oil</th>\n",
              "      <td>3.007108</td>\n",
              "    </tr>\n",
              "    <tr>\n",
              "      <th>Sales 90 Octane</th>\n",
              "      <td>8.747950</td>\n",
              "    </tr>\n",
              "    <tr>\n",
              "      <th>Sales 95 Octane</th>\n",
              "      <td>31.547294</td>\n",
              "    </tr>\n",
              "    <tr>\n",
              "      <th>Sales Auto Diesel</th>\n",
              "      <td>11.536359</td>\n",
              "    </tr>\n",
              "    <tr>\n",
              "      <th>Household_income</th>\n",
              "      <td>95.735375</td>\n",
              "    </tr>\n",
              "    <tr>\n",
              "      <th>Fuel_other_manufacture</th>\n",
              "      <td>68.890104</td>\n",
              "    </tr>\n",
              "  </tbody>\n",
              "</table>\n",
              "</div><br><label><b>dtype:</b> float64</label>"
            ]
          },
          "metadata": {},
          "execution_count": 195
        }
      ]
    },
    {
      "cell_type": "markdown",
      "source": [
        "**Null value analysis**\\\n",
        "0-10% - date, consumption_oil"
      ],
      "metadata": {
        "id": "4fWrxIr21WMe"
      }
    },
    {
      "cell_type": "markdown",
      "source": [
        "10-30% - fuel_consumption, New Vehicle Registrations (Interpolation will be applied)"
      ],
      "metadata": {
        "id": "d-WFKZCi1zdq"
      }
    },
    {
      "cell_type": "markdown",
      "source": [
        "30-50% -petroleum_imports_crude_oil, Taxes_on_Customs_and_Other_Import Duties, Imports of Refined Products, Tax income profits_gains, Tax Goods & Services, Diesel User Price, Petrol User Price, Sales 90 Octane, Sales Auto Diesel,"
      ],
      "metadata": {
        "id": "MpSUHZZO2D59"
      }
    },
    {
      "cell_type": "markdown",
      "source": [
        "50% + - Foreign Direct Investments, GDP Goods and Services, GDP: Gross National Income, GDP: Gross National Income, Government Debt, Vehicle Sales, Port Stay Duration, Vehicle Sales Asia, No.of Vessels Colombo, Colombo port calls, Tax on Export, Tax Road Transport, GDP FCE Households, Sales 95 Octane, Household_income, Fuel_other_manufacture. (Interplation will be applied)"
      ],
      "metadata": {
        "id": "j9trq6X42xx5"
      }
    },
    {
      "cell_type": "markdown",
      "source": [
        "**Need to cutdown the range from which data is considered, few possible time frames to start with are 1990,1999,2005,2006,2010 **"
      ],
      "metadata": {
        "id": "DgTnYtGQ4thn"
      }
    },
    {
      "cell_type": "code",
      "source": [
        "def get_correlating_list(feature, dict):\n",
        "  list = []\n",
        "  values = dict[feature]\n",
        "  for v1,v2 in values:\n",
        "    list.append(v1)\n",
        "  return list"
      ],
      "metadata": {
        "id": "P5QJ7Ot66IGc"
      },
      "execution_count": 196,
      "outputs": []
    },
    {
      "cell_type": "code",
      "source": [
        "proxy_df = pd.DataFrame()"
      ],
      "metadata": {
        "id": "T7V0DuTL63Av"
      },
      "execution_count": 197,
      "outputs": []
    },
    {
      "cell_type": "code",
      "source": [
        "# Making a copy of ciec_df\n",
        "df = ciec_df.copy()"
      ],
      "metadata": {
        "id": "ZNZVYsTW9R_B"
      },
      "execution_count": 198,
      "outputs": []
    },
    {
      "cell_type": "markdown",
      "source": [
        "## **Scaling The data**"
      ],
      "metadata": {
        "id": "qjfJLcAH_Gdj"
      }
    },
    {
      "cell_type": "code",
      "source": [
        "scaler = StandardScaler()\n",
        "m_scaler = MinMaxScaler()"
      ],
      "metadata": {
        "id": "ZiSVv6cAA8fJ"
      },
      "execution_count": 199,
      "outputs": []
    },
    {
      "cell_type": "markdown",
      "source": [
        "Using z-score scaling (Standard Scaler) for the columns following normal distribution"
      ],
      "metadata": {
        "id": "_KXY2mnV_K1t"
      }
    },
    {
      "cell_type": "code",
      "source": [
        "z_cols = ['fuel_consumption', 'GDP: Gross National Income', 'GDP Goods and Services',\n",
        "          'Foreign Direct Investments', 'Household_income', 'Tax income profits_gains',\n",
        "          'Tax on Export', 'Tax Goods & Services', 'Tax Road Transport', 'Government Debt', 'Vehicle Sales']"
      ],
      "metadata": {
        "id": "7YJzN0q7_GOo"
      },
      "execution_count": 200,
      "outputs": []
    },
    {
      "cell_type": "code",
      "source": [
        "df[z_cols] = scaler.fit_transform(ciec_df[z_cols])"
      ],
      "metadata": {
        "id": "xMrJ-KAWA68t"
      },
      "execution_count": 201,
      "outputs": []
    },
    {
      "cell_type": "markdown",
      "source": [
        "Using min-max scaling for price related values"
      ],
      "metadata": {
        "id": "E0yYLf8I_l1j"
      }
    },
    {
      "cell_type": "code",
      "source": [
        "m_cols = ['Diesel User Price', 'Petrol User Price', 'petroleum_imports_crudeOil','Imports of Refined Products', 'Consumption_Oil']"
      ],
      "metadata": {
        "id": "VLFYXzPV_GM6"
      },
      "execution_count": 202,
      "outputs": []
    },
    {
      "cell_type": "code",
      "source": [
        "df[m_cols] = m_scaler.fit_transform(ciec_df[m_cols])"
      ],
      "metadata": {
        "id": "mr8e_9cJBNJo"
      },
      "execution_count": 203,
      "outputs": []
    },
    {
      "cell_type": "markdown",
      "source": [
        "Adding log transformation for highly skewed data"
      ],
      "metadata": {
        "id": "UBbun4BX_304"
      }
    },
    {
      "cell_type": "code",
      "source": [
        "l_cols = ['GDP: Gross National Income', 'Foreign Direct Investments', 'Household_income', 'Tax income profits_gains']"
      ],
      "metadata": {
        "id": "i2fF0__I_F9w"
      },
      "execution_count": 204,
      "outputs": []
    },
    {
      "cell_type": "code",
      "source": [
        "df[l_cols] = np.log1p(df[l_cols])"
      ],
      "metadata": {
        "colab": {
          "base_uri": "https://localhost:8080/"
        },
        "id": "fsxJplCs9VqM",
        "outputId": "75710a28-5b35-46b8-adb2-f09136ed3b04"
      },
      "execution_count": 205,
      "outputs": [
        {
          "output_type": "stream",
          "name": "stderr",
          "text": [
            "/usr/local/lib/python3.11/dist-packages/pandas/core/internals/blocks.py:393: RuntimeWarning: invalid value encountered in log1p\n",
            "  result = func(self.values, **kwargs)\n"
          ]
        }
      ]
    },
    {
      "cell_type": "markdown",
      "source": [
        "## **Building Proxy features for the columns using the columns inside the df**"
      ],
      "metadata": {
        "id": "OUcACgH_6skW"
      }
    },
    {
      "cell_type": "code",
      "source": [
        "# from sklearn.linear_model import LinearRegression\n",
        "# import numpy as np\n",
        "# import pandas as pd\n",
        "\n",
        "# def fill_missing_with_regression(df, target_feature, correlated_features):\n",
        "#     df = df.copy()  # Avoid modifying original DataFrame\n",
        "\n",
        "#     if 'date' in correlated_features:\n",
        "#       correlated_features.remove('date')\n",
        "\n",
        "#     # Find missing values in the target column\n",
        "#     missing_mask = df[target_feature].isna()\n",
        "\n",
        "#     # Drop rows where either the target or any correlated feature is NaN\n",
        "#     valid_data = df.dropna(subset=[target_feature] + correlated_features)\n",
        "\n",
        "#     if valid_data.empty:\n",
        "#         print(f\"Not enough valid data to train regression for {target_feature}.\")\n",
        "#         return df  # Return original DF if no valid training data\n",
        "\n",
        "#     # Define X (independent variables) and y (dependent variable)\n",
        "#     X_train = valid_data[correlated_features]\n",
        "#     y_train = valid_data[target_feature]\n",
        "\n",
        "#     # Train regression model\n",
        "#     model = LinearRegression()\n",
        "#     model.fit(X_train, y_train)\n",
        "\n",
        "#     # Find rows where target_feature is missing but correlated features exist\n",
        "#     X_missing = df.loc[missing_mask, correlated_features].dropna()\n",
        "\n",
        "#     if X_missing.empty:\n",
        "#         print(f\"No valid correlated features available to predict missing {target_feature}.\")\n",
        "#         return df  # No valid data to fill missing values\n",
        "\n",
        "#     # Predict missing values\n",
        "#     predicted_values = model.predict(X_missing)\n",
        "\n",
        "#     # Fill missing values with predicted values\n",
        "#     df.loc[X_missing.index, target_feature] = predicted_values\n",
        "\n",
        "#     return df\n",
        "\n"
      ],
      "metadata": {
        "id": "porHepQFHjPn"
      },
      "execution_count": 206,
      "outputs": []
    },
    {
      "cell_type": "code",
      "source": [
        "from sklearn.linear_model import LinearRegression\n",
        "import numpy as np\n",
        "import pandas as pd\n",
        "\n",
        "def fill_missing_with_regression(df, target_feature, correlated_features):\n",
        "    df = df.copy()  # Avoid modifying original DataFrame\n",
        "\n",
        "    # Ensure 'date' column is not used\n",
        "    correlated_features = [col for col in correlated_features if col != 'date']\n",
        "\n",
        "    # Check if correlated features exist\n",
        "    if len(correlated_features) == 0:\n",
        "        print(f\"No valid correlated features for {target_feature}.\")\n",
        "        return df\n",
        "\n",
        "    # Find missing values in the target column\n",
        "    missing_mask = df[target_feature].isna()\n",
        "\n",
        "    # Drop rows where either the target or any correlated feature is NaN\n",
        "    valid_data = df.dropna(subset=[target_feature] + correlated_features)\n",
        "\n",
        "    # Debug: Print how many rows are valid\n",
        "    print(f\"Valid data available for {target_feature}: {len(valid_data)} rows\")\n",
        "\n",
        "    if valid_data.empty:\n",
        "        print(f\"Not enough valid data to train regression for {target_feature}.\")\n",
        "        return df  # Return original DF if no valid training data\n",
        "\n",
        "    # Fill missing values in correlated features (forward + backward fill)\n",
        "    df[correlated_features] = df[correlated_features].fillna(method='ffill').fillna(method='bfill')\n",
        "\n",
        "    # Define X (independent variables) and y (dependent variable)\n",
        "    X_train = valid_data[correlated_features]\n",
        "    y_train = valid_data[target_feature]\n",
        "\n",
        "    # Convert data types to float\n",
        "    X_train = X_train.astype(float)\n",
        "    y_train = y_train.astype(float)\n",
        "\n",
        "    # Train regression model\n",
        "    model = LinearRegression()\n",
        "    model.fit(X_train, y_train)\n",
        "\n",
        "    # Find rows where target_feature is missing but correlated features exist\n",
        "    X_missing = df.loc[missing_mask, correlated_features].dropna()\n",
        "\n",
        "    # Debug: Print how many missing rows can be filled\n",
        "    print(f\"Missing values to predict for {target_feature}: {len(X_missing)} rows\")\n",
        "\n",
        "    if X_missing.empty:\n",
        "        print(f\"No valid correlated features available to predict missing {target_feature}.\")\n",
        "        return df  # No valid data to fill missing values\n",
        "\n",
        "    # Convert missing data to float\n",
        "    X_missing = X_missing.astype(float)\n",
        "\n",
        "    # Predict missing values\n",
        "    predicted_values = model.predict(X_missing)\n",
        "\n",
        "    # Fill missing values with predicted values\n",
        "    df.loc[X_missing.index, target_feature] = predicted_values\n",
        "\n",
        "    return df\n"
      ],
      "metadata": {
        "id": "RloZu9AURbt6"
      },
      "execution_count": 207,
      "outputs": []
    },
    {
      "cell_type": "code",
      "source": [
        "# Filling missing values for 'fuel_consumption'\n",
        "fuel_consumption_list = get_correlating_list('fuel_consumption', strong_correlations)\n",
        "df = fill_missing_with_regression(df, 'fuel_consumption', fuel_consumption_list[:5])"
      ],
      "metadata": {
        "colab": {
          "base_uri": "https://localhost:8080/"
        },
        "id": "qW98dqYDJ6dP",
        "outputId": "1740aeef-3edc-43cc-969a-a8270b624197"
      },
      "execution_count": 208,
      "outputs": [
        {
          "output_type": "stream",
          "name": "stdout",
          "text": [
            "Valid data available for fuel_consumption: 522 rows\n",
            "Missing values to predict for fuel_consumption: 524 rows\n"
          ]
        },
        {
          "output_type": "stream",
          "name": "stderr",
          "text": [
            "<ipython-input-207-6c93c41919b5>:30: FutureWarning: DataFrame.fillna with 'method' is deprecated and will raise in a future version. Use obj.ffill() or obj.bfill() instead.\n",
            "  df[correlated_features] = df[correlated_features].fillna(method='ffill').fillna(method='bfill')\n"
          ]
        }
      ]
    },
    {
      "cell_type": "code",
      "source": [
        "ciec_df['fuel_consumption'].corr(df['fuel_consumption'])"
      ],
      "metadata": {
        "colab": {
          "base_uri": "https://localhost:8080/"
        },
        "id": "0OcFGAzVLQK_",
        "outputId": "9995c121-ece2-4621-9030-cc963c3a7aba"
      },
      "execution_count": 209,
      "outputs": [
        {
          "output_type": "execute_result",
          "data": {
            "text/plain": [
              "0.9999999999999998"
            ]
          },
          "metadata": {},
          "execution_count": 209
        }
      ]
    },
    {
      "cell_type": "code",
      "source": [
        "df['fuel_consumption'].isnull().mean()"
      ],
      "metadata": {
        "colab": {
          "base_uri": "https://localhost:8080/"
        },
        "id": "tsb_KlpgLV41",
        "outputId": "8ac47ab4-f6e4-42da-a2bc-2685a1dbc5b0"
      },
      "execution_count": 210,
      "outputs": [
        {
          "output_type": "execute_result",
          "data": {
            "text/plain": [
              "0.0"
            ]
          },
          "metadata": {},
          "execution_count": 210
        }
      ]
    },
    {
      "cell_type": "code",
      "source": [
        "# Filling missing values for 'GDP Goods and Services'\n",
        "GDP_Goods_Services_list = get_correlating_list('GDP Goods and Services', strong_correlations)\n",
        "df = fill_missing_with_regression(df, 'GDP Goods and Services', GDP_Goods_Services_list[:5])"
      ],
      "metadata": {
        "colab": {
          "base_uri": "https://localhost:8080/"
        },
        "id": "qvwOMvISJTSd",
        "outputId": "90e780d1-febb-44a8-c292-409b68ebe2e4"
      },
      "execution_count": 211,
      "outputs": [
        {
          "output_type": "stream",
          "name": "stdout",
          "text": [
            "Valid data available for GDP Goods and Services: 521 rows\n",
            "Missing values to predict for GDP Goods and Services: 1059 rows\n"
          ]
        },
        {
          "output_type": "stream",
          "name": "stderr",
          "text": [
            "<ipython-input-207-6c93c41919b5>:30: FutureWarning: DataFrame.fillna with 'method' is deprecated and will raise in a future version. Use obj.ffill() or obj.bfill() instead.\n",
            "  df[correlated_features] = df[correlated_features].fillna(method='ffill').fillna(method='bfill')\n"
          ]
        }
      ]
    },
    {
      "cell_type": "code",
      "source": [
        "ciec_df['GDP Goods and Services'].corr(df['GDP Goods and Services'])"
      ],
      "metadata": {
        "id": "KXKxyYiSRnOm",
        "outputId": "4ada7b9d-43f4-43d3-ff67-268f39f3a657",
        "colab": {
          "base_uri": "https://localhost:8080/"
        }
      },
      "execution_count": 212,
      "outputs": [
        {
          "output_type": "execute_result",
          "data": {
            "text/plain": [
              "1.0"
            ]
          },
          "metadata": {},
          "execution_count": 212
        }
      ]
    },
    {
      "cell_type": "code",
      "source": [
        "df['GDP Goods and Services'].isnull().mean()"
      ],
      "metadata": {
        "id": "K-mmdPgURpKC",
        "outputId": "3d096aa3-9941-40df-f8be-b67e0a987886",
        "colab": {
          "base_uri": "https://localhost:8080/"
        }
      },
      "execution_count": 213,
      "outputs": [
        {
          "output_type": "execute_result",
          "data": {
            "text/plain": [
              "0.0"
            ]
          },
          "metadata": {},
          "execution_count": 213
        }
      ]
    },
    {
      "cell_type": "code",
      "source": [
        "# Filling missing values for 'GDP: Gross National Income'\n",
        "GDP_Gross_National_Income_list = get_correlating_list('GDP: Gross National Income', strong_correlations)\n",
        "df = fill_missing_with_regression(df, 'GDP: Gross National Income', GDP_Gross_National_Income_list[:5])"
      ],
      "metadata": {
        "colab": {
          "base_uri": "https://localhost:8080/"
        },
        "id": "sKNgTGsiKPTV",
        "outputId": "8c422220-c143-4894-dfc0-ed5ecfe6b8b4"
      },
      "execution_count": 214,
      "outputs": [
        {
          "output_type": "stream",
          "name": "stderr",
          "text": [
            "<ipython-input-207-6c93c41919b5>:30: FutureWarning: DataFrame.fillna with 'method' is deprecated and will raise in a future version. Use obj.ffill() or obj.bfill() instead.\n",
            "  df[correlated_features] = df[correlated_features].fillna(method='ffill').fillna(method='bfill')\n"
          ]
        },
        {
          "output_type": "stream",
          "name": "stdout",
          "text": [
            "Valid data available for GDP: Gross National Income: 1829 rows\n",
            "Missing values to predict for GDP: Gross National Income: 0 rows\n",
            "No valid correlated features available to predict missing GDP: Gross National Income.\n"
          ]
        }
      ]
    },
    {
      "cell_type": "code",
      "source": [
        "ciec_df['GDP: Gross National Income'].corr(df['GDP: Gross National Income'])"
      ],
      "metadata": {
        "id": "lzV6pdelR1l1",
        "outputId": "3381a00c-c0c3-42f5-8c98-07f13f91dc3d",
        "colab": {
          "base_uri": "https://localhost:8080/"
        }
      },
      "execution_count": 215,
      "outputs": [
        {
          "output_type": "execute_result",
          "data": {
            "text/plain": [
              "0.9050850073862409"
            ]
          },
          "metadata": {},
          "execution_count": 215
        }
      ]
    },
    {
      "cell_type": "code",
      "source": [
        "df['GDP: Gross National Income'].isnull().mean()"
      ],
      "metadata": {
        "id": "apbJMZSCR3vG",
        "outputId": "87ed136c-14a2-4309-9479-439b319da305",
        "colab": {
          "base_uri": "https://localhost:8080/"
        }
      },
      "execution_count": 216,
      "outputs": [
        {
          "output_type": "execute_result",
          "data": {
            "text/plain": [
              "0.0"
            ]
          },
          "metadata": {},
          "execution_count": 216
        }
      ]
    },
    {
      "cell_type": "code",
      "source": [
        "# Filling values for 'Government Debt'\n",
        "Government_Debt_list = get_correlating_list('Government Debt', strong_correlations)\n",
        "df = fill_missing_with_regression(df, 'Government Debt', Government_Debt_list[:5])"
      ],
      "metadata": {
        "colab": {
          "base_uri": "https://localhost:8080/"
        },
        "id": "7YT0uBmFLpSd",
        "outputId": "d42c5ca5-87b0-4779-b7ab-d0cb02ceed38"
      },
      "execution_count": 217,
      "outputs": [
        {
          "output_type": "stream",
          "name": "stdout",
          "text": [
            "Valid data available for Government Debt: 1818 rows\n",
            "Missing values to predict for Government Debt: 0 rows\n",
            "No valid correlated features available to predict missing Government Debt.\n"
          ]
        },
        {
          "output_type": "stream",
          "name": "stderr",
          "text": [
            "<ipython-input-207-6c93c41919b5>:30: FutureWarning: DataFrame.fillna with 'method' is deprecated and will raise in a future version. Use obj.ffill() or obj.bfill() instead.\n",
            "  df[correlated_features] = df[correlated_features].fillna(method='ffill').fillna(method='bfill')\n"
          ]
        }
      ]
    },
    {
      "cell_type": "code",
      "source": [
        "ciec_df['Government Debt'].corr(df['Government Debt'])"
      ],
      "metadata": {
        "colab": {
          "base_uri": "https://localhost:8080/"
        },
        "id": "Vd1sB9UyLuOD",
        "outputId": "33bc274f-c530-427c-e452-974d531698f4"
      },
      "execution_count": 218,
      "outputs": [
        {
          "output_type": "execute_result",
          "data": {
            "text/plain": [
              "1.0"
            ]
          },
          "metadata": {},
          "execution_count": 218
        }
      ]
    },
    {
      "cell_type": "code",
      "source": [
        "df['Government Debt'].isnull().mean()"
      ],
      "metadata": {
        "colab": {
          "base_uri": "https://localhost:8080/"
        },
        "id": "s4phUg1HLx3Q",
        "outputId": "e1c3b680-29dd-4370-9c7f-4f5146ab05bc"
      },
      "execution_count": 219,
      "outputs": [
        {
          "output_type": "execute_result",
          "data": {
            "text/plain": [
              "0.0"
            ]
          },
          "metadata": {},
          "execution_count": 219
        }
      ]
    },
    {
      "cell_type": "code",
      "source": [
        "# Filling for 'Vehicle Sales'\n",
        "Vehicle_Sales_list = get_correlating_list('Vehicle Sales', strong_correlations)\n",
        "df = fill_missing_with_regression(df, 'Vehicle Sales', Vehicle_Sales_list[:5])"
      ],
      "metadata": {
        "colab": {
          "base_uri": "https://localhost:8080/"
        },
        "id": "afluNbZdL4b_",
        "outputId": "3a1e87db-2b77-4ec2-c8bd-2899ad03987d"
      },
      "execution_count": 220,
      "outputs": [
        {
          "output_type": "stream",
          "name": "stdout",
          "text": [
            "Valid data available for Vehicle Sales: 105 rows\n",
            "Missing values to predict for Vehicle Sales: 0 rows\n",
            "No valid correlated features available to predict missing Vehicle Sales.\n"
          ]
        },
        {
          "output_type": "stream",
          "name": "stderr",
          "text": [
            "<ipython-input-207-6c93c41919b5>:30: FutureWarning: DataFrame.fillna with 'method' is deprecated and will raise in a future version. Use obj.ffill() or obj.bfill() instead.\n",
            "  df[correlated_features] = df[correlated_features].fillna(method='ffill').fillna(method='bfill')\n"
          ]
        }
      ]
    },
    {
      "cell_type": "code",
      "source": [
        "ciec_df['Vehicle Sales'].corr(df['Vehicle Sales'])"
      ],
      "metadata": {
        "id": "0tQIIcrGR-WK",
        "outputId": "b6496d8c-55be-4e0c-c12e-2918aeb6762a",
        "colab": {
          "base_uri": "https://localhost:8080/"
        }
      },
      "execution_count": 221,
      "outputs": [
        {
          "output_type": "execute_result",
          "data": {
            "text/plain": [
              "1.0"
            ]
          },
          "metadata": {},
          "execution_count": 221
        }
      ]
    },
    {
      "cell_type": "code",
      "source": [
        "df['Vehicle Sales'].isnull().mean()"
      ],
      "metadata": {
        "id": "idPL2vdsSAP4",
        "outputId": "cd45ff08-7470-4999-edb4-8b5e28b55745",
        "colab": {
          "base_uri": "https://localhost:8080/"
        }
      },
      "execution_count": 222,
      "outputs": [
        {
          "output_type": "execute_result",
          "data": {
            "text/plain": [
              "0.0"
            ]
          },
          "metadata": {},
          "execution_count": 222
        }
      ]
    },
    {
      "cell_type": "code",
      "source": [
        "# For 'Tax on Export'\n",
        "tax_on_export_list = get_correlating_list('Tax on Export', strong_correlations)\n",
        "df = fill_missing_with_regression(df,'Tax on Export',tax_on_export_list[:5])"
      ],
      "metadata": {
        "colab": {
          "base_uri": "https://localhost:8080/"
        },
        "id": "QCJmqaAYMKqW",
        "outputId": "a31a4bec-dc76-42ee-bbc3-1afe516589b4"
      },
      "execution_count": 223,
      "outputs": [
        {
          "output_type": "stream",
          "name": "stdout",
          "text": [
            "Valid data available for Tax on Export: 1829 rows\n",
            "Missing values to predict for Tax on Export: 0 rows\n",
            "No valid correlated features available to predict missing Tax on Export.\n"
          ]
        },
        {
          "output_type": "stream",
          "name": "stderr",
          "text": [
            "<ipython-input-207-6c93c41919b5>:30: FutureWarning: DataFrame.fillna with 'method' is deprecated and will raise in a future version. Use obj.ffill() or obj.bfill() instead.\n",
            "  df[correlated_features] = df[correlated_features].fillna(method='ffill').fillna(method='bfill')\n"
          ]
        }
      ]
    },
    {
      "cell_type": "code",
      "source": [
        "df['Tax on Export'].isnull().mean()"
      ],
      "metadata": {
        "colab": {
          "base_uri": "https://localhost:8080/"
        },
        "id": "iyyMfpemNl5v",
        "outputId": "31428807-9b17-49de-81d2-2f19d055ee2c"
      },
      "execution_count": 224,
      "outputs": [
        {
          "output_type": "execute_result",
          "data": {
            "text/plain": [
              "0.0"
            ]
          },
          "metadata": {},
          "execution_count": 224
        }
      ]
    },
    {
      "cell_type": "code",
      "source": [
        "ciec_df['Tax on Export'].corr(df['Tax on Export'])"
      ],
      "metadata": {
        "id": "ZCk76vLvSM_x",
        "outputId": "2f7fbb96-ad1b-4e25-de15-32f5d6550b69",
        "colab": {
          "base_uri": "https://localhost:8080/"
        }
      },
      "execution_count": 225,
      "outputs": [
        {
          "output_type": "execute_result",
          "data": {
            "text/plain": [
              "1.0"
            ]
          },
          "metadata": {},
          "execution_count": 225
        }
      ]
    },
    {
      "cell_type": "code",
      "source": [
        "# for 'Tax on Road Transport'\n",
        "tax_road_transport_list = get_correlating_list('Tax Road Transport', strong_correlations)\n",
        "df = fill_missing_with_regression(df,'Tax Road Transport',tax_road_transport_list[:5])"
      ],
      "metadata": {
        "colab": {
          "base_uri": "https://localhost:8080/"
        },
        "id": "eW4FBXPTNpnP",
        "outputId": "ca646f63-64b0-43bf-f6c1-31a55da4e070"
      },
      "execution_count": 226,
      "outputs": [
        {
          "output_type": "stream",
          "name": "stdout",
          "text": [
            "Valid data available for Tax Road Transport: 887 rows\n",
            "Missing values to predict for Tax Road Transport: 942 rows\n"
          ]
        },
        {
          "output_type": "stream",
          "name": "stderr",
          "text": [
            "<ipython-input-207-6c93c41919b5>:30: FutureWarning: DataFrame.fillna with 'method' is deprecated and will raise in a future version. Use obj.ffill() or obj.bfill() instead.\n",
            "  df[correlated_features] = df[correlated_features].fillna(method='ffill').fillna(method='bfill')\n"
          ]
        }
      ]
    },
    {
      "cell_type": "code",
      "source": [
        "df['Tax Road Transport'].isnull().mean()"
      ],
      "metadata": {
        "colab": {
          "base_uri": "https://localhost:8080/"
        },
        "id": "e4J96ejnNyB1",
        "outputId": "787fefa4-70cb-4949-8cc5-cb85ce0356e2"
      },
      "execution_count": 227,
      "outputs": [
        {
          "output_type": "execute_result",
          "data": {
            "text/plain": [
              "0.0"
            ]
          },
          "metadata": {},
          "execution_count": 227
        }
      ]
    },
    {
      "cell_type": "code",
      "source": [
        "df['Tax Road Transport'].corr(ciec_df['Tax Road Transport'])"
      ],
      "metadata": {
        "id": "D4q_R7hmSTE4",
        "outputId": "fdf552b8-fe6b-4242-9852-49bf25b1728e",
        "colab": {
          "base_uri": "https://localhost:8080/"
        }
      },
      "execution_count": 228,
      "outputs": [
        {
          "output_type": "execute_result",
          "data": {
            "text/plain": [
              "1.0"
            ]
          },
          "metadata": {},
          "execution_count": 228
        }
      ]
    },
    {
      "cell_type": "markdown",
      "source": [
        "'Tax Road Transport' still has a high values"
      ],
      "metadata": {
        "id": "r9IvzlMxN4zb"
      }
    },
    {
      "cell_type": "code",
      "source": [
        "# GDP FCE Households\n",
        "gdp_fce_households_list = get_correlating_list('GDP FCE Households', strong_correlations)\n",
        "df = fill_missing_with_regression(df,'GDP FCE Households',gdp_fce_households_list[:5])"
      ],
      "metadata": {
        "colab": {
          "base_uri": "https://localhost:8080/"
        },
        "id": "9GQDf3bwN3We",
        "outputId": "af2fb138-dc2c-430e-bcd7-56e9cf43f7a0"
      },
      "execution_count": 229,
      "outputs": [
        {
          "output_type": "stream",
          "name": "stdout",
          "text": [
            "Valid data available for GDP FCE Households: 1829 rows\n",
            "Missing values to predict for GDP FCE Households: 0 rows\n",
            "No valid correlated features available to predict missing GDP FCE Households.\n"
          ]
        },
        {
          "output_type": "stream",
          "name": "stderr",
          "text": [
            "<ipython-input-207-6c93c41919b5>:30: FutureWarning: DataFrame.fillna with 'method' is deprecated and will raise in a future version. Use obj.ffill() or obj.bfill() instead.\n",
            "  df[correlated_features] = df[correlated_features].fillna(method='ffill').fillna(method='bfill')\n"
          ]
        }
      ]
    },
    {
      "cell_type": "code",
      "source": [
        "ciec_df['GDP FCE Households'].corr(df['GDP FCE Households'])"
      ],
      "metadata": {
        "id": "SkPHov5BSWvT",
        "outputId": "63a12bfc-f4c3-45d3-fe3f-7e8718e017fe",
        "colab": {
          "base_uri": "https://localhost:8080/"
        }
      },
      "execution_count": 230,
      "outputs": [
        {
          "output_type": "execute_result",
          "data": {
            "text/plain": [
              "1.0"
            ]
          },
          "metadata": {},
          "execution_count": 230
        }
      ]
    },
    {
      "cell_type": "code",
      "source": [
        "df['GDP FCE Households'].isnull().mean()"
      ],
      "metadata": {
        "id": "Mv2xHaEkSYxK",
        "outputId": "e52bf2d9-8efe-4552-cb12-3d4455d97cc2",
        "colab": {
          "base_uri": "https://localhost:8080/"
        }
      },
      "execution_count": 231,
      "outputs": [
        {
          "output_type": "execute_result",
          "data": {
            "text/plain": [
              "0.0"
            ]
          },
          "metadata": {},
          "execution_count": 231
        }
      ]
    },
    {
      "cell_type": "code",
      "source": [
        "# For 'Sales 95 Octane'\n",
        "sales_95_octane_list = get_correlating_list('Sales 95 Octane', strong_correlations)\n",
        "df = fill_missing_with_regression(df,'Sales 95 Octane',sales_95_octane_list[:5])"
      ],
      "metadata": {
        "colab": {
          "base_uri": "https://localhost:8080/"
        },
        "id": "N74wKkImOAGH",
        "outputId": "5d452fe5-aff2-4f7a-f4f0-59c4500ea1c2"
      },
      "execution_count": 232,
      "outputs": [
        {
          "output_type": "stream",
          "name": "stdout",
          "text": [
            "Valid data available for Sales 95 Octane: 1252 rows\n"
          ]
        },
        {
          "output_type": "stream",
          "name": "stderr",
          "text": [
            "<ipython-input-207-6c93c41919b5>:30: FutureWarning: DataFrame.fillna with 'method' is deprecated and will raise in a future version. Use obj.ffill() or obj.bfill() instead.\n",
            "  df[correlated_features] = df[correlated_features].fillna(method='ffill').fillna(method='bfill')\n"
          ]
        },
        {
          "output_type": "stream",
          "name": "stdout",
          "text": [
            "Missing values to predict for Sales 95 Octane: 577 rows\n"
          ]
        }
      ]
    },
    {
      "cell_type": "code",
      "source": [
        "df['Sales 95 Octane'].isnull().mean()"
      ],
      "metadata": {
        "colab": {
          "base_uri": "https://localhost:8080/"
        },
        "id": "XYqQnyyrOG4-",
        "outputId": "693fcdfe-2ab3-49a6-ebe6-637ab2758eae"
      },
      "execution_count": 233,
      "outputs": [
        {
          "output_type": "execute_result",
          "data": {
            "text/plain": [
              "0.0"
            ]
          },
          "metadata": {},
          "execution_count": 233
        }
      ]
    },
    {
      "cell_type": "code",
      "source": [
        "ciec_df['Sales 95 Octane'].corr(df['Sales 95 Octane'])\n"
      ],
      "metadata": {
        "colab": {
          "base_uri": "https://localhost:8080/"
        },
        "id": "EzKCP4t5ONGS",
        "outputId": "e8b3bcaa-27ce-4999-d60f-862408dc31f9"
      },
      "execution_count": 234,
      "outputs": [
        {
          "output_type": "execute_result",
          "data": {
            "text/plain": [
              "1.0"
            ]
          },
          "metadata": {},
          "execution_count": 234
        }
      ]
    },
    {
      "cell_type": "code",
      "source": [
        "# For 'Fuel and other manufacture'\n",
        "fuel_other_manufacture_list = get_correlating_list('Fuel_other_manufacture', strong_correlations)\n",
        "df = fill_missing_with_regression(df,'Fuel_other_manufacture',fuel_other_manufacture_list[:5])"
      ],
      "metadata": {
        "colab": {
          "base_uri": "https://localhost:8080/"
        },
        "id": "GzLeTV-TOP9J",
        "outputId": "611616b0-2412-459d-ff0b-5337241879cf"
      },
      "execution_count": 235,
      "outputs": [
        {
          "output_type": "stream",
          "name": "stdout",
          "text": [
            "Valid data available for Fuel_other_manufacture: 569 rows\n",
            "Missing values to predict for Fuel_other_manufacture: 1260 rows\n"
          ]
        },
        {
          "output_type": "stream",
          "name": "stderr",
          "text": [
            "<ipython-input-207-6c93c41919b5>:30: FutureWarning: DataFrame.fillna with 'method' is deprecated and will raise in a future version. Use obj.ffill() or obj.bfill() instead.\n",
            "  df[correlated_features] = df[correlated_features].fillna(method='ffill').fillna(method='bfill')\n"
          ]
        }
      ]
    },
    {
      "cell_type": "code",
      "source": [
        "df['Fuel_other_manufacture'].isnull().mean()"
      ],
      "metadata": {
        "colab": {
          "base_uri": "https://localhost:8080/"
        },
        "id": "7GYfvs2ZOU0Z",
        "outputId": "a52876da-6d7d-46a7-aabb-ceeb4c1b3b3e"
      },
      "execution_count": 236,
      "outputs": [
        {
          "output_type": "execute_result",
          "data": {
            "text/plain": [
              "0.0"
            ]
          },
          "metadata": {},
          "execution_count": 236
        }
      ]
    },
    {
      "cell_type": "code",
      "source": [
        "ciec_df['Fuel_other_manufacture'].corr(df['Fuel_other_manufacture'])"
      ],
      "metadata": {
        "id": "UtHTFbz-Sf-2",
        "outputId": "0ca077e7-7630-4b2c-c473-e6e5d628abb9",
        "colab": {
          "base_uri": "https://localhost:8080/"
        }
      },
      "execution_count": 237,
      "outputs": [
        {
          "output_type": "execute_result",
          "data": {
            "text/plain": [
              "0.9999999999999998"
            ]
          },
          "metadata": {},
          "execution_count": 237
        }
      ]
    },
    {
      "cell_type": "code",
      "source": [
        "# For 'petroleum_import_crudeOil'\n",
        "petroleum_imports_crudeOil_list = get_correlating_list('petroleum_imports_crudeOil', strong_correlations)\n",
        "df = fill_missing_with_regression(df,'petroleum_imports_crudeOil',petroleum_imports_crudeOil_list[:5])"
      ],
      "metadata": {
        "id": "Upg6Iq2mYIA7",
        "outputId": "77601147-59fa-4be2-c1ef-0fe1c532332e",
        "colab": {
          "base_uri": "https://localhost:8080/"
        }
      },
      "execution_count": 238,
      "outputs": [
        {
          "output_type": "stream",
          "name": "stdout",
          "text": [
            "Valid data available for petroleum_imports_crudeOil: 1617 rows\n"
          ]
        },
        {
          "output_type": "stream",
          "name": "stderr",
          "text": [
            "<ipython-input-207-6c93c41919b5>:30: FutureWarning: DataFrame.fillna with 'method' is deprecated and will raise in a future version. Use obj.ffill() or obj.bfill() instead.\n",
            "  df[correlated_features] = df[correlated_features].fillna(method='ffill').fillna(method='bfill')\n"
          ]
        },
        {
          "output_type": "stream",
          "name": "stdout",
          "text": [
            "Missing values to predict for petroleum_imports_crudeOil: 160 rows\n"
          ]
        }
      ]
    },
    {
      "cell_type": "code",
      "source": [
        "ciec_df['petroleum_imports_crudeOil'].corr(df['petroleum_imports_crudeOil'])"
      ],
      "metadata": {
        "id": "_kPTKJiXahjN",
        "outputId": "6948bc60-c772-440f-cdfc-63aa78e78193",
        "colab": {
          "base_uri": "https://localhost:8080/"
        }
      },
      "execution_count": 239,
      "outputs": [
        {
          "output_type": "execute_result",
          "data": {
            "text/plain": [
              "0.9999999999999994"
            ]
          },
          "metadata": {},
          "execution_count": 239
        }
      ]
    },
    {
      "cell_type": "code",
      "source": [
        "df['petroleum_imports_crudeOil'].isnull().mean()"
      ],
      "metadata": {
        "id": "dPuQHw8uakn2",
        "outputId": "cbf226b9-6b92-4d26-ee8f-c90276a970da",
        "colab": {
          "base_uri": "https://localhost:8080/"
        }
      },
      "execution_count": 240,
      "outputs": [
        {
          "output_type": "execute_result",
          "data": {
            "text/plain": [
              "0.0"
            ]
          },
          "metadata": {},
          "execution_count": 240
        }
      ]
    },
    {
      "cell_type": "code",
      "source": [
        "# For 'Imports of Refined Products'\n",
        "Imports_of_Refined_Products_list = get_correlating_list('Imports of Refined Products', strong_correlations)\n",
        "df = fill_missing_with_regression(df,'Imports of Refined Products',Imports_of_Refined_Products_list[:5])"
      ],
      "metadata": {
        "id": "5fSm20UyaxZu",
        "outputId": "a2c69043-ce5e-4b65-e5b7-450396152e51",
        "colab": {
          "base_uri": "https://localhost:8080/"
        }
      },
      "execution_count": 251,
      "outputs": [
        {
          "output_type": "stream",
          "name": "stdout",
          "text": [
            "Valid data available for Imports of Refined Products: 1669 rows\n",
            "Missing values to predict for Imports of Refined Products: 160 rows\n"
          ]
        },
        {
          "output_type": "stream",
          "name": "stderr",
          "text": [
            "<ipython-input-207-6c93c41919b5>:30: FutureWarning: DataFrame.fillna with 'method' is deprecated and will raise in a future version. Use obj.ffill() or obj.bfill() instead.\n",
            "  df[correlated_features] = df[correlated_features].fillna(method='ffill').fillna(method='bfill')\n"
          ]
        }
      ]
    },
    {
      "cell_type": "code",
      "source": [
        "ciec_df['Imports of Refined Products'].corr(df['Imports of Refined Products'])"
      ],
      "metadata": {
        "id": "2ewqk3khbnir",
        "outputId": "f3dea1f4-33c5-4af1-8077-3c5728262db6",
        "colab": {
          "base_uri": "https://localhost:8080/"
        }
      },
      "execution_count": 252,
      "outputs": [
        {
          "output_type": "execute_result",
          "data": {
            "text/plain": [
              "1.0"
            ]
          },
          "metadata": {},
          "execution_count": 252
        }
      ]
    },
    {
      "cell_type": "markdown",
      "source": [
        "#### **Summary of performing regression filling**"
      ],
      "metadata": {
        "id": "sn3nhPjaOf25"
      }
    },
    {
      "cell_type": "code",
      "source": [
        "df.isnull().mean() *100"
      ],
      "metadata": {
        "id": "aStt3bnEdiLc",
        "outputId": "8cbf0fcc-3ab9-4987-95ac-373568395e1b",
        "colab": {
          "base_uri": "https://localhost:8080/",
          "height": 962
        }
      },
      "execution_count": 253,
      "outputs": [
        {
          "output_type": "execute_result",
          "data": {
            "text/plain": [
              "date                                         0.000000\n",
              "fuel_consumption                             0.000000\n",
              "petroleum_imports_crudeOil                   0.000000\n",
              "Taxes_on_Customs_and_Other_Import Duties     3.007108\n",
              "Foreign Direct Investments                  42.974303\n",
              "GDP Goods and Services                       0.000000\n",
              "GDP: Gross National Income                   0.000000\n",
              "Government Debt                              0.000000\n",
              "New Vehicle Registrations                    0.000000\n",
              "Vehicle Sales                                0.000000\n",
              "Port Stay Duration                          91.416074\n",
              "Vehicle Sales Asia                           0.000000\n",
              "No.of Vessels Colombo                       25.861126\n",
              "Imports of Refined Products                  0.000000\n",
              "Colombo port calls                          91.525424\n",
              "Tax income profits_gains                     0.000000\n",
              "Tax on Export                                0.000000\n",
              "Tax Goods & Services                         0.000000\n",
              "Tax Road Transport                           0.000000\n",
              "GDP FCE Households                           0.000000\n",
              "Diesel User Price                            0.000000\n",
              "Petrol User Price                            0.000000\n",
              "Consumption_Oil                              0.000000\n",
              "Sales 90 Octane                              0.000000\n",
              "Sales 95 Octane                              0.000000\n",
              "Sales Auto Diesel                            0.000000\n",
              "Household_income                            97.156916\n",
              "Fuel_other_manufacture                       0.000000\n",
              "dtype: float64"
            ],
            "text/html": [
              "<div>\n",
              "<style scoped>\n",
              "    .dataframe tbody tr th:only-of-type {\n",
              "        vertical-align: middle;\n",
              "    }\n",
              "\n",
              "    .dataframe tbody tr th {\n",
              "        vertical-align: top;\n",
              "    }\n",
              "\n",
              "    .dataframe thead th {\n",
              "        text-align: right;\n",
              "    }\n",
              "</style>\n",
              "<table border=\"1\" class=\"dataframe\">\n",
              "  <thead>\n",
              "    <tr style=\"text-align: right;\">\n",
              "      <th></th>\n",
              "      <th>0</th>\n",
              "    </tr>\n",
              "  </thead>\n",
              "  <tbody>\n",
              "    <tr>\n",
              "      <th>date</th>\n",
              "      <td>0.000000</td>\n",
              "    </tr>\n",
              "    <tr>\n",
              "      <th>fuel_consumption</th>\n",
              "      <td>0.000000</td>\n",
              "    </tr>\n",
              "    <tr>\n",
              "      <th>petroleum_imports_crudeOil</th>\n",
              "      <td>0.000000</td>\n",
              "    </tr>\n",
              "    <tr>\n",
              "      <th>Taxes_on_Customs_and_Other_Import Duties</th>\n",
              "      <td>3.007108</td>\n",
              "    </tr>\n",
              "    <tr>\n",
              "      <th>Foreign Direct Investments</th>\n",
              "      <td>42.974303</td>\n",
              "    </tr>\n",
              "    <tr>\n",
              "      <th>GDP Goods and Services</th>\n",
              "      <td>0.000000</td>\n",
              "    </tr>\n",
              "    <tr>\n",
              "      <th>GDP: Gross National Income</th>\n",
              "      <td>0.000000</td>\n",
              "    </tr>\n",
              "    <tr>\n",
              "      <th>Government Debt</th>\n",
              "      <td>0.000000</td>\n",
              "    </tr>\n",
              "    <tr>\n",
              "      <th>New Vehicle Registrations</th>\n",
              "      <td>0.000000</td>\n",
              "    </tr>\n",
              "    <tr>\n",
              "      <th>Vehicle Sales</th>\n",
              "      <td>0.000000</td>\n",
              "    </tr>\n",
              "    <tr>\n",
              "      <th>Port Stay Duration</th>\n",
              "      <td>91.416074</td>\n",
              "    </tr>\n",
              "    <tr>\n",
              "      <th>Vehicle Sales Asia</th>\n",
              "      <td>0.000000</td>\n",
              "    </tr>\n",
              "    <tr>\n",
              "      <th>No.of Vessels Colombo</th>\n",
              "      <td>25.861126</td>\n",
              "    </tr>\n",
              "    <tr>\n",
              "      <th>Imports of Refined Products</th>\n",
              "      <td>0.000000</td>\n",
              "    </tr>\n",
              "    <tr>\n",
              "      <th>Colombo port calls</th>\n",
              "      <td>91.525424</td>\n",
              "    </tr>\n",
              "    <tr>\n",
              "      <th>Tax income profits_gains</th>\n",
              "      <td>0.000000</td>\n",
              "    </tr>\n",
              "    <tr>\n",
              "      <th>Tax on Export</th>\n",
              "      <td>0.000000</td>\n",
              "    </tr>\n",
              "    <tr>\n",
              "      <th>Tax Goods &amp; Services</th>\n",
              "      <td>0.000000</td>\n",
              "    </tr>\n",
              "    <tr>\n",
              "      <th>Tax Road Transport</th>\n",
              "      <td>0.000000</td>\n",
              "    </tr>\n",
              "    <tr>\n",
              "      <th>GDP FCE Households</th>\n",
              "      <td>0.000000</td>\n",
              "    </tr>\n",
              "    <tr>\n",
              "      <th>Diesel User Price</th>\n",
              "      <td>0.000000</td>\n",
              "    </tr>\n",
              "    <tr>\n",
              "      <th>Petrol User Price</th>\n",
              "      <td>0.000000</td>\n",
              "    </tr>\n",
              "    <tr>\n",
              "      <th>Consumption_Oil</th>\n",
              "      <td>0.000000</td>\n",
              "    </tr>\n",
              "    <tr>\n",
              "      <th>Sales 90 Octane</th>\n",
              "      <td>0.000000</td>\n",
              "    </tr>\n",
              "    <tr>\n",
              "      <th>Sales 95 Octane</th>\n",
              "      <td>0.000000</td>\n",
              "    </tr>\n",
              "    <tr>\n",
              "      <th>Sales Auto Diesel</th>\n",
              "      <td>0.000000</td>\n",
              "    </tr>\n",
              "    <tr>\n",
              "      <th>Household_income</th>\n",
              "      <td>97.156916</td>\n",
              "    </tr>\n",
              "    <tr>\n",
              "      <th>Fuel_other_manufacture</th>\n",
              "      <td>0.000000</td>\n",
              "    </tr>\n",
              "  </tbody>\n",
              "</table>\n",
              "</div><br><label><b>dtype:</b> float64</label>"
            ]
          },
          "metadata": {},
          "execution_count": 253
        }
      ]
    },
    {
      "cell_type": "markdown",
      "source": [
        "The following columns doesnt have any strong correlations \\\n",
        "'Foreign Direct Investments' \\\n",
        "'Household_income' \\\n",
        "'Colombo port calls' \\\n",
        "'Port Stay Duration' \\\n",
        "'No.of Vessels Colomob' \\"
      ],
      "metadata": {
        "id": "p0tVVPmBXsfL"
      }
    },
    {
      "cell_type": "markdown",
      "source": [
        "## **Building a Demand Proxy Target Variable**"
      ],
      "metadata": {
        "id": "paA7B5d2Xiqy"
      }
    },
    {
      "cell_type": "code",
      "source": [],
      "metadata": {
        "id": "Zq0shK3WXh-Q"
      },
      "execution_count": null,
      "outputs": []
    },
    {
      "cell_type": "markdown",
      "source": [
        "## **Analyzing Data**"
      ],
      "metadata": {
        "id": "fImGFGisW9U8"
      }
    },
    {
      "cell_type": "code",
      "source": [],
      "metadata": {
        "id": "z7wFIheiXM2q"
      },
      "execution_count": null,
      "outputs": []
    }
  ]
}