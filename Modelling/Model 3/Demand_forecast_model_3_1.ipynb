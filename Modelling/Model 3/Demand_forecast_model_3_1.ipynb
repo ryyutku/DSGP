{
  "nbformat": 4,
  "nbformat_minor": 0,
  "metadata": {
    "colab": {
      "provenance": [],
      "include_colab_link": true
    },
    "kernelspec": {
      "name": "python3",
      "display_name": "Python 3"
    },
    "language_info": {
      "name": "python"
    }
  },
  "cells": [
    {
      "cell_type": "markdown",
      "metadata": {
        "id": "view-in-github",
        "colab_type": "text"
      },
      "source": [
        "<a href=\"https://colab.research.google.com/github/ryyutku/DSGP/blob/anuk/Modelling/Model%203/Demand_forecast_model_3_1.ipynb\" target=\"_parent\"><img src=\"https://colab.research.google.com/assets/colab-badge.svg\" alt=\"Open In Colab\"/></a>"
      ]
    },
    {
      "cell_type": "code",
      "execution_count": null,
      "metadata": {
        "id": "w4Ts2_ucp3t1"
      },
      "outputs": [],
      "source": [
        "import pandas as pd\n",
        "import numpy as np\n",
        "import matplotlib.pyplot as plt\n",
        "from sklearn.preprocessing import MinMaxScaler, StandardScaler\n",
        "\n",
        "import statsmodels.api as sm\n",
        "from scipy.stats import linregress\n",
        "from statsmodels.tsa.stattools import adfuller\n",
        "from sklearn.linear_model import LinearRegression\n",
        "from sklearn.preprocessing import PolynomialFeatures\n",
        "from scipy.optimize import curve_fit"
      ]
    },
    {
      "cell_type": "code",
      "source": [
        "files = [\"Avg_Daily_Sales_Litres_ceypetco.csv\",\"Avg_Daily_Sales_MT_ceypetco.csv\",\"CIEC Data.csv\",\"GDP_historical_data.csv\",\"Import_Data_WITS.csv\",\"Population_colombo.csv\",\"Sales_IOC.csv\",\"Transport_Report_Tables.csv\" ]"
      ],
      "metadata": {
        "id": "-C_uhDArmdrX"
      },
      "execution_count": null,
      "outputs": []
    },
    {
      "cell_type": "code",
      "source": [
        "ceypetco_sales_l_df = pd.read_csv(files[0]) # int64\n",
        "ceypetco_sales_m_df = pd.read_csv(files[1]) # int64\n",
        "ciec_df = pd.read_csv(files[2]) # float64\n",
        "gdp_df = pd.read_csv(files[3]) # converted to float64\n",
        "import_df = pd.read_csv(files[4]) # contains float64, int64 for years, object for the partner names and countries\n",
        "population_df = pd.read_csv(files[5]) # converted float64\n",
        "ioc_sales_df = pd.read_csv(files[6]) # converted to float64\n",
        "transport_df = pd.read_csv(files[7]) # converted to float64"
      ],
      "metadata": {
        "id": "blpO1CoMmx2e"
      },
      "execution_count": null,
      "outputs": []
    },
    {
      "cell_type": "code",
      "source": [
        "# Converting the ioc_sales data into float\n",
        "ioc_sales_df = ioc_sales_df.replace({r'[\\n,]': ''}, regex=True)\n",
        "ioc_sales_df = ioc_sales_df.astype(float)"
      ],
      "metadata": {
        "id": "c4LPoMBUr0AO"
      },
      "execution_count": null,
      "outputs": []
    },
    {
      "cell_type": "code",
      "source": [
        "# Converting the gdp historical data into float\n",
        "gdp_df = gdp_df.replace({r'[$%B,]':''},regex=True)\n",
        "gdp_df = gdp_df.replace('',np.nan)\n",
        "gdp_df = gdp_df.astype(float)"
      ],
      "metadata": {
        "id": "6qWfNVE8uoo5"
      },
      "execution_count": null,
      "outputs": []
    },
    {
      "cell_type": "code",
      "source": [
        "# converting the population df to float\n",
        "population_df = population_df.replace({r'[,%]':''},regex=True)\n",
        "population_df = population_df.replace('',np.nan)\n",
        "population_df = population_df.astype(float)"
      ],
      "metadata": {
        "id": "-hslLy4xwHOR"
      },
      "execution_count": null,
      "outputs": []
    },
    {
      "cell_type": "code",
      "source": [
        "# converting the transport df to float\n",
        "transport_df_str = transport_df.iloc[:,0:2]\n",
        "transport_df_n = transport_df.iloc[:, 2:].replace({r'[,%]':''},regex=True)\n",
        "transport_df_n = transport_df_n.astype(float)\n",
        "transport_df = transport_df_str.join(transport_df_n)"
      ],
      "metadata": {
        "id": "uA4TwGw2w4jc"
      },
      "execution_count": null,
      "outputs": []
    },
    {
      "cell_type": "code",
      "source": [
        "ciec_df['date'] = pd.to_datetime((ciec_df['date']))"
      ],
      "metadata": {
        "id": "1Rjm5BlTQm4U"
      },
      "execution_count": null,
      "outputs": []
    },
    {
      "cell_type": "code",
      "source": [
        "ciec_df.columns"
      ],
      "metadata": {
        "colab": {
          "base_uri": "https://localhost:8080/"
        },
        "id": "djkoxXXXnBhv",
        "outputId": "c14df337-cadd-40d7-d01a-41bf0ef9a57c"
      },
      "execution_count": null,
      "outputs": [
        {
          "output_type": "execute_result",
          "data": {
            "text/plain": [
              "Index(['date', 'fuel_consumption', 'petroleum_imports_crudeOil',\n",
              "       'Taxes_on_Customs_and_Other_Import Duties ',\n",
              "       'Foreign Direct Investments', 'GDP Goods and Services',\n",
              "       'GDP: Gross National Income', 'Government Debt',\n",
              "       'New Vehicle Registrations', 'Vehicle Sales', 'Port Stay Duration',\n",
              "       'Vehicle Sales Asia', 'No.of Vessels Colombo',\n",
              "       'Imports of Refined Products', 'Colombo port calls',\n",
              "       'Tax income profits_gains', 'Tax on Export', 'Tax Goods & Services',\n",
              "       'Tax Road Transport', 'GDP FCE Households', 'Diesel User Price',\n",
              "       'Petrol User Price', 'Consumption_Oil', 'Sales 90 Octane',\n",
              "       'Sales 95 Octane', 'Sales Auto Diesel', 'Household_income',\n",
              "       'Fuel_other_manufacture'],\n",
              "      dtype='object')"
            ]
          },
          "metadata": {},
          "execution_count": 9
        }
      ]
    },
    {
      "cell_type": "code",
      "source": [
        "ciec_df_cols = ['date', 'fuel_consumption', 'petroleum_imports_crudeOil',\n",
        "       'Taxes_on_Customs_and_Other_Import Duties ',\n",
        "       'Foreign Direct Investments', 'GDP Goods and Services',\n",
        "       'GDP: Gross National Income', 'Government Debt',\n",
        "       'New Vehicle Registrations', 'Vehicle Sales', 'Port Stay Duration',\n",
        "       'Vehicle Sales Asia', 'No.of Vessels Colombo',\n",
        "       'Imports of Refined Products', 'Colombo port calls',\n",
        "       'Tax income profits_gains', 'Tax on Export', 'Tax Goods & Services',\n",
        "       'Tax Road Transport', 'GDP FCE Households', 'Diesel User Price',\n",
        "       'Petrol User Price', 'Consumption_Oil', 'Sales 90 Octane',\n",
        "       'Sales 95 Octane', 'Sales Auto Diesel', 'Household_income',\n",
        "       'Fuel_other_manufacture']"
      ],
      "metadata": {
        "id": "uTO9F0Y6nFS9"
      },
      "execution_count": null,
      "outputs": []
    },
    {
      "cell_type": "code",
      "source": [
        "ciec_df.dtypes"
      ],
      "metadata": {
        "colab": {
          "base_uri": "https://localhost:8080/",
          "height": 962
        },
        "id": "htfRfPWp82l6",
        "outputId": "4e72d504-0a89-45cb-9b7e-20f4e488ff0d"
      },
      "execution_count": null,
      "outputs": [
        {
          "output_type": "execute_result",
          "data": {
            "text/plain": [
              "date                                         datetime64[ns]\n",
              "fuel_consumption                                    float64\n",
              "petroleum_imports_crudeOil                          float64\n",
              "Taxes_on_Customs_and_Other_Import Duties            float64\n",
              "Foreign Direct Investments                          float64\n",
              "GDP Goods and Services                              float64\n",
              "GDP: Gross National Income                          float64\n",
              "Government Debt                                     float64\n",
              "New Vehicle Registrations                           float64\n",
              "Vehicle Sales                                       float64\n",
              "Port Stay Duration                                  float64\n",
              "Vehicle Sales Asia                                  float64\n",
              "No.of Vessels Colombo                               float64\n",
              "Imports of Refined Products                         float64\n",
              "Colombo port calls                                  float64\n",
              "Tax income profits_gains                            float64\n",
              "Tax on Export                                       float64\n",
              "Tax Goods & Services                                float64\n",
              "Tax Road Transport                                  float64\n",
              "GDP FCE Households                                  float64\n",
              "Diesel User Price                                   float64\n",
              "Petrol User Price                                   float64\n",
              "Consumption_Oil                                     float64\n",
              "Sales 90 Octane                                     float64\n",
              "Sales 95 Octane                                     float64\n",
              "Sales Auto Diesel                                   float64\n",
              "Household_income                                    float64\n",
              "Fuel_other_manufacture                              float64\n",
              "dtype: object"
            ],
            "text/html": [
              "<div>\n",
              "<style scoped>\n",
              "    .dataframe tbody tr th:only-of-type {\n",
              "        vertical-align: middle;\n",
              "    }\n",
              "\n",
              "    .dataframe tbody tr th {\n",
              "        vertical-align: top;\n",
              "    }\n",
              "\n",
              "    .dataframe thead th {\n",
              "        text-align: right;\n",
              "    }\n",
              "</style>\n",
              "<table border=\"1\" class=\"dataframe\">\n",
              "  <thead>\n",
              "    <tr style=\"text-align: right;\">\n",
              "      <th></th>\n",
              "      <th>0</th>\n",
              "    </tr>\n",
              "  </thead>\n",
              "  <tbody>\n",
              "    <tr>\n",
              "      <th>date</th>\n",
              "      <td>datetime64[ns]</td>\n",
              "    </tr>\n",
              "    <tr>\n",
              "      <th>fuel_consumption</th>\n",
              "      <td>float64</td>\n",
              "    </tr>\n",
              "    <tr>\n",
              "      <th>petroleum_imports_crudeOil</th>\n",
              "      <td>float64</td>\n",
              "    </tr>\n",
              "    <tr>\n",
              "      <th>Taxes_on_Customs_and_Other_Import Duties</th>\n",
              "      <td>float64</td>\n",
              "    </tr>\n",
              "    <tr>\n",
              "      <th>Foreign Direct Investments</th>\n",
              "      <td>float64</td>\n",
              "    </tr>\n",
              "    <tr>\n",
              "      <th>GDP Goods and Services</th>\n",
              "      <td>float64</td>\n",
              "    </tr>\n",
              "    <tr>\n",
              "      <th>GDP: Gross National Income</th>\n",
              "      <td>float64</td>\n",
              "    </tr>\n",
              "    <tr>\n",
              "      <th>Government Debt</th>\n",
              "      <td>float64</td>\n",
              "    </tr>\n",
              "    <tr>\n",
              "      <th>New Vehicle Registrations</th>\n",
              "      <td>float64</td>\n",
              "    </tr>\n",
              "    <tr>\n",
              "      <th>Vehicle Sales</th>\n",
              "      <td>float64</td>\n",
              "    </tr>\n",
              "    <tr>\n",
              "      <th>Port Stay Duration</th>\n",
              "      <td>float64</td>\n",
              "    </tr>\n",
              "    <tr>\n",
              "      <th>Vehicle Sales Asia</th>\n",
              "      <td>float64</td>\n",
              "    </tr>\n",
              "    <tr>\n",
              "      <th>No.of Vessels Colombo</th>\n",
              "      <td>float64</td>\n",
              "    </tr>\n",
              "    <tr>\n",
              "      <th>Imports of Refined Products</th>\n",
              "      <td>float64</td>\n",
              "    </tr>\n",
              "    <tr>\n",
              "      <th>Colombo port calls</th>\n",
              "      <td>float64</td>\n",
              "    </tr>\n",
              "    <tr>\n",
              "      <th>Tax income profits_gains</th>\n",
              "      <td>float64</td>\n",
              "    </tr>\n",
              "    <tr>\n",
              "      <th>Tax on Export</th>\n",
              "      <td>float64</td>\n",
              "    </tr>\n",
              "    <tr>\n",
              "      <th>Tax Goods &amp; Services</th>\n",
              "      <td>float64</td>\n",
              "    </tr>\n",
              "    <tr>\n",
              "      <th>Tax Road Transport</th>\n",
              "      <td>float64</td>\n",
              "    </tr>\n",
              "    <tr>\n",
              "      <th>GDP FCE Households</th>\n",
              "      <td>float64</td>\n",
              "    </tr>\n",
              "    <tr>\n",
              "      <th>Diesel User Price</th>\n",
              "      <td>float64</td>\n",
              "    </tr>\n",
              "    <tr>\n",
              "      <th>Petrol User Price</th>\n",
              "      <td>float64</td>\n",
              "    </tr>\n",
              "    <tr>\n",
              "      <th>Consumption_Oil</th>\n",
              "      <td>float64</td>\n",
              "    </tr>\n",
              "    <tr>\n",
              "      <th>Sales 90 Octane</th>\n",
              "      <td>float64</td>\n",
              "    </tr>\n",
              "    <tr>\n",
              "      <th>Sales 95 Octane</th>\n",
              "      <td>float64</td>\n",
              "    </tr>\n",
              "    <tr>\n",
              "      <th>Sales Auto Diesel</th>\n",
              "      <td>float64</td>\n",
              "    </tr>\n",
              "    <tr>\n",
              "      <th>Household_income</th>\n",
              "      <td>float64</td>\n",
              "    </tr>\n",
              "    <tr>\n",
              "      <th>Fuel_other_manufacture</th>\n",
              "      <td>float64</td>\n",
              "    </tr>\n",
              "  </tbody>\n",
              "</table>\n",
              "</div><br><label><b>dtype:</b> object</label>"
            ]
          },
          "metadata": {},
          "execution_count": 11
        }
      ]
    },
    {
      "cell_type": "markdown",
      "source": [
        "## **Checking the relationships of the columns to see how they must be interpolated**"
      ],
      "metadata": {
        "id": "W9yq6fmGoBZt"
      }
    },
    {
      "cell_type": "markdown",
      "source": [
        "Checking how the columns are related to other columns, For forecasting the null values"
      ],
      "metadata": {
        "id": "6PYfcrfvrTGJ"
      }
    },
    {
      "cell_type": "code",
      "source": [
        "def calculate_category_correlation(df,feature1, feature2):\n",
        "    # Drop rows where 'feature1' is NaN\n",
        "    df_valid_feature1 = df.dropna(subset=[feature1])\n",
        "\n",
        "    # Drop rows where 'feature2' are NaN\n",
        "    df_valid_feature2 = df.dropna(subset=[feature2], how='all')\n",
        "\n",
        "    # Find the overlapping date range where both 'feature1' and the 'feature2' exist\n",
        "    start_date = max(df_valid_feature1['date'].min(), df_valid_feature2['date'].min())\n",
        "    end_date = min(df_valid_feature1['date'].max(), df_valid_feature2['date'].max())\n",
        "\n",
        "    # Filter data to include only the overlapping date range\n",
        "    df_filtered = df[(df['date'] >= start_date) & (df['date'] <= end_date)]\n",
        "\n",
        "    # Compute correlation between 'fuel_consumption' and the aggregated category\n",
        "    correlation = df_filtered[[feature1, feature2]].corr().iloc[0, 1]\n",
        "\n",
        "    return correlation"
      ],
      "metadata": {
        "id": "0BhokyGioOZ_"
      },
      "execution_count": null,
      "outputs": []
    },
    {
      "cell_type": "code",
      "source": [
        "def find_strong_correlations(df, columns, threshold=0.8):\n",
        "  strong_correlations = {}\n",
        "  for i in columns:\n",
        "    for j in columns:\n",
        "      if i != j:\n",
        "        correlation = calculate_category_correlation(df, i, j)\n",
        "        if abs(correlation) >= threshold:\n",
        "          if i not in strong_correlations:\n",
        "            strong_correlations[i] = []\n",
        "          strong_correlations[i].append((j,correlation))\n",
        "\n",
        "\n",
        "  if strong_correlations:\n",
        "    print(\"THE STRONG CORRELATIONS\")\n",
        "    for feature, related_features  in strong_correlations.items():\n",
        "      for related_feature, corr in related_features:\n",
        "        print(f\"{feature} and {related_feature} have a correlation of {corr:.2f}\")\n",
        "  else:\n",
        "    print(\"NO STRONG CORRELATIONS\")\n",
        "\n",
        "  return strong_correlations\n"
      ],
      "metadata": {
        "id": "ekmyZNRSxJqB"
      },
      "execution_count": null,
      "outputs": []
    },
    {
      "cell_type": "code",
      "source": [
        "strong_correlations = find_strong_correlations(ciec_df,ciec_df_cols)"
      ],
      "metadata": {
        "colab": {
          "base_uri": "https://localhost:8080/"
        },
        "id": "RqigDCpZywuq",
        "outputId": "8f6cb368-5d1f-4b37-e30e-f445efc0f8f3"
      },
      "execution_count": null,
      "outputs": [
        {
          "output_type": "stream",
          "name": "stdout",
          "text": [
            "THE STRONG CORRELATIONS\n",
            "date and fuel_consumption have a correlation of 0.90\n",
            "date and GDP Goods and Services have a correlation of 0.91\n",
            "date and GDP: Gross National Income have a correlation of 0.93\n",
            "date and Government Debt have a correlation of 0.94\n",
            "date and Imports of Refined Products have a correlation of 0.88\n",
            "date and Tax income profits_gains have a correlation of 0.81\n",
            "date and Tax Goods & Services have a correlation of -0.93\n",
            "date and GDP FCE Households have a correlation of 0.89\n",
            "date and Petrol User Price have a correlation of -0.87\n",
            "date and Consumption_Oil have a correlation of 0.94\n",
            "date and Sales 90 Octane have a correlation of 0.96\n",
            "date and Sales 95 Octane have a correlation of 0.83\n",
            "date and Sales Auto Diesel have a correlation of 0.81\n",
            "date and Household_income have a correlation of 0.82\n",
            "fuel_consumption and date have a correlation of 0.90\n",
            "fuel_consumption and Vehicle Sales have a correlation of 0.83\n",
            "fuel_consumption and Petrol User Price have a correlation of -0.84\n",
            "fuel_consumption and Consumption_Oil have a correlation of 0.94\n",
            "fuel_consumption and Sales Auto Diesel have a correlation of 0.94\n",
            "petroleum_imports_crudeOil and Diesel User Price have a correlation of 0.81\n",
            "GDP Goods and Services and date have a correlation of 0.91\n",
            "GDP Goods and Services and GDP: Gross National Income have a correlation of 0.96\n",
            "GDP Goods and Services and Government Debt have a correlation of 0.93\n",
            "GDP Goods and Services and Tax income profits_gains have a correlation of 0.87\n",
            "GDP Goods and Services and GDP FCE Households have a correlation of 0.95\n",
            "GDP Goods and Services and Fuel_other_manufacture have a correlation of 0.87\n",
            "GDP: Gross National Income and date have a correlation of 0.93\n",
            "GDP: Gross National Income and GDP Goods and Services have a correlation of 0.96\n",
            "GDP: Gross National Income and Government Debt have a correlation of 0.97\n",
            "GDP: Gross National Income and Tax income profits_gains have a correlation of 0.90\n",
            "GDP: Gross National Income and GDP FCE Households have a correlation of 0.99\n",
            "GDP: Gross National Income and Sales 90 Octane have a correlation of 0.80\n",
            "GDP: Gross National Income and Fuel_other_manufacture have a correlation of 0.86\n",
            "Government Debt and date have a correlation of 0.94\n",
            "Government Debt and GDP Goods and Services have a correlation of 0.93\n",
            "Government Debt and GDP: Gross National Income have a correlation of 0.97\n",
            "Government Debt and New Vehicle Registrations have a correlation of -0.82\n",
            "Government Debt and Tax income profits_gains have a correlation of 0.86\n",
            "Government Debt and Tax Road Transport have a correlation of -0.91\n",
            "Government Debt and GDP FCE Households have a correlation of 0.96\n",
            "Government Debt and Sales Auto Diesel have a correlation of -0.82\n",
            "Government Debt and Fuel_other_manufacture have a correlation of 0.87\n",
            "New Vehicle Registrations and Government Debt have a correlation of -0.82\n",
            "Vehicle Sales and fuel_consumption have a correlation of 0.83\n",
            "Vehicle Sales and Vehicle Sales Asia have a correlation of 0.91\n",
            "Vehicle Sales and Tax on Export have a correlation of -0.88\n",
            "Vehicle Sales Asia and Vehicle Sales have a correlation of 0.91\n",
            "Imports of Refined Products and date have a correlation of 0.88\n",
            "Imports of Refined Products and Tax income profits_gains have a correlation of 0.86\n",
            "Imports of Refined Products and Tax Goods & Services have a correlation of -0.88\n",
            "Imports of Refined Products and Sales 90 Octane have a correlation of 0.84\n",
            "Tax income profits_gains and date have a correlation of 0.81\n",
            "Tax income profits_gains and GDP Goods and Services have a correlation of 0.87\n",
            "Tax income profits_gains and GDP: Gross National Income have a correlation of 0.90\n",
            "Tax income profits_gains and Government Debt have a correlation of 0.86\n",
            "Tax income profits_gains and Imports of Refined Products have a correlation of 0.86\n",
            "Tax income profits_gains and GDP FCE Households have a correlation of 0.92\n",
            "Tax income profits_gains and Sales 90 Octane have a correlation of 0.93\n",
            "Tax on Export and Vehicle Sales have a correlation of -0.88\n",
            "Tax Goods & Services and date have a correlation of -0.93\n",
            "Tax Goods & Services and Imports of Refined Products have a correlation of -0.88\n",
            "Tax Goods & Services and Consumption_Oil have a correlation of -0.81\n",
            "Tax Goods & Services and Sales 90 Octane have a correlation of -0.84\n",
            "Tax Road Transport and Government Debt have a correlation of -0.91\n",
            "GDP FCE Households and date have a correlation of 0.89\n",
            "GDP FCE Households and GDP Goods and Services have a correlation of 0.95\n",
            "GDP FCE Households and GDP: Gross National Income have a correlation of 0.99\n",
            "GDP FCE Households and Government Debt have a correlation of 0.96\n",
            "GDP FCE Households and Tax income profits_gains have a correlation of 0.92\n",
            "GDP FCE Households and Fuel_other_manufacture have a correlation of 0.88\n",
            "Diesel User Price and petroleum_imports_crudeOil have a correlation of 0.81\n",
            "Petrol User Price and date have a correlation of -0.87\n",
            "Petrol User Price and fuel_consumption have a correlation of -0.84\n",
            "Petrol User Price and Consumption_Oil have a correlation of -0.88\n",
            "Petrol User Price and Sales 90 Octane have a correlation of -0.84\n",
            "Petrol User Price and Sales 95 Octane have a correlation of -0.80\n",
            "Consumption_Oil and date have a correlation of 0.94\n",
            "Consumption_Oil and fuel_consumption have a correlation of 0.94\n",
            "Consumption_Oil and Tax Goods & Services have a correlation of -0.81\n",
            "Consumption_Oil and Petrol User Price have a correlation of -0.88\n",
            "Consumption_Oil and Sales 90 Octane have a correlation of 0.92\n",
            "Consumption_Oil and Sales 95 Octane have a correlation of 0.95\n",
            "Consumption_Oil and Sales Auto Diesel have a correlation of 0.80\n",
            "Sales 90 Octane and date have a correlation of 0.96\n",
            "Sales 90 Octane and GDP: Gross National Income have a correlation of 0.80\n",
            "Sales 90 Octane and Imports of Refined Products have a correlation of 0.84\n",
            "Sales 90 Octane and Tax income profits_gains have a correlation of 0.93\n",
            "Sales 90 Octane and Tax Goods & Services have a correlation of -0.84\n",
            "Sales 90 Octane and Petrol User Price have a correlation of -0.84\n",
            "Sales 90 Octane and Consumption_Oil have a correlation of 0.92\n",
            "Sales 90 Octane and Sales 95 Octane have a correlation of 0.91\n",
            "Sales 95 Octane and date have a correlation of 0.83\n",
            "Sales 95 Octane and Petrol User Price have a correlation of -0.80\n",
            "Sales 95 Octane and Consumption_Oil have a correlation of 0.95\n",
            "Sales 95 Octane and Sales 90 Octane have a correlation of 0.91\n",
            "Sales Auto Diesel and date have a correlation of 0.81\n",
            "Sales Auto Diesel and fuel_consumption have a correlation of 0.94\n",
            "Sales Auto Diesel and Government Debt have a correlation of -0.82\n",
            "Sales Auto Diesel and Consumption_Oil have a correlation of 0.80\n",
            "Household_income and date have a correlation of 0.82\n",
            "Fuel_other_manufacture and GDP Goods and Services have a correlation of 0.87\n",
            "Fuel_other_manufacture and GDP: Gross National Income have a correlation of 0.86\n",
            "Fuel_other_manufacture and Government Debt have a correlation of 0.87\n",
            "Fuel_other_manufacture and GDP FCE Households have a correlation of 0.88\n"
          ]
        }
      ]
    },
    {
      "cell_type": "code",
      "source": [
        "ciec_df.isnull().mean() *100"
      ],
      "metadata": {
        "colab": {
          "base_uri": "https://localhost:8080/",
          "height": 962
        },
        "id": "9OitwfvQ0r4M",
        "outputId": "604f6c9e-ce26-4232-e74e-91eed0feca4e"
      },
      "execution_count": null,
      "outputs": [
        {
          "output_type": "execute_result",
          "data": {
            "text/plain": [
              "date                                          0.000000\n",
              "fuel_consumption                             28.649535\n",
              "petroleum_imports_crudeOil                    8.747950\n",
              "Taxes_on_Customs_and_Other_Import Duties      3.007108\n",
              "Foreign Direct Investments                   37.288136\n",
              "GDP Goods and Services                       57.900492\n",
              "GDP: Gross National Income                   57.900492\n",
              "Government Debt                              69.327501\n",
              "New Vehicle Registrations                     0.601422\n",
              "Vehicle Sales                                57.189721\n",
              "Port Stay Duration                           91.416074\n",
              "Vehicle Sales Asia                           57.189721\n",
              "No.of Vessels Colombo                        25.861126\n",
              "Imports of Refined Products                   8.747950\n",
              "Colombo port calls                           91.525424\n",
              "Tax income profits_gains                      3.007108\n",
              "Tax on Export                                51.448879\n",
              "Tax Goods & Services                          3.007108\n",
              "Tax Road Transport                           51.503554\n",
              "GDP FCE Households                           57.900492\n",
              "Diesel User Price                             8.693275\n",
              "Petrol User Price                             8.693275\n",
              "Consumption_Oil                               3.007108\n",
              "Sales 90 Octane                               8.747950\n",
              "Sales 95 Octane                              31.547294\n",
              "Sales Auto Diesel                            11.536359\n",
              "Household_income                             95.735375\n",
              "Fuel_other_manufacture                       68.890104\n",
              "dtype: float64"
            ],
            "text/html": [
              "<div>\n",
              "<style scoped>\n",
              "    .dataframe tbody tr th:only-of-type {\n",
              "        vertical-align: middle;\n",
              "    }\n",
              "\n",
              "    .dataframe tbody tr th {\n",
              "        vertical-align: top;\n",
              "    }\n",
              "\n",
              "    .dataframe thead th {\n",
              "        text-align: right;\n",
              "    }\n",
              "</style>\n",
              "<table border=\"1\" class=\"dataframe\">\n",
              "  <thead>\n",
              "    <tr style=\"text-align: right;\">\n",
              "      <th></th>\n",
              "      <th>0</th>\n",
              "    </tr>\n",
              "  </thead>\n",
              "  <tbody>\n",
              "    <tr>\n",
              "      <th>date</th>\n",
              "      <td>0.000000</td>\n",
              "    </tr>\n",
              "    <tr>\n",
              "      <th>fuel_consumption</th>\n",
              "      <td>28.649535</td>\n",
              "    </tr>\n",
              "    <tr>\n",
              "      <th>petroleum_imports_crudeOil</th>\n",
              "      <td>8.747950</td>\n",
              "    </tr>\n",
              "    <tr>\n",
              "      <th>Taxes_on_Customs_and_Other_Import Duties</th>\n",
              "      <td>3.007108</td>\n",
              "    </tr>\n",
              "    <tr>\n",
              "      <th>Foreign Direct Investments</th>\n",
              "      <td>37.288136</td>\n",
              "    </tr>\n",
              "    <tr>\n",
              "      <th>GDP Goods and Services</th>\n",
              "      <td>57.900492</td>\n",
              "    </tr>\n",
              "    <tr>\n",
              "      <th>GDP: Gross National Income</th>\n",
              "      <td>57.900492</td>\n",
              "    </tr>\n",
              "    <tr>\n",
              "      <th>Government Debt</th>\n",
              "      <td>69.327501</td>\n",
              "    </tr>\n",
              "    <tr>\n",
              "      <th>New Vehicle Registrations</th>\n",
              "      <td>0.601422</td>\n",
              "    </tr>\n",
              "    <tr>\n",
              "      <th>Vehicle Sales</th>\n",
              "      <td>57.189721</td>\n",
              "    </tr>\n",
              "    <tr>\n",
              "      <th>Port Stay Duration</th>\n",
              "      <td>91.416074</td>\n",
              "    </tr>\n",
              "    <tr>\n",
              "      <th>Vehicle Sales Asia</th>\n",
              "      <td>57.189721</td>\n",
              "    </tr>\n",
              "    <tr>\n",
              "      <th>No.of Vessels Colombo</th>\n",
              "      <td>25.861126</td>\n",
              "    </tr>\n",
              "    <tr>\n",
              "      <th>Imports of Refined Products</th>\n",
              "      <td>8.747950</td>\n",
              "    </tr>\n",
              "    <tr>\n",
              "      <th>Colombo port calls</th>\n",
              "      <td>91.525424</td>\n",
              "    </tr>\n",
              "    <tr>\n",
              "      <th>Tax income profits_gains</th>\n",
              "      <td>3.007108</td>\n",
              "    </tr>\n",
              "    <tr>\n",
              "      <th>Tax on Export</th>\n",
              "      <td>51.448879</td>\n",
              "    </tr>\n",
              "    <tr>\n",
              "      <th>Tax Goods &amp; Services</th>\n",
              "      <td>3.007108</td>\n",
              "    </tr>\n",
              "    <tr>\n",
              "      <th>Tax Road Transport</th>\n",
              "      <td>51.503554</td>\n",
              "    </tr>\n",
              "    <tr>\n",
              "      <th>GDP FCE Households</th>\n",
              "      <td>57.900492</td>\n",
              "    </tr>\n",
              "    <tr>\n",
              "      <th>Diesel User Price</th>\n",
              "      <td>8.693275</td>\n",
              "    </tr>\n",
              "    <tr>\n",
              "      <th>Petrol User Price</th>\n",
              "      <td>8.693275</td>\n",
              "    </tr>\n",
              "    <tr>\n",
              "      <th>Consumption_Oil</th>\n",
              "      <td>3.007108</td>\n",
              "    </tr>\n",
              "    <tr>\n",
              "      <th>Sales 90 Octane</th>\n",
              "      <td>8.747950</td>\n",
              "    </tr>\n",
              "    <tr>\n",
              "      <th>Sales 95 Octane</th>\n",
              "      <td>31.547294</td>\n",
              "    </tr>\n",
              "    <tr>\n",
              "      <th>Sales Auto Diesel</th>\n",
              "      <td>11.536359</td>\n",
              "    </tr>\n",
              "    <tr>\n",
              "      <th>Household_income</th>\n",
              "      <td>95.735375</td>\n",
              "    </tr>\n",
              "    <tr>\n",
              "      <th>Fuel_other_manufacture</th>\n",
              "      <td>68.890104</td>\n",
              "    </tr>\n",
              "  </tbody>\n",
              "</table>\n",
              "</div><br><label><b>dtype:</b> float64</label>"
            ]
          },
          "metadata": {},
          "execution_count": 15
        }
      ]
    },
    {
      "cell_type": "markdown",
      "source": [
        "**Null value analysis**\\\n",
        "0-10% - date, consumption_oil"
      ],
      "metadata": {
        "id": "4fWrxIr21WMe"
      }
    },
    {
      "cell_type": "markdown",
      "source": [
        "10-30% - fuel_consumption, New Vehicle Registrations (Interpolation will be applied)"
      ],
      "metadata": {
        "id": "d-WFKZCi1zdq"
      }
    },
    {
      "cell_type": "markdown",
      "source": [
        "30-50% -petroleum_imports_crude_oil, Taxes_on_Customs_and_Other_Import Duties, Imports of Refined Products, Tax income profits_gains, Tax Goods & Services, Diesel User Price, Petrol User Price, Sales 90 Octane, Sales Auto Diesel,"
      ],
      "metadata": {
        "id": "MpSUHZZO2D59"
      }
    },
    {
      "cell_type": "markdown",
      "source": [
        "50% + - Foreign Direct Investments, GDP Goods and Services, GDP: Gross National Income, GDP: Gross National Income, Government Debt, Vehicle Sales, Port Stay Duration, Vehicle Sales Asia, No.of Vessels Colombo, Colombo port calls, Tax on Export, Tax Road Transport, GDP FCE Households, Sales 95 Octane, Household_income, Fuel_other_manufacture. (Interplation will be applied)"
      ],
      "metadata": {
        "id": "j9trq6X42xx5"
      }
    },
    {
      "cell_type": "markdown",
      "source": [
        "**Need to cutdown the range from which data is considered, few possible time frames to start with are 1990,1999,2005,2006,2010 **"
      ],
      "metadata": {
        "id": "DgTnYtGQ4thn"
      }
    },
    {
      "cell_type": "code",
      "source": [
        "def get_correlating_list(feature, dict):\n",
        "  list = []\n",
        "  values = dict[feature]\n",
        "  for v1,v2 in values:\n",
        "    list.append(v1)\n",
        "  return list"
      ],
      "metadata": {
        "id": "P5QJ7Ot66IGc"
      },
      "execution_count": null,
      "outputs": []
    },
    {
      "cell_type": "code",
      "source": [
        "proxy_df = pd.DataFrame()"
      ],
      "metadata": {
        "id": "T7V0DuTL63Av"
      },
      "execution_count": null,
      "outputs": []
    },
    {
      "cell_type": "code",
      "source": [
        "# Making a copy of ciec_df\n",
        "df = ciec_df.copy()"
      ],
      "metadata": {
        "id": "ZNZVYsTW9R_B"
      },
      "execution_count": null,
      "outputs": []
    },
    {
      "cell_type": "markdown",
      "source": [
        "## **Scaling The data**"
      ],
      "metadata": {
        "id": "qjfJLcAH_Gdj"
      }
    },
    {
      "cell_type": "code",
      "source": [
        "scaler = StandardScaler()\n",
        "m_scaler = MinMaxScaler()"
      ],
      "metadata": {
        "id": "ZiSVv6cAA8fJ"
      },
      "execution_count": null,
      "outputs": []
    },
    {
      "cell_type": "markdown",
      "source": [
        "Using z-score scaling (Standard Scaler) for the columns following normal distribution"
      ],
      "metadata": {
        "id": "_KXY2mnV_K1t"
      }
    },
    {
      "cell_type": "code",
      "source": [
        "z_cols = ['fuel_consumption', 'GDP: Gross National Income', 'GDP Goods and Services',\n",
        "          'Foreign Direct Investments', 'Household_income', 'Tax income profits_gains',\n",
        "          'Tax on Export', 'Tax Goods & Services', 'Tax Road Transport', 'Government Debt', 'Vehicle Sales']"
      ],
      "metadata": {
        "id": "7YJzN0q7_GOo"
      },
      "execution_count": null,
      "outputs": []
    },
    {
      "cell_type": "code",
      "source": [
        "df[z_cols] = scaler.fit_transform(ciec_df[z_cols])"
      ],
      "metadata": {
        "id": "xMrJ-KAWA68t"
      },
      "execution_count": null,
      "outputs": []
    },
    {
      "cell_type": "markdown",
      "source": [
        "Using min-max scaling for price related values"
      ],
      "metadata": {
        "id": "E0yYLf8I_l1j"
      }
    },
    {
      "cell_type": "code",
      "source": [
        "m_cols = ['Diesel User Price', 'Petrol User Price', 'petroleum_imports_crudeOil','Imports of Refined Products', 'Consumption_Oil']"
      ],
      "metadata": {
        "id": "VLFYXzPV_GM6"
      },
      "execution_count": null,
      "outputs": []
    },
    {
      "cell_type": "code",
      "source": [
        "df[m_cols] = m_scaler.fit_transform(ciec_df[m_cols])"
      ],
      "metadata": {
        "id": "mr8e_9cJBNJo"
      },
      "execution_count": null,
      "outputs": []
    },
    {
      "cell_type": "markdown",
      "source": [
        "Adding log transformation for highly skewed data"
      ],
      "metadata": {
        "id": "UBbun4BX_304"
      }
    },
    {
      "cell_type": "code",
      "source": [
        "l_cols = ['GDP: Gross National Income', 'Foreign Direct Investments', 'Household_income', 'Tax income profits_gains']"
      ],
      "metadata": {
        "id": "i2fF0__I_F9w"
      },
      "execution_count": null,
      "outputs": []
    },
    {
      "cell_type": "code",
      "source": [
        "df[l_cols] = np.log1p(df[l_cols])"
      ],
      "metadata": {
        "colab": {
          "base_uri": "https://localhost:8080/"
        },
        "id": "fsxJplCs9VqM",
        "outputId": "d8b298b0-0390-477d-f9dd-4699379564b5"
      },
      "execution_count": null,
      "outputs": [
        {
          "output_type": "stream",
          "name": "stderr",
          "text": [
            "/usr/local/lib/python3.11/dist-packages/pandas/core/internals/blocks.py:393: RuntimeWarning: invalid value encountered in log1p\n",
            "  result = func(self.values, **kwargs)\n"
          ]
        }
      ]
    },
    {
      "cell_type": "markdown",
      "source": [
        "## **Building Proxy features for the columns using the columns inside the df**"
      ],
      "metadata": {
        "id": "OUcACgH_6skW"
      }
    },
    {
      "cell_type": "markdown",
      "source": [
        "Proxy for fuel consumption"
      ],
      "metadata": {
        "id": "COwlDogQEWf1"
      }
    },
    {
      "cell_type": "code",
      "source": [
        "# Fuel consumption\n",
        "fuel_consumption_list = get_correlating_list('fuel_consumption',strong_correlations)\n"
      ],
      "metadata": {
        "id": "CzpkhjnivjQC"
      },
      "execution_count": null,
      "outputs": []
    },
    {
      "cell_type": "code",
      "source": [
        "# Making a proxy value\n",
        "df['fuel_consumption'] = df['fuel_consumption'].fillna(\n",
        "    (15 * df[fuel_consumption_list[3]]) + (0.4 * df[fuel_consumption_list[4]])\n",
        ")\n"
      ],
      "metadata": {
        "id": "Pp7nL3nioErz"
      },
      "execution_count": null,
      "outputs": []
    },
    {
      "cell_type": "code",
      "source": [
        "df['fuel_consumption'].corr(ciec_df['fuel_consumption'])"
      ],
      "metadata": {
        "id": "bWCs9ywKBrd7",
        "colab": {
          "base_uri": "https://localhost:8080/"
        },
        "outputId": "c32d3482-5d72-4310-f70b-65a51f8fd307"
      },
      "execution_count": null,
      "outputs": [
        {
          "output_type": "execute_result",
          "data": {
            "text/plain": [
              "0.9999999999999998"
            ]
          },
          "metadata": {},
          "execution_count": 28
        }
      ]
    },
    {
      "cell_type": "code",
      "source": [
        "df['fuel_consumption'].isnull().mean()"
      ],
      "metadata": {
        "id": "9s6zjD8wFwld",
        "colab": {
          "base_uri": "https://localhost:8080/"
        },
        "outputId": "d648e28b-2685-45de-8018-986fb03ab332"
      },
      "execution_count": null,
      "outputs": [
        {
          "output_type": "execute_result",
          "data": {
            "text/plain": [
              "0.11536358665937671"
            ]
          },
          "metadata": {},
          "execution_count": 29
        }
      ]
    },
    {
      "cell_type": "markdown",
      "source": [
        "petroleum_imports_crudeOil"
      ],
      "metadata": {
        "id": "wFXcFbo9EZKK"
      }
    },
    {
      "cell_type": "code",
      "source": [
        "petroleum_imports_crudeOil_list = get_correlating_list('petroleum_imports_crudeOil',strong_correlations)\n",
        "print(petroleum_imports_crudeOil_list)"
      ],
      "metadata": {
        "colab": {
          "base_uri": "https://localhost:8080/"
        },
        "id": "tLm7mH7IoLMf",
        "outputId": "6ab29ad6-4f4e-4632-8d5b-1584b14e3014"
      },
      "execution_count": null,
      "outputs": [
        {
          "output_type": "stream",
          "name": "stdout",
          "text": [
            "['Diesel User Price']\n"
          ]
        }
      ]
    },
    {
      "cell_type": "code",
      "source": [
        "# need to get this above 0.95\n",
        "ciec_df['petroleum_imports_crudeOil'].corr(ciec_df['Diesel User Price'])"
      ],
      "metadata": {
        "colab": {
          "base_uri": "https://localhost:8080/"
        },
        "id": "f-1LTvGfrBys",
        "outputId": "05a2ed63-a4e2-4796-f6a3-1c7189b6abf6"
      },
      "execution_count": null,
      "outputs": [
        {
          "output_type": "execute_result",
          "data": {
            "text/plain": [
              "0.812372739052149"
            ]
          },
          "metadata": {},
          "execution_count": 31
        }
      ]
    },
    {
      "cell_type": "code",
      "source": [
        "df['petroleum_imports_crudeOil'] = df['petroleum_imports_crudeOil'].fillna(\n",
        "\n",
        ")"
      ],
      "metadata": {
        "id": "CWB8IwTToLJ-",
        "outputId": "d9fc597a-bb48-4931-f12e-fb5be0fa8a55",
        "colab": {
          "base_uri": "https://localhost:8080/",
          "height": 333
        }
      },
      "execution_count": null,
      "outputs": [
        {
          "output_type": "error",
          "ename": "ValueError",
          "evalue": "Must specify a fill 'value' or 'method'.",
          "traceback": [
            "\u001b[0;31m---------------------------------------------------------------------------\u001b[0m",
            "\u001b[0;31mValueError\u001b[0m                                Traceback (most recent call last)",
            "\u001b[0;32m<ipython-input-32-8176e0bd8477>\u001b[0m in \u001b[0;36m<cell line: 0>\u001b[0;34m()\u001b[0m\n\u001b[0;32m----> 1\u001b[0;31m df['petroleum_imports_crudeOil'] = df['petroleum_imports_crudeOil'].fillna(\n\u001b[0m\u001b[1;32m      2\u001b[0m \u001b[0;34m\u001b[0m\u001b[0m\n\u001b[1;32m      3\u001b[0m )\n",
            "\u001b[0;32m/usr/local/lib/python3.11/dist-packages/pandas/core/generic.py\u001b[0m in \u001b[0;36mfillna\u001b[0;34m(self, value, method, axis, inplace, limit, downcast)\u001b[0m\n\u001b[1;32m   7291\u001b[0m                     )\n\u001b[1;32m   7292\u001b[0m \u001b[0;34m\u001b[0m\u001b[0m\n\u001b[0;32m-> 7293\u001b[0;31m         \u001b[0mvalue\u001b[0m\u001b[0;34m,\u001b[0m \u001b[0mmethod\u001b[0m \u001b[0;34m=\u001b[0m \u001b[0mvalidate_fillna_kwargs\u001b[0m\u001b[0;34m(\u001b[0m\u001b[0mvalue\u001b[0m\u001b[0;34m,\u001b[0m \u001b[0mmethod\u001b[0m\u001b[0;34m)\u001b[0m\u001b[0;34m\u001b[0m\u001b[0;34m\u001b[0m\u001b[0m\n\u001b[0m\u001b[1;32m   7294\u001b[0m         \u001b[0;32mif\u001b[0m \u001b[0mmethod\u001b[0m \u001b[0;32mis\u001b[0m \u001b[0;32mnot\u001b[0m \u001b[0;32mNone\u001b[0m\u001b[0;34m:\u001b[0m\u001b[0;34m\u001b[0m\u001b[0;34m\u001b[0m\u001b[0m\n\u001b[1;32m   7295\u001b[0m             warnings.warn(\n",
            "\u001b[0;32m/usr/local/lib/python3.11/dist-packages/pandas/util/_validators.py\u001b[0m in \u001b[0;36mvalidate_fillna_kwargs\u001b[0;34m(value, method, validate_scalar_dict_value)\u001b[0m\n\u001b[1;32m    291\u001b[0m \u001b[0;34m\u001b[0m\u001b[0m\n\u001b[1;32m    292\u001b[0m     \u001b[0;32mif\u001b[0m \u001b[0mvalue\u001b[0m \u001b[0;32mis\u001b[0m \u001b[0;32mNone\u001b[0m \u001b[0;32mand\u001b[0m \u001b[0mmethod\u001b[0m \u001b[0;32mis\u001b[0m \u001b[0;32mNone\u001b[0m\u001b[0;34m:\u001b[0m\u001b[0;34m\u001b[0m\u001b[0;34m\u001b[0m\u001b[0m\n\u001b[0;32m--> 293\u001b[0;31m         \u001b[0;32mraise\u001b[0m \u001b[0mValueError\u001b[0m\u001b[0;34m(\u001b[0m\u001b[0;34m\"Must specify a fill 'value' or 'method'.\"\u001b[0m\u001b[0;34m)\u001b[0m\u001b[0;34m\u001b[0m\u001b[0;34m\u001b[0m\u001b[0m\n\u001b[0m\u001b[1;32m    294\u001b[0m     \u001b[0;32mif\u001b[0m \u001b[0mvalue\u001b[0m \u001b[0;32mis\u001b[0m \u001b[0;32mNone\u001b[0m \u001b[0;32mand\u001b[0m \u001b[0mmethod\u001b[0m \u001b[0;32mis\u001b[0m \u001b[0;32mnot\u001b[0m \u001b[0;32mNone\u001b[0m\u001b[0;34m:\u001b[0m\u001b[0;34m\u001b[0m\u001b[0;34m\u001b[0m\u001b[0m\n\u001b[1;32m    295\u001b[0m         \u001b[0mmethod\u001b[0m \u001b[0;34m=\u001b[0m \u001b[0mclean_fill_method\u001b[0m\u001b[0;34m(\u001b[0m\u001b[0mmethod\u001b[0m\u001b[0;34m)\u001b[0m\u001b[0;34m\u001b[0m\u001b[0;34m\u001b[0m\u001b[0m\n",
            "\u001b[0;31mValueError\u001b[0m: Must specify a fill 'value' or 'method'."
          ]
        }
      ]
    },
    {
      "cell_type": "code",
      "source": [],
      "metadata": {
        "id": "gEn6ohcuoLFy"
      },
      "execution_count": null,
      "outputs": []
    },
    {
      "cell_type": "markdown",
      "source": [
        "GDP Goods and Services"
      ],
      "metadata": {
        "id": "xkH2zOS2Efz6"
      }
    },
    {
      "cell_type": "code",
      "source": [
        "goods_services_list = get_correlating_list('GDP Goods and Services',strong_correlations)\n",
        "print(goods_services_list)"
      ],
      "metadata": {
        "id": "tbUlbtALoRaG"
      },
      "execution_count": null,
      "outputs": []
    },
    {
      "cell_type": "code",
      "source": [
        "w1,w2,w3,w4,w5 = 1,0,0,0,0\n",
        "\n",
        "# ciec_df['GDP Goods and Services'].corr((w1*df[goods_services_list[1]])\n",
        "# +(w2*df[goods_services_list[2]])\n",
        "# +(w3*df[goods_services_list[3]])\n",
        "# +(w4*df[goods_services_list[4]])\n",
        "# +(w5*df[goods_services_list[5]]))\n",
        "\n",
        "ciec_df['GDP Goods and Services'].corr(0.9*df[goods_services_list[1]]+df[goods_services_list[4]])\n"
      ],
      "metadata": {
        "id": "9DFY6tdir1rh"
      },
      "execution_count": null,
      "outputs": []
    },
    {
      "cell_type": "markdown",
      "source": [
        "GDP: Gross National Income"
      ],
      "metadata": {
        "id": "8_8dQPAVEfvi"
      }
    },
    {
      "cell_type": "code",
      "source": [
        "national_income_list = get_correlating_list('GDP: Gross National Income',strong_correlations)"
      ],
      "metadata": {
        "id": "FIqdOrMmoVKt"
      },
      "execution_count": null,
      "outputs": []
    },
    {
      "cell_type": "markdown",
      "source": [
        "Government Debt"
      ],
      "metadata": {
        "id": "vii0KZ1xEftw"
      }
    },
    {
      "cell_type": "code",
      "source": [
        "government_debt_list = get_correlating_list('Government Debt',strong_correlations)"
      ],
      "metadata": {
        "id": "Or2Ven7KoXro"
      },
      "execution_count": null,
      "outputs": []
    },
    {
      "cell_type": "markdown",
      "source": [
        "Vehicle Sales"
      ],
      "metadata": {
        "id": "Uf4sBHb5EfqF"
      }
    },
    {
      "cell_type": "code",
      "source": [
        "vehicle_sales_list = get_correlating_list('Vehicle Sales',strong_correlations)"
      ],
      "metadata": {
        "id": "kw1flK-OobCJ"
      },
      "execution_count": null,
      "outputs": []
    },
    {
      "cell_type": "markdown",
      "source": [
        "Vessels in colombo"
      ],
      "metadata": {
        "id": "LW-hJC8JEfoS"
      }
    },
    {
      "cell_type": "code",
      "source": [
        "vessels_colombo_list = get_correlating_list('No.of Vessels Colombo',strong_correlations)"
      ],
      "metadata": {
        "id": "l-9sJUCFvjOB"
      },
      "execution_count": null,
      "outputs": []
    },
    {
      "cell_type": "markdown",
      "source": [
        "Tax on export"
      ],
      "metadata": {
        "id": "tzUE6qd-pOcj"
      }
    },
    {
      "cell_type": "code",
      "source": [
        "tax_export_list = get_correlating_list('Tax on Export',strong_correlations)"
      ],
      "metadata": {
        "id": "Z23dkE5jpRjD"
      },
      "execution_count": null,
      "outputs": []
    },
    {
      "cell_type": "markdown",
      "source": [
        "Tax on Road transport"
      ],
      "metadata": {
        "id": "lyYc9NEBpOC5"
      }
    },
    {
      "cell_type": "code",
      "source": [
        "tax_road_transport_list = get_correlating_list('Tax Road Transport',strong_correlations)"
      ],
      "metadata": {
        "id": "VxF6eQC6pXF6"
      },
      "execution_count": null,
      "outputs": []
    },
    {
      "cell_type": "markdown",
      "source": [
        "GDP FCE Households"
      ],
      "metadata": {
        "id": "MYGlFdFPpN_t"
      }
    },
    {
      "cell_type": "code",
      "source": [
        "fce_households_list = get_correlating_list('GDP FCE Households',strong_correlations)"
      ],
      "metadata": {
        "id": "J0FdRMwspiuz"
      },
      "execution_count": null,
      "outputs": []
    },
    {
      "cell_type": "markdown",
      "source": [
        "Sales 95 Octane"
      ],
      "metadata": {
        "id": "fV_zhtHRpN8U"
      }
    },
    {
      "cell_type": "code",
      "source": [
        "sales_95_list = get_correlating_list('Sales 95 Octane',strong_correlations)"
      ],
      "metadata": {
        "id": "kNg1jpGSps_8"
      },
      "execution_count": null,
      "outputs": []
    },
    {
      "cell_type": "markdown",
      "source": [
        "Fuel and other manufacture"
      ],
      "metadata": {
        "id": "lQnDMwn4pvrK"
      }
    },
    {
      "cell_type": "code",
      "source": [
        "fuel_manufacture_list = get_correlating_list('Fuel_other_manufacture',strong_correlations)"
      ],
      "metadata": {
        "id": "T5VKjgrCpza9"
      },
      "execution_count": null,
      "outputs": []
    },
    {
      "cell_type": "markdown",
      "source": [
        "## **Building the Demand Proxy Feature Column**"
      ],
      "metadata": {
        "id": "BXlwrAcYoVaM"
      }
    },
    {
      "cell_type": "code",
      "source": [],
      "metadata": {
        "id": "9HPuCICEKMaK"
      },
      "execution_count": null,
      "outputs": []
    },
    {
      "cell_type": "markdown",
      "source": [
        "## **Scaling and preprocessing**"
      ],
      "metadata": {
        "id": "FMQDzF9XH7Fy"
      }
    },
    {
      "cell_type": "code",
      "source": [],
      "metadata": {
        "id": "Ub3Dt02wH6kw"
      },
      "execution_count": null,
      "outputs": []
    },
    {
      "cell_type": "code",
      "source": [],
      "metadata": {
        "id": "eKyJbyunoU7r"
      },
      "execution_count": null,
      "outputs": []
    },
    {
      "cell_type": "markdown",
      "source": [
        "## **Analyzing data and Transforming**"
      ],
      "metadata": {
        "id": "VcEXnp3wRVne"
      }
    },
    {
      "cell_type": "code",
      "source": [],
      "metadata": {
        "id": "HQtnpvWRRVPn"
      },
      "execution_count": null,
      "outputs": []
    }
  ]
}