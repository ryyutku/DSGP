{
  "nbformat": 4,
  "nbformat_minor": 0,
  "metadata": {
    "colab": {
      "provenance": [],
      "authorship_tag": "ABX9TyPX3K8kNA/VLmJYoBFZyYyn",
      "include_colab_link": true
    },
    "kernelspec": {
      "name": "python3",
      "display_name": "Python 3"
    },
    "language_info": {
      "name": "python"
    }
  },
  "cells": [
    {
      "cell_type": "markdown",
      "metadata": {
        "id": "view-in-github",
        "colab_type": "text"
      },
      "source": [
        "<a href=\"https://colab.research.google.com/github/ryyutku/DSGP/blob/anuk/Modelling/Model%201/Demand_Forecast_demand_proxy.ipynb\" target=\"_parent\"><img src=\"https://colab.research.google.com/assets/colab-badge.svg\" alt=\"Open In Colab\"/></a>"
      ]
    },
    {
      "cell_type": "code",
      "source": [
        "import pandas as pd\n",
        "import numpy as np\n",
        "from sklearn.preprocessing import MinMaxScaler"
      ],
      "metadata": {
        "id": "--gZxp1TmKH9"
      },
      "execution_count": 1,
      "outputs": []
    },
    {
      "cell_type": "code",
      "source": [
        "files = [\"Avg_Daily_Sales_Litres_ceypetco.csv\",\"Avg_Daily_Sales_MT_ceypetco.csv\",\"CIEC Data.csv\",\"GDP_historical_data.csv\",\"Import_Data_WITS.csv\",\"Population_colombo.csv\",\"Sales_IOC.csv\",\"Transport_Report_Tables.csv\" ]"
      ],
      "metadata": {
        "id": "2DrAIJJgpiAe"
      },
      "execution_count": 2,
      "outputs": []
    },
    {
      "cell_type": "code",
      "source": [
        "ceypetco_sales_l_df = pd.read_csv(files[0]) # int64\n",
        "ceypetco_sales_m_df = pd.read_csv(files[1]) # int64\n",
        "ciec_df = pd.read_csv(files[2]) # float64\n",
        "gdp_df = pd.read_csv(files[3]) # converted to float64\n",
        "import_df = pd.read_csv(files[4]) # contains float64, int64 for years, object for the partner names and countries\n",
        "population_df = pd.read_csv(files[5]) # converted float64\n",
        "ioc_sales_df = pd.read_csv(files[6]) # converted to float64\n",
        "transport_df = pd.read_csv(files[7]) # converted to float64\n"
      ],
      "metadata": {
        "id": "I0RaI_lYqsfC"
      },
      "execution_count": 3,
      "outputs": []
    },
    {
      "cell_type": "code",
      "source": [
        "# Converting the ioc_sales data into float\n",
        "ioc_sales_df = ioc_sales_df.replace({r'[\\n,]': ''}, regex=True)\n",
        "ioc_sales_df = ioc_sales_df.astype(float)"
      ],
      "metadata": {
        "id": "c4LPoMBUr0AO"
      },
      "execution_count": 4,
      "outputs": []
    },
    {
      "cell_type": "code",
      "source": [
        "# Converting the gdp historical data into float\n",
        "gdp_df = gdp_df.replace({r'[$%B,]':''},regex=True)\n",
        "gdp_df = gdp_df.replace('',np.nan)\n",
        "gdp_df = gdp_df.astype(float)"
      ],
      "metadata": {
        "id": "6qWfNVE8uoo5"
      },
      "execution_count": 5,
      "outputs": []
    },
    {
      "cell_type": "code",
      "source": [
        "# converting the population df to float\n",
        "population_df = population_df.replace({r'[,%]':''},regex=True)\n",
        "population_df = population_df.replace('',np.nan)\n",
        "population_df = population_df.astype(float)"
      ],
      "metadata": {
        "id": "-hslLy4xwHOR"
      },
      "execution_count": 6,
      "outputs": []
    },
    {
      "cell_type": "code",
      "source": [
        "# converting the transport df to float\n",
        "transport_df_str = transport_df.iloc[:,0:2]\n",
        "transport_df_n = transport_df.iloc[:, 2:].replace({r'[,%]':''},regex=True)\n",
        "transport_df_n = transport_df_n.astype(float)\n",
        "transport_df = transport_df_str.join(transport_df_n)"
      ],
      "metadata": {
        "id": "uA4TwGw2w4jc"
      },
      "execution_count": 7,
      "outputs": []
    },
    {
      "cell_type": "code",
      "source": [
        "ciec_df['date'] = pd.to_datetime((ciec_df['date']))"
      ],
      "metadata": {
        "id": "1Rjm5BlTQm4U"
      },
      "execution_count": 8,
      "outputs": []
    },
    {
      "cell_type": "code",
      "source": [
        "ciec_df.columns"
      ],
      "metadata": {
        "colab": {
          "base_uri": "https://localhost:8080/"
        },
        "id": "30qsiRZ4RjJj",
        "outputId": "2fe89063-61e9-4fda-8a32-2b67a0df1929"
      },
      "execution_count": 9,
      "outputs": [
        {
          "output_type": "execute_result",
          "data": {
            "text/plain": [
              "Index(['date', 'fuel_consumption', 'petroleum_imports_crudeOil',\n",
              "       'Taxes_on_Customs_and_Other_Import Duties ',\n",
              "       'Foreign Direct Investments', 'GDP Goods and Services',\n",
              "       'GDP: Gross National Income', 'Government Debt',\n",
              "       'New Vehicle Registrations', 'Vehicle Sales', 'Port Stay Duration',\n",
              "       'Vehicle Sales Asia', 'No.of Vessels Colombo',\n",
              "       'Imports of Refined Products', 'Colombo port calls',\n",
              "       'Tax income profits_gains', 'Tax on Export', 'Tax Goods & Services',\n",
              "       'Tax Road Transport', 'GDP FCE Households', 'Diesel User Price',\n",
              "       'Petrol User Price', 'Consumption_Oil', 'Sales 90 Octane',\n",
              "       'Sales 95 Octane', 'Sales Auto Diesel', 'Household_income',\n",
              "       'Fuel_other_manufacture'],\n",
              "      dtype='object')"
            ]
          },
          "metadata": {},
          "execution_count": 9
        }
      ]
    },
    {
      "cell_type": "code",
      "source": [
        "len(ciec_df.columns)"
      ],
      "metadata": {
        "colab": {
          "base_uri": "https://localhost:8080/"
        },
        "id": "RDfr2ou0gwk-",
        "outputId": "d4a0b00f-ab55-418d-a954-20abf9dcc42d"
      },
      "execution_count": 10,
      "outputs": [
        {
          "output_type": "execute_result",
          "data": {
            "text/plain": [
              "28"
            ]
          },
          "metadata": {},
          "execution_count": 10
        }
      ]
    },
    {
      "cell_type": "code",
      "source": [
        "ciec_cols = ['fuel_consumption', 'petroleum_imports_crudeOil',\n",
        "       'Taxes_on_Customs_and_Other_Import Duties ',\n",
        "       'Foreign Direct Investments', 'GDP Goods and Services',\n",
        "       'GDP: Gross National Income', 'Government Debt',\n",
        "       'New Vehicle Registrations', 'Vehicle Sales', 'Port Stay Duration',\n",
        "       'Vehicle Sales Asia', 'No.of Vessels Colombo',\n",
        "       'Imports of Refined Products', 'Colombo port calls',\n",
        "       'Tax income profits_gains', 'Tax on Export', 'Tax Goods & Services',\n",
        "       'Tax Road Transport', 'GDP FCE Households', 'Diesel User Price',\n",
        "       'Petrol User Price', 'Consumption_Oil', 'Sales 90 Octane',\n",
        "       'Sales 95 Octane', 'Sales Auto Diesel', 'Household_income',\n",
        "       'Fuel_other_manufacture']"
      ],
      "metadata": {
        "id": "S03nNqtltjcr"
      },
      "execution_count": 11,
      "outputs": []
    },
    {
      "cell_type": "markdown",
      "source": [
        "### **Scaling and Normalizing the Data**"
      ],
      "metadata": {
        "id": "VmnAOMbotatU"
      }
    },
    {
      "cell_type": "code",
      "source": [
        "# making a copy\n",
        "ciec = ciec_df.copy()"
      ],
      "metadata": {
        "id": "yYGPJtXXwt_g"
      },
      "execution_count": 12,
      "outputs": []
    },
    {
      "cell_type": "code",
      "source": [
        "date = ciec_df['date']"
      ],
      "metadata": {
        "id": "BRj9aoShw765"
      },
      "execution_count": 13,
      "outputs": []
    },
    {
      "cell_type": "code",
      "source": [
        "scaler = MinMaxScaler()"
      ],
      "metadata": {
        "id": "fF4dYaMluEaU"
      },
      "execution_count": 14,
      "outputs": []
    },
    {
      "cell_type": "code",
      "source": [
        "ciec[ciec_cols] = scaler.fit_transform(ciec[ciec_cols])\n",
        "ciec['date'] = date"
      ],
      "metadata": {
        "id": "8bRDqkxKtaHj"
      },
      "execution_count": 15,
      "outputs": []
    },
    {
      "cell_type": "markdown",
      "source": [
        "### **Building the Demand Proxy Feature Column**"
      ],
      "metadata": {
        "id": "0TSnmT5L3vBU"
      }
    },
    {
      "cell_type": "markdown",
      "source": [
        "In the dataset of CIEC data, the supposed to be y variable 'fuel_consumption' contains data until 2014, so it is necessary to build a proxy variable with combination of other variables to determine the fuel demand in Sri Lanka."
      ],
      "metadata": {
        "id": "sTDy5MOlr5xH"
      }
    },
    {
      "cell_type": "code",
      "source": [
        "# Method to calculate correlation against 'fuel_consumption' and other features\n",
        "def fuel_consumption_corr(df,feature):\n",
        "  # Get the columns of the features to be correlated agains fuel_consumption in ciec\n",
        "  fuel_consumption = df[ciec['fuel_consumption'].notna()]\n",
        "  feature_corr = df[df[feature].notna()]\n",
        "\n",
        "  # Identifying the data ranges which both the columns are valid\n",
        "  start_date = max(fuel_consumption['date'].min(),feature_corr['date'].min())\n",
        "  end_date = min(fuel_consumption['date'].max(),feature_corr['date'].max())\n",
        "\n",
        "  # Filtering the data range to only include the intersecting data range\n",
        "  filtered_df = df[(df['date'] >= start_date) & (df['date'] <= end_date)]\n",
        "\n",
        "  # Calculating the correlation\n",
        "  correlation = filtered_df['fuel_consumption'].corr(filtered_df[feature])\n",
        "\n",
        "  return correlation\n",
        "\n",
        "\n"
      ],
      "metadata": {
        "id": "-CTh7AyHSgUt"
      },
      "execution_count": 16,
      "outputs": []
    },
    {
      "cell_type": "markdown",
      "source": [
        "There are 7 factors that can summarized as to which can affect demand.\n",
        "\n",
        "\n",
        "*   Income of consumers\n",
        "*   Price of substitutes\n",
        "*   Price of complements\n",
        "*   Changes in tast/Fashion\n",
        "*   Seasonal\n",
        "*   Advertising\n",
        "*   Price\n",
        "\n",
        "Features of the CIEC data dataset will be distributed accordingly to have a proper fixed \"target variable\"\n",
        "\n"
      ],
      "metadata": {
        "id": "j9r_UkstZIOw"
      }
    },
    {
      "cell_type": "code",
      "source": [
        "income_of_consumers = [\n",
        "    'GDP: Gross National Income', 'Foreign Direct Investments',\n",
        "    'GDP FCE Households', 'Tax income profits_gains', 'Household_income'\n",
        "]\n",
        "\n",
        "price_of_substitutes = ['Sales 90 Octane', 'Sales 95 Octane','Sales Auto Diesel','Consumption_Oil']\n",
        "price_of_complements = ['New Vehicle Registrations', 'Vehicle Sales','Vehicle Sales Asia','No.of Vessels Colombo','Port Stay Duration','Fuel_other_manufacture']\n",
        "price = ['Diesel User Price','Petrol User Price']\n",
        "seasonal = ['Imports of Refined Products','Colombo port calls']\n"
      ],
      "metadata": {
        "id": "4czMkS-CZzy6"
      },
      "execution_count": 17,
      "outputs": []
    },
    {
      "cell_type": "code",
      "source": [
        "demand_factors = income_of_consumers + price_of_substitutes + price_of_complements + price + seasonal"
      ],
      "metadata": {
        "id": "vkc8qu8cjH-X"
      },
      "execution_count": 18,
      "outputs": []
    },
    {
      "cell_type": "code",
      "source": [
        "for cols in demand_factors:\n",
        "  print(cols,\":\",fuel_consumption_corr(ciec,cols))"
      ],
      "metadata": {
        "colab": {
          "base_uri": "https://localhost:8080/"
        },
        "id": "TzcMTheMjB8p",
        "outputId": "091c6c8f-d72a-4b21-9cbb-84f0c44570c7"
      },
      "execution_count": 19,
      "outputs": [
        {
          "output_type": "stream",
          "name": "stdout",
          "text": [
            "GDP: Gross National Income : 0.5771154097165387\n",
            "Foreign Direct Investments : 0.016701608742766813\n",
            "GDP FCE Households : 0.6213174075360737\n",
            "Tax income profits_gains : 0.6797987093453305\n",
            "Household_income : -0.7464069423338254\n",
            "Sales 90 Octane : 0.7638219560761796\n",
            "Sales 95 Octane : 0.7767870472492998\n",
            "Sales Auto Diesel : 0.9642519644854153\n",
            "Consumption_Oil : 0.9598220451897032\n",
            "New Vehicle Registrations : 0.710940691420204\n",
            "Vehicle Sales : 0.8283821219636843\n",
            "Vehicle Sales Asia : -0.07213670624393759\n",
            "No.of Vessels Colombo : 0.17888589812176617\n",
            "Port Stay Duration : nan\n",
            "Fuel_other_manufacture : nan\n",
            "Diesel User Price : 0.42929679961766626\n",
            "Petrol User Price : -0.8393110671118198\n",
            "Imports of Refined Products : 0.6530356879648631\n",
            "Colombo port calls : nan\n"
          ]
        },
        {
          "output_type": "stream",
          "name": "stderr",
          "text": [
            "/usr/local/lib/python3.11/dist-packages/numpy/lib/function_base.py:2897: RuntimeWarning: invalid value encountered in divide\n",
            "  c /= stddev[:, None]\n",
            "/usr/local/lib/python3.11/dist-packages/numpy/lib/function_base.py:2898: RuntimeWarning: invalid value encountered in divide\n",
            "  c /= stddev[None, :]\n"
          ]
        }
      ]
    },
    {
      "cell_type": "markdown",
      "source": [
        "Checking correlation with other features that are not in demand factors"
      ],
      "metadata": {
        "id": "l5ZRgRO5g4TW"
      }
    },
    {
      "cell_type": "code",
      "source": [
        "selected_columns = set(income_of_consumers + price_of_complements + price_of_substitutes + price + seasonal)\n",
        "other_cols = [col for col in ciec_cols if col not in selected_columns]\n",
        "\n",
        "print(other_cols)\n"
      ],
      "metadata": {
        "colab": {
          "base_uri": "https://localhost:8080/"
        },
        "id": "2B0FJKMLc5OH",
        "outputId": "73f65255-a804-4a16-971d-586aa903b80a"
      },
      "execution_count": 20,
      "outputs": [
        {
          "output_type": "stream",
          "name": "stdout",
          "text": [
            "['fuel_consumption', 'petroleum_imports_crudeOil', 'Taxes_on_Customs_and_Other_Import Duties ', 'GDP Goods and Services', 'Government Debt', 'Tax on Export', 'Tax Goods & Services', 'Tax Road Transport']\n"
          ]
        }
      ]
    },
    {
      "cell_type": "code",
      "source": [
        "for col in other_cols:\n",
        "  print(col,\":\",fuel_consumption_corr(ciec,col))"
      ],
      "metadata": {
        "colab": {
          "base_uri": "https://localhost:8080/"
        },
        "id": "Zn93E9KWhTVS",
        "outputId": "66b492ad-55e3-4cdb-ed46-85744d7a94fc"
      },
      "execution_count": 21,
      "outputs": [
        {
          "output_type": "stream",
          "name": "stdout",
          "text": [
            "fuel_consumption : 0.9999999999999998\n",
            "petroleum_imports_crudeOil : 0.7242259405166621\n",
            "Taxes_on_Customs_and_Other_Import Duties  : -0.7757441984816745\n",
            "GDP Goods and Services : 0.7256692082264405\n",
            "Government Debt : nan\n",
            "Tax on Export : 0.4514010595209357\n",
            "Tax Goods & Services : -0.7490537772963195\n",
            "Tax Road Transport : 0.7285810018850449\n"
          ]
        }
      ]
    },
    {
      "cell_type": "markdown",
      "source": [
        "Checking the correlation with the demand forecasting factors"
      ],
      "metadata": {
        "id": "e1xQdCbAkHie"
      }
    },
    {
      "cell_type": "code",
      "source": [
        "def calculate_category_correlation(df, category_features, category_name):\n",
        "\n",
        "    # Convert 'date' column to datetime if not already\n",
        "    df['date'] = pd.to_datetime(df['date'])\n",
        "\n",
        "    # Drop rows where 'fuel_consumption' is NaN\n",
        "    df_valid_fuel = df.dropna(subset=['fuel_consumption'])\n",
        "\n",
        "    # Drop rows where all category features are NaN\n",
        "    df_valid_category = df.dropna(subset=category_features, how='all')\n",
        "\n",
        "    # Find the overlapping date range where both 'fuel_consumption' and the category features exist\n",
        "    start_date = max(df_valid_fuel['date'].min(), df_valid_category['date'].min())\n",
        "    end_date = min(df_valid_fuel['date'].max(), df_valid_category['date'].max())\n",
        "\n",
        "    # Filter data to include only the overlapping date range\n",
        "    df_filtered = df[(df['date'] >= start_date) & (df['date'] <= end_date)]\n",
        "\n",
        "    # Create a new column representing the aggregated category (e.g., mean of all category features)\n",
        "    df_filtered[category_name] = df_filtered[category_features].mean(axis=1, skipna=True)\n",
        "\n",
        "    # Compute correlation between 'fuel_consumption' and the aggregated category\n",
        "    correlation = df_filtered[['fuel_consumption', category_name]].corr().iloc[0, 1]\n",
        "\n",
        "    return correlation\n",
        "\n"
      ],
      "metadata": {
        "id": "THG22m7ikO9o"
      },
      "execution_count": 22,
      "outputs": []
    },
    {
      "cell_type": "code",
      "source": [
        "print(ciec.columns)"
      ],
      "metadata": {
        "colab": {
          "base_uri": "https://localhost:8080/"
        },
        "id": "A-eZyI3hmSDt",
        "outputId": "7b344b69-40ec-4872-e8ed-52b03145d417"
      },
      "execution_count": 23,
      "outputs": [
        {
          "output_type": "stream",
          "name": "stdout",
          "text": [
            "Index(['date', 'fuel_consumption', 'petroleum_imports_crudeOil',\n",
            "       'Taxes_on_Customs_and_Other_Import Duties ',\n",
            "       'Foreign Direct Investments', 'GDP Goods and Services',\n",
            "       'GDP: Gross National Income', 'Government Debt',\n",
            "       'New Vehicle Registrations', 'Vehicle Sales', 'Port Stay Duration',\n",
            "       'Vehicle Sales Asia', 'No.of Vessels Colombo',\n",
            "       'Imports of Refined Products', 'Colombo port calls',\n",
            "       'Tax income profits_gains', 'Tax on Export', 'Tax Goods & Services',\n",
            "       'Tax Road Transport', 'GDP FCE Households', 'Diesel User Price',\n",
            "       'Petrol User Price', 'Consumption_Oil', 'Sales 90 Octane',\n",
            "       'Sales 95 Octane', 'Sales Auto Diesel', 'Household_income',\n",
            "       'Fuel_other_manufacture'],\n",
            "      dtype='object')\n"
          ]
        }
      ]
    },
    {
      "cell_type": "code",
      "source": [
        "print(income_of_consumers)"
      ],
      "metadata": {
        "colab": {
          "base_uri": "https://localhost:8080/"
        },
        "id": "Rm-yao_ImVdP",
        "outputId": "126a6f09-1140-4ed1-abf8-7a120736a1fb"
      },
      "execution_count": 24,
      "outputs": [
        {
          "output_type": "stream",
          "name": "stdout",
          "text": [
            "['GDP: Gross National Income', 'Foreign Direct Investments', 'GDP FCE Households', 'Tax income profits_gains', 'Household_income']\n"
          ]
        }
      ]
    },
    {
      "cell_type": "code",
      "source": [
        "# Compute correlation between 'fuel_consumption' and 'income_of_consumers'\n",
        "correlation = calculate_category_correlation(ciec, income_of_consumers, \"Income_of_Consumers\")\n",
        "\n",
        "print(f\"Correlation between fuel_consumption and Income of Consumers: {correlation}\")"
      ],
      "metadata": {
        "colab": {
          "base_uri": "https://localhost:8080/"
        },
        "id": "chqYxwh1kest",
        "outputId": "421781d1-a7ee-4a92-de09-cc4c3295ec89"
      },
      "execution_count": 25,
      "outputs": [
        {
          "output_type": "stream",
          "name": "stdout",
          "text": [
            "Correlation between fuel_consumption and Income of Consumers: 0.01178330649220857\n"
          ]
        },
        {
          "output_type": "stream",
          "name": "stderr",
          "text": [
            "<ipython-input-22-78f6bd1fc972>:20: SettingWithCopyWarning: \n",
            "A value is trying to be set on a copy of a slice from a DataFrame.\n",
            "Try using .loc[row_indexer,col_indexer] = value instead\n",
            "\n",
            "See the caveats in the documentation: https://pandas.pydata.org/pandas-docs/stable/user_guide/indexing.html#returning-a-view-versus-a-copy\n",
            "  df_filtered[category_name] = df_filtered[category_features].mean(axis=1, skipna=True)\n"
          ]
        }
      ]
    },
    {
      "cell_type": "code",
      "source": [
        "# Compute correlation between 'fuel_consumption' and 'income_of_consumers'\n",
        "correlation = calculate_category_correlation(ciec, price_of_substitutes, \"Price_Of_Substitutes\")\n",
        "\n",
        "print(f\"Correlation between fuel_consumption and Price of Substitute: {correlation}\")"
      ],
      "metadata": {
        "colab": {
          "base_uri": "https://localhost:8080/"
        },
        "id": "zt6seWPAl_wU",
        "outputId": "b845268f-ab74-40d6-bb41-6f1181152acb"
      },
      "execution_count": 26,
      "outputs": [
        {
          "output_type": "stream",
          "name": "stdout",
          "text": [
            "Correlation between fuel_consumption and Price of Substitute: 0.9567724317957925\n"
          ]
        },
        {
          "output_type": "stream",
          "name": "stderr",
          "text": [
            "<ipython-input-22-78f6bd1fc972>:20: SettingWithCopyWarning: \n",
            "A value is trying to be set on a copy of a slice from a DataFrame.\n",
            "Try using .loc[row_indexer,col_indexer] = value instead\n",
            "\n",
            "See the caveats in the documentation: https://pandas.pydata.org/pandas-docs/stable/user_guide/indexing.html#returning-a-view-versus-a-copy\n",
            "  df_filtered[category_name] = df_filtered[category_features].mean(axis=1, skipna=True)\n"
          ]
        }
      ]
    },
    {
      "cell_type": "code",
      "source": [
        "# Compute correlation between 'fuel_consumption' and 'income_of_consumers'\n",
        "correlation = calculate_category_correlation(ciec, price_of_complements, \"Price_Of_Complements\")\n",
        "\n",
        "print(f\"Correlation between fuel_consumption and Price of Complements: {correlation}\")"
      ],
      "metadata": {
        "colab": {
          "base_uri": "https://localhost:8080/"
        },
        "id": "zre8M8bBnazZ",
        "outputId": "771eda40-01e9-43c4-ef83-421ff45b4ee5"
      },
      "execution_count": 27,
      "outputs": [
        {
          "output_type": "stream",
          "name": "stdout",
          "text": [
            "Correlation between fuel_consumption and Price of Complements: 0.78387068377676\n"
          ]
        },
        {
          "output_type": "stream",
          "name": "stderr",
          "text": [
            "<ipython-input-22-78f6bd1fc972>:20: SettingWithCopyWarning: \n",
            "A value is trying to be set on a copy of a slice from a DataFrame.\n",
            "Try using .loc[row_indexer,col_indexer] = value instead\n",
            "\n",
            "See the caveats in the documentation: https://pandas.pydata.org/pandas-docs/stable/user_guide/indexing.html#returning-a-view-versus-a-copy\n",
            "  df_filtered[category_name] = df_filtered[category_features].mean(axis=1, skipna=True)\n"
          ]
        }
      ]
    },
    {
      "cell_type": "code",
      "source": [
        "# Compute correlation between 'fuel_consumption' and 'income_of_consumers'\n",
        "correlation = calculate_category_correlation(ciec, price, \"Price\")\n",
        "\n",
        "print(f\"Correlation between fuel_consumption and Price: {correlation}\")"
      ],
      "metadata": {
        "colab": {
          "base_uri": "https://localhost:8080/"
        },
        "id": "mR-tfxVQnk1s",
        "outputId": "850ca2b0-714f-4119-cf1c-cfcd732fa5b0"
      },
      "execution_count": 28,
      "outputs": [
        {
          "output_type": "stream",
          "name": "stdout",
          "text": [
            "Correlation between fuel_consumption and Price: -0.15192262464733997\n"
          ]
        },
        {
          "output_type": "stream",
          "name": "stderr",
          "text": [
            "<ipython-input-22-78f6bd1fc972>:20: SettingWithCopyWarning: \n",
            "A value is trying to be set on a copy of a slice from a DataFrame.\n",
            "Try using .loc[row_indexer,col_indexer] = value instead\n",
            "\n",
            "See the caveats in the documentation: https://pandas.pydata.org/pandas-docs/stable/user_guide/indexing.html#returning-a-view-versus-a-copy\n",
            "  df_filtered[category_name] = df_filtered[category_features].mean(axis=1, skipna=True)\n"
          ]
        }
      ]
    },
    {
      "cell_type": "code",
      "source": [
        "# Compute correlation between 'fuel_consumption' and 'income_of_consumers'\n",
        "correlation = calculate_category_correlation(ciec, seasonal, \"Seasonal\")\n",
        "\n",
        "print(f\"Correlation between fuel_consumption and Seasonal: {correlation}\")"
      ],
      "metadata": {
        "colab": {
          "base_uri": "https://localhost:8080/"
        },
        "id": "UZOPvRYAnpiK",
        "outputId": "0d66631f-e2b9-477a-a856-c8ac329975dc"
      },
      "execution_count": 29,
      "outputs": [
        {
          "output_type": "stream",
          "name": "stdout",
          "text": [
            "Correlation between fuel_consumption and Seasonal: 0.6530356879648683\n"
          ]
        },
        {
          "output_type": "stream",
          "name": "stderr",
          "text": [
            "<ipython-input-22-78f6bd1fc972>:20: SettingWithCopyWarning: \n",
            "A value is trying to be set on a copy of a slice from a DataFrame.\n",
            "Try using .loc[row_indexer,col_indexer] = value instead\n",
            "\n",
            "See the caveats in the documentation: https://pandas.pydata.org/pandas-docs/stable/user_guide/indexing.html#returning-a-view-versus-a-copy\n",
            "  df_filtered[category_name] = df_filtered[category_features].mean(axis=1, skipna=True)\n"
          ]
        }
      ]
    },
    {
      "cell_type": "markdown",
      "source": [
        "Setting the proxy target variable"
      ],
      "metadata": {
        "id": "tbqWQhEHxs9N"
      }
    },
    {
      "cell_type": "code",
      "source": [
        "w1= 1.0 # price of substitutes\n",
        "w2= 0.4 # price of complements\n",
        "w3= 0.4 # Sales 90 Octane\n",
        "w4= 0.4 # Sales 95 Octane\n",
        "w5= 1.0 # Sales Auto Diesel\n",
        "w6= 1.0 # Consumption Oil\n",
        "w7= 0.7 # Vehicle Sales\n",
        "w8= -0.7 # Petrol User Price\n",
        "w9= -0.5 # Taxes on Customs and Other Imports"
      ],
      "metadata": {
        "id": "P9yIyGBPIaTE"
      },
      "execution_count": 30,
      "outputs": []
    },
    {
      "cell_type": "code",
      "source": [
        "# + (w2*ciec[price_of_complements].mean(axis=1, skipna=True))\n",
        "# (w3*ciec['Sales 90 Octane']).fillna(0) + (w4*ciec['Sales 95 Octane']).fillna(0) +\n",
        "#\n",
        "#  + (w8*ciec['Petrol User Price'].fillna(0).fillna(0)) +\n",
        "#\n",
        "\n",
        "demand = ((w1*ciec[price_of_substitutes].mean(axis=1, skipna=True)) +(w5*ciec['Sales Auto Diesel']).fillna(0)+(ciec['fuel_consumption'].fillna(0))\n",
        " + (w9*ciec['Taxes_on_Customs_and_Other_Import Duties '].fillna(0)) )\n",
        "\n",
        "#\n",
        "# + (w7*ciec['Vehicle Sales'].fillna(0))\n",
        "# (w6*ciec['Consumption_Oil'].fillna(0))"
      ],
      "metadata": {
        "id": "woJhw04gnvMh"
      },
      "execution_count": 153,
      "outputs": []
    },
    {
      "cell_type": "code",
      "source": [
        "ciec['demand'] = demand"
      ],
      "metadata": {
        "id": "Zhd3gqObKLGh"
      },
      "execution_count": 154,
      "outputs": []
    },
    {
      "cell_type": "code",
      "source": [
        "ciec[['date', 'fuel_consumption', 'demand']].dropna()"
      ],
      "metadata": {
        "colab": {
          "base_uri": "https://localhost:8080/",
          "height": 423
        },
        "id": "9mpOho43Nxsk",
        "outputId": "8286c491-d49f-4839-d494-9aebbea5695b"
      },
      "execution_count": 155,
      "outputs": [
        {
          "output_type": "execute_result",
          "data": {
            "text/plain": [
              "           date  fuel_consumption    demand\n",
              "0    1971-01-04          0.090559  0.118957\n",
              "1    1971-01-11          0.090559  0.118957\n",
              "2    1971-01-18          0.090559  0.118957\n",
              "3    1971-01-25          0.090559  0.118957\n",
              "4    1971-02-01          0.090559  0.118957\n",
              "...         ...               ...       ...\n",
              "2291 2014-12-01          1.000000  2.370318\n",
              "2292 2014-12-08          1.000000  2.370318\n",
              "2293 2014-12-15          1.000000  2.370318\n",
              "2294 2014-12-22          1.000000  2.370318\n",
              "2295 2014-12-29          1.000000  2.370318\n",
              "\n",
              "[2296 rows x 3 columns]"
            ],
            "text/html": [
              "\n",
              "  <div id=\"df-182b1e3d-ccba-431f-ad0e-dc1ea7df5f6f\" class=\"colab-df-container\">\n",
              "    <div>\n",
              "<style scoped>\n",
              "    .dataframe tbody tr th:only-of-type {\n",
              "        vertical-align: middle;\n",
              "    }\n",
              "\n",
              "    .dataframe tbody tr th {\n",
              "        vertical-align: top;\n",
              "    }\n",
              "\n",
              "    .dataframe thead th {\n",
              "        text-align: right;\n",
              "    }\n",
              "</style>\n",
              "<table border=\"1\" class=\"dataframe\">\n",
              "  <thead>\n",
              "    <tr style=\"text-align: right;\">\n",
              "      <th></th>\n",
              "      <th>date</th>\n",
              "      <th>fuel_consumption</th>\n",
              "      <th>demand</th>\n",
              "    </tr>\n",
              "  </thead>\n",
              "  <tbody>\n",
              "    <tr>\n",
              "      <th>0</th>\n",
              "      <td>1971-01-04</td>\n",
              "      <td>0.090559</td>\n",
              "      <td>0.118957</td>\n",
              "    </tr>\n",
              "    <tr>\n",
              "      <th>1</th>\n",
              "      <td>1971-01-11</td>\n",
              "      <td>0.090559</td>\n",
              "      <td>0.118957</td>\n",
              "    </tr>\n",
              "    <tr>\n",
              "      <th>2</th>\n",
              "      <td>1971-01-18</td>\n",
              "      <td>0.090559</td>\n",
              "      <td>0.118957</td>\n",
              "    </tr>\n",
              "    <tr>\n",
              "      <th>3</th>\n",
              "      <td>1971-01-25</td>\n",
              "      <td>0.090559</td>\n",
              "      <td>0.118957</td>\n",
              "    </tr>\n",
              "    <tr>\n",
              "      <th>4</th>\n",
              "      <td>1971-02-01</td>\n",
              "      <td>0.090559</td>\n",
              "      <td>0.118957</td>\n",
              "    </tr>\n",
              "    <tr>\n",
              "      <th>...</th>\n",
              "      <td>...</td>\n",
              "      <td>...</td>\n",
              "      <td>...</td>\n",
              "    </tr>\n",
              "    <tr>\n",
              "      <th>2291</th>\n",
              "      <td>2014-12-01</td>\n",
              "      <td>1.000000</td>\n",
              "      <td>2.370318</td>\n",
              "    </tr>\n",
              "    <tr>\n",
              "      <th>2292</th>\n",
              "      <td>2014-12-08</td>\n",
              "      <td>1.000000</td>\n",
              "      <td>2.370318</td>\n",
              "    </tr>\n",
              "    <tr>\n",
              "      <th>2293</th>\n",
              "      <td>2014-12-15</td>\n",
              "      <td>1.000000</td>\n",
              "      <td>2.370318</td>\n",
              "    </tr>\n",
              "    <tr>\n",
              "      <th>2294</th>\n",
              "      <td>2014-12-22</td>\n",
              "      <td>1.000000</td>\n",
              "      <td>2.370318</td>\n",
              "    </tr>\n",
              "    <tr>\n",
              "      <th>2295</th>\n",
              "      <td>2014-12-29</td>\n",
              "      <td>1.000000</td>\n",
              "      <td>2.370318</td>\n",
              "    </tr>\n",
              "  </tbody>\n",
              "</table>\n",
              "<p>2296 rows × 3 columns</p>\n",
              "</div>\n",
              "    <div class=\"colab-df-buttons\">\n",
              "\n",
              "  <div class=\"colab-df-container\">\n",
              "    <button class=\"colab-df-convert\" onclick=\"convertToInteractive('df-182b1e3d-ccba-431f-ad0e-dc1ea7df5f6f')\"\n",
              "            title=\"Convert this dataframe to an interactive table.\"\n",
              "            style=\"display:none;\">\n",
              "\n",
              "  <svg xmlns=\"http://www.w3.org/2000/svg\" height=\"24px\" viewBox=\"0 -960 960 960\">\n",
              "    <path d=\"M120-120v-720h720v720H120Zm60-500h600v-160H180v160Zm220 220h160v-160H400v160Zm0 220h160v-160H400v160ZM180-400h160v-160H180v160Zm440 0h160v-160H620v160ZM180-180h160v-160H180v160Zm440 0h160v-160H620v160Z\"/>\n",
              "  </svg>\n",
              "    </button>\n",
              "\n",
              "  <style>\n",
              "    .colab-df-container {\n",
              "      display:flex;\n",
              "      gap: 12px;\n",
              "    }\n",
              "\n",
              "    .colab-df-convert {\n",
              "      background-color: #E8F0FE;\n",
              "      border: none;\n",
              "      border-radius: 50%;\n",
              "      cursor: pointer;\n",
              "      display: none;\n",
              "      fill: #1967D2;\n",
              "      height: 32px;\n",
              "      padding: 0 0 0 0;\n",
              "      width: 32px;\n",
              "    }\n",
              "\n",
              "    .colab-df-convert:hover {\n",
              "      background-color: #E2EBFA;\n",
              "      box-shadow: 0px 1px 2px rgba(60, 64, 67, 0.3), 0px 1px 3px 1px rgba(60, 64, 67, 0.15);\n",
              "      fill: #174EA6;\n",
              "    }\n",
              "\n",
              "    .colab-df-buttons div {\n",
              "      margin-bottom: 4px;\n",
              "    }\n",
              "\n",
              "    [theme=dark] .colab-df-convert {\n",
              "      background-color: #3B4455;\n",
              "      fill: #D2E3FC;\n",
              "    }\n",
              "\n",
              "    [theme=dark] .colab-df-convert:hover {\n",
              "      background-color: #434B5C;\n",
              "      box-shadow: 0px 1px 3px 1px rgba(0, 0, 0, 0.15);\n",
              "      filter: drop-shadow(0px 1px 2px rgba(0, 0, 0, 0.3));\n",
              "      fill: #FFFFFF;\n",
              "    }\n",
              "  </style>\n",
              "\n",
              "    <script>\n",
              "      const buttonEl =\n",
              "        document.querySelector('#df-182b1e3d-ccba-431f-ad0e-dc1ea7df5f6f button.colab-df-convert');\n",
              "      buttonEl.style.display =\n",
              "        google.colab.kernel.accessAllowed ? 'block' : 'none';\n",
              "\n",
              "      async function convertToInteractive(key) {\n",
              "        const element = document.querySelector('#df-182b1e3d-ccba-431f-ad0e-dc1ea7df5f6f');\n",
              "        const dataTable =\n",
              "          await google.colab.kernel.invokeFunction('convertToInteractive',\n",
              "                                                    [key], {});\n",
              "        if (!dataTable) return;\n",
              "\n",
              "        const docLinkHtml = 'Like what you see? Visit the ' +\n",
              "          '<a target=\"_blank\" href=https://colab.research.google.com/notebooks/data_table.ipynb>data table notebook</a>'\n",
              "          + ' to learn more about interactive tables.';\n",
              "        element.innerHTML = '';\n",
              "        dataTable['output_type'] = 'display_data';\n",
              "        await google.colab.output.renderOutput(dataTable, element);\n",
              "        const docLink = document.createElement('div');\n",
              "        docLink.innerHTML = docLinkHtml;\n",
              "        element.appendChild(docLink);\n",
              "      }\n",
              "    </script>\n",
              "  </div>\n",
              "\n",
              "\n",
              "<div id=\"df-fd783617-fa48-49f4-a947-7a673074bc33\">\n",
              "  <button class=\"colab-df-quickchart\" onclick=\"quickchart('df-fd783617-fa48-49f4-a947-7a673074bc33')\"\n",
              "            title=\"Suggest charts\"\n",
              "            style=\"display:none;\">\n",
              "\n",
              "<svg xmlns=\"http://www.w3.org/2000/svg\" height=\"24px\"viewBox=\"0 0 24 24\"\n",
              "     width=\"24px\">\n",
              "    <g>\n",
              "        <path d=\"M19 3H5c-1.1 0-2 .9-2 2v14c0 1.1.9 2 2 2h14c1.1 0 2-.9 2-2V5c0-1.1-.9-2-2-2zM9 17H7v-7h2v7zm4 0h-2V7h2v10zm4 0h-2v-4h2v4z\"/>\n",
              "    </g>\n",
              "</svg>\n",
              "  </button>\n",
              "\n",
              "<style>\n",
              "  .colab-df-quickchart {\n",
              "      --bg-color: #E8F0FE;\n",
              "      --fill-color: #1967D2;\n",
              "      --hover-bg-color: #E2EBFA;\n",
              "      --hover-fill-color: #174EA6;\n",
              "      --disabled-fill-color: #AAA;\n",
              "      --disabled-bg-color: #DDD;\n",
              "  }\n",
              "\n",
              "  [theme=dark] .colab-df-quickchart {\n",
              "      --bg-color: #3B4455;\n",
              "      --fill-color: #D2E3FC;\n",
              "      --hover-bg-color: #434B5C;\n",
              "      --hover-fill-color: #FFFFFF;\n",
              "      --disabled-bg-color: #3B4455;\n",
              "      --disabled-fill-color: #666;\n",
              "  }\n",
              "\n",
              "  .colab-df-quickchart {\n",
              "    background-color: var(--bg-color);\n",
              "    border: none;\n",
              "    border-radius: 50%;\n",
              "    cursor: pointer;\n",
              "    display: none;\n",
              "    fill: var(--fill-color);\n",
              "    height: 32px;\n",
              "    padding: 0;\n",
              "    width: 32px;\n",
              "  }\n",
              "\n",
              "  .colab-df-quickchart:hover {\n",
              "    background-color: var(--hover-bg-color);\n",
              "    box-shadow: 0 1px 2px rgba(60, 64, 67, 0.3), 0 1px 3px 1px rgba(60, 64, 67, 0.15);\n",
              "    fill: var(--button-hover-fill-color);\n",
              "  }\n",
              "\n",
              "  .colab-df-quickchart-complete:disabled,\n",
              "  .colab-df-quickchart-complete:disabled:hover {\n",
              "    background-color: var(--disabled-bg-color);\n",
              "    fill: var(--disabled-fill-color);\n",
              "    box-shadow: none;\n",
              "  }\n",
              "\n",
              "  .colab-df-spinner {\n",
              "    border: 2px solid var(--fill-color);\n",
              "    border-color: transparent;\n",
              "    border-bottom-color: var(--fill-color);\n",
              "    animation:\n",
              "      spin 1s steps(1) infinite;\n",
              "  }\n",
              "\n",
              "  @keyframes spin {\n",
              "    0% {\n",
              "      border-color: transparent;\n",
              "      border-bottom-color: var(--fill-color);\n",
              "      border-left-color: var(--fill-color);\n",
              "    }\n",
              "    20% {\n",
              "      border-color: transparent;\n",
              "      border-left-color: var(--fill-color);\n",
              "      border-top-color: var(--fill-color);\n",
              "    }\n",
              "    30% {\n",
              "      border-color: transparent;\n",
              "      border-left-color: var(--fill-color);\n",
              "      border-top-color: var(--fill-color);\n",
              "      border-right-color: var(--fill-color);\n",
              "    }\n",
              "    40% {\n",
              "      border-color: transparent;\n",
              "      border-right-color: var(--fill-color);\n",
              "      border-top-color: var(--fill-color);\n",
              "    }\n",
              "    60% {\n",
              "      border-color: transparent;\n",
              "      border-right-color: var(--fill-color);\n",
              "    }\n",
              "    80% {\n",
              "      border-color: transparent;\n",
              "      border-right-color: var(--fill-color);\n",
              "      border-bottom-color: var(--fill-color);\n",
              "    }\n",
              "    90% {\n",
              "      border-color: transparent;\n",
              "      border-bottom-color: var(--fill-color);\n",
              "    }\n",
              "  }\n",
              "</style>\n",
              "\n",
              "  <script>\n",
              "    async function quickchart(key) {\n",
              "      const quickchartButtonEl =\n",
              "        document.querySelector('#' + key + ' button');\n",
              "      quickchartButtonEl.disabled = true;  // To prevent multiple clicks.\n",
              "      quickchartButtonEl.classList.add('colab-df-spinner');\n",
              "      try {\n",
              "        const charts = await google.colab.kernel.invokeFunction(\n",
              "            'suggestCharts', [key], {});\n",
              "      } catch (error) {\n",
              "        console.error('Error during call to suggestCharts:', error);\n",
              "      }\n",
              "      quickchartButtonEl.classList.remove('colab-df-spinner');\n",
              "      quickchartButtonEl.classList.add('colab-df-quickchart-complete');\n",
              "    }\n",
              "    (() => {\n",
              "      let quickchartButtonEl =\n",
              "        document.querySelector('#df-fd783617-fa48-49f4-a947-7a673074bc33 button');\n",
              "      quickchartButtonEl.style.display =\n",
              "        google.colab.kernel.accessAllowed ? 'block' : 'none';\n",
              "    })();\n",
              "  </script>\n",
              "</div>\n",
              "\n",
              "    </div>\n",
              "  </div>\n"
            ],
            "application/vnd.google.colaboratory.intrinsic+json": {
              "type": "dataframe",
              "summary": "{\n  \"name\": \"ciec[['date', 'fuel_consumption', 'demand']]\",\n  \"rows\": 2296,\n  \"fields\": [\n    {\n      \"column\": \"date\",\n      \"properties\": {\n        \"dtype\": \"date\",\n        \"min\": \"1971-01-04 00:00:00\",\n        \"max\": \"2014-12-29 00:00:00\",\n        \"num_unique_values\": 2296,\n        \"samples\": [\n          \"1999-01-04 00:00:00\",\n          \"2005-10-03 00:00:00\",\n          \"1974-12-30 00:00:00\"\n        ],\n        \"semantic_type\": \"\",\n        \"description\": \"\"\n      }\n    },\n    {\n      \"column\": \"fuel_consumption\",\n      \"properties\": {\n        \"dtype\": \"number\",\n        \"std\": 0.3260198538142779,\n        \"min\": 0.0,\n        \"max\": 1.0000000000000002,\n        \"num_unique_values\": 42,\n        \"samples\": [\n          0.5703275529865126,\n          0.10211946050096343,\n          0.1734104046242777\n        ],\n        \"semantic_type\": \"\",\n        \"description\": \"\"\n      }\n    },\n    {\n      \"column\": \"demand\",\n      \"properties\": {\n        \"dtype\": \"number\",\n        \"std\": 0.8360231209122054,\n        \"min\": -0.361801747592119,\n        \"max\": 2.375773072864988,\n        \"num_unique_values\": 54,\n        \"samples\": [\n          0.0710413391287956,\n          2.1529197488411924,\n          2.375773072864988\n        ],\n        \"semantic_type\": \"\",\n        \"description\": \"\"\n      }\n    }\n  ]\n}"
            }
          },
          "metadata": {},
          "execution_count": 155
        }
      ]
    },
    {
      "cell_type": "code",
      "source": [
        "ciec_df['fuel_consumption'].corr(ciec['demand'])"
      ],
      "metadata": {
        "colab": {
          "base_uri": "https://localhost:8080/"
        },
        "id": "Gp5DhseaK-iE",
        "outputId": "ac26ae2d-e57b-47eb-b45f-f49af46fe819"
      },
      "execution_count": 156,
      "outputs": [
        {
          "output_type": "execute_result",
          "data": {
            "text/plain": [
              "0.9855394883281546"
            ]
          },
          "metadata": {},
          "execution_count": 156
        }
      ]
    },
    {
      "cell_type": "code",
      "source": [],
      "metadata": {
        "id": "2RiNV3-cjfTg"
      },
      "execution_count": null,
      "outputs": []
    }
  ]
}