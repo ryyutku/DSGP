{
  "nbformat": 4,
  "nbformat_minor": 0,
  "metadata": {
    "colab": {
      "provenance": [],
      "authorship_tag": "ABX9TyN+SxvIq2SNy4NiDF/om9n1",
      "include_colab_link": true
    },
    "kernelspec": {
      "name": "python3",
      "display_name": "Python 3"
    },
    "language_info": {
      "name": "python"
    }
  },
  "cells": [
    {
      "cell_type": "markdown",
      "metadata": {
        "id": "view-in-github",
        "colab_type": "text"
      },
      "source": [
        "<a href=\"https://colab.research.google.com/github/ryyutku/DSGP/blob/anuk/Modelling/Model%201/Demand_forecast_model.ipynb\" target=\"_parent\"><img src=\"https://colab.research.google.com/assets/colab-badge.svg\" alt=\"Open In Colab\"/></a>"
      ]
    },
    {
      "cell_type": "code",
      "source": [
        "import pandas as pd\n",
        "import numpy as np\n",
        "import matplotlib.pyplot as plt\n",
        "from sklearn.linear_model import LinearRegression\n",
        "from numpy.polynomial.polynomial import Polynomial\n",
        "from scipy.interpolate import UnivariateSpline\n"
      ],
      "metadata": {
        "id": "AZokqP6F3RpI"
      },
      "execution_count": 45,
      "outputs": []
    },
    {
      "cell_type": "code",
      "source": [
        "files = [\"Avg_Daily_Sales_Litres_ceypetco.csv\",\"Avg_Daily_Sales_MT_ceypetco.csv\",\"ciec_dataset_edited.csv\",\"GDP_historical_data.csv\",\"Import_Data_WITS.csv\",\"Population_colombo.csv\",\"Sales_IOC.csv\",\"Transport_Report_Tables.csv\" ]"
      ],
      "metadata": {
        "id": "2DrAIJJgpiAe"
      },
      "execution_count": 7,
      "outputs": []
    },
    {
      "cell_type": "code",
      "source": [
        "ceypetco_sales_l_df = pd.read_csv(files[0]) # int64\n",
        "ceypetco_sales_m_df = pd.read_csv(files[1]) # int64\n",
        "ciec_df = pd.read_csv(files[2]) # float64\n",
        "gdp_df = pd.read_csv(files[3]) # converted to float64\n",
        "import_df = pd.read_csv(files[4]) # contains float64, int64 for years, object for the partner names and countries\n",
        "population_df = pd.read_csv(files[5]) # converted float64\n",
        "ioc_sales_df = pd.read_csv(files[6]) # converted to float64\n",
        "transport_df = pd.read_csv(files[7]) # converted to float64\n"
      ],
      "metadata": {
        "id": "I0RaI_lYqsfC"
      },
      "execution_count": 8,
      "outputs": []
    },
    {
      "cell_type": "code",
      "source": [
        "# Converting the ioc_sales data into float\n",
        "ioc_sales_df = ioc_sales_df.replace({r'[\\n,]': ''}, regex=True)\n",
        "ioc_sales_df = ioc_sales_df.astype(float)"
      ],
      "metadata": {
        "id": "c4LPoMBUr0AO"
      },
      "execution_count": 9,
      "outputs": []
    },
    {
      "cell_type": "code",
      "source": [
        "# Converting the gdp historical data into float\n",
        "gdp_df = gdp_df.replace({r'[$%B,]':''},regex=True)\n",
        "gdp_df = gdp_df.replace('',np.nan)\n",
        "gdp_df = gdp_df.astype(float)"
      ],
      "metadata": {
        "id": "6qWfNVE8uoo5"
      },
      "execution_count": 10,
      "outputs": []
    },
    {
      "cell_type": "code",
      "source": [
        "# converting the population df to float\n",
        "population_df = population_df.replace({r'[,%]':''},regex=True)\n",
        "population_df = population_df.replace('',np.nan)\n",
        "population_df = population_df.astype(float)"
      ],
      "metadata": {
        "id": "-hslLy4xwHOR"
      },
      "execution_count": 11,
      "outputs": []
    },
    {
      "cell_type": "code",
      "source": [
        "# converting the transport df to float\n",
        "transport_df_str = transport_df.iloc[:,0:2]\n",
        "transport_df_n = transport_df.iloc[:, 2:].replace({r'[,%]':''},regex=True)\n",
        "transport_df_n = transport_df_n.astype(float)\n",
        "transport_df = transport_df_str.join(transport_df_n)"
      ],
      "metadata": {
        "id": "uA4TwGw2w4jc"
      },
      "execution_count": 12,
      "outputs": []
    },
    {
      "cell_type": "code",
      "source": [
        "ciec_df['date'] = pd.to_datetime((ciec_df['date']))"
      ],
      "metadata": {
        "id": "1Rjm5BlTQm4U"
      },
      "execution_count": 13,
      "outputs": []
    },
    {
      "cell_type": "code",
      "source": [
        "ciec_df.columns"
      ],
      "metadata": {
        "colab": {
          "base_uri": "https://localhost:8080/"
        },
        "id": "3uLh_pu2lUyD",
        "outputId": "2a16300e-f766-4799-a421-8044690dab51"
      },
      "execution_count": 69,
      "outputs": [
        {
          "output_type": "execute_result",
          "data": {
            "text/plain": [
              "Index(['date', 'fuel_consumption', 'petroleum_imports', 'tax_custom_import',\n",
              "       'foreign_direct_investments', 'GDP_goods_services', 'GDP_gross_income',\n",
              "       'government_debt', 'new_vehicle_registration', 'vehicle_sales',\n",
              "       'port_stay_duration', 'vehicle_sales_asia_sl', 'num_vessels_colombo',\n",
              "       'imports_refined_products', 'colombo_port_calls', 'tax_income_profit',\n",
              "       'tax_export', 'tax_goods_services', 'tax_road_transport',\n",
              "       'GDP_fce_households', 'diesel_user_price', 'petrol_user_price',\n",
              "       'consumption_oil', 'sales_90_octane', 'sales_95_octane',\n",
              "       'sales_auto_diesel', 'household_income', 'fuel_other_manufacture',\n",
              "       'demand'],\n",
              "      dtype='object')"
            ]
          },
          "metadata": {},
          "execution_count": 69
        }
      ]
    },
    {
      "cell_type": "markdown",
      "source": [
        "## **Checking the data**"
      ],
      "metadata": {
        "id": "mHX0NEgmW2xl"
      }
    },
    {
      "cell_type": "markdown",
      "source": [
        "As the data has a lot of null values for certain periods of time it is necessary to fill them using certain interpolation techniques. The below are methods to check to see which method fits for each of the columns"
      ],
      "metadata": {
        "id": "XZLNTJGPd6ZF"
      }
    },
    {
      "cell_type": "code",
      "source": [
        "\n",
        "def find_best_interpolation(df, date_col='date'):\n",
        "    interpolation_methods = {}\n",
        "\n",
        "    for col in df.columns:\n",
        "        if col == date_col:\n",
        "            continue\n",
        "\n",
        "        df_clean = df[[date_col, col]].dropna()\n",
        "        if df_clean.empty:\n",
        "            interpolation_methods[col] = 'skip'\n",
        "            continue\n",
        "\n",
        "        df_clean[date_col] = df_clean[date_col].astype('int64')\n",
        "        X = df_clean[date_col].values.reshape(-1, 1)\n",
        "        y = df_clean[col].values\n",
        "\n",
        "        # 1. Check for Linear Trend\n",
        "        lin_model = LinearRegression()\n",
        "        lin_model.fit(X, y)\n",
        "        r2_score = lin_model.score(X, y)\n",
        "\n",
        "        # 2. Check for Polynomial Trend (Degree 2)\n",
        "        poly_model = Polynomial.fit(X.flatten(), y, 2)  # Degree 2 for polynomial\n",
        "        y_poly_pred = poly_model(X.flatten())\n",
        "        poly_error = np.mean((y - y_poly_pred) ** 2)\n",
        "\n",
        "        # 3. Check for Spline Fit\n",
        "        try:\n",
        "            spline_model = UnivariateSpline(X.flatten(), y, s=1, k=3)  # Degree 3 cubic spline\n",
        "            y_spline_pred = spline_model(X.flatten())\n",
        "            spline_error = np.mean((y - y_spline_pred) ** 2)\n",
        "        except Exception:\n",
        "            spline_error = float('inf')  # If spline fails, assign high error\n",
        "\n",
        "        # 4. Check for Step-like Changes (Nearest)\n",
        "        diff_vals = np.abs(df_clean[col].diff()).median()\n",
        "        if diff_vals > (df_clean[col].std() * 0.5):\n",
        "            best_method = 'nearest'\n",
        "        elif r2_score > 0.9:\n",
        "            best_method = 'linear'\n",
        "        elif poly_error < spline_error:\n",
        "            best_method = 'polynomial'\n",
        "        else:\n",
        "            best_method = 'spline'\n",
        "\n",
        "        interpolation_methods[col] = best_method\n",
        "\n",
        "    return interpolation_methods\n"
      ],
      "metadata": {
        "id": "MALLuK5gbCxd"
      },
      "execution_count": 57,
      "outputs": []
    },
    {
      "cell_type": "code",
      "source": [
        "best_methods = find_best_interpolation(ciec_df, date_col='date')\n",
        "print(best_methods)"
      ],
      "metadata": {
        "colab": {
          "base_uri": "https://localhost:8080/"
        },
        "id": "dhIlLD4zhF50",
        "outputId": "e0118dc5-5d93-4dbe-8d48-6845dea3d80f"
      },
      "execution_count": 59,
      "outputs": [
        {
          "output_type": "stream",
          "name": "stdout",
          "text": [
            "{'fuel_consumption': 'spline', 'petroleum_imports': 'spline', 'tax_custom_import': 'spline', 'foreign_direct_investments': 'spline', 'GDP_goods_services': 'spline', 'GDP_gross_income': 'spline', 'government_debt': 'spline', 'new_vehicle_registration': 'spline', 'vehicle_sales': 'spline', 'port_stay_duration': 'spline', 'vehicle_sales_asia_sl': 'spline', 'num_vessels_colombo': 'spline', 'imports_refined_products': 'spline', 'colombo_port_calls': 'nearest', 'tax_income_profit': 'spline', 'tax_export': 'spline', 'tax_goods_services': 'spline', 'tax_road_transport': 'spline', 'GDP_fce_households': 'spline', 'diesel_user_price': 'spline', 'petrol_user_price': 'spline', 'consumption_oil': 'spline', 'sales_90_octane': 'linear', 'sales_95_octane': 'spline', 'sales_auto_diesel': 'spline', 'household_income': 'linear', 'fuel_other_manufacture': 'spline', 'demand': 'spline'}\n"
          ]
        }
      ]
    },
    {
      "cell_type": "code",
      "source": [
        "lin_int = {'fuel_consumption': 'spline', 'petroleum_imports': 'spline', 'tax_custom_import': 'spline',\n",
        "           'foreign_direct_investments': 'spline', 'GDP_goods_services': 'spline', 'GDP_gross_income': 'spline',\n",
        "           'government_debt': 'spline', 'new_vehicle_registration': 'spline', 'vehicle_sales': 'spline',\n",
        "           'port_stay_duration': 'spline', 'vehicle_sales_asia_sl': 'spline', 'num_vessels_colombo': 'spline',\n",
        "           'imports_refined_products': 'spline', 'colombo_port_calls': 'nearest', 'tax_income_profit': 'spline', 'tax_export': 'spline',\n",
        "           'tax_goods_services': 'spline', 'tax_road_transport': 'spline', 'GDP_fce_households': 'spline', 'diesel_user_price': 'spline',\n",
        "           'petrol_user_price': 'spline', 'consumption_oil': 'spline', 'sales_90_octane': 'linear', 'sales_95_octane': 'spline',\n",
        "           'sales_auto_diesel': 'spline', 'household_income': 'linear', 'fuel_other_manufacture': 'spline', 'demand': 'spline'}"
      ],
      "metadata": {
        "id": "_kj2oLIIf7Sy"
      },
      "execution_count": 52,
      "outputs": []
    },
    {
      "cell_type": "code",
      "source": [
        "for col, method in best_methods.items():\n",
        "    if method != 'skip':\n",
        "        if method == 'spline':\n",
        "            ciec_df[col] = ciec_df[col].interpolate(method='spline', order=3)  # Cubic Spline\n",
        "        elif method == 'polynomial':\n",
        "            ciec_df[col] = ciec_df[col].interpolate(method='polynomial', order=2)  # Degree 2 Polynomial\n",
        "        else:\n",
        "            ciec_df[col] = ciec_df[col].interpolate(method=method)\n"
      ],
      "metadata": {
        "id": "fzxFupUkgeQT"
      },
      "execution_count": 60,
      "outputs": []
    },
    {
      "cell_type": "code",
      "source": [
        "missing_percentage = ciec_df.isna().sum() / len(ciec_df) * 100\n",
        "print(missing_percentage)\n"
      ],
      "metadata": {
        "colab": {
          "base_uri": "https://localhost:8080/"
        },
        "id": "DRQRBVYlbCol",
        "outputId": "2843b012-6eba-45bd-9554-111d3173c667"
      },
      "execution_count": 66,
      "outputs": [
        {
          "output_type": "stream",
          "name": "stdout",
          "text": [
            "date                           0.000000\n",
            "fuel_consumption               0.000000\n",
            "petroleum_imports             37.021277\n",
            "tax_custom_import             35.141844\n",
            "foreign_direct_investments    57.375887\n",
            "GDP_goods_services            72.163121\n",
            "GDP_gross_income              72.163121\n",
            "government_debt               79.574468\n",
            "new_vehicle_registration      22.198582\n",
            "vehicle_sales                 62.907801\n",
            "port_stay_duration            94.361702\n",
            "vehicle_sales_asia_sl         62.907801\n",
            "num_vessels_colombo           49.964539\n",
            "imports_refined_products      37.021277\n",
            "colombo_port_calls            94.503546\n",
            "tax_income_profit             35.141844\n",
            "tax_export                    35.141844\n",
            "tax_goods_services            35.141844\n",
            "tax_road_transport            64.751773\n",
            "GDP_fce_households            72.163121\n",
            "diesel_user_price             35.141844\n",
            "petrol_user_price             35.141844\n",
            "consumption_oil                0.000000\n",
            "sales_90_octane               37.021277\n",
            "sales_95_octane               51.808511\n",
            "sales_auto_diesel             25.921986\n",
            "household_income              17.588652\n",
            "fuel_other_manufacture        79.574468\n",
            "demand                         0.000000\n",
            "dtype: float64\n"
          ]
        }
      ]
    },
    {
      "cell_type": "code",
      "source": [],
      "metadata": {
        "id": "zeLzDRy3bCm9"
      },
      "execution_count": null,
      "outputs": []
    },
    {
      "cell_type": "markdown",
      "source": [
        "## **Preprocessing and data cleaning**"
      ],
      "metadata": {
        "id": "pqP79Bjb3h4C"
      }
    },
    {
      "cell_type": "code",
      "source": [],
      "metadata": {
        "id": "0oXsOJrZX1Dm"
      },
      "execution_count": null,
      "outputs": []
    },
    {
      "cell_type": "code",
      "source": [],
      "metadata": {
        "id": "XU0jXQLaX1CE"
      },
      "execution_count": null,
      "outputs": []
    },
    {
      "cell_type": "markdown",
      "source": [
        "## **Models**"
      ],
      "metadata": {
        "id": "Ok00O5Pwk9-J"
      }
    },
    {
      "cell_type": "code",
      "source": [
        "from sklearn.model_selection import train_test_split\n",
        "from sklearn.preprocessing import MinMaxScaler\n",
        "from statsmodels.tsa.arima.model import ARIMA\n",
        "from statsmodels.tsa.statespace.sarimax import SARIMAX\n",
        "from sklearn.ensemble import RandomForestRegressor\n",
        "from sklearn.metrics import mean_absolute_error, mean_squared_error\n"
      ],
      "metadata": {
        "id": "HNR2JHkuk_nw"
      },
      "execution_count": 71,
      "outputs": []
    },
    {
      "cell_type": "code",
      "source": [
        "ciec_df['date'] = pd.to_datetime(ciec_df['date'])"
      ],
      "metadata": {
        "id": "7scgmHg8lBBA"
      },
      "execution_count": 68,
      "outputs": []
    },
    {
      "cell_type": "code",
      "source": [
        "rf_model = RandomForestRegressor()"
      ],
      "metadata": {
        "id": "as6UpJc_mObc"
      },
      "execution_count": 78,
      "outputs": []
    },
    {
      "cell_type": "code",
      "source": [
        "# Select features and target variable\n",
        "X = ciec_df.drop(columns=['demand'])\n",
        "y = ciec_df['demand']\n",
        "\n",
        "\n",
        "# Split the data into training and testing sets\n",
        "X_train, X_test, y_train, y_test = train_test_split(X, y, test_size=0.2, shuffle=False)\n",
        "\n",
        "# Step 2: Train ARIMA model (for time-series forecasting)\n",
        "arima_model = ARIMA(y_train, order=(5, 1, 0))  # Adjust order for ARIMA as needed\n",
        "arima_model_fit = arima_model.fit()\n",
        "\n",
        "# Step 3: Train SARIMA model (for seasonal time-series forecasting)\n",
        "sarima_model = SARIMAX(y_train, order=(5, 1, 0), seasonal_order=(1, 1, 0, 12))  # Adjust parameters\n",
        "sarima_model_fit = sarima_model.fit()\n",
        "\n",
        "# # Step 4: Train Random Forest model (for machine learning approach)\n",
        "# rf_model = RandomForestRegressor(n_estimators=100, random_state=42)\n",
        "# rf_model.fit(X_train, y_train)\n",
        "\n",
        "# Step 5: Make predictions\n",
        "y_pred_arima = arima_model_fit.forecast(len(y_test))\n",
        "y_pred_sarima = sarima_model_fit.forecast(len(y_test))\n",
        "# y_pred_rf = rf_model.predict(X_test)\n",
        "\n",
        "# Step 6: Evaluate models using Mean Absolute Error (MAE) and Mean Squared Error (MSE)\n",
        "mae_arima = mean_absolute_error(y_test, y_pred_arima)\n",
        "mse_arima = mean_squared_error(y_test, y_pred_arima)\n",
        "\n",
        "mae_sarima = mean_absolute_error(y_test, y_pred_sarima)\n",
        "mse_sarima = mean_squared_error(y_test, y_pred_sarima)\n",
        "\n",
        "# mae_rf = mean_absolute_error(y_test, y_pred_rf)\n",
        "# mse_rf = mean_squared_error(y_test, y_pred_rf)"
      ],
      "metadata": {
        "colab": {
          "base_uri": "https://localhost:8080/"
        },
        "id": "UzhbQo5vlGZE",
        "outputId": "633f0f6f-8c6f-4605-8360-6f4152771ab2"
      },
      "execution_count": 81,
      "outputs": [
        {
          "output_type": "stream",
          "name": "stderr",
          "text": [
            "/usr/local/lib/python3.11/dist-packages/statsmodels/base/model.py:607: ConvergenceWarning: Maximum Likelihood optimization failed to converge. Check mle_retvals\n",
            "  warnings.warn(\"Maximum Likelihood optimization failed to \"\n"
          ]
        }
      ]
    },
    {
      "cell_type": "code",
      "source": [
        "# Step 7: Print evaluation metrics\n",
        "print(f'ARIMA - MAE: {mae_arima}, MSE: {mse_arima}')\n",
        "print(f'SARIMA - MAE: {mae_sarima}, MSE: {mse_sarima}')\n",
        "# print(f'Random Forest - MAE: {mae_rf}, MSE: {mse_rf}')\n"
      ],
      "metadata": {
        "colab": {
          "base_uri": "https://localhost:8080/"
        },
        "id": "tdIm8Cg6l3fZ",
        "outputId": "acb9b862-c35b-49ec-d883-6b06cba6b25e"
      },
      "execution_count": 82,
      "outputs": [
        {
          "output_type": "stream",
          "name": "stdout",
          "text": [
            "ARIMA - MAE: 1.3247835828844736, MSE: 2.1656186206378125\n",
            "SARIMA - MAE: 9.024781912083869, MSE: 106.16656316306937\n"
          ]
        }
      ]
    },
    {
      "cell_type": "code",
      "source": [
        "r2_score(y_test, y_pred_arima)"
      ],
      "metadata": {
        "colab": {
          "base_uri": "https://localhost:8080/"
        },
        "id": "xFI61sE9oJVs",
        "outputId": "bf81b34f-0cf0-4a1d-fde1-c3261c34dccf"
      },
      "execution_count": 87,
      "outputs": [
        {
          "output_type": "execute_result",
          "data": {
            "text/plain": [
              "-4.274701091673681"
            ]
          },
          "metadata": {},
          "execution_count": 87
        }
      ]
    },
    {
      "cell_type": "code",
      "source": [
        "# Step 8: Plot the predictions for visual comparison\n",
        "plt.figure(figsize=(12, 6))\n",
        "plt.plot(y_test.index, y_test, label='Actual Demand', color='blue')\n",
        "plt.plot(y_test.index, y_pred_arima, label='ARIMA Prediction', color='red')\n",
        "plt.plot(y_test.index, y_pred_sarima, label='SARIMA Prediction', color='green')\n",
        "# plt.plot(y_test.index, y_pred_rf, label='Random Forest Prediction', color='purple')\n",
        "plt.legend()\n",
        "plt.title('Demand Forecasting: Actual vs Predicted')\n",
        "plt.xlabel('Date')\n",
        "plt.ylabel('Demand')\n",
        "plt.show()"
      ],
      "metadata": {
        "colab": {
          "base_uri": "https://localhost:8080/",
          "height": 564
        },
        "id": "7pEd6HEUmJNy",
        "outputId": "bf0a0b53-3bef-4ea2-f143-9f6e6df15677"
      },
      "execution_count": 83,
      "outputs": [
        {
          "output_type": "display_data",
          "data": {
            "text/plain": [
              "<Figure size 1200x600 with 1 Axes>"
            ],
            "image/png": "[encoded data removed]"
          },
          "metadata": {}
        }
      ]
    },
    {
      "cell_type": "code",
      "source": [
        "print(arima_model_fit.summary())"
      ],
      "metadata": {
        "colab": {
          "base_uri": "https://localhost:8080/"
        },
        "id": "RN9q0wNXmUJJ",
        "outputId": "625a1276-885e-46ae-d1e4-89d1a5e57624"
      },
      "execution_count": 85,
      "outputs": [
        {
          "output_type": "stream",
          "name": "stdout",
          "text": [
            "                               SARIMAX Results                                \n",
            "==============================================================================\n",
            "Dep. Variable:                 demand   No. Observations:                 2256\n",
            "Model:                 ARIMA(5, 1, 0)   Log Likelihood                5004.122\n",
            "Date:                Fri, 31 Jan 2025   AIC                          -9996.243\n",
            "Time:                        23:06:17   BIC                          -9961.918\n",
            "Sample:                             0   HQIC                         -9983.716\n",
            "                               - 2256                                         \n",
            "Covariance Type:                  opg                                         \n",
            "==============================================================================\n",
            "                 coef    std err          z      P>|z|      [0.025      0.975]\n",
            "------------------------------------------------------------------------------\n",
            "ar.L1         -0.0790      0.011     -7.369      0.000      -0.100      -0.058\n",
            "ar.L2         -0.0062      0.096     -0.065      0.948      -0.195       0.182\n",
            "ar.L3         -0.0005      1.218     -0.000      1.000      -2.388       2.387\n",
            "ar.L4      -3.892e-05     15.414  -2.52e-06      1.000     -30.211      30.211\n",
            "ar.L5      -3.053e-06      0.033  -9.34e-05      1.000      -0.064       0.064\n",
            "sigma2         0.0007   2.45e-06    282.139      0.000       0.001       0.001\n",
            "===================================================================================\n",
            "Ljung-Box (L1) (Q):                   0.01   Jarque-Bera (JB):           2341518.34\n",
            "Prob(Q):                              0.94   Prob(JB):                         0.00\n",
            "Heteroskedasticity (H):               5.00   Skew:                             2.63\n",
            "Prob(H) (two-sided):                  0.00   Kurtosis:                       160.78\n",
            "===================================================================================\n",
            "\n",
            "Warnings:\n",
            "[1] Covariance matrix calculated using the outer product of gradients (complex-step).\n",
            "[2] Covariance matrix is singular or near-singular, with condition number 1.05e+21. Standard errors may be unstable.\n"
          ]
        }
      ]
    },
    {
      "cell_type": "code",
      "source": [],
      "metadata": {
        "id": "wFSyM7O7n1r0"
      },
      "execution_count": null,
      "outputs": []
    }
  ]
}