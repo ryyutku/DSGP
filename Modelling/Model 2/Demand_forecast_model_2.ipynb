{
  "nbformat": 4,
  "nbformat_minor": 0,
  "metadata": {
    "colab": {
      "provenance": [],
      "authorship_tag": "ABX9TyMcm8lhhrycoFm3LgT/kvAS",
      "include_colab_link": true
    },
    "kernelspec": {
      "name": "python3",
      "display_name": "Python 3"
    },
    "language_info": {
      "name": "python"
    }
  },
  "cells": [
    {
      "cell_type": "markdown",
      "metadata": {
        "id": "view-in-github",
        "colab_type": "text"
      },
      "source": [
        "<a href=\"https://colab.research.google.com/github/ryyutku/DSGP/blob/anuk/Modelling/Model%202/Demand_forecast_model_2.ipynb\" target=\"_parent\"><img src=\"https://colab.research.google.com/assets/colab-badge.svg\" alt=\"Open In Colab\"/></a>"
      ]
    },
    {
      "cell_type": "code",
      "execution_count": 1,
      "metadata": {
        "id": "w4Ts2_ucp3t1"
      },
      "outputs": [],
      "source": [
        "import pandas as pd\n",
        "import numpy as np\n",
        "from sklearn.preprocessing import MinMaxScaler"
      ]
    },
    {
      "cell_type": "code",
      "source": [
        "files = [\"Avg_Daily_Sales_Litres_ceypetco.csv\",\"Avg_Daily_Sales_MT_ceypetco.csv\",\"CIEC Data.csv\",\"GDP_historical_data.csv\",\"Import_Data_WITS.csv\",\"Population_colombo.csv\",\"Sales_IOC.csv\",\"Transport_Report_Tables.csv\" ]"
      ],
      "metadata": {
        "id": "-C_uhDArmdrX"
      },
      "execution_count": 2,
      "outputs": []
    },
    {
      "cell_type": "code",
      "source": [
        "ceypetco_sales_l_df = pd.read_csv(files[0]) # int64\n",
        "ceypetco_sales_m_df = pd.read_csv(files[1]) # int64\n",
        "ciec_df = pd.read_csv(files[2]) # float64\n",
        "gdp_df = pd.read_csv(files[3]) # converted to float64\n",
        "import_df = pd.read_csv(files[4]) # contains float64, int64 for years, object for the partner names and countries\n",
        "population_df = pd.read_csv(files[5]) # converted float64\n",
        "ioc_sales_df = pd.read_csv(files[6]) # converted to float64\n",
        "transport_df = pd.read_csv(files[7]) # converted to float64"
      ],
      "metadata": {
        "id": "blpO1CoMmx2e"
      },
      "execution_count": 3,
      "outputs": []
    },
    {
      "cell_type": "code",
      "source": [
        "# Converting the ioc_sales data into float\n",
        "ioc_sales_df = ioc_sales_df.replace({r'[\\n,]': ''}, regex=True)\n",
        "ioc_sales_df = ioc_sales_df.astype(float)"
      ],
      "metadata": {
        "id": "c4LPoMBUr0AO"
      },
      "execution_count": 4,
      "outputs": []
    },
    {
      "cell_type": "code",
      "source": [
        "# Converting the gdp historical data into float\n",
        "gdp_df = gdp_df.replace({r'[$%B,]':''},regex=True)\n",
        "gdp_df = gdp_df.replace('',np.nan)\n",
        "gdp_df = gdp_df.astype(float)"
      ],
      "metadata": {
        "id": "6qWfNVE8uoo5"
      },
      "execution_count": 5,
      "outputs": []
    },
    {
      "cell_type": "code",
      "source": [
        "# converting the population df to float\n",
        "population_df = population_df.replace({r'[,%]':''},regex=True)\n",
        "population_df = population_df.replace('',np.nan)\n",
        "population_df = population_df.astype(float)"
      ],
      "metadata": {
        "id": "-hslLy4xwHOR"
      },
      "execution_count": 6,
      "outputs": []
    },
    {
      "cell_type": "code",
      "source": [
        "# converting the transport df to float\n",
        "transport_df_str = transport_df.iloc[:,0:2]\n",
        "transport_df_n = transport_df.iloc[:, 2:].replace({r'[,%]':''},regex=True)\n",
        "transport_df_n = transport_df_n.astype(float)\n",
        "transport_df = transport_df_str.join(transport_df_n)"
      ],
      "metadata": {
        "id": "uA4TwGw2w4jc"
      },
      "execution_count": 7,
      "outputs": []
    },
    {
      "cell_type": "code",
      "source": [
        "ciec_df['date'] = pd.to_datetime((ciec_df['date']))"
      ],
      "metadata": {
        "id": "1Rjm5BlTQm4U"
      },
      "execution_count": 8,
      "outputs": []
    },
    {
      "cell_type": "code",
      "source": [
        "ciec_df.columns"
      ],
      "metadata": {
        "colab": {
          "base_uri": "https://localhost:8080/"
        },
        "id": "djkoxXXXnBhv",
        "outputId": "76333f23-a5dd-4900-9a2e-a75adc0c0c76"
      },
      "execution_count": 9,
      "outputs": [
        {
          "output_type": "execute_result",
          "data": {
            "text/plain": [
              "Index(['date', 'fuel_consumption', 'petroleum_imports_crudeOil',\n",
              "       'Taxes_on_Customs_and_Other_Import Duties ',\n",
              "       'Foreign Direct Investments', 'GDP Goods and Services',\n",
              "       'GDP: Gross National Income', 'Government Debt',\n",
              "       'New Vehicle Registrations', 'Vehicle Sales', 'Port Stay Duration',\n",
              "       'Vehicle Sales Asia', 'No.of Vessels Colombo',\n",
              "       'Imports of Refined Products', 'Colombo port calls',\n",
              "       'Tax income profits_gains', 'Tax on Export', 'Tax Goods & Services',\n",
              "       'Tax Road Transport', 'GDP FCE Households', 'Diesel User Price',\n",
              "       'Petrol User Price', 'Consumption_Oil', 'Sales 90 Octane',\n",
              "       'Sales 95 Octane', 'Sales Auto Diesel', 'Household_income',\n",
              "       'Fuel_other_manufacture'],\n",
              "      dtype='object')"
            ]
          },
          "metadata": {},
          "execution_count": 9
        }
      ]
    },
    {
      "cell_type": "code",
      "source": [
        "ciec_df_cols = ['date', 'fuel_consumption', 'petroleum_imports_crudeOil',\n",
        "       'Taxes_on_Customs_and_Other_Import Duties ',\n",
        "       'Foreign Direct Investments', 'GDP Goods and Services',\n",
        "       'GDP: Gross National Income', 'Government Debt',\n",
        "       'New Vehicle Registrations', 'Vehicle Sales', 'Port Stay Duration',\n",
        "       'Vehicle Sales Asia', 'No.of Vessels Colombo',\n",
        "       'Imports of Refined Products', 'Colombo port calls',\n",
        "       'Tax income profits_gains', 'Tax on Export', 'Tax Goods & Services',\n",
        "       'Tax Road Transport', 'GDP FCE Households', 'Diesel User Price',\n",
        "       'Petrol User Price', 'Consumption_Oil', 'Sales 90 Octane',\n",
        "       'Sales 95 Octane', 'Sales Auto Diesel', 'Household_income',\n",
        "       'Fuel_other_manufacture']"
      ],
      "metadata": {
        "id": "uTO9F0Y6nFS9"
      },
      "execution_count": 10,
      "outputs": []
    },
    {
      "cell_type": "markdown",
      "source": [
        "## **Checking the relationships of the columns to see how they must be interpolated**"
      ],
      "metadata": {
        "id": "W9yq6fmGoBZt"
      }
    },
    {
      "cell_type": "markdown",
      "source": [
        "Checking how the columns are related to other columns, For forecasting the null values"
      ],
      "metadata": {
        "id": "6PYfcrfvrTGJ"
      }
    },
    {
      "cell_type": "code",
      "source": [
        "def calculate_category_correlation(df,feature1, feature2):\n",
        "    # Drop rows where 'feature1' is NaN\n",
        "    df_valid_feature1 = df.dropna(subset=[feature1])\n",
        "\n",
        "    # Drop rows where 'feature2' are NaN\n",
        "    df_valid_feature2 = df.dropna(subset=[feature2], how='all')\n",
        "\n",
        "    # Find the overlapping date range where both 'feature1' and the 'feature2' exist\n",
        "    start_date = max(df_valid_feature1['date'].min(), df_valid_feature2['date'].min())\n",
        "    end_date = min(df_valid_feature1['date'].max(), df_valid_feature2['date'].max())\n",
        "\n",
        "    # Filter data to include only the overlapping date range\n",
        "    df_filtered = df[(df['date'] >= start_date) & (df['date'] <= end_date)]\n",
        "\n",
        "    # Compute correlation between 'fuel_consumption' and the aggregated category\n",
        "    correlation = df_filtered[[feature1, feature2]].corr().iloc[0, 1]\n",
        "\n",
        "    return correlation"
      ],
      "metadata": {
        "id": "0BhokyGioOZ_"
      },
      "execution_count": 14,
      "outputs": []
    },
    {
      "cell_type": "code",
      "source": [
        "def find_strong_correlations(df, columns, threshold=0.8):\n",
        "  strong_correlations = {}\n",
        "  for i in columns:\n",
        "    for j in columns:\n",
        "      if i != j:\n",
        "        correlation = calculate_category_correlation(df, i, j)\n",
        "        if abs(correlation) >= threshold:\n",
        "          if i not in strong_correlations:\n",
        "            strong_correlations[i] = []\n",
        "          strong_correlations[i].append((j,correlation))\n",
        "\n",
        "\n",
        "  if strong_correlations:\n",
        "    print(\"THE STRONG CORRELATIONS\")\n",
        "    for feature, related_features  in strong_correlations.items():\n",
        "      for related_feature, corr in related_features:\n",
        "        print(f\"{feature} and {related_feature} have a correlation of {corr:.2f}\")\n",
        "  else:\n",
        "    print(\"NO STRONG CORRELATIONS\")\n",
        "\n",
        "  return strong_correlations\n"
      ],
      "metadata": {
        "id": "ekmyZNRSxJqB"
      },
      "execution_count": 18,
      "outputs": []
    },
    {
      "cell_type": "code",
      "source": [
        "strong_correlations = find_strong_correlations(ciec_df,ciec_df_cols)"
      ],
      "metadata": {
        "colab": {
          "base_uri": "https://localhost:8080/"
        },
        "id": "RqigDCpZywuq",
        "outputId": "b6982691-7ad8-4601-8527-371705eeab67"
      },
      "execution_count": 19,
      "outputs": [
        {
          "output_type": "stream",
          "name": "stdout",
          "text": [
            "THE STRONG CORRELATIONS\n",
            "date and fuel_consumption have a correlation of 0.87\n",
            "date and GDP Goods and Services have a correlation of 0.91\n",
            "date and GDP: Gross National Income have a correlation of 0.93\n",
            "date and Government Debt have a correlation of 0.94\n",
            "date and Imports of Refined Products have a correlation of 0.88\n",
            "date and Tax income profits_gains have a correlation of 0.81\n",
            "date and Tax Goods & Services have a correlation of -0.93\n",
            "date and GDP FCE Households have a correlation of 0.89\n",
            "date and Petrol User Price have a correlation of -0.87\n",
            "date and Consumption_Oil have a correlation of 0.94\n",
            "date and Sales 90 Octane have a correlation of 0.96\n",
            "date and Sales 95 Octane have a correlation of 0.83\n",
            "date and Sales Auto Diesel have a correlation of 0.88\n",
            "date and Household_income have a correlation of 0.95\n",
            "fuel_consumption and date have a correlation of 0.87\n",
            "fuel_consumption and Vehicle Sales have a correlation of 0.83\n",
            "fuel_consumption and Petrol User Price have a correlation of -0.84\n",
            "fuel_consumption and Consumption_Oil have a correlation of 0.96\n",
            "fuel_consumption and Sales Auto Diesel have a correlation of 0.96\n",
            "petroleum_imports_crudeOil and Diesel User Price have a correlation of 0.81\n",
            "GDP Goods and Services and date have a correlation of 0.91\n",
            "GDP Goods and Services and GDP: Gross National Income have a correlation of 0.96\n",
            "GDP Goods and Services and Government Debt have a correlation of 0.93\n",
            "GDP Goods and Services and Tax income profits_gains have a correlation of 0.87\n",
            "GDP Goods and Services and GDP FCE Households have a correlation of 0.95\n",
            "GDP Goods and Services and Fuel_other_manufacture have a correlation of 0.87\n",
            "GDP: Gross National Income and date have a correlation of 0.93\n",
            "GDP: Gross National Income and GDP Goods and Services have a correlation of 0.96\n",
            "GDP: Gross National Income and Government Debt have a correlation of 0.97\n",
            "GDP: Gross National Income and Tax income profits_gains have a correlation of 0.90\n",
            "GDP: Gross National Income and GDP FCE Households have a correlation of 0.99\n",
            "GDP: Gross National Income and Sales 90 Octane have a correlation of 0.80\n",
            "GDP: Gross National Income and Fuel_other_manufacture have a correlation of 0.86\n",
            "Government Debt and date have a correlation of 0.94\n",
            "Government Debt and GDP Goods and Services have a correlation of 0.93\n",
            "Government Debt and GDP: Gross National Income have a correlation of 0.97\n",
            "Government Debt and New Vehicle Registrations have a correlation of -0.82\n",
            "Government Debt and Tax income profits_gains have a correlation of 0.86\n",
            "Government Debt and Tax Road Transport have a correlation of -0.91\n",
            "Government Debt and GDP FCE Households have a correlation of 0.96\n",
            "Government Debt and Sales Auto Diesel have a correlation of -0.82\n",
            "Government Debt and Fuel_other_manufacture have a correlation of 0.87\n",
            "New Vehicle Registrations and Government Debt have a correlation of -0.82\n",
            "Vehicle Sales and fuel_consumption have a correlation of 0.83\n",
            "Vehicle Sales and Vehicle Sales Asia have a correlation of 0.91\n",
            "Vehicle Sales and Tax on Export have a correlation of -0.88\n",
            "Vehicle Sales Asia and Vehicle Sales have a correlation of 0.91\n",
            "Imports of Refined Products and date have a correlation of 0.88\n",
            "Imports of Refined Products and Tax income profits_gains have a correlation of 0.86\n",
            "Imports of Refined Products and Tax Goods & Services have a correlation of -0.88\n",
            "Imports of Refined Products and Sales 90 Octane have a correlation of 0.84\n",
            "Tax income profits_gains and date have a correlation of 0.81\n",
            "Tax income profits_gains and GDP Goods and Services have a correlation of 0.87\n",
            "Tax income profits_gains and GDP: Gross National Income have a correlation of 0.90\n",
            "Tax income profits_gains and Government Debt have a correlation of 0.86\n",
            "Tax income profits_gains and Imports of Refined Products have a correlation of 0.86\n",
            "Tax income profits_gains and GDP FCE Households have a correlation of 0.92\n",
            "Tax income profits_gains and Sales 90 Octane have a correlation of 0.93\n",
            "Tax on Export and Vehicle Sales have a correlation of -0.88\n",
            "Tax Goods & Services and date have a correlation of -0.93\n",
            "Tax Goods & Services and Imports of Refined Products have a correlation of -0.88\n",
            "Tax Goods & Services and Consumption_Oil have a correlation of -0.81\n",
            "Tax Goods & Services and Sales 90 Octane have a correlation of -0.84\n",
            "Tax Road Transport and Government Debt have a correlation of -0.91\n",
            "GDP FCE Households and date have a correlation of 0.89\n",
            "GDP FCE Households and GDP Goods and Services have a correlation of 0.95\n",
            "GDP FCE Households and GDP: Gross National Income have a correlation of 0.99\n",
            "GDP FCE Households and Government Debt have a correlation of 0.96\n",
            "GDP FCE Households and Tax income profits_gains have a correlation of 0.92\n",
            "GDP FCE Households and Fuel_other_manufacture have a correlation of 0.88\n",
            "Diesel User Price and petroleum_imports_crudeOil have a correlation of 0.81\n",
            "Petrol User Price and date have a correlation of -0.87\n",
            "Petrol User Price and fuel_consumption have a correlation of -0.84\n",
            "Petrol User Price and Consumption_Oil have a correlation of -0.88\n",
            "Petrol User Price and Sales 90 Octane have a correlation of -0.84\n",
            "Petrol User Price and Sales 95 Octane have a correlation of -0.80\n",
            "Consumption_Oil and date have a correlation of 0.94\n",
            "Consumption_Oil and fuel_consumption have a correlation of 0.96\n",
            "Consumption_Oil and Tax Goods & Services have a correlation of -0.81\n",
            "Consumption_Oil and Petrol User Price have a correlation of -0.88\n",
            "Consumption_Oil and Sales 90 Octane have a correlation of 0.92\n",
            "Consumption_Oil and Sales 95 Octane have a correlation of 0.95\n",
            "Consumption_Oil and Sales Auto Diesel have a correlation of 0.85\n",
            "Sales 90 Octane and date have a correlation of 0.96\n",
            "Sales 90 Octane and GDP: Gross National Income have a correlation of 0.80\n",
            "Sales 90 Octane and Imports of Refined Products have a correlation of 0.84\n",
            "Sales 90 Octane and Tax income profits_gains have a correlation of 0.93\n",
            "Sales 90 Octane and Tax Goods & Services have a correlation of -0.84\n",
            "Sales 90 Octane and Petrol User Price have a correlation of -0.84\n",
            "Sales 90 Octane and Consumption_Oil have a correlation of 0.92\n",
            "Sales 90 Octane and Sales 95 Octane have a correlation of 0.91\n",
            "Sales 95 Octane and date have a correlation of 0.83\n",
            "Sales 95 Octane and Petrol User Price have a correlation of -0.80\n",
            "Sales 95 Octane and Consumption_Oil have a correlation of 0.95\n",
            "Sales 95 Octane and Sales 90 Octane have a correlation of 0.91\n",
            "Sales Auto Diesel and date have a correlation of 0.88\n",
            "Sales Auto Diesel and fuel_consumption have a correlation of 0.96\n",
            "Sales Auto Diesel and Government Debt have a correlation of -0.82\n",
            "Sales Auto Diesel and Consumption_Oil have a correlation of 0.85\n",
            "Sales Auto Diesel and Household_income have a correlation of 0.86\n",
            "Household_income and date have a correlation of 0.95\n",
            "Household_income and Sales Auto Diesel have a correlation of 0.86\n",
            "Fuel_other_manufacture and GDP Goods and Services have a correlation of 0.87\n",
            "Fuel_other_manufacture and GDP: Gross National Income have a correlation of 0.86\n",
            "Fuel_other_manufacture and Government Debt have a correlation of 0.87\n",
            "Fuel_other_manufacture and GDP FCE Households have a correlation of 0.88\n"
          ]
        }
      ]
    },
    {
      "cell_type": "code",
      "source": [
        "ciec_df.isnull().mean() *100"
      ],
      "metadata": {
        "colab": {
          "base_uri": "https://localhost:8080/",
          "height": 962
        },
        "id": "9OitwfvQ0r4M",
        "outputId": "0afe1397-e9c7-4b0e-cfd8-298d1d7cff2a"
      },
      "execution_count": 20,
      "outputs": [
        {
          "output_type": "execute_result",
          "data": {
            "text/plain": [
              "date                                          0.000000\n",
              "fuel_consumption                             18.581560\n",
              "petroleum_imports_crudeOil                   40.815603\n",
              "Taxes_on_Customs_and_Other_Import Duties     37.092199\n",
              "Foreign Direct Investments                   59.326241\n",
              "GDP Goods and Services                       72.695035\n",
              "GDP: Gross National Income                   72.695035\n",
              "Government Debt                              80.106383\n",
              "New Vehicle Registrations                    22.588652\n",
              "Vehicle Sales                                72.234043\n",
              "Port Stay Duration                           94.432624\n",
              "Vehicle Sales Asia                           72.234043\n",
              "No.of Vessels Colombo                        51.914894\n",
              "Imports of Refined Products                  40.815603\n",
              "Colombo port calls                           94.503546\n",
              "Tax income profits_gains                     37.092199\n",
              "Tax on Export                                68.510638\n",
              "Tax Goods & Services                         37.092199\n",
              "Tax Road Transport                           68.546099\n",
              "GDP FCE Households                           72.695035\n",
              "Diesel User Price                            40.780142\n",
              "Petrol User Price                            40.780142\n",
              "Consumption_Oil                               1.950355\n",
              "Sales 90 Octane                              40.815603\n",
              "Sales 95 Octane                              55.602837\n",
              "Sales Auto Diesel                            33.404255\n",
              "Household_income                             79.680851\n",
              "Fuel_other_manufacture                       79.822695\n",
              "dtype: float64"
            ],
            "text/html": [
              "<div>\n",
              "<style scoped>\n",
              "    .dataframe tbody tr th:only-of-type {\n",
              "        vertical-align: middle;\n",
              "    }\n",
              "\n",
              "    .dataframe tbody tr th {\n",
              "        vertical-align: top;\n",
              "    }\n",
              "\n",
              "    .dataframe thead th {\n",
              "        text-align: right;\n",
              "    }\n",
              "</style>\n",
              "<table border=\"1\" class=\"dataframe\">\n",
              "  <thead>\n",
              "    <tr style=\"text-align: right;\">\n",
              "      <th></th>\n",
              "      <th>0</th>\n",
              "    </tr>\n",
              "  </thead>\n",
              "  <tbody>\n",
              "    <tr>\n",
              "      <th>date</th>\n",
              "      <td>0.000000</td>\n",
              "    </tr>\n",
              "    <tr>\n",
              "      <th>fuel_consumption</th>\n",
              "      <td>18.581560</td>\n",
              "    </tr>\n",
              "    <tr>\n",
              "      <th>petroleum_imports_crudeOil</th>\n",
              "      <td>40.815603</td>\n",
              "    </tr>\n",
              "    <tr>\n",
              "      <th>Taxes_on_Customs_and_Other_Import Duties</th>\n",
              "      <td>37.092199</td>\n",
              "    </tr>\n",
              "    <tr>\n",
              "      <th>Foreign Direct Investments</th>\n",
              "      <td>59.326241</td>\n",
              "    </tr>\n",
              "    <tr>\n",
              "      <th>GDP Goods and Services</th>\n",
              "      <td>72.695035</td>\n",
              "    </tr>\n",
              "    <tr>\n",
              "      <th>GDP: Gross National Income</th>\n",
              "      <td>72.695035</td>\n",
              "    </tr>\n",
              "    <tr>\n",
              "      <th>Government Debt</th>\n",
              "      <td>80.106383</td>\n",
              "    </tr>\n",
              "    <tr>\n",
              "      <th>New Vehicle Registrations</th>\n",
              "      <td>22.588652</td>\n",
              "    </tr>\n",
              "    <tr>\n",
              "      <th>Vehicle Sales</th>\n",
              "      <td>72.234043</td>\n",
              "    </tr>\n",
              "    <tr>\n",
              "      <th>Port Stay Duration</th>\n",
              "      <td>94.432624</td>\n",
              "    </tr>\n",
              "    <tr>\n",
              "      <th>Vehicle Sales Asia</th>\n",
              "      <td>72.234043</td>\n",
              "    </tr>\n",
              "    <tr>\n",
              "      <th>No.of Vessels Colombo</th>\n",
              "      <td>51.914894</td>\n",
              "    </tr>\n",
              "    <tr>\n",
              "      <th>Imports of Refined Products</th>\n",
              "      <td>40.815603</td>\n",
              "    </tr>\n",
              "    <tr>\n",
              "      <th>Colombo port calls</th>\n",
              "      <td>94.503546</td>\n",
              "    </tr>\n",
              "    <tr>\n",
              "      <th>Tax income profits_gains</th>\n",
              "      <td>37.092199</td>\n",
              "    </tr>\n",
              "    <tr>\n",
              "      <th>Tax on Export</th>\n",
              "      <td>68.510638</td>\n",
              "    </tr>\n",
              "    <tr>\n",
              "      <th>Tax Goods &amp; Services</th>\n",
              "      <td>37.092199</td>\n",
              "    </tr>\n",
              "    <tr>\n",
              "      <th>Tax Road Transport</th>\n",
              "      <td>68.546099</td>\n",
              "    </tr>\n",
              "    <tr>\n",
              "      <th>GDP FCE Households</th>\n",
              "      <td>72.695035</td>\n",
              "    </tr>\n",
              "    <tr>\n",
              "      <th>Diesel User Price</th>\n",
              "      <td>40.780142</td>\n",
              "    </tr>\n",
              "    <tr>\n",
              "      <th>Petrol User Price</th>\n",
              "      <td>40.780142</td>\n",
              "    </tr>\n",
              "    <tr>\n",
              "      <th>Consumption_Oil</th>\n",
              "      <td>1.950355</td>\n",
              "    </tr>\n",
              "    <tr>\n",
              "      <th>Sales 90 Octane</th>\n",
              "      <td>40.815603</td>\n",
              "    </tr>\n",
              "    <tr>\n",
              "      <th>Sales 95 Octane</th>\n",
              "      <td>55.602837</td>\n",
              "    </tr>\n",
              "    <tr>\n",
              "      <th>Sales Auto Diesel</th>\n",
              "      <td>33.404255</td>\n",
              "    </tr>\n",
              "    <tr>\n",
              "      <th>Household_income</th>\n",
              "      <td>79.680851</td>\n",
              "    </tr>\n",
              "    <tr>\n",
              "      <th>Fuel_other_manufacture</th>\n",
              "      <td>79.822695</td>\n",
              "    </tr>\n",
              "  </tbody>\n",
              "</table>\n",
              "</div><br><label><b>dtype:</b> float64</label>"
            ]
          },
          "metadata": {},
          "execution_count": 20
        }
      ]
    },
    {
      "cell_type": "markdown",
      "source": [
        "**Null value analysis**\\\n",
        "0-10% - date, consumption_oil"
      ],
      "metadata": {
        "id": "4fWrxIr21WMe"
      }
    },
    {
      "cell_type": "markdown",
      "source": [
        "10-30% - fuel_consumption, New Vehicle Registrations (Interpolation will be applied)"
      ],
      "metadata": {
        "id": "d-WFKZCi1zdq"
      }
    },
    {
      "cell_type": "markdown",
      "source": [
        "30-50% -petroleum_imports_crude_oil, Taxes_on_Customs_and_Other_Import Duties, Imports of Refined Products, Tax income profits_gains, Tax Goods & Services, Diesel User Price, Petrol User Price, Sales 90 Octane, Sales Auto Diesel,"
      ],
      "metadata": {
        "id": "MpSUHZZO2D59"
      }
    },
    {
      "cell_type": "markdown",
      "source": [
        "50% + - Foreign Direct Investments, GDP Goods and Services, GDP: Gross National Income, GDP: Gross National Income, Government Debt, Vehicle Sales, Port Stay Duration, Vehicle Sales Asia, No.of Vessels Colombo, Colombo port calls, Tax on Export, Tax Road Transport, GDP FCE Households, Sales 95 Octane, Household_income, Fuel_other_manufacture. (Interplation will be applied)"
      ],
      "metadata": {
        "id": "j9trq6X42xx5"
      }
    },
    {
      "cell_type": "markdown",
      "source": [
        "**Need to cutdown the range from which data is considered, few possible time frames to start with are 1990,1999,2005,2006,2010 **"
      ],
      "metadata": {
        "id": "DgTnYtGQ4thn"
      }
    },
    {
      "cell_type": "markdown",
      "source": [
        "## **Checking what type relations the columns follow**"
      ],
      "metadata": {
        "id": "OUcACgH_6skW"
      }
    },
    {
      "cell_type": "code",
      "source": [],
      "metadata": {
        "id": "3h_hdmaV6TZM"
      },
      "execution_count": null,
      "outputs": []
    },
    {
      "cell_type": "code",
      "source": [],
      "metadata": {
        "id": "uPwWaMZG4tHG"
      },
      "execution_count": null,
      "outputs": []
    },
    {
      "cell_type": "code",
      "source": [],
      "metadata": {
        "id": "XQJsKSYL2xV9"
      },
      "execution_count": null,
      "outputs": []
    },
    {
      "cell_type": "code",
      "source": [],
      "metadata": {
        "id": "n631gRr72OnY"
      },
      "execution_count": null,
      "outputs": []
    },
    {
      "cell_type": "code",
      "source": [],
      "metadata": {
        "id": "sTEG6WJx2Djm"
      },
      "execution_count": null,
      "outputs": []
    },
    {
      "cell_type": "code",
      "source": [],
      "metadata": {
        "id": "JslqOqtt0r2m"
      },
      "execution_count": null,
      "outputs": []
    },
    {
      "cell_type": "code",
      "source": [],
      "metadata": {
        "id": "jmB6Ur860rye"
      },
      "execution_count": null,
      "outputs": []
    },
    {
      "cell_type": "code",
      "source": [],
      "metadata": {
        "id": "uF64MS0s0rw_"
      },
      "execution_count": null,
      "outputs": []
    },
    {
      "cell_type": "markdown",
      "source": [
        "### **Scaling and Normalizing the Data**"
      ],
      "metadata": {
        "id": "VmnAOMbotatU"
      }
    },
    {
      "cell_type": "code",
      "source": [],
      "metadata": {
        "id": "mtk9x1KKoShz"
      },
      "execution_count": 13,
      "outputs": []
    },
    {
      "cell_type": "markdown",
      "source": [
        "## **Building the Demand Proxy Feature Column**"
      ],
      "metadata": {
        "id": "BXlwrAcYoVaM"
      }
    },
    {
      "cell_type": "code",
      "source": [],
      "metadata": {
        "id": "eKyJbyunoU7r"
      },
      "execution_count": 13,
      "outputs": []
    }
  ]
}