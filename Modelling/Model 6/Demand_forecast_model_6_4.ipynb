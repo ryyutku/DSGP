{
  "nbformat": 4,
  "nbformat_minor": 0,
  "metadata": {
    "colab": {
      "provenance": [],
      "include_colab_link": true
    },
    "kernelspec": {
      "name": "python3",
      "display_name": "Python 3"
    },
    "language_info": {
      "name": "python"
    }
  },
  "cells": [
    {
      "cell_type": "markdown",
      "metadata": {
        "id": "view-in-github",
        "colab_type": "text"
      },
      "source": [
        "<a href=\"https://colab.research.google.com/github/ryyutku/DSGP/blob/anuk/Modelling/Demand_forecast_model_6_4.ipynb\" target=\"_parent\"><img src=\"https://colab.research.google.com/assets/colab-badge.svg\" alt=\"Open In Colab\"/></a>"
      ]
    },
    {
      "cell_type": "markdown",
      "source": [
        "# **Training model withoutdifferencing or any other augmentation and transformations**"
      ],
      "metadata": {
        "id": "jVZorFFc5JYb"
      }
    },
    {
      "cell_type": "code",
      "execution_count": 75,
      "metadata": {
        "id": "RArxWlkIzQxN"
      },
      "outputs": [],
      "source": [
        "import pandas as pd\n",
        "from sklearn.preprocessing import StandardScaler\n",
        "from statsmodels.tsa.arima.model import ARIMA\n",
        "import numpy as np\n",
        "from sklearn.metrics import mean_absolute_error, mean_squared_error\n",
        "import matplotlib.pyplot as plt\n",
        "import seaborn as sns\n",
        "from sklearn.model_selection import train_test_split\n",
        "\n",
        "from sklearn.ensemble import RandomForestRegressor\n",
        "from sklearn.metrics import mean_absolute_error"
      ]
    },
    {
      "cell_type": "code",
      "source": [
        "df = pd.read_csv('CIEC.csv')"
      ],
      "metadata": {
        "id": "I-bFQph84Lmx"
      },
      "execution_count": 76,
      "outputs": []
    },
    {
      "cell_type": "code",
      "source": [
        "df.columns"
      ],
      "metadata": {
        "colab": {
          "base_uri": "https://localhost:8080/"
        },
        "id": "tpv5b8Sy4PWI",
        "outputId": "9d2d4fd3-569e-432c-800f-ad694222a7cc"
      },
      "execution_count": 77,
      "outputs": [
        {
          "output_type": "execute_result",
          "data": {
            "text/plain": [
              "Index(['date', 'fuel_consumption', 'petroleum_imports_crudeOil',\n",
              "       'Taxes_on_Customs_and_Other_Import Duties ',\n",
              "       'Foreign Direct Investments', 'GDP Goods and Services',\n",
              "       'New Vehicle Registrations', 'Vehicle Sales', 'Vehicle Sales Asia',\n",
              "       'No.of Vessels Colombo', 'Imports of Refined Products',\n",
              "       'Tax income profits_gains', 'Tax Goods & Services',\n",
              "       'Tax Road Transport', 'GDP FCE Households', 'Diesel User Price',\n",
              "       'Petrol User Price', 'Consumption_Oil', 'Sales 90 Octane',\n",
              "       'Sales 95 Octane', 'Sales Auto Diesel'],\n",
              "      dtype='object')"
            ]
          },
          "metadata": {},
          "execution_count": 77
        }
      ]
    },
    {
      "cell_type": "code",
      "source": [
        "df['date'] = pd.to_datetime(df['date'])"
      ],
      "metadata": {
        "id": "26aduZCw4VqU"
      },
      "execution_count": 78,
      "outputs": []
    },
    {
      "cell_type": "code",
      "source": [
        "features = ['date','fuel_consumption', 'petroleum_imports_crudeOil',\n",
        "       'Taxes_on_Customs_and_Other_Import Duties',\n",
        "       'Foreign Direct Investments', 'GDP Goods and Services',\n",
        "       'GDP: Gross National Income', 'Government Debt',\n",
        "       'New Vehicle Registrations', 'Vehicle Sales', 'Port Stay Duration',\n",
        "       'Vehicle Sales Asia', 'No.of Vessels Colombo',\n",
        "       'Imports of Refined Products', 'Colombo port calls',\n",
        "       'Tax income profits_gains', 'Tax on Export', 'Tax Goods & Services',\n",
        "       'Tax Road Transport', 'GDP FCE Households', 'Diesel User Price',\n",
        "       'Petrol User Price', 'Consumption_Oil', 'Sales 90 Octane',\n",
        "       'Sales 95 Octane', 'Sales Auto Diesel', 'Household_income',\n",
        "       'Fuel_other_manufacture']"
      ],
      "metadata": {
        "id": "Dje-tQJD4lJI"
      },
      "execution_count": 79,
      "outputs": []
    },
    {
      "cell_type": "code",
      "source": [
        "df_original = df.copy()"
      ],
      "metadata": {
        "id": "9Ur9qshjBynz"
      },
      "execution_count": 80,
      "outputs": []
    },
    {
      "cell_type": "code",
      "source": [
        "for feature in df.columns:\n",
        "  print(\"fuel consumption and\",feature,\" \",end=\"\")\n",
        "  print(df['fuel_consumption'].corr(df[feature]))"
      ],
      "metadata": {
        "colab": {
          "base_uri": "https://localhost:8080/"
        },
        "id": "1Z8AaF33GWf4",
        "outputId": "545dad69-cf04-4fce-9aa4-3575e02e7973"
      },
      "execution_count": 81,
      "outputs": [
        {
          "output_type": "stream",
          "name": "stdout",
          "text": [
            "fuel consumption and date  0.6471771865361186\n",
            "fuel consumption and fuel_consumption  1.0\n",
            "fuel consumption and petroleum_imports_crudeOil  0.7749175343518945\n",
            "fuel consumption and Taxes_on_Customs_and_Other_Import Duties   0.23858656484644236\n",
            "fuel consumption and Foreign Direct Investments  0.49341996546192624\n",
            "fuel consumption and GDP Goods and Services  0.7256692082264404\n",
            "fuel consumption and New Vehicle Registrations  0.4020013199119769\n",
            "fuel consumption and Vehicle Sales  0.773305958286014\n",
            "fuel consumption and Vehicle Sales Asia  0.2252780043781615\n",
            "fuel consumption and No.of Vessels Colombo  0.19077249280425274\n",
            "fuel consumption and Imports of Refined Products  0.5899575275082887\n",
            "fuel consumption and Tax income profits_gains  0.5193520756044036\n",
            "fuel consumption and Tax Goods & Services  -0.4789936968485389\n",
            "fuel consumption and Tax Road Transport  0.7682688182001607\n",
            "fuel consumption and GDP FCE Households  0.6213174075360737\n",
            "fuel consumption and Diesel User Price  0.2489837325220658\n",
            "fuel consumption and Petrol User Price  0.08137333483563557\n",
            "fuel consumption and Consumption_Oil  0.7956044522284281\n",
            "fuel consumption and Sales 90 Octane  0.7553129447186772\n",
            "fuel consumption and Sales 95 Octane  0.7111613587253363\n",
            "fuel consumption and Sales Auto Diesel  0.06439049185241696\n"
          ]
        }
      ]
    },
    {
      "cell_type": "markdown",
      "source": [
        "## **Checking the time frame with the most columns available**"
      ],
      "metadata": {
        "id": "GMacLCXn66AP"
      }
    },
    {
      "cell_type": "code",
      "source": [
        "def find_best_timeframe(df, time_column):\n",
        "  df = df.copy()\n",
        "\n",
        "  df_sorted = df.sort_values(by=time_column).set_index(time_column)\n",
        "\n",
        "  # non-null values per row\n",
        "  non_null_counts = df_sorted.notnull().sum(axis=1)\n",
        "\n",
        "  # Finding the best periods with max non-null values\n",
        "  best_start, best_end = None, None\n",
        "  max_columns = 0\n",
        "\n",
        "  current_start = df_sorted.index[0]\n",
        "  current_max = non_null_counts.iloc[0]\n",
        "\n",
        "  for i in range(1, len(non_null_counts)):\n",
        "    if non_null_counts.iloc[i] >= max_columns:\n",
        "      max_columns = non_null_counts.iloc[i]\n",
        "      best_start = current_start\n",
        "      best_end = df_sorted.index[i]\n",
        "    else:\n",
        "      current_start = df_sorted.index[i]\n",
        "\n",
        "  return best_start, best_end"
      ],
      "metadata": {
        "id": "-nUiLVgt7hS5"
      },
      "execution_count": 82,
      "outputs": []
    },
    {
      "cell_type": "code",
      "source": [
        "start,end = find_best_timeframe(df, 'date')\n",
        "print(start, end)"
      ],
      "metadata": {
        "colab": {
          "base_uri": "https://localhost:8080/"
        },
        "id": "LAVftNHc4dup",
        "outputId": "cb4be578-b125-4ca1-830f-58b79d63c746"
      },
      "execution_count": 83,
      "outputs": [
        {
          "output_type": "stream",
          "name": "stdout",
          "text": [
            "2009-12-28 00:00:00 2014-12-29 00:00:00\n"
          ]
        }
      ]
    },
    {
      "cell_type": "code",
      "source": [
        "df = df[(df['date']>=start) & (df['date']<=end)]"
      ],
      "metadata": {
        "id": "25HQ13YM409o"
      },
      "execution_count": 84,
      "outputs": []
    },
    {
      "cell_type": "code",
      "source": [
        "print(df.isnull().sum())"
      ],
      "metadata": {
        "colab": {
          "base_uri": "https://localhost:8080/"
        },
        "id": "7e5H-XQw45Bd",
        "outputId": "e195ae07-b687-4286-b2d5-c638cabc57e2"
      },
      "execution_count": 85,
      "outputs": [
        {
          "output_type": "stream",
          "name": "stdout",
          "text": [
            "date                                         0\n",
            "fuel_consumption                             0\n",
            "petroleum_imports_crudeOil                   0\n",
            "Taxes_on_Customs_and_Other_Import Duties     0\n",
            "Foreign Direct Investments                   0\n",
            "GDP Goods and Services                       1\n",
            "New Vehicle Registrations                    0\n",
            "Vehicle Sales                                0\n",
            "Vehicle Sales Asia                           0\n",
            "No.of Vessels Colombo                        0\n",
            "Imports of Refined Products                  0\n",
            "Tax income profits_gains                     0\n",
            "Tax Goods & Services                         0\n",
            "Tax Road Transport                           0\n",
            "GDP FCE Households                           1\n",
            "Diesel User Price                            0\n",
            "Petrol User Price                            0\n",
            "Consumption_Oil                              0\n",
            "Sales 90 Octane                              0\n",
            "Sales 95 Octane                              0\n",
            "Sales Auto Diesel                            0\n",
            "dtype: int64\n"
          ]
        }
      ]
    },
    {
      "cell_type": "code",
      "source": [
        "len(df.columns)"
      ],
      "metadata": {
        "colab": {
          "base_uri": "https://localhost:8080/"
        },
        "id": "6-WGHDmD5FAd",
        "outputId": "c87f1178-2c50-4ac5-c511-b8ca8d455e76"
      },
      "execution_count": 86,
      "outputs": [
        {
          "output_type": "execute_result",
          "data": {
            "text/plain": [
              "21"
            ]
          },
          "metadata": {},
          "execution_count": 86
        }
      ]
    },
    {
      "cell_type": "code",
      "source": [
        "from scipy.stats import boxcox\n",
        "import numpy as np\n",
        "import pandas as pd\n",
        "\n",
        "import pandas as pd\n",
        "import numpy as np\n",
        "from scipy.stats import boxcox\n",
        "\n",
        "def rolling_stats_transformation(df, target_col='fuel_consumption', date_col='date'):\n",
        "    df = df.copy()\n",
        "\n",
        "    # Ensure 'date' is in datetime format\n",
        "    df[date_col] = pd.to_datetime(df[date_col])\n",
        "\n",
        "    # Sort by date to avoid accidental data leakage\n",
        "    df = df.sort_values(by=date_col)\n",
        "\n",
        "    # Set 'date' column as index\n",
        "    df = df.set_index(date_col)\n",
        "\n",
        "    # 1️ **Rolling Statistics Features (Using Only Past Data)**\n",
        "    df['rolling_mean_7'] = df[target_col].shift(1).rolling(window=7, min_periods=1).mean()\n",
        "    df['rolling_std_7'] = df[target_col].shift(1).rolling(window=7, min_periods=1).std()\n",
        "    df['rolling_median_7'] = df[target_col].shift(1).rolling(window=7, min_periods=1).median()\n",
        "\n",
        "    # 2️⃣ **Exponential Moving Average (EMA) (No Future Values)**\n",
        "    df['ema_0.1'] = df[target_col].shift(1).ewm(alpha=0.1, adjust=False).mean()\n",
        "    df['ema_0.3'] = df[target_col].shift(1).ewm(alpha=0.3, adjust=False).mean()\n",
        "\n",
        "    # 3️⃣ **Time-Based Features**\n",
        "    df['dayofweek'] = df.index.dayofweek\n",
        "    df['month'] = df.index.month\n",
        "    df['quarter'] = df.index.quarter\n",
        "    df['is_weekend'] = df['dayofweek'].isin([5, 6]).astype(int)  # 1 if weekend, 0 otherwise\n",
        "\n",
        "    # 4️⃣ **Target Variable Transformation (Ensure No Leakage)**\n",
        "    df['log_fuel_consumption'] = np.log1p(df[target_col])  # Log transformation\n",
        "    df['boxcox_fuel_consumption'], lambda_bc = boxcox(df[target_col] + 1)  # Box-Cox transformation\n",
        "\n",
        "    # 5️⃣ **Interaction Terms**\n",
        "    if 'fuel_price' in df.columns:  # Example: Check if 'fuel_price' exists in the dataset\n",
        "        df['price_per_demand'] = df['fuel_price'] / (df[target_col] + 1)  # Avoid division by zero\n",
        "\n",
        "    return df\n",
        "\n",
        "\n"
      ],
      "metadata": {
        "id": "UrhRzdQL_dKN"
      },
      "execution_count": 87,
      "outputs": []
    },
    {
      "cell_type": "code",
      "source": [
        "df = rolling_stats_transformation(df)"
      ],
      "metadata": {
        "id": "N3wjpJl6AqhR"
      },
      "execution_count": 88,
      "outputs": []
    },
    {
      "cell_type": "code",
      "source": [
        "drop = ['rolling_mean_7','ema_0.3','GDP Goods and Services']"
      ],
      "metadata": {
        "id": "5D77sR1bHWlj"
      },
      "execution_count": 89,
      "outputs": []
    },
    {
      "cell_type": "code",
      "source": [
        "df = df.drop(drop,axis=1)"
      ],
      "metadata": {
        "id": "SQvIM8BCHwNd"
      },
      "execution_count": 90,
      "outputs": []
    },
    {
      "cell_type": "markdown",
      "source": [
        "# Modelling"
      ],
      "metadata": {
        "id": "KZ4IHz1hh20Y"
      }
    },
    {
      "cell_type": "code",
      "source": [
        "df.dropna(inplace=True)"
      ],
      "metadata": {
        "id": "hY7vaRbSh48K"
      },
      "execution_count": 91,
      "outputs": []
    },
    {
      "cell_type": "code",
      "source": [
        "# # Extracting date feature\n",
        "# df['year'] = df['date'].dt.year\n",
        "# df['month'] = df['date'].dt.month\n",
        "# df['day'] = df['date'].dt.day\n",
        "# df['weekday'] = df['date'].dt.weekday\n",
        "# df['quarter'] = df['date'].dt.quarter\n",
        "\n",
        "# df.drop('date',axis=1,inplace=True)"
      ],
      "metadata": {
        "id": "CXN2uUCRiEhc"
      },
      "execution_count": 92,
      "outputs": []
    },
    {
      "cell_type": "markdown",
      "source": [
        "## **Scaling**"
      ],
      "metadata": {
        "id": "AGfswsjK_hPE"
      }
    },
    {
      "cell_type": "code",
      "source": [
        "# Feature scaling\n",
        "numerical_cols = df.select_dtypes(include=['float64','int64']).columns\n",
        "numerical_cols = numerical_cols.drop('fuel_consumption')\n",
        "\n",
        "# scaler = StandardScaler()\n",
        "# df[numerical_cols] = scaler.fit_transform(df[numerical_cols])\n",
        "\n",
        "# fuel_scaler = StandardScaler()\n",
        "# df['fuel_consumption'] = fuel_scaler.fit_transform(df[['fuel_consumption']])\n",
        "\n",
        "# df.head()"
      ],
      "metadata": {
        "id": "kb2KuQEEihsX"
      },
      "execution_count": 93,
      "outputs": []
    },
    {
      "cell_type": "code",
      "source": [
        "# splitting data into feature and target variables\n",
        "X = df.drop('fuel_consumption',axis=1)\n",
        "y = df['fuel_consumption']"
      ],
      "metadata": {
        "id": "tdJZe1qOi3yj"
      },
      "execution_count": 94,
      "outputs": []
    },
    {
      "cell_type": "code",
      "source": [
        "X_train, X_test, y_train, y_test = train_test_split(X,y, test_size=0.2, random_state= 42)\n",
        "print(\"Training shape\",X_train.shape)\n",
        "print(\"Test df shape\",X_test.shape)"
      ],
      "metadata": {
        "colab": {
          "base_uri": "https://localhost:8080/"
        },
        "id": "Yc5T8WrsjASF",
        "outputId": "8da0f23c-6947-4658-bc7d-8a36be402daf"
      },
      "execution_count": 95,
      "outputs": [
        {
          "output_type": "stream",
          "name": "stdout",
          "text": [
            "Training shape (208, 27)\n",
            "Test df shape (52, 27)\n"
          ]
        }
      ]
    },
    {
      "cell_type": "code",
      "source": [
        "import xgboost as xgb\n",
        "from sklearn.metrics import mean_absolute_error\n",
        "import plotly.express as px"
      ],
      "metadata": {
        "id": "ZX7aa0QSjqND"
      },
      "execution_count": 96,
      "outputs": []
    },
    {
      "cell_type": "code",
      "source": [
        "# Initialize the model\n",
        "rf_model = RandomForestRegressor(n_estimators=100, random_state=42)\n",
        "\n",
        "rf_model.fit(X_train, y_train)\n",
        "\n",
        "# Make predictions on the test set\n",
        "y_pred_rf = rf_model.predict(X_test)\n"
      ],
      "metadata": {
        "id": "0mdROIUpmEK1"
      },
      "execution_count": 97,
      "outputs": []
    },
    {
      "cell_type": "code",
      "source": [
        "# Using Random Forest (replace with y_pred_lr for Linear Regression)\n",
        "predictions = y_pred_rf  # Replace with y_pred_lr if you're using Linear Regression"
      ],
      "metadata": {
        "id": "ATv0WVFydEar"
      },
      "execution_count": 98,
      "outputs": []
    },
    {
      "cell_type": "code",
      "source": [
        "from sklearn.model_selection import cross_val_score\n",
        "# Perform 5-Fold Cross-Validation\n",
        "scores = cross_val_score(rf_model, X, y, cv=5, scoring='r2')  # Using R² as the scoring metric\n",
        "\n",
        "# Print results\n",
        "print(\"Cross-Validation R² Scores:\", scores)\n",
        "print(\"Mean R²:\", np.mean(scores))\n",
        "print(\"Standard Deviation of R²:\", np.std(scores))"
      ],
      "metadata": {
        "colab": {
          "base_uri": "https://localhost:8080/"
        },
        "id": "T1WFQA9L-rxa",
        "outputId": "42d21d59-3eee-41c7-b627-bf8663b7af96"
      },
      "execution_count": 99,
      "outputs": [
        {
          "output_type": "stream",
          "name": "stdout",
          "text": [
            "Cross-Validation R² Scores: [-2.06821955e+01 -7.37712298e-01  0.00000000e+00 -4.18052914e+28\n",
            "  0.00000000e+00]\n",
            "Mean R²: -8.361058275732287e+27\n",
            "Standard Deviation of R²: 1.6722116551464574e+28\n"
          ]
        }
      ]
    },
    {
      "cell_type": "code",
      "source": [
        "import plotly.graph_objects as go\n",
        "\n",
        "# Create traces for actual and predicted values\n",
        "trace_actual = go.Scatter(\n",
        "    x=y_test.index, y=y_test, mode='lines+markers', name='Actual Fuel Demand', line=dict(color='blue')\n",
        ")\n",
        "\n",
        "trace_predicted = go.Scatter(\n",
        "    x=y_test.index, y=predictions, mode='lines+markers', name='Predicted Fuel Demand', line=dict(color='red', dash='dash')\n",
        ")\n",
        "\n",
        "# Create the layout for the plot\n",
        "layout = go.Layout(\n",
        "    title='Actual vs Predicted Fuel Demand (Test Set)',\n",
        "    xaxis=dict(title='Index (Test Set)'),\n",
        "    yaxis=dict(title='Fuel Demand'),\n",
        "    showlegend=True\n",
        ")\n",
        "\n",
        "# Plot the figure\n",
        "fig = go.Figure(data=[trace_actual, trace_predicted], layout=layout)\n",
        "fig.show()\n"
      ],
      "metadata": {
        "colab": {
          "base_uri": "https://localhost:8080/",
          "height": 542
        },
        "id": "6lUlsQASnIrO",
        "outputId": "b84a8513-814b-47f0-824a-7f8879f4986b"
      },
      "execution_count": 100,
      "outputs": [
        {
          "output_type": "display_data",
          "data": {
            "text/html": [
              "<html>\n",
              "<head><meta charset=\"utf-8\" /></head>\n",
              "<body>\n",
              "    <div>            <script src=\"https://cdnjs.cloudflare.com/ajax/libs/mathjax/2.7.5/MathJax.js?config=TeX-AMS-MML_SVG\"></script><script type=\"text/javascript\">if (window.MathJax && window.MathJax.Hub && window.MathJax.Hub.Config) {window.MathJax.Hub.Config({SVG: {font: \"STIX-Web\"}});}</script>                <script type=\"text/javascript\">window.PlotlyConfig = {MathJaxConfig: 'local'};</script>\n",
              "        <script charset=\"utf-8\" src=\"https://cdn.plot.ly/plotly-2.35.2.min.js\"></script>                <div id=\"2c552ef5-2390-4ee9-ab96-e0c3b224a1c2\" class=\"plotly-graph-div\" style=\"height:525px; width:100%;\"></div>            <script type=\"text/javascript\">                                    window.PLOTLYENV=window.PLOTLYENV || {};                                    if (document.getElementById(\"2c552ef5-2390-4ee9-ab96-e0c3b224a1c2\")) {                    Plotly.newPlot(                        \"2c552ef5-2390-4ee9-ab96-e0c3b224a1c2\",                        [{\"line\":{\"color\":\"blue\"},\"mode\":\"lines+markers\",\"name\":\"Actual Fuel Demand\",\"x\":[\"2010-08-09T00:00:00\",\"2013-07-01T00:00:00\",\"2014-04-21T00:00:00\",\"2013-07-29T00:00:00\",\"2014-01-27T00:00:00\",\"2014-12-22T00:00:00\",\"2013-05-06T00:00:00\",\"2012-10-01T00:00:00\",\"2010-03-15T00:00:00\",\"2013-06-03T00:00:00\",\"2010-06-28T00:00:00\",\"2014-02-10T00:00:00\",\"2011-07-04T00:00:00\",\"2013-12-09T00:00:00\",\"2013-09-02T00:00:00\",\"2013-12-23T00:00:00\",\"2014-09-01T00:00:00\",\"2010-02-22T00:00:00\",\"2014-03-31T00:00:00\",\"2012-01-09T00:00:00\",\"2012-03-19T00:00:00\",\"2012-04-23T00:00:00\",\"2010-05-24T00:00:00\",\"2013-11-18T00:00:00\",\"2013-06-17T00:00:00\",\"2010-11-29T00:00:00\",\"2011-06-20T00:00:00\",\"2010-11-22T00:00:00\",\"2012-12-24T00:00:00\",\"2010-04-26T00:00:00\",\"2014-07-21T00:00:00\",\"2014-05-26T00:00:00\",\"2012-10-15T00:00:00\",\"2010-08-30T00:00:00\",\"2013-10-14T00:00:00\",\"2011-12-19T00:00:00\",\"2014-02-03T00:00:00\",\"2010-03-22T00:00:00\",\"2012-03-12T00:00:00\",\"2011-11-14T00:00:00\",\"2011-10-17T00:00:00\",\"2012-11-26T00:00:00\",\"2010-07-05T00:00:00\",\"2013-01-21T00:00:00\",\"2010-05-17T00:00:00\",\"2014-07-28T00:00:00\",\"2012-09-10T00:00:00\",\"2011-05-02T00:00:00\",\"2011-11-21T00:00:00\",\"2013-03-25T00:00:00\",\"2011-10-03T00:00:00\",\"2013-12-16T00:00:00\"],\"y\":[0.829,0.882,0.972,0.882,0.972,0.972,0.882,0.893,0.829,0.882,0.829,0.972,0.939,0.882,0.882,0.882,0.972,0.829,0.972,0.893,0.893,0.893,0.829,0.882,0.882,0.829,0.939,0.829,0.893,0.829,0.972,0.972,0.893,0.829,0.882,0.939,0.972,0.829,0.893,0.939,0.939,0.893,0.829,0.882,0.829,0.972,0.893,0.939,0.939,0.882,0.939,0.882],\"type\":\"scatter\"},{\"line\":{\"color\":\"red\",\"dash\":\"dash\"},\"mode\":\"lines+markers\",\"name\":\"Predicted Fuel Demand\",\"x\":[\"2010-08-09T00:00:00\",\"2013-07-01T00:00:00\",\"2014-04-21T00:00:00\",\"2013-07-29T00:00:00\",\"2014-01-27T00:00:00\",\"2014-12-22T00:00:00\",\"2013-05-06T00:00:00\",\"2012-10-01T00:00:00\",\"2010-03-15T00:00:00\",\"2013-06-03T00:00:00\",\"2010-06-28T00:00:00\",\"2014-02-10T00:00:00\",\"2011-07-04T00:00:00\",\"2013-12-09T00:00:00\",\"2013-09-02T00:00:00\",\"2013-12-23T00:00:00\",\"2014-09-01T00:00:00\",\"2010-02-22T00:00:00\",\"2014-03-31T00:00:00\",\"2012-01-09T00:00:00\",\"2012-03-19T00:00:00\",\"2012-04-23T00:00:00\",\"2010-05-24T00:00:00\",\"2013-11-18T00:00:00\",\"2013-06-17T00:00:00\",\"2010-11-29T00:00:00\",\"2011-06-20T00:00:00\",\"2010-11-22T00:00:00\",\"2012-12-24T00:00:00\",\"2010-04-26T00:00:00\",\"2014-07-21T00:00:00\",\"2014-05-26T00:00:00\",\"2012-10-15T00:00:00\",\"2010-08-30T00:00:00\",\"2013-10-14T00:00:00\",\"2011-12-19T00:00:00\",\"2014-02-03T00:00:00\",\"2010-03-22T00:00:00\",\"2012-03-12T00:00:00\",\"2011-11-14T00:00:00\",\"2011-10-17T00:00:00\",\"2012-11-26T00:00:00\",\"2010-07-05T00:00:00\",\"2013-01-21T00:00:00\",\"2010-05-17T00:00:00\",\"2014-07-28T00:00:00\",\"2012-09-10T00:00:00\",\"2011-05-02T00:00:00\",\"2011-11-21T00:00:00\",\"2013-03-25T00:00:00\",\"2011-10-03T00:00:00\",\"2013-12-16T00:00:00\"],\"y\":[0.828999999999999,0.8820000000000009,0.9719999999999986,0.8820000000000009,0.9719999999999986,0.9719999999999986,0.8820000000000009,0.8930000000000006,0.828999999999999,0.8820000000000009,0.828999999999999,0.9719999999999986,0.9389999999999978,0.8820000000000009,0.8820000000000009,0.8820000000000009,0.9719999999999986,0.828999999999999,0.9719999999999986,0.8930000000000006,0.8930000000000006,0.8930000000000006,0.828999999999999,0.8820000000000009,0.8820000000000009,0.828999999999999,0.9389999999999978,0.828999999999999,0.8928900000000006,0.828999999999999,0.9719999999999986,0.9719999999999986,0.8930000000000006,0.828999999999999,0.8820000000000009,0.9389999999999978,0.9719999999999986,0.828999999999999,0.8930000000000006,0.9389999999999978,0.9389999999999978,0.8930000000000006,0.828999999999999,0.8820000000000009,0.828999999999999,0.9719999999999986,0.8930000000000006,0.9389999999999978,0.9389999999999978,0.8820000000000009,0.9389999999999978,0.8820000000000009],\"type\":\"scatter\"}],                        {\"showlegend\":true,\"title\":{\"text\":\"Actual vs Predicted Fuel Demand (Test Set)\"},\"xaxis\":{\"title\":{\"text\":\"Index (Test Set)\"}},\"yaxis\":{\"title\":{\"text\":\"Fuel Demand\"}},\"template\":{\"data\":{\"histogram2dcontour\":[{\"type\":\"histogram2dcontour\",\"colorbar\":{\"outlinewidth\":0,\"ticks\":\"\"},\"colorscale\":[[0.0,\"#0d0887\"],[0.1111111111111111,\"#46039f\"],[0.2222222222222222,\"#7201a8\"],[0.3333333333333333,\"#9c179e\"],[0.4444444444444444,\"#bd3786\"],[0.5555555555555556,\"#d8576b\"],[0.6666666666666666,\"#ed7953\"],[0.7777777777777778,\"#fb9f3a\"],[0.8888888888888888,\"#fdca26\"],[1.0,\"#f0f921\"]]}],\"choropleth\":[{\"type\":\"choropleth\",\"colorbar\":{\"outlinewidth\":0,\"ticks\":\"\"}}],\"histogram2d\":[{\"type\":\"histogram2d\",\"colorbar\":{\"outlinewidth\":0,\"ticks\":\"\"},\"colorscale\":[[0.0,\"#0d0887\"],[0.1111111111111111,\"#46039f\"],[0.2222222222222222,\"#7201a8\"],[0.3333333333333333,\"#9c179e\"],[0.4444444444444444,\"#bd3786\"],[0.5555555555555556,\"#d8576b\"],[0.6666666666666666,\"#ed7953\"],[0.7777777777777778,\"#fb9f3a\"],[0.8888888888888888,\"#fdca26\"],[1.0,\"#f0f921\"]]}],\"heatmap\":[{\"type\":\"heatmap\",\"colorbar\":{\"outlinewidth\":0,\"ticks\":\"\"},\"colorscale\":[[0.0,\"#0d0887\"],[0.1111111111111111,\"#46039f\"],[0.2222222222222222,\"#7201a8\"],[0.3333333333333333,\"#9c179e\"],[0.4444444444444444,\"#bd3786\"],[0.5555555555555556,\"#d8576b\"],[0.6666666666666666,\"#ed7953\"],[0.7777777777777778,\"#fb9f3a\"],[0.8888888888888888,\"#fdca26\"],[1.0,\"#f0f921\"]]}],\"heatmapgl\":[{\"type\":\"heatmapgl\",\"colorbar\":{\"outlinewidth\":0,\"ticks\":\"\"},\"colorscale\":[[0.0,\"#0d0887\"],[0.1111111111111111,\"#46039f\"],[0.2222222222222222,\"#7201a8\"],[0.3333333333333333,\"#9c179e\"],[0.4444444444444444,\"#bd3786\"],[0.5555555555555556,\"#d8576b\"],[0.6666666666666666,\"#ed7953\"],[0.7777777777777778,\"#fb9f3a\"],[0.8888888888888888,\"#fdca26\"],[1.0,\"#f0f921\"]]}],\"contourcarpet\":[{\"type\":\"contourcarpet\",\"colorbar\":{\"outlinewidth\":0,\"ticks\":\"\"}}],\"contour\":[{\"type\":\"contour\",\"colorbar\":{\"outlinewidth\":0,\"ticks\":\"\"},\"colorscale\":[[0.0,\"#0d0887\"],[0.1111111111111111,\"#46039f\"],[0.2222222222222222,\"#7201a8\"],[0.3333333333333333,\"#9c179e\"],[0.4444444444444444,\"#bd3786\"],[0.5555555555555556,\"#d8576b\"],[0.6666666666666666,\"#ed7953\"],[0.7777777777777778,\"#fb9f3a\"],[0.8888888888888888,\"#fdca26\"],[1.0,\"#f0f921\"]]}],\"surface\":[{\"type\":\"surface\",\"colorbar\":{\"outlinewidth\":0,\"ticks\":\"\"},\"colorscale\":[[0.0,\"#0d0887\"],[0.1111111111111111,\"#46039f\"],[0.2222222222222222,\"#7201a8\"],[0.3333333333333333,\"#9c179e\"],[0.4444444444444444,\"#bd3786\"],[0.5555555555555556,\"#d8576b\"],[0.6666666666666666,\"#ed7953\"],[0.7777777777777778,\"#fb9f3a\"],[0.8888888888888888,\"#fdca26\"],[1.0,\"#f0f921\"]]}],\"mesh3d\":[{\"type\":\"mesh3d\",\"colorbar\":{\"outlinewidth\":0,\"ticks\":\"\"}}],\"scatter\":[{\"fillpattern\":{\"fillmode\":\"overlay\",\"size\":10,\"solidity\":0.2},\"type\":\"scatter\"}],\"parcoords\":[{\"type\":\"parcoords\",\"line\":{\"colorbar\":{\"outlinewidth\":0,\"ticks\":\"\"}}}],\"scatterpolargl\":[{\"type\":\"scatterpolargl\",\"marker\":{\"colorbar\":{\"outlinewidth\":0,\"ticks\":\"\"}}}],\"bar\":[{\"error_x\":{\"color\":\"#2a3f5f\"},\"error_y\":{\"color\":\"#2a3f5f\"},\"marker\":{\"line\":{\"color\":\"#E5ECF6\",\"width\":0.5},\"pattern\":{\"fillmode\":\"overlay\",\"size\":10,\"solidity\":0.2}},\"type\":\"bar\"}],\"scattergeo\":[{\"type\":\"scattergeo\",\"marker\":{\"colorbar\":{\"outlinewidth\":0,\"ticks\":\"\"}}}],\"scatterpolar\":[{\"type\":\"scatterpolar\",\"marker\":{\"colorbar\":{\"outlinewidth\":0,\"ticks\":\"\"}}}],\"histogram\":[{\"marker\":{\"pattern\":{\"fillmode\":\"overlay\",\"size\":10,\"solidity\":0.2}},\"type\":\"histogram\"}],\"scattergl\":[{\"type\":\"scattergl\",\"marker\":{\"colorbar\":{\"outlinewidth\":0,\"ticks\":\"\"}}}],\"scatter3d\":[{\"type\":\"scatter3d\",\"line\":{\"colorbar\":{\"outlinewidth\":0,\"ticks\":\"\"}},\"marker\":{\"colorbar\":{\"outlinewidth\":0,\"ticks\":\"\"}}}],\"scattermapbox\":[{\"type\":\"scattermapbox\",\"marker\":{\"colorbar\":{\"outlinewidth\":0,\"ticks\":\"\"}}}],\"scatterternary\":[{\"type\":\"scatterternary\",\"marker\":{\"colorbar\":{\"outlinewidth\":0,\"ticks\":\"\"}}}],\"scattercarpet\":[{\"type\":\"scattercarpet\",\"marker\":{\"colorbar\":{\"outlinewidth\":0,\"ticks\":\"\"}}}],\"carpet\":[{\"aaxis\":{\"endlinecolor\":\"#2a3f5f\",\"gridcolor\":\"white\",\"linecolor\":\"white\",\"minorgridcolor\":\"white\",\"startlinecolor\":\"#2a3f5f\"},\"baxis\":{\"endlinecolor\":\"#2a3f5f\",\"gridcolor\":\"white\",\"linecolor\":\"white\",\"minorgridcolor\":\"white\",\"startlinecolor\":\"#2a3f5f\"},\"type\":\"carpet\"}],\"table\":[{\"cells\":{\"fill\":{\"color\":\"#EBF0F8\"},\"line\":{\"color\":\"white\"}},\"header\":{\"fill\":{\"color\":\"#C8D4E3\"},\"line\":{\"color\":\"white\"}},\"type\":\"table\"}],\"barpolar\":[{\"marker\":{\"line\":{\"color\":\"#E5ECF6\",\"width\":0.5},\"pattern\":{\"fillmode\":\"overlay\",\"size\":10,\"solidity\":0.2}},\"type\":\"barpolar\"}],\"pie\":[{\"automargin\":true,\"type\":\"pie\"}]},\"layout\":{\"autotypenumbers\":\"strict\",\"colorway\":[\"#636efa\",\"#EF553B\",\"#00cc96\",\"#ab63fa\",\"#FFA15A\",\"#19d3f3\",\"#FF6692\",\"#B6E880\",\"#FF97FF\",\"#FECB52\"],\"font\":{\"color\":\"#2a3f5f\"},\"hovermode\":\"closest\",\"hoverlabel\":{\"align\":\"left\"},\"paper_bgcolor\":\"white\",\"plot_bgcolor\":\"#E5ECF6\",\"polar\":{\"bgcolor\":\"#E5ECF6\",\"angularaxis\":{\"gridcolor\":\"white\",\"linecolor\":\"white\",\"ticks\":\"\"},\"radialaxis\":{\"gridcolor\":\"white\",\"linecolor\":\"white\",\"ticks\":\"\"}},\"ternary\":{\"bgcolor\":\"#E5ECF6\",\"aaxis\":{\"gridcolor\":\"white\",\"linecolor\":\"white\",\"ticks\":\"\"},\"baxis\":{\"gridcolor\":\"white\",\"linecolor\":\"white\",\"ticks\":\"\"},\"caxis\":{\"gridcolor\":\"white\",\"linecolor\":\"white\",\"ticks\":\"\"}},\"coloraxis\":{\"colorbar\":{\"outlinewidth\":0,\"ticks\":\"\"}},\"colorscale\":{\"sequential\":[[0.0,\"#0d0887\"],[0.1111111111111111,\"#46039f\"],[0.2222222222222222,\"#7201a8\"],[0.3333333333333333,\"#9c179e\"],[0.4444444444444444,\"#bd3786\"],[0.5555555555555556,\"#d8576b\"],[0.6666666666666666,\"#ed7953\"],[0.7777777777777778,\"#fb9f3a\"],[0.8888888888888888,\"#fdca26\"],[1.0,\"#f0f921\"]],\"sequentialminus\":[[0.0,\"#0d0887\"],[0.1111111111111111,\"#46039f\"],[0.2222222222222222,\"#7201a8\"],[0.3333333333333333,\"#9c179e\"],[0.4444444444444444,\"#bd3786\"],[0.5555555555555556,\"#d8576b\"],[0.6666666666666666,\"#ed7953\"],[0.7777777777777778,\"#fb9f3a\"],[0.8888888888888888,\"#fdca26\"],[1.0,\"#f0f921\"]],\"diverging\":[[0,\"#8e0152\"],[0.1,\"#c51b7d\"],[0.2,\"#de77ae\"],[0.3,\"#f1b6da\"],[0.4,\"#fde0ef\"],[0.5,\"#f7f7f7\"],[0.6,\"#e6f5d0\"],[0.7,\"#b8e186\"],[0.8,\"#7fbc41\"],[0.9,\"#4d9221\"],[1,\"#276419\"]]},\"xaxis\":{\"gridcolor\":\"white\",\"linecolor\":\"white\",\"ticks\":\"\",\"title\":{\"standoff\":15},\"zerolinecolor\":\"white\",\"automargin\":true,\"zerolinewidth\":2},\"yaxis\":{\"gridcolor\":\"white\",\"linecolor\":\"white\",\"ticks\":\"\",\"title\":{\"standoff\":15},\"zerolinecolor\":\"white\",\"automargin\":true,\"zerolinewidth\":2},\"scene\":{\"xaxis\":{\"backgroundcolor\":\"#E5ECF6\",\"gridcolor\":\"white\",\"linecolor\":\"white\",\"showbackground\":true,\"ticks\":\"\",\"zerolinecolor\":\"white\",\"gridwidth\":2},\"yaxis\":{\"backgroundcolor\":\"#E5ECF6\",\"gridcolor\":\"white\",\"linecolor\":\"white\",\"showbackground\":true,\"ticks\":\"\",\"zerolinecolor\":\"white\",\"gridwidth\":2},\"zaxis\":{\"backgroundcolor\":\"#E5ECF6\",\"gridcolor\":\"white\",\"linecolor\":\"white\",\"showbackground\":true,\"ticks\":\"\",\"zerolinecolor\":\"white\",\"gridwidth\":2}},\"shapedefaults\":{\"line\":{\"color\":\"#2a3f5f\"}},\"annotationdefaults\":{\"arrowcolor\":\"#2a3f5f\",\"arrowhead\":0,\"arrowwidth\":1},\"geo\":{\"bgcolor\":\"white\",\"landcolor\":\"#E5ECF6\",\"subunitcolor\":\"white\",\"showland\":true,\"showlakes\":true,\"lakecolor\":\"white\"},\"title\":{\"x\":0.05},\"mapbox\":{\"style\":\"light\"}}}},                        {\"responsive\": true}                    ).then(function(){\n",
              "                            \n",
              "var gd = document.getElementById('2c552ef5-2390-4ee9-ab96-e0c3b224a1c2');\n",
              "var x = new MutationObserver(function (mutations, observer) {{\n",
              "        var display = window.getComputedStyle(gd).display;\n",
              "        if (!display || display === 'none') {{\n",
              "            console.log([gd, 'removed!']);\n",
              "            Plotly.purge(gd);\n",
              "            observer.disconnect();\n",
              "        }}\n",
              "}});\n",
              "\n",
              "// Listen for the removal of the full notebook cells\n",
              "var notebookContainer = gd.closest('#notebook-container');\n",
              "if (notebookContainer) {{\n",
              "    x.observe(notebookContainer, {childList: true});\n",
              "}}\n",
              "\n",
              "// Listen for the clearing of the current output cell\n",
              "var outputEl = gd.closest('.output');\n",
              "if (outputEl) {{\n",
              "    x.observe(outputEl, {childList: true});\n",
              "}}\n",
              "\n",
              "                        })                };                            </script>        </div>\n",
              "</body>\n",
              "</html>"
            ]
          },
          "metadata": {}
        }
      ]
    },
    {
      "cell_type": "code",
      "source": [
        "from sklearn.metrics import mean_absolute_error, mean_squared_error, r2_score\n",
        "import numpy as np\n",
        "\n",
        "# Calculate the evaluation metrics\n",
        "mae = mean_absolute_error(y_test, predictions)\n",
        "mse = mean_squared_error(y_test, predictions)\n",
        "rmse = np.sqrt(mse)\n",
        "r2 = r2_score(y_test, predictions)\n",
        "\n",
        "# Print out all the metrics\n",
        "print(f'Mean Absolute Error (MAE): {mae}')\n",
        "print(f'Mean Squared Error (MSE): {mse}')\n",
        "print(f'Root Mean Squared Error (RMSE): {rmse}')\n",
        "print(f'R-squared (R²): {r2}')\n"
      ],
      "metadata": {
        "colab": {
          "base_uri": "https://localhost:8080/"
        },
        "id": "_rIu07YWnyuL",
        "outputId": "55651956-af8c-4184-9648-01df90b163cd"
      },
      "execution_count": 101,
      "outputs": [
        {
          "output_type": "stream",
          "name": "stdout",
          "text": [
            "Mean Absolute Error (MAE): 2.1153846164916164e-06\n",
            "Mean Squared Error (MSE): 2.3269230768972e-10\n",
            "Root Mean Squared Error (RMSE): 1.5254255396108982e-05\n",
            "R-squared (R²): 0.9999999061213168\n"
          ]
        }
      ]
    },
    {
      "cell_type": "code",
      "source": [],
      "metadata": {
        "id": "Bd9-dLmA_8n6"
      },
      "execution_count": 101,
      "outputs": []
    },
    {
      "cell_type": "code",
      "source": [
        "print(y_test.index)"
      ],
      "metadata": {
        "colab": {
          "base_uri": "https://localhost:8080/"
        },
        "id": "km11JEZwAXEz",
        "outputId": "04e64529-4dac-4c06-8ddd-c1f4ab157a6e"
      },
      "execution_count": 102,
      "outputs": [
        {
          "output_type": "stream",
          "name": "stdout",
          "text": [
            "DatetimeIndex(['2010-08-09', '2013-07-01', '2014-04-21', '2013-07-29',\n",
            "               '2014-01-27', '2014-12-22', '2013-05-06', '2012-10-01',\n",
            "               '2010-03-15', '2013-06-03', '2010-06-28', '2014-02-10',\n",
            "               '2011-07-04', '2013-12-09', '2013-09-02', '2013-12-23',\n",
            "               '2014-09-01', '2010-02-22', '2014-03-31', '2012-01-09',\n",
            "               '2012-03-19', '2012-04-23', '2010-05-24', '2013-11-18',\n",
            "               '2013-06-17', '2010-11-29', '2011-06-20', '2010-11-22',\n",
            "               '2012-12-24', '2010-04-26', '2014-07-21', '2014-05-26',\n",
            "               '2012-10-15', '2010-08-30', '2013-10-14', '2011-12-19',\n",
            "               '2014-02-03', '2010-03-22', '2012-03-12', '2011-11-14',\n",
            "               '2011-10-17', '2012-11-26', '2010-07-05', '2013-01-21',\n",
            "               '2010-05-17', '2014-07-28', '2012-09-10', '2011-05-02',\n",
            "               '2011-11-21', '2013-03-25', '2011-10-03', '2013-12-16'],\n",
            "              dtype='datetime64[ns]', name='date', freq=None)\n"
          ]
        }
      ]
    },
    {
      "cell_type": "markdown",
      "source": [
        "## **Testing with all possible feature combinations**"
      ],
      "metadata": {
        "id": "encHE9PGIh8X"
      }
    },
    {
      "cell_type": "code",
      "source": [
        "import itertools\n",
        "import time\n",
        "from sklearn.linear_model import LinearRegression\n",
        "from sklearn.metrics import r2_score\n",
        "\n",
        "def feature_selection(df, target_col='fuel_consumption', num_features=7, r2_lower=0.9, r2_upper=0.92, stop_r2=0.91):\n",
        "    # Initialize a list to store all feature combinations with their R² scores\n",
        "    results = []\n",
        "\n",
        "    # Drop any rows with NaN values\n",
        "    df = df.dropna()\n",
        "\n",
        "    # List of all feature columns\n",
        "    features = [col for col in df.columns if col != target_col]\n",
        "\n",
        "    # Generate all possible combinations of the specified number of features\n",
        "    total_combinations = len(list(itertools.combinations(features, num_features)))\n",
        "    print(f\"Total combinations to check: {total_combinations}\")\n",
        "\n",
        "    for index, combo in enumerate(itertools.combinations(features, num_features), start=1):\n",
        "        start_time = time.time()  # Track time taken per iteration\n",
        "\n",
        "        # Extract selected features\n",
        "        X = df[list(combo)]\n",
        "        y = df[target_col]\n",
        "\n",
        "        # Train the model\n",
        "        model = LinearRegression()\n",
        "        model.fit(X, y)\n",
        "\n",
        "        # Make predictions and calculate R²\n",
        "        y_pred = model.predict(X)\n",
        "        r2 = r2_score(y, y_pred)\n",
        "\n",
        "        end_time = time.time()  # End time\n",
        "        time_taken = end_time - start_time\n",
        "\n",
        "        # Print the current combination, R² score, and time taken\n",
        "        print(f\"Checking combination {index}/{total_combinations}: {combo}, R²: {r2:.5f}, Time: {time_taken:.5f} sec\")\n",
        "\n",
        "        # # Check if the R² value is within the desired range and store the result if so\n",
        "        # if r2_lower < r2 and r2 < r2_upper:\n",
        "        #     results.append((combo, r2))\n",
        "\n",
        "        # Stop the process ONLY if R² is between 0.91 and 1.0 (not exactly 1.0)\n",
        "        if r2_lower < r2 and r2 < r2_upper:\n",
        "            print(f\"R² reached {r2:.5f}, stopping the process.\")\n",
        "            return results  # Stops immediately when condition is met\n",
        "\n",
        "    return results\n",
        "\n"
      ],
      "metadata": {
        "id": "TiFvU7CpCXhS"
      },
      "execution_count": 103,
      "outputs": []
    },
    {
      "cell_type": "code",
      "source": [],
      "metadata": {
        "id": "RPVwyY5sOGH-"
      },
      "execution_count": 103,
      "outputs": []
    },
    {
      "cell_type": "code",
      "source": [
        "# Get all feature combinations with R² values between 0.8 and 0.9\n",
        "feature_combinations = feature_selection(df, target_col='fuel_consumption', num_features=7, r2_lower=0.89, r2_upper=0.92)\n",
        "\n",
        "# Print results\n",
        "for features, r2 in feature_combinations:\n",
        "    print(f\"Features: {features}, R²: {r2}\")"
      ],
      "metadata": {
        "colab": {
          "base_uri": "https://localhost:8080/"
        },
        "id": "WGgtu_MdIvPy",
        "outputId": "9ae47574-ced3-4069-d4fe-23330c902992"
      },
      "execution_count": 104,
      "outputs": [
        {
          "output_type": "stream",
          "name": "stdout",
          "text": [
            "Total combinations to check: 888030\n",
            "Checking combination 1/888030: ('petroleum_imports_crudeOil', 'Taxes_on_Customs_and_Other_Import Duties ', 'Foreign Direct Investments', 'New Vehicle Registrations', 'Vehicle Sales', 'Vehicle Sales Asia', 'No.of Vessels Colombo'), R²: 1.00000, Time: 0.00791 sec\n",
            "Checking combination 2/888030: ('petroleum_imports_crudeOil', 'Taxes_on_Customs_and_Other_Import Duties ', 'Foreign Direct Investments', 'New Vehicle Registrations', 'Vehicle Sales', 'Vehicle Sales Asia', 'Imports of Refined Products'), R²: 1.00000, Time: 0.00692 sec\n",
            "Checking combination 3/888030: ('petroleum_imports_crudeOil', 'Taxes_on_Customs_and_Other_Import Duties ', 'Foreign Direct Investments', 'New Vehicle Registrations', 'Vehicle Sales', 'Vehicle Sales Asia', 'Tax income profits_gains'), R²: 1.00000, Time: 0.00661 sec\n",
            "Checking combination 4/888030: ('petroleum_imports_crudeOil', 'Taxes_on_Customs_and_Other_Import Duties ', 'Foreign Direct Investments', 'New Vehicle Registrations', 'Vehicle Sales', 'Vehicle Sales Asia', 'Tax Goods & Services'), R²: 1.00000, Time: 0.00684 sec\n",
            "Checking combination 5/888030: ('petroleum_imports_crudeOil', 'Taxes_on_Customs_and_Other_Import Duties ', 'Foreign Direct Investments', 'New Vehicle Registrations', 'Vehicle Sales', 'Vehicle Sales Asia', 'Tax Road Transport'), R²: 1.00000, Time: 0.00659 sec\n",
            "Checking combination 6/888030: ('petroleum_imports_crudeOil', 'Taxes_on_Customs_and_Other_Import Duties ', 'Foreign Direct Investments', 'New Vehicle Registrations', 'Vehicle Sales', 'Vehicle Sales Asia', 'GDP FCE Households'), R²: 1.00000, Time: 0.00680 sec\n",
            "Checking combination 7/888030: ('petroleum_imports_crudeOil', 'Taxes_on_Customs_and_Other_Import Duties ', 'Foreign Direct Investments', 'New Vehicle Registrations', 'Vehicle Sales', 'Vehicle Sales Asia', 'Diesel User Price'), R²: 1.00000, Time: 0.00668 sec\n",
            "Checking combination 8/888030: ('petroleum_imports_crudeOil', 'Taxes_on_Customs_and_Other_Import Duties ', 'Foreign Direct Investments', 'New Vehicle Registrations', 'Vehicle Sales', 'Vehicle Sales Asia', 'Petrol User Price'), R²: 1.00000, Time: 0.00625 sec\n",
            "Checking combination 9/888030: ('petroleum_imports_crudeOil', 'Taxes_on_Customs_and_Other_Import Duties ', 'Foreign Direct Investments', 'New Vehicle Registrations', 'Vehicle Sales', 'Vehicle Sales Asia', 'Consumption_Oil'), R²: 1.00000, Time: 0.00819 sec\n",
            "Checking combination 10/888030: ('petroleum_imports_crudeOil', 'Taxes_on_Customs_and_Other_Import Duties ', 'Foreign Direct Investments', 'New Vehicle Registrations', 'Vehicle Sales', 'Vehicle Sales Asia', 'Sales 90 Octane'), R²: 1.00000, Time: 0.00737 sec\n",
            "Checking combination 11/888030: ('petroleum_imports_crudeOil', 'Taxes_on_Customs_and_Other_Import Duties ', 'Foreign Direct Investments', 'New Vehicle Registrations', 'Vehicle Sales', 'Vehicle Sales Asia', 'Sales 95 Octane'), R²: 1.00000, Time: 0.00808 sec\n",
            "Checking combination 12/888030: ('petroleum_imports_crudeOil', 'Taxes_on_Customs_and_Other_Import Duties ', 'Foreign Direct Investments', 'New Vehicle Registrations', 'Vehicle Sales', 'Vehicle Sales Asia', 'Sales Auto Diesel'), R²: 1.00000, Time: 0.00838 sec\n",
            "Checking combination 13/888030: ('petroleum_imports_crudeOil', 'Taxes_on_Customs_and_Other_Import Duties ', 'Foreign Direct Investments', 'New Vehicle Registrations', 'Vehicle Sales', 'Vehicle Sales Asia', 'rolling_std_7'), R²: 1.00000, Time: 0.00798 sec\n",
            "Checking combination 14/888030: ('petroleum_imports_crudeOil', 'Taxes_on_Customs_and_Other_Import Duties ', 'Foreign Direct Investments', 'New Vehicle Registrations', 'Vehicle Sales', 'Vehicle Sales Asia', 'rolling_median_7'), R²: 1.00000, Time: 0.00787 sec\n",
            "Checking combination 15/888030: ('petroleum_imports_crudeOil', 'Taxes_on_Customs_and_Other_Import Duties ', 'Foreign Direct Investments', 'New Vehicle Registrations', 'Vehicle Sales', 'Vehicle Sales Asia', 'ema_0.1'), R²: 1.00000, Time: 0.00666 sec\n",
            "Checking combination 16/888030: ('petroleum_imports_crudeOil', 'Taxes_on_Customs_and_Other_Import Duties ', 'Foreign Direct Investments', 'New Vehicle Registrations', 'Vehicle Sales', 'Vehicle Sales Asia', 'dayofweek'), R²: 1.00000, Time: 0.00736 sec\n",
            "Checking combination 17/888030: ('petroleum_imports_crudeOil', 'Taxes_on_Customs_and_Other_Import Duties ', 'Foreign Direct Investments', 'New Vehicle Registrations', 'Vehicle Sales', 'Vehicle Sales Asia', 'month'), R²: 1.00000, Time: 0.00714 sec\n",
            "Checking combination 18/888030: ('petroleum_imports_crudeOil', 'Taxes_on_Customs_and_Other_Import Duties ', 'Foreign Direct Investments', 'New Vehicle Registrations', 'Vehicle Sales', 'Vehicle Sales Asia', 'quarter'), R²: 1.00000, Time: 0.00844 sec\n",
            "Checking combination 19/888030: ('petroleum_imports_crudeOil', 'Taxes_on_Customs_and_Other_Import Duties ', 'Foreign Direct Investments', 'New Vehicle Registrations', 'Vehicle Sales', 'Vehicle Sales Asia', 'is_weekend'), R²: 1.00000, Time: 0.00711 sec\n",
            "Checking combination 20/888030: ('petroleum_imports_crudeOil', 'Taxes_on_Customs_and_Other_Import Duties ', 'Foreign Direct Investments', 'New Vehicle Registrations', 'Vehicle Sales', 'Vehicle Sales Asia', 'log_fuel_consumption'), R²: 1.00000, Time: 0.00675 sec\n",
            "Checking combination 21/888030: ('petroleum_imports_crudeOil', 'Taxes_on_Customs_and_Other_Import Duties ', 'Foreign Direct Investments', 'New Vehicle Registrations', 'Vehicle Sales', 'Vehicle Sales Asia', 'boxcox_fuel_consumption'), R²: 1.00000, Time: 0.00583 sec\n",
            "Checking combination 22/888030: ('petroleum_imports_crudeOil', 'Taxes_on_Customs_and_Other_Import Duties ', 'Foreign Direct Investments', 'New Vehicle Registrations', 'Vehicle Sales', 'No.of Vessels Colombo', 'Imports of Refined Products'), R²: 1.00000, Time: 0.00709 sec\n",
            "Checking combination 23/888030: ('petroleum_imports_crudeOil', 'Taxes_on_Customs_and_Other_Import Duties ', 'Foreign Direct Investments', 'New Vehicle Registrations', 'Vehicle Sales', 'No.of Vessels Colombo', 'Tax income profits_gains'), R²: 1.00000, Time: 0.00628 sec\n",
            "Checking combination 24/888030: ('petroleum_imports_crudeOil', 'Taxes_on_Customs_and_Other_Import Duties ', 'Foreign Direct Investments', 'New Vehicle Registrations', 'Vehicle Sales', 'No.of Vessels Colombo', 'Tax Goods & Services'), R²: 1.00000, Time: 0.00771 sec\n",
            "Checking combination 25/888030: ('petroleum_imports_crudeOil', 'Taxes_on_Customs_and_Other_Import Duties ', 'Foreign Direct Investments', 'New Vehicle Registrations', 'Vehicle Sales', 'No.of Vessels Colombo', 'Tax Road Transport'), R²: 1.00000, Time: 0.00645 sec\n",
            "Checking combination 26/888030: ('petroleum_imports_crudeOil', 'Taxes_on_Customs_and_Other_Import Duties ', 'Foreign Direct Investments', 'New Vehicle Registrations', 'Vehicle Sales', 'No.of Vessels Colombo', 'GDP FCE Households'), R²: 1.00000, Time: 0.00823 sec\n",
            "Checking combination 27/888030: ('petroleum_imports_crudeOil', 'Taxes_on_Customs_and_Other_Import Duties ', 'Foreign Direct Investments', 'New Vehicle Registrations', 'Vehicle Sales', 'No.of Vessels Colombo', 'Diesel User Price'), R²: 1.00000, Time: 0.00608 sec\n",
            "Checking combination 28/888030: ('petroleum_imports_crudeOil', 'Taxes_on_Customs_and_Other_Import Duties ', 'Foreign Direct Investments', 'New Vehicle Registrations', 'Vehicle Sales', 'No.of Vessels Colombo', 'Petrol User Price'), R²: 1.00000, Time: 0.00614 sec\n",
            "Checking combination 29/888030: ('petroleum_imports_crudeOil', 'Taxes_on_Customs_and_Other_Import Duties ', 'Foreign Direct Investments', 'New Vehicle Registrations', 'Vehicle Sales', 'No.of Vessels Colombo', 'Consumption_Oil'), R²: 1.00000, Time: 0.00774 sec\n",
            "Checking combination 30/888030: ('petroleum_imports_crudeOil', 'Taxes_on_Customs_and_Other_Import Duties ', 'Foreign Direct Investments', 'New Vehicle Registrations', 'Vehicle Sales', 'No.of Vessels Colombo', 'Sales 90 Octane'), R²: 1.00000, Time: 0.00620 sec\n",
            "Checking combination 31/888030: ('petroleum_imports_crudeOil', 'Taxes_on_Customs_and_Other_Import Duties ', 'Foreign Direct Investments', 'New Vehicle Registrations', 'Vehicle Sales', 'No.of Vessels Colombo', 'Sales 95 Octane'), R²: 1.00000, Time: 0.00632 sec\n",
            "Checking combination 32/888030: ('petroleum_imports_crudeOil', 'Taxes_on_Customs_and_Other_Import Duties ', 'Foreign Direct Investments', 'New Vehicle Registrations', 'Vehicle Sales', 'No.of Vessels Colombo', 'Sales Auto Diesel'), R²: 1.00000, Time: 0.00618 sec\n",
            "Checking combination 33/888030: ('petroleum_imports_crudeOil', 'Taxes_on_Customs_and_Other_Import Duties ', 'Foreign Direct Investments', 'New Vehicle Registrations', 'Vehicle Sales', 'No.of Vessels Colombo', 'rolling_std_7'), R²: 1.00000, Time: 0.00604 sec\n",
            "Checking combination 34/888030: ('petroleum_imports_crudeOil', 'Taxes_on_Customs_and_Other_Import Duties ', 'Foreign Direct Investments', 'New Vehicle Registrations', 'Vehicle Sales', 'No.of Vessels Colombo', 'rolling_median_7'), R²: 1.00000, Time: 0.00936 sec\n",
            "Checking combination 35/888030: ('petroleum_imports_crudeOil', 'Taxes_on_Customs_and_Other_Import Duties ', 'Foreign Direct Investments', 'New Vehicle Registrations', 'Vehicle Sales', 'No.of Vessels Colombo', 'ema_0.1'), R²: 1.00000, Time: 0.00652 sec\n",
            "Checking combination 36/888030: ('petroleum_imports_crudeOil', 'Taxes_on_Customs_and_Other_Import Duties ', 'Foreign Direct Investments', 'New Vehicle Registrations', 'Vehicle Sales', 'No.of Vessels Colombo', 'dayofweek'), R²: 1.00000, Time: 0.00669 sec\n",
            "Checking combination 37/888030: ('petroleum_imports_crudeOil', 'Taxes_on_Customs_and_Other_Import Duties ', 'Foreign Direct Investments', 'New Vehicle Registrations', 'Vehicle Sales', 'No.of Vessels Colombo', 'month'), R²: 1.00000, Time: 0.00617 sec\n",
            "Checking combination 38/888030: ('petroleum_imports_crudeOil', 'Taxes_on_Customs_and_Other_Import Duties ', 'Foreign Direct Investments', 'New Vehicle Registrations', 'Vehicle Sales', 'No.of Vessels Colombo', 'quarter'), R²: 1.00000, Time: 0.00618 sec\n",
            "Checking combination 39/888030: ('petroleum_imports_crudeOil', 'Taxes_on_Customs_and_Other_Import Duties ', 'Foreign Direct Investments', 'New Vehicle Registrations', 'Vehicle Sales', 'No.of Vessels Colombo', 'is_weekend'), R²: 1.00000, Time: 0.00667 sec\n",
            "Checking combination 40/888030: ('petroleum_imports_crudeOil', 'Taxes_on_Customs_and_Other_Import Duties ', 'Foreign Direct Investments', 'New Vehicle Registrations', 'Vehicle Sales', 'No.of Vessels Colombo', 'log_fuel_consumption'), R²: 1.00000, Time: 0.00883 sec\n",
            "Checking combination 41/888030: ('petroleum_imports_crudeOil', 'Taxes_on_Customs_and_Other_Import Duties ', 'Foreign Direct Investments', 'New Vehicle Registrations', 'Vehicle Sales', 'No.of Vessels Colombo', 'boxcox_fuel_consumption'), R²: 1.00000, Time: 0.00632 sec\n",
            "Checking combination 42/888030: ('petroleum_imports_crudeOil', 'Taxes_on_Customs_and_Other_Import Duties ', 'Foreign Direct Investments', 'New Vehicle Registrations', 'Vehicle Sales', 'Imports of Refined Products', 'Tax income profits_gains'), R²: 1.00000, Time: 0.00582 sec\n",
            "Checking combination 43/888030: ('petroleum_imports_crudeOil', 'Taxes_on_Customs_and_Other_Import Duties ', 'Foreign Direct Investments', 'New Vehicle Registrations', 'Vehicle Sales', 'Imports of Refined Products', 'Tax Goods & Services'), R²: 1.00000, Time: 0.00590 sec\n",
            "Checking combination 44/888030: ('petroleum_imports_crudeOil', 'Taxes_on_Customs_and_Other_Import Duties ', 'Foreign Direct Investments', 'New Vehicle Registrations', 'Vehicle Sales', 'Imports of Refined Products', 'Tax Road Transport'), R²: 1.00000, Time: 0.00602 sec\n",
            "Checking combination 45/888030: ('petroleum_imports_crudeOil', 'Taxes_on_Customs_and_Other_Import Duties ', 'Foreign Direct Investments', 'New Vehicle Registrations', 'Vehicle Sales', 'Imports of Refined Products', 'GDP FCE Households'), R²: 1.00000, Time: 0.00583 sec\n",
            "Checking combination 46/888030: ('petroleum_imports_crudeOil', 'Taxes_on_Customs_and_Other_Import Duties ', 'Foreign Direct Investments', 'New Vehicle Registrations', 'Vehicle Sales', 'Imports of Refined Products', 'Diesel User Price'), R²: 1.00000, Time: 0.00576 sec\n",
            "Checking combination 47/888030: ('petroleum_imports_crudeOil', 'Taxes_on_Customs_and_Other_Import Duties ', 'Foreign Direct Investments', 'New Vehicle Registrations', 'Vehicle Sales', 'Imports of Refined Products', 'Petrol User Price'), R²: 1.00000, Time: 0.00765 sec\n",
            "Checking combination 48/888030: ('petroleum_imports_crudeOil', 'Taxes_on_Customs_and_Other_Import Duties ', 'Foreign Direct Investments', 'New Vehicle Registrations', 'Vehicle Sales', 'Imports of Refined Products', 'Consumption_Oil'), R²: 1.00000, Time: 0.00665 sec\n",
            "Checking combination 49/888030: ('petroleum_imports_crudeOil', 'Taxes_on_Customs_and_Other_Import Duties ', 'Foreign Direct Investments', 'New Vehicle Registrations', 'Vehicle Sales', 'Imports of Refined Products', 'Sales 90 Octane'), R²: 1.00000, Time: 0.00679 sec\n",
            "Checking combination 50/888030: ('petroleum_imports_crudeOil', 'Taxes_on_Customs_and_Other_Import Duties ', 'Foreign Direct Investments', 'New Vehicle Registrations', 'Vehicle Sales', 'Imports of Refined Products', 'Sales 95 Octane'), R²: 1.00000, Time: 0.00598 sec\n",
            "Checking combination 51/888030: ('petroleum_imports_crudeOil', 'Taxes_on_Customs_and_Other_Import Duties ', 'Foreign Direct Investments', 'New Vehicle Registrations', 'Vehicle Sales', 'Imports of Refined Products', 'Sales Auto Diesel'), R²: 1.00000, Time: 0.00715 sec\n",
            "Checking combination 52/888030: ('petroleum_imports_crudeOil', 'Taxes_on_Customs_and_Other_Import Duties ', 'Foreign Direct Investments', 'New Vehicle Registrations', 'Vehicle Sales', 'Imports of Refined Products', 'rolling_std_7'), R²: 1.00000, Time: 0.00645 sec\n",
            "Checking combination 53/888030: ('petroleum_imports_crudeOil', 'Taxes_on_Customs_and_Other_Import Duties ', 'Foreign Direct Investments', 'New Vehicle Registrations', 'Vehicle Sales', 'Imports of Refined Products', 'rolling_median_7'), R²: 1.00000, Time: 0.00685 sec\n",
            "Checking combination 54/888030: ('petroleum_imports_crudeOil', 'Taxes_on_Customs_and_Other_Import Duties ', 'Foreign Direct Investments', 'New Vehicle Registrations', 'Vehicle Sales', 'Imports of Refined Products', 'ema_0.1'), R²: 1.00000, Time: 0.00679 sec\n",
            "Checking combination 55/888030: ('petroleum_imports_crudeOil', 'Taxes_on_Customs_and_Other_Import Duties ', 'Foreign Direct Investments', 'New Vehicle Registrations', 'Vehicle Sales', 'Imports of Refined Products', 'dayofweek'), R²: 1.00000, Time: 0.00656 sec\n",
            "Checking combination 56/888030: ('petroleum_imports_crudeOil', 'Taxes_on_Customs_and_Other_Import Duties ', 'Foreign Direct Investments', 'New Vehicle Registrations', 'Vehicle Sales', 'Imports of Refined Products', 'month'), R²: 1.00000, Time: 0.00661 sec\n",
            "Checking combination 57/888030: ('petroleum_imports_crudeOil', 'Taxes_on_Customs_and_Other_Import Duties ', 'Foreign Direct Investments', 'New Vehicle Registrations', 'Vehicle Sales', 'Imports of Refined Products', 'quarter'), R²: 1.00000, Time: 0.00684 sec\n",
            "Checking combination 58/888030: ('petroleum_imports_crudeOil', 'Taxes_on_Customs_and_Other_Import Duties ', 'Foreign Direct Investments', 'New Vehicle Registrations', 'Vehicle Sales', 'Imports of Refined Products', 'is_weekend'), R²: 1.00000, Time: 0.00627 sec\n",
            "Checking combination 59/888030: ('petroleum_imports_crudeOil', 'Taxes_on_Customs_and_Other_Import Duties ', 'Foreign Direct Investments', 'New Vehicle Registrations', 'Vehicle Sales', 'Imports of Refined Products', 'log_fuel_consumption'), R²: 1.00000, Time: 0.00690 sec\n",
            "Checking combination 60/888030: ('petroleum_imports_crudeOil', 'Taxes_on_Customs_and_Other_Import Duties ', 'Foreign Direct Investments', 'New Vehicle Registrations', 'Vehicle Sales', 'Imports of Refined Products', 'boxcox_fuel_consumption'), R²: 1.00000, Time: 0.00855 sec\n",
            "Checking combination 61/888030: ('petroleum_imports_crudeOil', 'Taxes_on_Customs_and_Other_Import Duties ', 'Foreign Direct Investments', 'New Vehicle Registrations', 'Vehicle Sales', 'Tax income profits_gains', 'Tax Goods & Services'), R²: 1.00000, Time: 0.00641 sec\n",
            "Checking combination 62/888030: ('petroleum_imports_crudeOil', 'Taxes_on_Customs_and_Other_Import Duties ', 'Foreign Direct Investments', 'New Vehicle Registrations', 'Vehicle Sales', 'Tax income profits_gains', 'Tax Road Transport'), R²: 1.00000, Time: 0.00593 sec\n",
            "Checking combination 63/888030: ('petroleum_imports_crudeOil', 'Taxes_on_Customs_and_Other_Import Duties ', 'Foreign Direct Investments', 'New Vehicle Registrations', 'Vehicle Sales', 'Tax income profits_gains', 'GDP FCE Households'), R²: 1.00000, Time: 0.00569 sec\n",
            "Checking combination 64/888030: ('petroleum_imports_crudeOil', 'Taxes_on_Customs_and_Other_Import Duties ', 'Foreign Direct Investments', 'New Vehicle Registrations', 'Vehicle Sales', 'Tax income profits_gains', 'Diesel User Price'), R²: 1.00000, Time: 0.00608 sec\n",
            "Checking combination 65/888030: ('petroleum_imports_crudeOil', 'Taxes_on_Customs_and_Other_Import Duties ', 'Foreign Direct Investments', 'New Vehicle Registrations', 'Vehicle Sales', 'Tax income profits_gains', 'Petrol User Price'), R²: 1.00000, Time: 0.00721 sec\n",
            "Checking combination 66/888030: ('petroleum_imports_crudeOil', 'Taxes_on_Customs_and_Other_Import Duties ', 'Foreign Direct Investments', 'New Vehicle Registrations', 'Vehicle Sales', 'Tax income profits_gains', 'Consumption_Oil'), R²: 1.00000, Time: 0.00623 sec\n",
            "Checking combination 67/888030: ('petroleum_imports_crudeOil', 'Taxes_on_Customs_and_Other_Import Duties ', 'Foreign Direct Investments', 'New Vehicle Registrations', 'Vehicle Sales', 'Tax income profits_gains', 'Sales 90 Octane'), R²: 1.00000, Time: 0.00651 sec\n",
            "Checking combination 68/888030: ('petroleum_imports_crudeOil', 'Taxes_on_Customs_and_Other_Import Duties ', 'Foreign Direct Investments', 'New Vehicle Registrations', 'Vehicle Sales', 'Tax income profits_gains', 'Sales 95 Octane'), R²: 1.00000, Time: 0.00649 sec\n",
            "Checking combination 69/888030: ('petroleum_imports_crudeOil', 'Taxes_on_Customs_and_Other_Import Duties ', 'Foreign Direct Investments', 'New Vehicle Registrations', 'Vehicle Sales', 'Tax income profits_gains', 'Sales Auto Diesel'), R²: 1.00000, Time: 0.00611 sec\n",
            "Checking combination 70/888030: ('petroleum_imports_crudeOil', 'Taxes_on_Customs_and_Other_Import Duties ', 'Foreign Direct Investments', 'New Vehicle Registrations', 'Vehicle Sales', 'Tax income profits_gains', 'rolling_std_7'), R²: 1.00000, Time: 0.00584 sec\n",
            "Checking combination 71/888030: ('petroleum_imports_crudeOil', 'Taxes_on_Customs_and_Other_Import Duties ', 'Foreign Direct Investments', 'New Vehicle Registrations', 'Vehicle Sales', 'Tax income profits_gains', 'rolling_median_7'), R²: 1.00000, Time: 0.00678 sec\n",
            "Checking combination 72/888030: ('petroleum_imports_crudeOil', 'Taxes_on_Customs_and_Other_Import Duties ', 'Foreign Direct Investments', 'New Vehicle Registrations', 'Vehicle Sales', 'Tax income profits_gains', 'ema_0.1'), R²: 1.00000, Time: 0.00612 sec\n",
            "Checking combination 73/888030: ('petroleum_imports_crudeOil', 'Taxes_on_Customs_and_Other_Import Duties ', 'Foreign Direct Investments', 'New Vehicle Registrations', 'Vehicle Sales', 'Tax income profits_gains', 'dayofweek'), R²: 1.00000, Time: 0.00611 sec\n",
            "Checking combination 74/888030: ('petroleum_imports_crudeOil', 'Taxes_on_Customs_and_Other_Import Duties ', 'Foreign Direct Investments', 'New Vehicle Registrations', 'Vehicle Sales', 'Tax income profits_gains', 'month'), R²: 1.00000, Time: 0.00604 sec\n",
            "Checking combination 75/888030: ('petroleum_imports_crudeOil', 'Taxes_on_Customs_and_Other_Import Duties ', 'Foreign Direct Investments', 'New Vehicle Registrations', 'Vehicle Sales', 'Tax income profits_gains', 'quarter'), R²: 1.00000, Time: 0.00659 sec\n",
            "Checking combination 76/888030: ('petroleum_imports_crudeOil', 'Taxes_on_Customs_and_Other_Import Duties ', 'Foreign Direct Investments', 'New Vehicle Registrations', 'Vehicle Sales', 'Tax income profits_gains', 'is_weekend'), R²: 1.00000, Time: 0.00681 sec\n",
            "Checking combination 77/888030: ('petroleum_imports_crudeOil', 'Taxes_on_Customs_and_Other_Import Duties ', 'Foreign Direct Investments', 'New Vehicle Registrations', 'Vehicle Sales', 'Tax income profits_gains', 'log_fuel_consumption'), R²: 1.00000, Time: 0.00629 sec\n",
            "Checking combination 78/888030: ('petroleum_imports_crudeOil', 'Taxes_on_Customs_and_Other_Import Duties ', 'Foreign Direct Investments', 'New Vehicle Registrations', 'Vehicle Sales', 'Tax income profits_gains', 'boxcox_fuel_consumption'), R²: 1.00000, Time: 0.00562 sec\n",
            "Checking combination 79/888030: ('petroleum_imports_crudeOil', 'Taxes_on_Customs_and_Other_Import Duties ', 'Foreign Direct Investments', 'New Vehicle Registrations', 'Vehicle Sales', 'Tax Goods & Services', 'Tax Road Transport'), R²: 1.00000, Time: 0.00552 sec\n",
            "Checking combination 80/888030: ('petroleum_imports_crudeOil', 'Taxes_on_Customs_and_Other_Import Duties ', 'Foreign Direct Investments', 'New Vehicle Registrations', 'Vehicle Sales', 'Tax Goods & Services', 'GDP FCE Households'), R²: 1.00000, Time: 0.00608 sec\n",
            "Checking combination 81/888030: ('petroleum_imports_crudeOil', 'Taxes_on_Customs_and_Other_Import Duties ', 'Foreign Direct Investments', 'New Vehicle Registrations', 'Vehicle Sales', 'Tax Goods & Services', 'Diesel User Price'), R²: 1.00000, Time: 0.00571 sec\n",
            "Checking combination 82/888030: ('petroleum_imports_crudeOil', 'Taxes_on_Customs_and_Other_Import Duties ', 'Foreign Direct Investments', 'New Vehicle Registrations', 'Vehicle Sales', 'Tax Goods & Services', 'Petrol User Price'), R²: 1.00000, Time: 0.00580 sec\n",
            "Checking combination 83/888030: ('petroleum_imports_crudeOil', 'Taxes_on_Customs_and_Other_Import Duties ', 'Foreign Direct Investments', 'New Vehicle Registrations', 'Vehicle Sales', 'Tax Goods & Services', 'Consumption_Oil'), R²: 1.00000, Time: 0.00564 sec\n",
            "Checking combination 84/888030: ('petroleum_imports_crudeOil', 'Taxes_on_Customs_and_Other_Import Duties ', 'Foreign Direct Investments', 'New Vehicle Registrations', 'Vehicle Sales', 'Tax Goods & Services', 'Sales 90 Octane'), R²: 1.00000, Time: 0.00577 sec\n",
            "Checking combination 85/888030: ('petroleum_imports_crudeOil', 'Taxes_on_Customs_and_Other_Import Duties ', 'Foreign Direct Investments', 'New Vehicle Registrations', 'Vehicle Sales', 'Tax Goods & Services', 'Sales 95 Octane'), R²: 1.00000, Time: 0.00585 sec\n",
            "Checking combination 86/888030: ('petroleum_imports_crudeOil', 'Taxes_on_Customs_and_Other_Import Duties ', 'Foreign Direct Investments', 'New Vehicle Registrations', 'Vehicle Sales', 'Tax Goods & Services', 'Sales Auto Diesel'), R²: 1.00000, Time: 0.00604 sec\n",
            "Checking combination 87/888030: ('petroleum_imports_crudeOil', 'Taxes_on_Customs_and_Other_Import Duties ', 'Foreign Direct Investments', 'New Vehicle Registrations', 'Vehicle Sales', 'Tax Goods & Services', 'rolling_std_7'), R²: 1.00000, Time: 0.00598 sec\n",
            "Checking combination 88/888030: ('petroleum_imports_crudeOil', 'Taxes_on_Customs_and_Other_Import Duties ', 'Foreign Direct Investments', 'New Vehicle Registrations', 'Vehicle Sales', 'Tax Goods & Services', 'rolling_median_7'), R²: 1.00000, Time: 0.00583 sec\n",
            "Checking combination 89/888030: ('petroleum_imports_crudeOil', 'Taxes_on_Customs_and_Other_Import Duties ', 'Foreign Direct Investments', 'New Vehicle Registrations', 'Vehicle Sales', 'Tax Goods & Services', 'ema_0.1'), R²: 1.00000, Time: 0.00555 sec\n",
            "Checking combination 90/888030: ('petroleum_imports_crudeOil', 'Taxes_on_Customs_and_Other_Import Duties ', 'Foreign Direct Investments', 'New Vehicle Registrations', 'Vehicle Sales', 'Tax Goods & Services', 'dayofweek'), R²: 1.00000, Time: 0.00617 sec\n",
            "Checking combination 91/888030: ('petroleum_imports_crudeOil', 'Taxes_on_Customs_and_Other_Import Duties ', 'Foreign Direct Investments', 'New Vehicle Registrations', 'Vehicle Sales', 'Tax Goods & Services', 'month'), R²: 1.00000, Time: 0.00615 sec\n",
            "Checking combination 92/888030: ('petroleum_imports_crudeOil', 'Taxes_on_Customs_and_Other_Import Duties ', 'Foreign Direct Investments', 'New Vehicle Registrations', 'Vehicle Sales', 'Tax Goods & Services', 'quarter'), R²: 1.00000, Time: 0.00610 sec\n",
            "Checking combination 93/888030: ('petroleum_imports_crudeOil', 'Taxes_on_Customs_and_Other_Import Duties ', 'Foreign Direct Investments', 'New Vehicle Registrations', 'Vehicle Sales', 'Tax Goods & Services', 'is_weekend'), R²: 1.00000, Time: 0.00700 sec\n",
            "Checking combination 94/888030: ('petroleum_imports_crudeOil', 'Taxes_on_Customs_and_Other_Import Duties ', 'Foreign Direct Investments', 'New Vehicle Registrations', 'Vehicle Sales', 'Tax Goods & Services', 'log_fuel_consumption'), R²: 1.00000, Time: 0.00620 sec\n",
            "Checking combination 95/888030: ('petroleum_imports_crudeOil', 'Taxes_on_Customs_and_Other_Import Duties ', 'Foreign Direct Investments', 'New Vehicle Registrations', 'Vehicle Sales', 'Tax Goods & Services', 'boxcox_fuel_consumption'), R²: 1.00000, Time: 0.00595 sec\n",
            "Checking combination 96/888030: ('petroleum_imports_crudeOil', 'Taxes_on_Customs_and_Other_Import Duties ', 'Foreign Direct Investments', 'New Vehicle Registrations', 'Vehicle Sales', 'Tax Road Transport', 'GDP FCE Households'), R²: 1.00000, Time: 0.00580 sec\n",
            "Checking combination 97/888030: ('petroleum_imports_crudeOil', 'Taxes_on_Customs_and_Other_Import Duties ', 'Foreign Direct Investments', 'New Vehicle Registrations', 'Vehicle Sales', 'Tax Road Transport', 'Diesel User Price'), R²: 1.00000, Time: 0.00575 sec\n",
            "Checking combination 98/888030: ('petroleum_imports_crudeOil', 'Taxes_on_Customs_and_Other_Import Duties ', 'Foreign Direct Investments', 'New Vehicle Registrations', 'Vehicle Sales', 'Tax Road Transport', 'Petrol User Price'), R²: 1.00000, Time: 0.00569 sec\n",
            "Checking combination 99/888030: ('petroleum_imports_crudeOil', 'Taxes_on_Customs_and_Other_Import Duties ', 'Foreign Direct Investments', 'New Vehicle Registrations', 'Vehicle Sales', 'Tax Road Transport', 'Consumption_Oil'), R²: 1.00000, Time: 0.00553 sec\n",
            "Checking combination 100/888030: ('petroleum_imports_crudeOil', 'Taxes_on_Customs_and_Other_Import Duties ', 'Foreign Direct Investments', 'New Vehicle Registrations', 'Vehicle Sales', 'Tax Road Transport', 'Sales 90 Octane'), R²: 1.00000, Time: 0.00593 sec\n",
            "Checking combination 101/888030: ('petroleum_imports_crudeOil', 'Taxes_on_Customs_and_Other_Import Duties ', 'Foreign Direct Investments', 'New Vehicle Registrations', 'Vehicle Sales', 'Tax Road Transport', 'Sales 95 Octane'), R²: 1.00000, Time: 0.00584 sec\n",
            "Checking combination 102/888030: ('petroleum_imports_crudeOil', 'Taxes_on_Customs_and_Other_Import Duties ', 'Foreign Direct Investments', 'New Vehicle Registrations', 'Vehicle Sales', 'Tax Road Transport', 'Sales Auto Diesel'), R²: 1.00000, Time: 0.00641 sec\n",
            "Checking combination 103/888030: ('petroleum_imports_crudeOil', 'Taxes_on_Customs_and_Other_Import Duties ', 'Foreign Direct Investments', 'New Vehicle Registrations', 'Vehicle Sales', 'Tax Road Transport', 'rolling_std_7'), R²: 1.00000, Time: 0.00556 sec\n",
            "Checking combination 104/888030: ('petroleum_imports_crudeOil', 'Taxes_on_Customs_and_Other_Import Duties ', 'Foreign Direct Investments', 'New Vehicle Registrations', 'Vehicle Sales', 'Tax Road Transport', 'rolling_median_7'), R²: 1.00000, Time: 0.00573 sec\n",
            "Checking combination 105/888030: ('petroleum_imports_crudeOil', 'Taxes_on_Customs_and_Other_Import Duties ', 'Foreign Direct Investments', 'New Vehicle Registrations', 'Vehicle Sales', 'Tax Road Transport', 'ema_0.1'), R²: 1.00000, Time: 0.00603 sec\n",
            "Checking combination 106/888030: ('petroleum_imports_crudeOil', 'Taxes_on_Customs_and_Other_Import Duties ', 'Foreign Direct Investments', 'New Vehicle Registrations', 'Vehicle Sales', 'Tax Road Transport', 'dayofweek'), R²: 1.00000, Time: 0.00598 sec\n",
            "Checking combination 107/888030: ('petroleum_imports_crudeOil', 'Taxes_on_Customs_and_Other_Import Duties ', 'Foreign Direct Investments', 'New Vehicle Registrations', 'Vehicle Sales', 'Tax Road Transport', 'month'), R²: 1.00000, Time: 0.00617 sec\n",
            "Checking combination 108/888030: ('petroleum_imports_crudeOil', 'Taxes_on_Customs_and_Other_Import Duties ', 'Foreign Direct Investments', 'New Vehicle Registrations', 'Vehicle Sales', 'Tax Road Transport', 'quarter'), R²: 1.00000, Time: 0.00601 sec\n",
            "Checking combination 109/888030: ('petroleum_imports_crudeOil', 'Taxes_on_Customs_and_Other_Import Duties ', 'Foreign Direct Investments', 'New Vehicle Registrations', 'Vehicle Sales', 'Tax Road Transport', 'is_weekend'), R²: 1.00000, Time: 0.00608 sec\n",
            "Checking combination 110/888030: ('petroleum_imports_crudeOil', 'Taxes_on_Customs_and_Other_Import Duties ', 'Foreign Direct Investments', 'New Vehicle Registrations', 'Vehicle Sales', 'Tax Road Transport', 'log_fuel_consumption'), R²: 1.00000, Time: 0.00558 sec\n",
            "Checking combination 111/888030: ('petroleum_imports_crudeOil', 'Taxes_on_Customs_and_Other_Import Duties ', 'Foreign Direct Investments', 'New Vehicle Registrations', 'Vehicle Sales', 'Tax Road Transport', 'boxcox_fuel_consumption'), R²: 1.00000, Time: 0.00583 sec\n",
            "Checking combination 112/888030: ('petroleum_imports_crudeOil', 'Taxes_on_Customs_and_Other_Import Duties ', 'Foreign Direct Investments', 'New Vehicle Registrations', 'Vehicle Sales', 'GDP FCE Households', 'Diesel User Price'), R²: 1.00000, Time: 0.00580 sec\n",
            "Checking combination 113/888030: ('petroleum_imports_crudeOil', 'Taxes_on_Customs_and_Other_Import Duties ', 'Foreign Direct Investments', 'New Vehicle Registrations', 'Vehicle Sales', 'GDP FCE Households', 'Petrol User Price'), R²: 1.00000, Time: 0.00597 sec\n",
            "Checking combination 114/888030: ('petroleum_imports_crudeOil', 'Taxes_on_Customs_and_Other_Import Duties ', 'Foreign Direct Investments', 'New Vehicle Registrations', 'Vehicle Sales', 'GDP FCE Households', 'Consumption_Oil'), R²: 1.00000, Time: 0.00641 sec\n",
            "Checking combination 115/888030: ('petroleum_imports_crudeOil', 'Taxes_on_Customs_and_Other_Import Duties ', 'Foreign Direct Investments', 'New Vehicle Registrations', 'Vehicle Sales', 'GDP FCE Households', 'Sales 90 Octane'), R²: 1.00000, Time: 0.00633 sec\n",
            "Checking combination 116/888030: ('petroleum_imports_crudeOil', 'Taxes_on_Customs_and_Other_Import Duties ', 'Foreign Direct Investments', 'New Vehicle Registrations', 'Vehicle Sales', 'GDP FCE Households', 'Sales 95 Octane'), R²: 1.00000, Time: 0.00602 sec\n",
            "Checking combination 117/888030: ('petroleum_imports_crudeOil', 'Taxes_on_Customs_and_Other_Import Duties ', 'Foreign Direct Investments', 'New Vehicle Registrations', 'Vehicle Sales', 'GDP FCE Households', 'Sales Auto Diesel'), R²: 1.00000, Time: 0.00609 sec\n",
            "Checking combination 118/888030: ('petroleum_imports_crudeOil', 'Taxes_on_Customs_and_Other_Import Duties ', 'Foreign Direct Investments', 'New Vehicle Registrations', 'Vehicle Sales', 'GDP FCE Households', 'rolling_std_7'), R²: 1.00000, Time: 0.00584 sec\n",
            "Checking combination 119/888030: ('petroleum_imports_crudeOil', 'Taxes_on_Customs_and_Other_Import Duties ', 'Foreign Direct Investments', 'New Vehicle Registrations', 'Vehicle Sales', 'GDP FCE Households', 'rolling_median_7'), R²: 1.00000, Time: 0.00598 sec\n",
            "Checking combination 120/888030: ('petroleum_imports_crudeOil', 'Taxes_on_Customs_and_Other_Import Duties ', 'Foreign Direct Investments', 'New Vehicle Registrations', 'Vehicle Sales', 'GDP FCE Households', 'ema_0.1'), R²: 1.00000, Time: 0.00796 sec\n",
            "Checking combination 121/888030: ('petroleum_imports_crudeOil', 'Taxes_on_Customs_and_Other_Import Duties ', 'Foreign Direct Investments', 'New Vehicle Registrations', 'Vehicle Sales', 'GDP FCE Households', 'dayofweek'), R²: 1.00000, Time: 0.00692 sec\n",
            "Checking combination 122/888030: ('petroleum_imports_crudeOil', 'Taxes_on_Customs_and_Other_Import Duties ', 'Foreign Direct Investments', 'New Vehicle Registrations', 'Vehicle Sales', 'GDP FCE Households', 'month'), R²: 1.00000, Time: 0.00609 sec\n",
            "Checking combination 123/888030: ('petroleum_imports_crudeOil', 'Taxes_on_Customs_and_Other_Import Duties ', 'Foreign Direct Investments', 'New Vehicle Registrations', 'Vehicle Sales', 'GDP FCE Households', 'quarter'), R²: 1.00000, Time: 0.00677 sec\n",
            "Checking combination 124/888030: ('petroleum_imports_crudeOil', 'Taxes_on_Customs_and_Other_Import Duties ', 'Foreign Direct Investments', 'New Vehicle Registrations', 'Vehicle Sales', 'GDP FCE Households', 'is_weekend'), R²: 1.00000, Time: 0.00632 sec\n",
            "Checking combination 125/888030: ('petroleum_imports_crudeOil', 'Taxes_on_Customs_and_Other_Import Duties ', 'Foreign Direct Investments', 'New Vehicle Registrations', 'Vehicle Sales', 'GDP FCE Households', 'log_fuel_consumption'), R²: 1.00000, Time: 0.00585 sec\n",
            "Checking combination 126/888030: ('petroleum_imports_crudeOil', 'Taxes_on_Customs_and_Other_Import Duties ', 'Foreign Direct Investments', 'New Vehicle Registrations', 'Vehicle Sales', 'GDP FCE Households', 'boxcox_fuel_consumption'), R²: 1.00000, Time: 0.00748 sec\n",
            "Checking combination 127/888030: ('petroleum_imports_crudeOil', 'Taxes_on_Customs_and_Other_Import Duties ', 'Foreign Direct Investments', 'New Vehicle Registrations', 'Vehicle Sales', 'Diesel User Price', 'Petrol User Price'), R²: 1.00000, Time: 0.00667 sec\n",
            "Checking combination 128/888030: ('petroleum_imports_crudeOil', 'Taxes_on_Customs_and_Other_Import Duties ', 'Foreign Direct Investments', 'New Vehicle Registrations', 'Vehicle Sales', 'Diesel User Price', 'Consumption_Oil'), R²: 1.00000, Time: 0.00644 sec\n",
            "Checking combination 129/888030: ('petroleum_imports_crudeOil', 'Taxes_on_Customs_and_Other_Import Duties ', 'Foreign Direct Investments', 'New Vehicle Registrations', 'Vehicle Sales', 'Diesel User Price', 'Sales 90 Octane'), R²: 1.00000, Time: 0.00897 sec\n",
            "Checking combination 130/888030: ('petroleum_imports_crudeOil', 'Taxes_on_Customs_and_Other_Import Duties ', 'Foreign Direct Investments', 'New Vehicle Registrations', 'Vehicle Sales', 'Diesel User Price', 'Sales 95 Octane'), R²: 1.00000, Time: 0.00599 sec\n",
            "Checking combination 131/888030: ('petroleum_imports_crudeOil', 'Taxes_on_Customs_and_Other_Import Duties ', 'Foreign Direct Investments', 'New Vehicle Registrations', 'Vehicle Sales', 'Diesel User Price', 'Sales Auto Diesel'), R²: 1.00000, Time: 0.00598 sec\n",
            "Checking combination 132/888030: ('petroleum_imports_crudeOil', 'Taxes_on_Customs_and_Other_Import Duties ', 'Foreign Direct Investments', 'New Vehicle Registrations', 'Vehicle Sales', 'Diesel User Price', 'rolling_std_7'), R²: 1.00000, Time: 0.00574 sec\n",
            "Checking combination 133/888030: ('petroleum_imports_crudeOil', 'Taxes_on_Customs_and_Other_Import Duties ', 'Foreign Direct Investments', 'New Vehicle Registrations', 'Vehicle Sales', 'Diesel User Price', 'rolling_median_7'), R²: 1.00000, Time: 0.00576 sec\n",
            "Checking combination 134/888030: ('petroleum_imports_crudeOil', 'Taxes_on_Customs_and_Other_Import Duties ', 'Foreign Direct Investments', 'New Vehicle Registrations', 'Vehicle Sales', 'Diesel User Price', 'ema_0.1'), R²: 1.00000, Time: 0.00596 sec\n",
            "Checking combination 135/888030: ('petroleum_imports_crudeOil', 'Taxes_on_Customs_and_Other_Import Duties ', 'Foreign Direct Investments', 'New Vehicle Registrations', 'Vehicle Sales', 'Diesel User Price', 'dayofweek'), R²: 1.00000, Time: 0.00787 sec\n",
            "Checking combination 136/888030: ('petroleum_imports_crudeOil', 'Taxes_on_Customs_and_Other_Import Duties ', 'Foreign Direct Investments', 'New Vehicle Registrations', 'Vehicle Sales', 'Diesel User Price', 'month'), R²: 1.00000, Time: 0.00704 sec\n",
            "Checking combination 137/888030: ('petroleum_imports_crudeOil', 'Taxes_on_Customs_and_Other_Import Duties ', 'Foreign Direct Investments', 'New Vehicle Registrations', 'Vehicle Sales', 'Diesel User Price', 'quarter'), R²: 1.00000, Time: 0.01247 sec\n",
            "Checking combination 138/888030: ('petroleum_imports_crudeOil', 'Taxes_on_Customs_and_Other_Import Duties ', 'Foreign Direct Investments', 'New Vehicle Registrations', 'Vehicle Sales', 'Diesel User Price', 'is_weekend'), R²: 1.00000, Time: 0.00678 sec\n",
            "Checking combination 139/888030: ('petroleum_imports_crudeOil', 'Taxes_on_Customs_and_Other_Import Duties ', 'Foreign Direct Investments', 'New Vehicle Registrations', 'Vehicle Sales', 'Diesel User Price', 'log_fuel_consumption'), R²: 1.00000, Time: 0.00612 sec\n",
            "Checking combination 140/888030: ('petroleum_imports_crudeOil', 'Taxes_on_Customs_and_Other_Import Duties ', 'Foreign Direct Investments', 'New Vehicle Registrations', 'Vehicle Sales', 'Diesel User Price', 'boxcox_fuel_consumption'), R²: 1.00000, Time: 0.00594 sec\n",
            "Checking combination 141/888030: ('petroleum_imports_crudeOil', 'Taxes_on_Customs_and_Other_Import Duties ', 'Foreign Direct Investments', 'New Vehicle Registrations', 'Vehicle Sales', 'Petrol User Price', 'Consumption_Oil'), R²: 1.00000, Time: 0.00592 sec\n",
            "Checking combination 142/888030: ('petroleum_imports_crudeOil', 'Taxes_on_Customs_and_Other_Import Duties ', 'Foreign Direct Investments', 'New Vehicle Registrations', 'Vehicle Sales', 'Petrol User Price', 'Sales 90 Octane'), R²: 1.00000, Time: 0.00602 sec\n",
            "Checking combination 143/888030: ('petroleum_imports_crudeOil', 'Taxes_on_Customs_and_Other_Import Duties ', 'Foreign Direct Investments', 'New Vehicle Registrations', 'Vehicle Sales', 'Petrol User Price', 'Sales 95 Octane'), R²: 1.00000, Time: 0.00644 sec\n",
            "Checking combination 144/888030: ('petroleum_imports_crudeOil', 'Taxes_on_Customs_and_Other_Import Duties ', 'Foreign Direct Investments', 'New Vehicle Registrations', 'Vehicle Sales', 'Petrol User Price', 'Sales Auto Diesel'), R²: 1.00000, Time: 0.00617 sec\n",
            "Checking combination 145/888030: ('petroleum_imports_crudeOil', 'Taxes_on_Customs_and_Other_Import Duties ', 'Foreign Direct Investments', 'New Vehicle Registrations', 'Vehicle Sales', 'Petrol User Price', 'rolling_std_7'), R²: 1.00000, Time: 0.00619 sec\n",
            "Checking combination 146/888030: ('petroleum_imports_crudeOil', 'Taxes_on_Customs_and_Other_Import Duties ', 'Foreign Direct Investments', 'New Vehicle Registrations', 'Vehicle Sales', 'Petrol User Price', 'rolling_median_7'), R²: 1.00000, Time: 0.00588 sec\n",
            "Checking combination 147/888030: ('petroleum_imports_crudeOil', 'Taxes_on_Customs_and_Other_Import Duties ', 'Foreign Direct Investments', 'New Vehicle Registrations', 'Vehicle Sales', 'Petrol User Price', 'ema_0.1'), R²: 1.00000, Time: 0.00940 sec\n",
            "Checking combination 148/888030: ('petroleum_imports_crudeOil', 'Taxes_on_Customs_and_Other_Import Duties ', 'Foreign Direct Investments', 'New Vehicle Registrations', 'Vehicle Sales', 'Petrol User Price', 'dayofweek'), R²: 1.00000, Time: 0.00660 sec\n",
            "Checking combination 149/888030: ('petroleum_imports_crudeOil', 'Taxes_on_Customs_and_Other_Import Duties ', 'Foreign Direct Investments', 'New Vehicle Registrations', 'Vehicle Sales', 'Petrol User Price', 'month'), R²: 1.00000, Time: 0.00643 sec\n",
            "Checking combination 150/888030: ('petroleum_imports_crudeOil', 'Taxes_on_Customs_and_Other_Import Duties ', 'Foreign Direct Investments', 'New Vehicle Registrations', 'Vehicle Sales', 'Petrol User Price', 'quarter'), R²: 1.00000, Time: 0.00644 sec\n",
            "Checking combination 151/888030: ('petroleum_imports_crudeOil', 'Taxes_on_Customs_and_Other_Import Duties ', 'Foreign Direct Investments', 'New Vehicle Registrations', 'Vehicle Sales', 'Petrol User Price', 'is_weekend'), R²: 1.00000, Time: 0.01463 sec\n",
            "Checking combination 152/888030: ('petroleum_imports_crudeOil', 'Taxes_on_Customs_and_Other_Import Duties ', 'Foreign Direct Investments', 'New Vehicle Registrations', 'Vehicle Sales', 'Petrol User Price', 'log_fuel_consumption'), R²: 1.00000, Time: 0.01417 sec\n",
            "Checking combination 153/888030: ('petroleum_imports_crudeOil', 'Taxes_on_Customs_and_Other_Import Duties ', 'Foreign Direct Investments', 'New Vehicle Registrations', 'Vehicle Sales', 'Petrol User Price', 'boxcox_fuel_consumption'), R²: 1.00000, Time: 0.00868 sec\n",
            "Checking combination 154/888030: ('petroleum_imports_crudeOil', 'Taxes_on_Customs_and_Other_Import Duties ', 'Foreign Direct Investments', 'New Vehicle Registrations', 'Vehicle Sales', 'Consumption_Oil', 'Sales 90 Octane'), R²: 1.00000, Time: 0.00598 sec\n",
            "Checking combination 155/888030: ('petroleum_imports_crudeOil', 'Taxes_on_Customs_and_Other_Import Duties ', 'Foreign Direct Investments', 'New Vehicle Registrations', 'Vehicle Sales', 'Consumption_Oil', 'Sales 95 Octane'), R²: 1.00000, Time: 0.00631 sec\n",
            "Checking combination 156/888030: ('petroleum_imports_crudeOil', 'Taxes_on_Customs_and_Other_Import Duties ', 'Foreign Direct Investments', 'New Vehicle Registrations', 'Vehicle Sales', 'Consumption_Oil', 'Sales Auto Diesel'), R²: 1.00000, Time: 0.00877 sec\n",
            "Checking combination 157/888030: ('petroleum_imports_crudeOil', 'Taxes_on_Customs_and_Other_Import Duties ', 'Foreign Direct Investments', 'New Vehicle Registrations', 'Vehicle Sales', 'Consumption_Oil', 'rolling_std_7'), R²: 1.00000, Time: 0.01300 sec\n",
            "Checking combination 158/888030: ('petroleum_imports_crudeOil', 'Taxes_on_Customs_and_Other_Import Duties ', 'Foreign Direct Investments', 'New Vehicle Registrations', 'Vehicle Sales', 'Consumption_Oil', 'rolling_median_7'), R²: 1.00000, Time: 0.01464 sec\n",
            "Checking combination 159/888030: ('petroleum_imports_crudeOil', 'Taxes_on_Customs_and_Other_Import Duties ', 'Foreign Direct Investments', 'New Vehicle Registrations', 'Vehicle Sales', 'Consumption_Oil', 'ema_0.1'), R²: 1.00000, Time: 0.01386 sec\n",
            "Checking combination 160/888030: ('petroleum_imports_crudeOil', 'Taxes_on_Customs_and_Other_Import Duties ', 'Foreign Direct Investments', 'New Vehicle Registrations', 'Vehicle Sales', 'Consumption_Oil', 'dayofweek'), R²: 1.00000, Time: 0.01402 sec\n",
            "Checking combination 161/888030: ('petroleum_imports_crudeOil', 'Taxes_on_Customs_and_Other_Import Duties ', 'Foreign Direct Investments', 'New Vehicle Registrations', 'Vehicle Sales', 'Consumption_Oil', 'month'), R²: 1.00000, Time: 0.01384 sec\n",
            "Checking combination 162/888030: ('petroleum_imports_crudeOil', 'Taxes_on_Customs_and_Other_Import Duties ', 'Foreign Direct Investments', 'New Vehicle Registrations', 'Vehicle Sales', 'Consumption_Oil', 'quarter'), R²: 1.00000, Time: 0.00895 sec\n",
            "Checking combination 163/888030: ('petroleum_imports_crudeOil', 'Taxes_on_Customs_and_Other_Import Duties ', 'Foreign Direct Investments', 'New Vehicle Registrations', 'Vehicle Sales', 'Consumption_Oil', 'is_weekend'), R²: 1.00000, Time: 0.00602 sec\n",
            "Checking combination 164/888030: ('petroleum_imports_crudeOil', 'Taxes_on_Customs_and_Other_Import Duties ', 'Foreign Direct Investments', 'New Vehicle Registrations', 'Vehicle Sales', 'Consumption_Oil', 'log_fuel_consumption'), R²: 1.00000, Time: 0.00546 sec\n",
            "Checking combination 165/888030: ('petroleum_imports_crudeOil', 'Taxes_on_Customs_and_Other_Import Duties ', 'Foreign Direct Investments', 'New Vehicle Registrations', 'Vehicle Sales', 'Consumption_Oil', 'boxcox_fuel_consumption'), R²: 1.00000, Time: 0.00595 sec\n",
            "Checking combination 166/888030: ('petroleum_imports_crudeOil', 'Taxes_on_Customs_and_Other_Import Duties ', 'Foreign Direct Investments', 'New Vehicle Registrations', 'Vehicle Sales', 'Sales 90 Octane', 'Sales 95 Octane'), R²: 1.00000, Time: 0.01305 sec\n",
            "Checking combination 167/888030: ('petroleum_imports_crudeOil', 'Taxes_on_Customs_and_Other_Import Duties ', 'Foreign Direct Investments', 'New Vehicle Registrations', 'Vehicle Sales', 'Sales 90 Octane', 'Sales Auto Diesel'), R²: 1.00000, Time: 0.01438 sec\n",
            "Checking combination 168/888030: ('petroleum_imports_crudeOil', 'Taxes_on_Customs_and_Other_Import Duties ', 'Foreign Direct Investments', 'New Vehicle Registrations', 'Vehicle Sales', 'Sales 90 Octane', 'rolling_std_7'), R²: 1.00000, Time: 0.01360 sec\n",
            "Checking combination 169/888030: ('petroleum_imports_crudeOil', 'Taxes_on_Customs_and_Other_Import Duties ', 'Foreign Direct Investments', 'New Vehicle Registrations', 'Vehicle Sales', 'Sales 90 Octane', 'rolling_median_7'), R²: 1.00000, Time: 0.00620 sec\n",
            "Checking combination 170/888030: ('petroleum_imports_crudeOil', 'Taxes_on_Customs_and_Other_Import Duties ', 'Foreign Direct Investments', 'New Vehicle Registrations', 'Vehicle Sales', 'Sales 90 Octane', 'ema_0.1'), R²: 1.00000, Time: 0.00557 sec\n",
            "Checking combination 171/888030: ('petroleum_imports_crudeOil', 'Taxes_on_Customs_and_Other_Import Duties ', 'Foreign Direct Investments', 'New Vehicle Registrations', 'Vehicle Sales', 'Sales 90 Octane', 'dayofweek'), R²: 1.00000, Time: 0.00689 sec\n",
            "Checking combination 172/888030: ('petroleum_imports_crudeOil', 'Taxes_on_Customs_and_Other_Import Duties ', 'Foreign Direct Investments', 'New Vehicle Registrations', 'Vehicle Sales', 'Sales 90 Octane', 'month'), R²: 1.00000, Time: 0.00642 sec\n",
            "Checking combination 173/888030: ('petroleum_imports_crudeOil', 'Taxes_on_Customs_and_Other_Import Duties ', 'Foreign Direct Investments', 'New Vehicle Registrations', 'Vehicle Sales', 'Sales 90 Octane', 'quarter'), R²: 1.00000, Time: 0.00724 sec\n",
            "Checking combination 174/888030: ('petroleum_imports_crudeOil', 'Taxes_on_Customs_and_Other_Import Duties ', 'Foreign Direct Investments', 'New Vehicle Registrations', 'Vehicle Sales', 'Sales 90 Octane', 'is_weekend'), R²: 1.00000, Time: 0.00755 sec\n",
            "Checking combination 175/888030: ('petroleum_imports_crudeOil', 'Taxes_on_Customs_and_Other_Import Duties ', 'Foreign Direct Investments', 'New Vehicle Registrations', 'Vehicle Sales', 'Sales 90 Octane', 'log_fuel_consumption'), R²: 1.00000, Time: 0.00789 sec\n",
            "Checking combination 176/888030: ('petroleum_imports_crudeOil', 'Taxes_on_Customs_and_Other_Import Duties ', 'Foreign Direct Investments', 'New Vehicle Registrations', 'Vehicle Sales', 'Sales 90 Octane', 'boxcox_fuel_consumption'), R²: 1.00000, Time: 0.00669 sec\n",
            "Checking combination 177/888030: ('petroleum_imports_crudeOil', 'Taxes_on_Customs_and_Other_Import Duties ', 'Foreign Direct Investments', 'New Vehicle Registrations', 'Vehicle Sales', 'Sales 95 Octane', 'Sales Auto Diesel'), R²: 1.00000, Time: 0.00639 sec\n",
            "Checking combination 178/888030: ('petroleum_imports_crudeOil', 'Taxes_on_Customs_and_Other_Import Duties ', 'Foreign Direct Investments', 'New Vehicle Registrations', 'Vehicle Sales', 'Sales 95 Octane', 'rolling_std_7'), R²: 1.00000, Time: 0.00697 sec\n",
            "Checking combination 179/888030: ('petroleum_imports_crudeOil', 'Taxes_on_Customs_and_Other_Import Duties ', 'Foreign Direct Investments', 'New Vehicle Registrations', 'Vehicle Sales', 'Sales 95 Octane', 'rolling_median_7'), R²: 1.00000, Time: 0.00606 sec\n",
            "Checking combination 180/888030: ('petroleum_imports_crudeOil', 'Taxes_on_Customs_and_Other_Import Duties ', 'Foreign Direct Investments', 'New Vehicle Registrations', 'Vehicle Sales', 'Sales 95 Octane', 'ema_0.1'), R²: 1.00000, Time: 0.00628 sec\n",
            "Checking combination 181/888030: ('petroleum_imports_crudeOil', 'Taxes_on_Customs_and_Other_Import Duties ', 'Foreign Direct Investments', 'New Vehicle Registrations', 'Vehicle Sales', 'Sales 95 Octane', 'dayofweek'), R²: 1.00000, Time: 0.00424 sec\n",
            "Checking combination 182/888030: ('petroleum_imports_crudeOil', 'Taxes_on_Customs_and_Other_Import Duties ', 'Foreign Direct Investments', 'New Vehicle Registrations', 'Vehicle Sales', 'Sales 95 Octane', 'month'), R²: 1.00000, Time: 0.00421 sec\n",
            "Checking combination 183/888030: ('petroleum_imports_crudeOil', 'Taxes_on_Customs_and_Other_Import Duties ', 'Foreign Direct Investments', 'New Vehicle Registrations', 'Vehicle Sales', 'Sales 95 Octane', 'quarter'), R²: 1.00000, Time: 0.00458 sec\n",
            "Checking combination 184/888030: ('petroleum_imports_crudeOil', 'Taxes_on_Customs_and_Other_Import Duties ', 'Foreign Direct Investments', 'New Vehicle Registrations', 'Vehicle Sales', 'Sales 95 Octane', 'is_weekend'), R²: 1.00000, Time: 0.00409 sec\n",
            "Checking combination 185/888030: ('petroleum_imports_crudeOil', 'Taxes_on_Customs_and_Other_Import Duties ', 'Foreign Direct Investments', 'New Vehicle Registrations', 'Vehicle Sales', 'Sales 95 Octane', 'log_fuel_consumption'), R²: 1.00000, Time: 0.00384 sec\n",
            "Checking combination 186/888030: ('petroleum_imports_crudeOil', 'Taxes_on_Customs_and_Other_Import Duties ', 'Foreign Direct Investments', 'New Vehicle Registrations', 'Vehicle Sales', 'Sales 95 Octane', 'boxcox_fuel_consumption'), R²: 1.00000, Time: 0.00411 sec\n",
            "Checking combination 187/888030: ('petroleum_imports_crudeOil', 'Taxes_on_Customs_and_Other_Import Duties ', 'Foreign Direct Investments', 'New Vehicle Registrations', 'Vehicle Sales', 'Sales Auto Diesel', 'rolling_std_7'), R²: 1.00000, Time: 0.00392 sec\n",
            "Checking combination 188/888030: ('petroleum_imports_crudeOil', 'Taxes_on_Customs_and_Other_Import Duties ', 'Foreign Direct Investments', 'New Vehicle Registrations', 'Vehicle Sales', 'Sales Auto Diesel', 'rolling_median_7'), R²: 1.00000, Time: 0.00373 sec\n",
            "Checking combination 189/888030: ('petroleum_imports_crudeOil', 'Taxes_on_Customs_and_Other_Import Duties ', 'Foreign Direct Investments', 'New Vehicle Registrations', 'Vehicle Sales', 'Sales Auto Diesel', 'ema_0.1'), R²: 1.00000, Time: 0.00365 sec\n",
            "Checking combination 190/888030: ('petroleum_imports_crudeOil', 'Taxes_on_Customs_and_Other_Import Duties ', 'Foreign Direct Investments', 'New Vehicle Registrations', 'Vehicle Sales', 'Sales Auto Diesel', 'dayofweek'), R²: 1.00000, Time: 0.00403 sec\n",
            "Checking combination 191/888030: ('petroleum_imports_crudeOil', 'Taxes_on_Customs_and_Other_Import Duties ', 'Foreign Direct Investments', 'New Vehicle Registrations', 'Vehicle Sales', 'Sales Auto Diesel', 'month'), R²: 1.00000, Time: 0.00390 sec\n",
            "Checking combination 192/888030: ('petroleum_imports_crudeOil', 'Taxes_on_Customs_and_Other_Import Duties ', 'Foreign Direct Investments', 'New Vehicle Registrations', 'Vehicle Sales', 'Sales Auto Diesel', 'quarter'), R²: 1.00000, Time: 0.00389 sec\n",
            "Checking combination 193/888030: ('petroleum_imports_crudeOil', 'Taxes_on_Customs_and_Other_Import Duties ', 'Foreign Direct Investments', 'New Vehicle Registrations', 'Vehicle Sales', 'Sales Auto Diesel', 'is_weekend'), R²: 1.00000, Time: 0.00382 sec\n",
            "Checking combination 194/888030: ('petroleum_imports_crudeOil', 'Taxes_on_Customs_and_Other_Import Duties ', 'Foreign Direct Investments', 'New Vehicle Registrations', 'Vehicle Sales', 'Sales Auto Diesel', 'log_fuel_consumption'), R²: 1.00000, Time: 0.00366 sec\n",
            "Checking combination 195/888030: ('petroleum_imports_crudeOil', 'Taxes_on_Customs_and_Other_Import Duties ', 'Foreign Direct Investments', 'New Vehicle Registrations', 'Vehicle Sales', 'Sales Auto Diesel', 'boxcox_fuel_consumption'), R²: 1.00000, Time: 0.00379 sec\n",
            "Checking combination 196/888030: ('petroleum_imports_crudeOil', 'Taxes_on_Customs_and_Other_Import Duties ', 'Foreign Direct Investments', 'New Vehicle Registrations', 'Vehicle Sales', 'rolling_std_7', 'rolling_median_7'), R²: 1.00000, Time: 0.00368 sec\n",
            "Checking combination 197/888030: ('petroleum_imports_crudeOil', 'Taxes_on_Customs_and_Other_Import Duties ', 'Foreign Direct Investments', 'New Vehicle Registrations', 'Vehicle Sales', 'rolling_std_7', 'ema_0.1'), R²: 1.00000, Time: 0.00359 sec\n",
            "Checking combination 198/888030: ('petroleum_imports_crudeOil', 'Taxes_on_Customs_and_Other_Import Duties ', 'Foreign Direct Investments', 'New Vehicle Registrations', 'Vehicle Sales', 'rolling_std_7', 'dayofweek'), R²: 1.00000, Time: 0.00389 sec\n",
            "Checking combination 199/888030: ('petroleum_imports_crudeOil', 'Taxes_on_Customs_and_Other_Import Duties ', 'Foreign Direct Investments', 'New Vehicle Registrations', 'Vehicle Sales', 'rolling_std_7', 'month'), R²: 1.00000, Time: 0.00401 sec\n",
            "Checking combination 200/888030: ('petroleum_imports_crudeOil', 'Taxes_on_Customs_and_Other_Import Duties ', 'Foreign Direct Investments', 'New Vehicle Registrations', 'Vehicle Sales', 'rolling_std_7', 'quarter'), R²: 1.00000, Time: 0.00529 sec\n",
            "Checking combination 201/888030: ('petroleum_imports_crudeOil', 'Taxes_on_Customs_and_Other_Import Duties ', 'Foreign Direct Investments', 'New Vehicle Registrations', 'Vehicle Sales', 'rolling_std_7', 'is_weekend'), R²: 1.00000, Time: 0.00481 sec\n",
            "Checking combination 202/888030: ('petroleum_imports_crudeOil', 'Taxes_on_Customs_and_Other_Import Duties ', 'Foreign Direct Investments', 'New Vehicle Registrations', 'Vehicle Sales', 'rolling_std_7', 'log_fuel_consumption'), R²: 1.00000, Time: 0.00416 sec\n",
            "Checking combination 203/888030: ('petroleum_imports_crudeOil', 'Taxes_on_Customs_and_Other_Import Duties ', 'Foreign Direct Investments', 'New Vehicle Registrations', 'Vehicle Sales', 'rolling_std_7', 'boxcox_fuel_consumption'), R²: 1.00000, Time: 0.00426 sec\n",
            "Checking combination 204/888030: ('petroleum_imports_crudeOil', 'Taxes_on_Customs_and_Other_Import Duties ', 'Foreign Direct Investments', 'New Vehicle Registrations', 'Vehicle Sales', 'rolling_median_7', 'ema_0.1'), R²: 1.00000, Time: 0.00418 sec\n",
            "Checking combination 205/888030: ('petroleum_imports_crudeOil', 'Taxes_on_Customs_and_Other_Import Duties ', 'Foreign Direct Investments', 'New Vehicle Registrations', 'Vehicle Sales', 'rolling_median_7', 'dayofweek'), R²: 1.00000, Time: 0.00428 sec\n",
            "Checking combination 206/888030: ('petroleum_imports_crudeOil', 'Taxes_on_Customs_and_Other_Import Duties ', 'Foreign Direct Investments', 'New Vehicle Registrations', 'Vehicle Sales', 'rolling_median_7', 'month'), R²: 1.00000, Time: 0.00386 sec\n",
            "Checking combination 207/888030: ('petroleum_imports_crudeOil', 'Taxes_on_Customs_and_Other_Import Duties ', 'Foreign Direct Investments', 'New Vehicle Registrations', 'Vehicle Sales', 'rolling_median_7', 'quarter'), R²: 1.00000, Time: 0.00393 sec\n",
            "Checking combination 208/888030: ('petroleum_imports_crudeOil', 'Taxes_on_Customs_and_Other_Import Duties ', 'Foreign Direct Investments', 'New Vehicle Registrations', 'Vehicle Sales', 'rolling_median_7', 'is_weekend'), R²: 1.00000, Time: 0.00386 sec\n",
            "Checking combination 209/888030: ('petroleum_imports_crudeOil', 'Taxes_on_Customs_and_Other_Import Duties ', 'Foreign Direct Investments', 'New Vehicle Registrations', 'Vehicle Sales', 'rolling_median_7', 'log_fuel_consumption'), R²: 1.00000, Time: 0.00479 sec\n",
            "Checking combination 210/888030: ('petroleum_imports_crudeOil', 'Taxes_on_Customs_and_Other_Import Duties ', 'Foreign Direct Investments', 'New Vehicle Registrations', 'Vehicle Sales', 'rolling_median_7', 'boxcox_fuel_consumption'), R²: 1.00000, Time: 0.00447 sec\n",
            "Checking combination 211/888030: ('petroleum_imports_crudeOil', 'Taxes_on_Customs_and_Other_Import Duties ', 'Foreign Direct Investments', 'New Vehicle Registrations', 'Vehicle Sales', 'ema_0.1', 'dayofweek'), R²: 1.00000, Time: 0.00420 sec\n",
            "Checking combination 212/888030: ('petroleum_imports_crudeOil', 'Taxes_on_Customs_and_Other_Import Duties ', 'Foreign Direct Investments', 'New Vehicle Registrations', 'Vehicle Sales', 'ema_0.1', 'month'), R²: 1.00000, Time: 0.00396 sec\n",
            "Checking combination 213/888030: ('petroleum_imports_crudeOil', 'Taxes_on_Customs_and_Other_Import Duties ', 'Foreign Direct Investments', 'New Vehicle Registrations', 'Vehicle Sales', 'ema_0.1', 'quarter'), R²: 1.00000, Time: 0.00383 sec\n",
            "Checking combination 214/888030: ('petroleum_imports_crudeOil', 'Taxes_on_Customs_and_Other_Import Duties ', 'Foreign Direct Investments', 'New Vehicle Registrations', 'Vehicle Sales', 'ema_0.1', 'is_weekend'), R²: 1.00000, Time: 0.00421 sec\n",
            "Checking combination 215/888030: ('petroleum_imports_crudeOil', 'Taxes_on_Customs_and_Other_Import Duties ', 'Foreign Direct Investments', 'New Vehicle Registrations', 'Vehicle Sales', 'ema_0.1', 'log_fuel_consumption'), R²: 1.00000, Time: 0.00394 sec\n",
            "Checking combination 216/888030: ('petroleum_imports_crudeOil', 'Taxes_on_Customs_and_Other_Import Duties ', 'Foreign Direct Investments', 'New Vehicle Registrations', 'Vehicle Sales', 'ema_0.1', 'boxcox_fuel_consumption'), R²: 1.00000, Time: 0.00378 sec\n",
            "Checking combination 217/888030: ('petroleum_imports_crudeOil', 'Taxes_on_Customs_and_Other_Import Duties ', 'Foreign Direct Investments', 'New Vehicle Registrations', 'Vehicle Sales', 'dayofweek', 'month'), R²: 1.00000, Time: 0.00415 sec\n",
            "Checking combination 218/888030: ('petroleum_imports_crudeOil', 'Taxes_on_Customs_and_Other_Import Duties ', 'Foreign Direct Investments', 'New Vehicle Registrations', 'Vehicle Sales', 'dayofweek', 'quarter'), R²: 1.00000, Time: 0.00449 sec\n",
            "Checking combination 219/888030: ('petroleum_imports_crudeOil', 'Taxes_on_Customs_and_Other_Import Duties ', 'Foreign Direct Investments', 'New Vehicle Registrations', 'Vehicle Sales', 'dayofweek', 'is_weekend'), R²: 1.00000, Time: 0.00425 sec\n",
            "Checking combination 220/888030: ('petroleum_imports_crudeOil', 'Taxes_on_Customs_and_Other_Import Duties ', 'Foreign Direct Investments', 'New Vehicle Registrations', 'Vehicle Sales', 'dayofweek', 'log_fuel_consumption'), R²: 1.00000, Time: 0.00400 sec\n",
            "Checking combination 221/888030: ('petroleum_imports_crudeOil', 'Taxes_on_Customs_and_Other_Import Duties ', 'Foreign Direct Investments', 'New Vehicle Registrations', 'Vehicle Sales', 'dayofweek', 'boxcox_fuel_consumption'), R²: 1.00000, Time: 0.00406 sec\n",
            "Checking combination 222/888030: ('petroleum_imports_crudeOil', 'Taxes_on_Customs_and_Other_Import Duties ', 'Foreign Direct Investments', 'New Vehicle Registrations', 'Vehicle Sales', 'month', 'quarter'), R²: 1.00000, Time: 0.00740 sec\n",
            "Checking combination 223/888030: ('petroleum_imports_crudeOil', 'Taxes_on_Customs_and_Other_Import Duties ', 'Foreign Direct Investments', 'New Vehicle Registrations', 'Vehicle Sales', 'month', 'is_weekend'), R²: 1.00000, Time: 0.00643 sec\n",
            "Checking combination 224/888030: ('petroleum_imports_crudeOil', 'Taxes_on_Customs_and_Other_Import Duties ', 'Foreign Direct Investments', 'New Vehicle Registrations', 'Vehicle Sales', 'month', 'log_fuel_consumption'), R²: 1.00000, Time: 0.00477 sec\n",
            "Checking combination 225/888030: ('petroleum_imports_crudeOil', 'Taxes_on_Customs_and_Other_Import Duties ', 'Foreign Direct Investments', 'New Vehicle Registrations', 'Vehicle Sales', 'month', 'boxcox_fuel_consumption'), R²: 1.00000, Time: 0.00410 sec\n",
            "Checking combination 226/888030: ('petroleum_imports_crudeOil', 'Taxes_on_Customs_and_Other_Import Duties ', 'Foreign Direct Investments', 'New Vehicle Registrations', 'Vehicle Sales', 'quarter', 'is_weekend'), R²: 1.00000, Time: 0.00408 sec\n",
            "Checking combination 227/888030: ('petroleum_imports_crudeOil', 'Taxes_on_Customs_and_Other_Import Duties ', 'Foreign Direct Investments', 'New Vehicle Registrations', 'Vehicle Sales', 'quarter', 'log_fuel_consumption'), R²: 1.00000, Time: 0.00404 sec\n",
            "Checking combination 228/888030: ('petroleum_imports_crudeOil', 'Taxes_on_Customs_and_Other_Import Duties ', 'Foreign Direct Investments', 'New Vehicle Registrations', 'Vehicle Sales', 'quarter', 'boxcox_fuel_consumption'), R²: 1.00000, Time: 0.00390 sec\n",
            "Checking combination 229/888030: ('petroleum_imports_crudeOil', 'Taxes_on_Customs_and_Other_Import Duties ', 'Foreign Direct Investments', 'New Vehicle Registrations', 'Vehicle Sales', 'is_weekend', 'log_fuel_consumption'), R²: 1.00000, Time: 0.00388 sec\n",
            "Checking combination 230/888030: ('petroleum_imports_crudeOil', 'Taxes_on_Customs_and_Other_Import Duties ', 'Foreign Direct Investments', 'New Vehicle Registrations', 'Vehicle Sales', 'is_weekend', 'boxcox_fuel_consumption'), R²: 1.00000, Time: 0.00448 sec\n",
            "Checking combination 231/888030: ('petroleum_imports_crudeOil', 'Taxes_on_Customs_and_Other_Import Duties ', 'Foreign Direct Investments', 'New Vehicle Registrations', 'Vehicle Sales', 'log_fuel_consumption', 'boxcox_fuel_consumption'), R²: 1.00000, Time: 0.00445 sec\n",
            "Checking combination 232/888030: ('petroleum_imports_crudeOil', 'Taxes_on_Customs_and_Other_Import Duties ', 'Foreign Direct Investments', 'New Vehicle Registrations', 'Vehicle Sales Asia', 'No.of Vessels Colombo', 'Imports of Refined Products'), R²: 1.00000, Time: 0.00530 sec\n",
            "Checking combination 233/888030: ('petroleum_imports_crudeOil', 'Taxes_on_Customs_and_Other_Import Duties ', 'Foreign Direct Investments', 'New Vehicle Registrations', 'Vehicle Sales Asia', 'No.of Vessels Colombo', 'Tax income profits_gains'), R²: 1.00000, Time: 0.00378 sec\n",
            "Checking combination 234/888030: ('petroleum_imports_crudeOil', 'Taxes_on_Customs_and_Other_Import Duties ', 'Foreign Direct Investments', 'New Vehicle Registrations', 'Vehicle Sales Asia', 'No.of Vessels Colombo', 'Tax Goods & Services'), R²: 1.00000, Time: 0.00376 sec\n",
            "Checking combination 235/888030: ('petroleum_imports_crudeOil', 'Taxes_on_Customs_and_Other_Import Duties ', 'Foreign Direct Investments', 'New Vehicle Registrations', 'Vehicle Sales Asia', 'No.of Vessels Colombo', 'Tax Road Transport'), R²: 1.00000, Time: 0.00367 sec\n",
            "Checking combination 236/888030: ('petroleum_imports_crudeOil', 'Taxes_on_Customs_and_Other_Import Duties ', 'Foreign Direct Investments', 'New Vehicle Registrations', 'Vehicle Sales Asia', 'No.of Vessels Colombo', 'GDP FCE Households'), R²: 1.00000, Time: 0.00366 sec\n",
            "Checking combination 237/888030: ('petroleum_imports_crudeOil', 'Taxes_on_Customs_and_Other_Import Duties ', 'Foreign Direct Investments', 'New Vehicle Registrations', 'Vehicle Sales Asia', 'No.of Vessels Colombo', 'Diesel User Price'), R²: 1.00000, Time: 0.00357 sec\n",
            "Checking combination 238/888030: ('petroleum_imports_crudeOil', 'Taxes_on_Customs_and_Other_Import Duties ', 'Foreign Direct Investments', 'New Vehicle Registrations', 'Vehicle Sales Asia', 'No.of Vessels Colombo', 'Petrol User Price'), R²: 1.00000, Time: 0.00355 sec\n",
            "Checking combination 239/888030: ('petroleum_imports_crudeOil', 'Taxes_on_Customs_and_Other_Import Duties ', 'Foreign Direct Investments', 'New Vehicle Registrations', 'Vehicle Sales Asia', 'No.of Vessels Colombo', 'Consumption_Oil'), R²: 1.00000, Time: 0.00363 sec\n",
            "Checking combination 240/888030: ('petroleum_imports_crudeOil', 'Taxes_on_Customs_and_Other_Import Duties ', 'Foreign Direct Investments', 'New Vehicle Registrations', 'Vehicle Sales Asia', 'No.of Vessels Colombo', 'Sales 90 Octane'), R²: 1.00000, Time: 0.00366 sec\n",
            "Checking combination 241/888030: ('petroleum_imports_crudeOil', 'Taxes_on_Customs_and_Other_Import Duties ', 'Foreign Direct Investments', 'New Vehicle Registrations', 'Vehicle Sales Asia', 'No.of Vessels Colombo', 'Sales 95 Octane'), R²: 1.00000, Time: 0.00424 sec\n",
            "Checking combination 242/888030: ('petroleum_imports_crudeOil', 'Taxes_on_Customs_and_Other_Import Duties ', 'Foreign Direct Investments', 'New Vehicle Registrations', 'Vehicle Sales Asia', 'No.of Vessels Colombo', 'Sales Auto Diesel'), R²: 1.00000, Time: 0.00400 sec\n",
            "Checking combination 243/888030: ('petroleum_imports_crudeOil', 'Taxes_on_Customs_and_Other_Import Duties ', 'Foreign Direct Investments', 'New Vehicle Registrations', 'Vehicle Sales Asia', 'No.of Vessels Colombo', 'rolling_std_7'), R²: 1.00000, Time: 0.00385 sec\n",
            "Checking combination 244/888030: ('petroleum_imports_crudeOil', 'Taxes_on_Customs_and_Other_Import Duties ', 'Foreign Direct Investments', 'New Vehicle Registrations', 'Vehicle Sales Asia', 'No.of Vessels Colombo', 'rolling_median_7'), R²: 1.00000, Time: 0.00376 sec\n",
            "Checking combination 245/888030: ('petroleum_imports_crudeOil', 'Taxes_on_Customs_and_Other_Import Duties ', 'Foreign Direct Investments', 'New Vehicle Registrations', 'Vehicle Sales Asia', 'No.of Vessels Colombo', 'ema_0.1'), R²: 1.00000, Time: 0.00375 sec\n",
            "Checking combination 246/888030: ('petroleum_imports_crudeOil', 'Taxes_on_Customs_and_Other_Import Duties ', 'Foreign Direct Investments', 'New Vehicle Registrations', 'Vehicle Sales Asia', 'No.of Vessels Colombo', 'dayofweek'), R²: 1.00000, Time: 0.00493 sec\n",
            "Checking combination 247/888030: ('petroleum_imports_crudeOil', 'Taxes_on_Customs_and_Other_Import Duties ', 'Foreign Direct Investments', 'New Vehicle Registrations', 'Vehicle Sales Asia', 'No.of Vessels Colombo', 'month'), R²: 1.00000, Time: 0.01208 sec\n",
            "Checking combination 248/888030: ('petroleum_imports_crudeOil', 'Taxes_on_Customs_and_Other_Import Duties ', 'Foreign Direct Investments', 'New Vehicle Registrations', 'Vehicle Sales Asia', 'No.of Vessels Colombo', 'quarter'), R²: 1.00000, Time: 0.00856 sec\n",
            "Checking combination 249/888030: ('petroleum_imports_crudeOil', 'Taxes_on_Customs_and_Other_Import Duties ', 'Foreign Direct Investments', 'New Vehicle Registrations', 'Vehicle Sales Asia', 'No.of Vessels Colombo', 'is_weekend'), R²: 1.00000, Time: 0.00772 sec\n",
            "Checking combination 250/888030: ('petroleum_imports_crudeOil', 'Taxes_on_Customs_and_Other_Import Duties ', 'Foreign Direct Investments', 'New Vehicle Registrations', 'Vehicle Sales Asia', 'No.of Vessels Colombo', 'log_fuel_consumption'), R²: 1.00000, Time: 0.00619 sec\n",
            "Checking combination 251/888030: ('petroleum_imports_crudeOil', 'Taxes_on_Customs_and_Other_Import Duties ', 'Foreign Direct Investments', 'New Vehicle Registrations', 'Vehicle Sales Asia', 'No.of Vessels Colombo', 'boxcox_fuel_consumption'), R²: 1.00000, Time: 0.00575 sec\n",
            "Checking combination 252/888030: ('petroleum_imports_crudeOil', 'Taxes_on_Customs_and_Other_Import Duties ', 'Foreign Direct Investments', 'New Vehicle Registrations', 'Vehicle Sales Asia', 'Imports of Refined Products', 'Tax income profits_gains'), R²: 1.00000, Time: 0.00538 sec\n",
            "Checking combination 253/888030: ('petroleum_imports_crudeOil', 'Taxes_on_Customs_and_Other_Import Duties ', 'Foreign Direct Investments', 'New Vehicle Registrations', 'Vehicle Sales Asia', 'Imports of Refined Products', 'Tax Goods & Services'), R²: 1.00000, Time: 0.00514 sec\n",
            "Checking combination 254/888030: ('petroleum_imports_crudeOil', 'Taxes_on_Customs_and_Other_Import Duties ', 'Foreign Direct Investments', 'New Vehicle Registrations', 'Vehicle Sales Asia', 'Imports of Refined Products', 'Tax Road Transport'), R²: 1.00000, Time: 0.00546 sec\n",
            "Checking combination 255/888030: ('petroleum_imports_crudeOil', 'Taxes_on_Customs_and_Other_Import Duties ', 'Foreign Direct Investments', 'New Vehicle Registrations', 'Vehicle Sales Asia', 'Imports of Refined Products', 'GDP FCE Households'), R²: 1.00000, Time: 0.00577 sec\n",
            "Checking combination 256/888030: ('petroleum_imports_crudeOil', 'Taxes_on_Customs_and_Other_Import Duties ', 'Foreign Direct Investments', 'New Vehicle Registrations', 'Vehicle Sales Asia', 'Imports of Refined Products', 'Diesel User Price'), R²: 1.00000, Time: 0.00399 sec\n",
            "Checking combination 257/888030: ('petroleum_imports_crudeOil', 'Taxes_on_Customs_and_Other_Import Duties ', 'Foreign Direct Investments', 'New Vehicle Registrations', 'Vehicle Sales Asia', 'Imports of Refined Products', 'Petrol User Price'), R²: 1.00000, Time: 0.00386 sec\n",
            "Checking combination 258/888030: ('petroleum_imports_crudeOil', 'Taxes_on_Customs_and_Other_Import Duties ', 'Foreign Direct Investments', 'New Vehicle Registrations', 'Vehicle Sales Asia', 'Imports of Refined Products', 'Consumption_Oil'), R²: 1.00000, Time: 0.00370 sec\n",
            "Checking combination 259/888030: ('petroleum_imports_crudeOil', 'Taxes_on_Customs_and_Other_Import Duties ', 'Foreign Direct Investments', 'New Vehicle Registrations', 'Vehicle Sales Asia', 'Imports of Refined Products', 'Sales 90 Octane'), R²: 1.00000, Time: 0.00370 sec\n",
            "Checking combination 260/888030: ('petroleum_imports_crudeOil', 'Taxes_on_Customs_and_Other_Import Duties ', 'Foreign Direct Investments', 'New Vehicle Registrations', 'Vehicle Sales Asia', 'Imports of Refined Products', 'Sales 95 Octane'), R²: 1.00000, Time: 0.00361 sec\n",
            "Checking combination 261/888030: ('petroleum_imports_crudeOil', 'Taxes_on_Customs_and_Other_Import Duties ', 'Foreign Direct Investments', 'New Vehicle Registrations', 'Vehicle Sales Asia', 'Imports of Refined Products', 'Sales Auto Diesel'), R²: 1.00000, Time: 0.00364 sec\n",
            "Checking combination 262/888030: ('petroleum_imports_crudeOil', 'Taxes_on_Customs_and_Other_Import Duties ', 'Foreign Direct Investments', 'New Vehicle Registrations', 'Vehicle Sales Asia', 'Imports of Refined Products', 'rolling_std_7'), R²: 1.00000, Time: 0.00364 sec\n",
            "Checking combination 263/888030: ('petroleum_imports_crudeOil', 'Taxes_on_Customs_and_Other_Import Duties ', 'Foreign Direct Investments', 'New Vehicle Registrations', 'Vehicle Sales Asia', 'Imports of Refined Products', 'rolling_median_7'), R²: 1.00000, Time: 0.00367 sec\n",
            "Checking combination 264/888030: ('petroleum_imports_crudeOil', 'Taxes_on_Customs_and_Other_Import Duties ', 'Foreign Direct Investments', 'New Vehicle Registrations', 'Vehicle Sales Asia', 'Imports of Refined Products', 'ema_0.1'), R²: 1.00000, Time: 0.00359 sec\n",
            "Checking combination 265/888030: ('petroleum_imports_crudeOil', 'Taxes_on_Customs_and_Other_Import Duties ', 'Foreign Direct Investments', 'New Vehicle Registrations', 'Vehicle Sales Asia', 'Imports of Refined Products', 'dayofweek'), R²: 1.00000, Time: 0.00412 sec\n",
            "Checking combination 266/888030: ('petroleum_imports_crudeOil', 'Taxes_on_Customs_and_Other_Import Duties ', 'Foreign Direct Investments', 'New Vehicle Registrations', 'Vehicle Sales Asia', 'Imports of Refined Products', 'month'), R²: 1.00000, Time: 0.00548 sec\n",
            "Checking combination 267/888030: ('petroleum_imports_crudeOil', 'Taxes_on_Customs_and_Other_Import Duties ', 'Foreign Direct Investments', 'New Vehicle Registrations', 'Vehicle Sales Asia', 'Imports of Refined Products', 'quarter'), R²: 1.00000, Time: 0.00644 sec\n",
            "Checking combination 268/888030: ('petroleum_imports_crudeOil', 'Taxes_on_Customs_and_Other_Import Duties ', 'Foreign Direct Investments', 'New Vehicle Registrations', 'Vehicle Sales Asia', 'Imports of Refined Products', 'is_weekend'), R²: 1.00000, Time: 0.00643 sec\n",
            "Checking combination 269/888030: ('petroleum_imports_crudeOil', 'Taxes_on_Customs_and_Other_Import Duties ', 'Foreign Direct Investments', 'New Vehicle Registrations', 'Vehicle Sales Asia', 'Imports of Refined Products', 'log_fuel_consumption'), R²: 1.00000, Time: 0.00412 sec\n",
            "Checking combination 270/888030: ('petroleum_imports_crudeOil', 'Taxes_on_Customs_and_Other_Import Duties ', 'Foreign Direct Investments', 'New Vehicle Registrations', 'Vehicle Sales Asia', 'Imports of Refined Products', 'boxcox_fuel_consumption'), R²: 1.00000, Time: 0.00424 sec\n",
            "Checking combination 271/888030: ('petroleum_imports_crudeOil', 'Taxes_on_Customs_and_Other_Import Duties ', 'Foreign Direct Investments', 'New Vehicle Registrations', 'Vehicle Sales Asia', 'Tax income profits_gains', 'Tax Goods & Services'), R²: 1.00000, Time: 0.00370 sec\n",
            "Checking combination 272/888030: ('petroleum_imports_crudeOil', 'Taxes_on_Customs_and_Other_Import Duties ', 'Foreign Direct Investments', 'New Vehicle Registrations', 'Vehicle Sales Asia', 'Tax income profits_gains', 'Tax Road Transport'), R²: 1.00000, Time: 0.00372 sec\n",
            "Checking combination 273/888030: ('petroleum_imports_crudeOil', 'Taxes_on_Customs_and_Other_Import Duties ', 'Foreign Direct Investments', 'New Vehicle Registrations', 'Vehicle Sales Asia', 'Tax income profits_gains', 'GDP FCE Households'), R²: 1.00000, Time: 0.00486 sec\n",
            "Checking combination 274/888030: ('petroleum_imports_crudeOil', 'Taxes_on_Customs_and_Other_Import Duties ', 'Foreign Direct Investments', 'New Vehicle Registrations', 'Vehicle Sales Asia', 'Tax income profits_gains', 'Diesel User Price'), R²: 1.00000, Time: 0.00526 sec\n",
            "Checking combination 275/888030: ('petroleum_imports_crudeOil', 'Taxes_on_Customs_and_Other_Import Duties ', 'Foreign Direct Investments', 'New Vehicle Registrations', 'Vehicle Sales Asia', 'Tax income profits_gains', 'Petrol User Price'), R²: 1.00000, Time: 0.00399 sec\n",
            "Checking combination 276/888030: ('petroleum_imports_crudeOil', 'Taxes_on_Customs_and_Other_Import Duties ', 'Foreign Direct Investments', 'New Vehicle Registrations', 'Vehicle Sales Asia', 'Tax income profits_gains', 'Consumption_Oil'), R²: 1.00000, Time: 0.00398 sec\n",
            "Checking combination 277/888030: ('petroleum_imports_crudeOil', 'Taxes_on_Customs_and_Other_Import Duties ', 'Foreign Direct Investments', 'New Vehicle Registrations', 'Vehicle Sales Asia', 'Tax income profits_gains', 'Sales 90 Octane'), R²: 1.00000, Time: 0.00387 sec\n",
            "Checking combination 278/888030: ('petroleum_imports_crudeOil', 'Taxes_on_Customs_and_Other_Import Duties ', 'Foreign Direct Investments', 'New Vehicle Registrations', 'Vehicle Sales Asia', 'Tax income profits_gains', 'Sales 95 Octane'), R²: 1.00000, Time: 0.00392 sec\n",
            "Checking combination 279/888030: ('petroleum_imports_crudeOil', 'Taxes_on_Customs_and_Other_Import Duties ', 'Foreign Direct Investments', 'New Vehicle Registrations', 'Vehicle Sales Asia', 'Tax income profits_gains', 'Sales Auto Diesel'), R²: 1.00000, Time: 0.00375 sec\n",
            "Checking combination 280/888030: ('petroleum_imports_crudeOil', 'Taxes_on_Customs_and_Other_Import Duties ', 'Foreign Direct Investments', 'New Vehicle Registrations', 'Vehicle Sales Asia', 'Tax income profits_gains', 'rolling_std_7'), R²: 1.00000, Time: 0.00382 sec\n",
            "Checking combination 281/888030: ('petroleum_imports_crudeOil', 'Taxes_on_Customs_and_Other_Import Duties ', 'Foreign Direct Investments', 'New Vehicle Registrations', 'Vehicle Sales Asia', 'Tax income profits_gains', 'rolling_median_7'), R²: 1.00000, Time: 0.00366 sec\n",
            "Checking combination 282/888030: ('petroleum_imports_crudeOil', 'Taxes_on_Customs_and_Other_Import Duties ', 'Foreign Direct Investments', 'New Vehicle Registrations', 'Vehicle Sales Asia', 'Tax income profits_gains', 'ema_0.1'), R²: 1.00000, Time: 0.00352 sec\n",
            "Checking combination 283/888030: ('petroleum_imports_crudeOil', 'Taxes_on_Customs_and_Other_Import Duties ', 'Foreign Direct Investments', 'New Vehicle Registrations', 'Vehicle Sales Asia', 'Tax income profits_gains', 'dayofweek'), R²: 1.00000, Time: 0.00383 sec\n",
            "Checking combination 284/888030: ('petroleum_imports_crudeOil', 'Taxes_on_Customs_and_Other_Import Duties ', 'Foreign Direct Investments', 'New Vehicle Registrations', 'Vehicle Sales Asia', 'Tax income profits_gains', 'month'), R²: 1.00000, Time: 0.00394 sec\n",
            "Checking combination 285/888030: ('petroleum_imports_crudeOil', 'Taxes_on_Customs_and_Other_Import Duties ', 'Foreign Direct Investments', 'New Vehicle Registrations', 'Vehicle Sales Asia', 'Tax income profits_gains', 'quarter'), R²: 1.00000, Time: 0.00421 sec\n",
            "Checking combination 286/888030: ('petroleum_imports_crudeOil', 'Taxes_on_Customs_and_Other_Import Duties ', 'Foreign Direct Investments', 'New Vehicle Registrations', 'Vehicle Sales Asia', 'Tax income profits_gains', 'is_weekend'), R²: 1.00000, Time: 0.00390 sec\n",
            "Checking combination 287/888030: ('petroleum_imports_crudeOil', 'Taxes_on_Customs_and_Other_Import Duties ', 'Foreign Direct Investments', 'New Vehicle Registrations', 'Vehicle Sales Asia', 'Tax income profits_gains', 'log_fuel_consumption'), R²: 1.00000, Time: 0.00369 sec\n",
            "Checking combination 288/888030: ('petroleum_imports_crudeOil', 'Taxes_on_Customs_and_Other_Import Duties ', 'Foreign Direct Investments', 'New Vehicle Registrations', 'Vehicle Sales Asia', 'Tax income profits_gains', 'boxcox_fuel_consumption'), R²: 1.00000, Time: 0.00417 sec\n",
            "Checking combination 289/888030: ('petroleum_imports_crudeOil', 'Taxes_on_Customs_and_Other_Import Duties ', 'Foreign Direct Investments', 'New Vehicle Registrations', 'Vehicle Sales Asia', 'Tax Goods & Services', 'Tax Road Transport'), R²: 1.00000, Time: 0.00625 sec\n",
            "Checking combination 290/888030: ('petroleum_imports_crudeOil', 'Taxes_on_Customs_and_Other_Import Duties ', 'Foreign Direct Investments', 'New Vehicle Registrations', 'Vehicle Sales Asia', 'Tax Goods & Services', 'GDP FCE Households'), R²: 1.00000, Time: 0.00398 sec\n",
            "Checking combination 291/888030: ('petroleum_imports_crudeOil', 'Taxes_on_Customs_and_Other_Import Duties ', 'Foreign Direct Investments', 'New Vehicle Registrations', 'Vehicle Sales Asia', 'Tax Goods & Services', 'Diesel User Price'), R²: 1.00000, Time: 0.00373 sec\n",
            "Checking combination 292/888030: ('petroleum_imports_crudeOil', 'Taxes_on_Customs_and_Other_Import Duties ', 'Foreign Direct Investments', 'New Vehicle Registrations', 'Vehicle Sales Asia', 'Tax Goods & Services', 'Petrol User Price'), R²: 1.00000, Time: 0.00420 sec\n",
            "Checking combination 293/888030: ('petroleum_imports_crudeOil', 'Taxes_on_Customs_and_Other_Import Duties ', 'Foreign Direct Investments', 'New Vehicle Registrations', 'Vehicle Sales Asia', 'Tax Goods & Services', 'Consumption_Oil'), R²: 1.00000, Time: 0.00380 sec\n",
            "Checking combination 294/888030: ('petroleum_imports_crudeOil', 'Taxes_on_Customs_and_Other_Import Duties ', 'Foreign Direct Investments', 'New Vehicle Registrations', 'Vehicle Sales Asia', 'Tax Goods & Services', 'Sales 90 Octane'), R²: 1.00000, Time: 0.00386 sec\n",
            "Checking combination 295/888030: ('petroleum_imports_crudeOil', 'Taxes_on_Customs_and_Other_Import Duties ', 'Foreign Direct Investments', 'New Vehicle Registrations', 'Vehicle Sales Asia', 'Tax Goods & Services', 'Sales 95 Octane'), R²: 1.00000, Time: 0.00376 sec\n",
            "Checking combination 296/888030: ('petroleum_imports_crudeOil', 'Taxes_on_Customs_and_Other_Import Duties ', 'Foreign Direct Investments', 'New Vehicle Registrations', 'Vehicle Sales Asia', 'Tax Goods & Services', 'Sales Auto Diesel'), R²: 1.00000, Time: 0.00389 sec\n",
            "Checking combination 297/888030: ('petroleum_imports_crudeOil', 'Taxes_on_Customs_and_Other_Import Duties ', 'Foreign Direct Investments', 'New Vehicle Registrations', 'Vehicle Sales Asia', 'Tax Goods & Services', 'rolling_std_7'), R²: 1.00000, Time: 0.00418 sec\n",
            "Checking combination 298/888030: ('petroleum_imports_crudeOil', 'Taxes_on_Customs_and_Other_Import Duties ', 'Foreign Direct Investments', 'New Vehicle Registrations', 'Vehicle Sales Asia', 'Tax Goods & Services', 'rolling_median_7'), R²: 1.00000, Time: 0.00527 sec\n",
            "Checking combination 299/888030: ('petroleum_imports_crudeOil', 'Taxes_on_Customs_and_Other_Import Duties ', 'Foreign Direct Investments', 'New Vehicle Registrations', 'Vehicle Sales Asia', 'Tax Goods & Services', 'ema_0.1'), R²: 1.00000, Time: 0.00464 sec\n",
            "Checking combination 300/888030: ('petroleum_imports_crudeOil', 'Taxes_on_Customs_and_Other_Import Duties ', 'Foreign Direct Investments', 'New Vehicle Registrations', 'Vehicle Sales Asia', 'Tax Goods & Services', 'dayofweek'), R²: 1.00000, Time: 0.00435 sec\n",
            "Checking combination 301/888030: ('petroleum_imports_crudeOil', 'Taxes_on_Customs_and_Other_Import Duties ', 'Foreign Direct Investments', 'New Vehicle Registrations', 'Vehicle Sales Asia', 'Tax Goods & Services', 'month'), R²: 1.00000, Time: 0.00567 sec\n",
            "Checking combination 302/888030: ('petroleum_imports_crudeOil', 'Taxes_on_Customs_and_Other_Import Duties ', 'Foreign Direct Investments', 'New Vehicle Registrations', 'Vehicle Sales Asia', 'Tax Goods & Services', 'quarter'), R²: 1.00000, Time: 0.00453 sec\n",
            "Checking combination 303/888030: ('petroleum_imports_crudeOil', 'Taxes_on_Customs_and_Other_Import Duties ', 'Foreign Direct Investments', 'New Vehicle Registrations', 'Vehicle Sales Asia', 'Tax Goods & Services', 'is_weekend'), R²: 1.00000, Time: 0.00423 sec\n",
            "Checking combination 304/888030: ('petroleum_imports_crudeOil', 'Taxes_on_Customs_and_Other_Import Duties ', 'Foreign Direct Investments', 'New Vehicle Registrations', 'Vehicle Sales Asia', 'Tax Goods & Services', 'log_fuel_consumption'), R²: 1.00000, Time: 0.00386 sec\n",
            "Checking combination 305/888030: ('petroleum_imports_crudeOil', 'Taxes_on_Customs_and_Other_Import Duties ', 'Foreign Direct Investments', 'New Vehicle Registrations', 'Vehicle Sales Asia', 'Tax Goods & Services', 'boxcox_fuel_consumption'), R²: 1.00000, Time: 0.00380 sec\n",
            "Checking combination 306/888030: ('petroleum_imports_crudeOil', 'Taxes_on_Customs_and_Other_Import Duties ', 'Foreign Direct Investments', 'New Vehicle Registrations', 'Vehicle Sales Asia', 'Tax Road Transport', 'GDP FCE Households'), R²: 1.00000, Time: 0.00534 sec\n",
            "Checking combination 307/888030: ('petroleum_imports_crudeOil', 'Taxes_on_Customs_and_Other_Import Duties ', 'Foreign Direct Investments', 'New Vehicle Registrations', 'Vehicle Sales Asia', 'Tax Road Transport', 'Diesel User Price'), R²: 1.00000, Time: 0.00387 sec\n",
            "Checking combination 308/888030: ('petroleum_imports_crudeOil', 'Taxes_on_Customs_and_Other_Import Duties ', 'Foreign Direct Investments', 'New Vehicle Registrations', 'Vehicle Sales Asia', 'Tax Road Transport', 'Petrol User Price'), R²: 1.00000, Time: 0.00378 sec\n",
            "Checking combination 309/888030: ('petroleum_imports_crudeOil', 'Taxes_on_Customs_and_Other_Import Duties ', 'Foreign Direct Investments', 'New Vehicle Registrations', 'Vehicle Sales Asia', 'Tax Road Transport', 'Consumption_Oil'), R²: 1.00000, Time: 0.00381 sec\n",
            "Checking combination 310/888030: ('petroleum_imports_crudeOil', 'Taxes_on_Customs_and_Other_Import Duties ', 'Foreign Direct Investments', 'New Vehicle Registrations', 'Vehicle Sales Asia', 'Tax Road Transport', 'Sales 90 Octane'), R²: 1.00000, Time: 0.00381 sec\n",
            "Checking combination 311/888030: ('petroleum_imports_crudeOil', 'Taxes_on_Customs_and_Other_Import Duties ', 'Foreign Direct Investments', 'New Vehicle Registrations', 'Vehicle Sales Asia', 'Tax Road Transport', 'Sales 95 Octane'), R²: 1.00000, Time: 0.00386 sec\n",
            "Checking combination 312/888030: ('petroleum_imports_crudeOil', 'Taxes_on_Customs_and_Other_Import Duties ', 'Foreign Direct Investments', 'New Vehicle Registrations', 'Vehicle Sales Asia', 'Tax Road Transport', 'Sales Auto Diesel'), R²: 1.00000, Time: 0.00380 sec\n",
            "Checking combination 313/888030: ('petroleum_imports_crudeOil', 'Taxes_on_Customs_and_Other_Import Duties ', 'Foreign Direct Investments', 'New Vehicle Registrations', 'Vehicle Sales Asia', 'Tax Road Transport', 'rolling_std_7'), R²: 1.00000, Time: 0.00413 sec\n",
            "Checking combination 314/888030: ('petroleum_imports_crudeOil', 'Taxes_on_Customs_and_Other_Import Duties ', 'Foreign Direct Investments', 'New Vehicle Registrations', 'Vehicle Sales Asia', 'Tax Road Transport', 'rolling_median_7'), R²: 1.00000, Time: 0.00568 sec\n",
            "Checking combination 315/888030: ('petroleum_imports_crudeOil', 'Taxes_on_Customs_and_Other_Import Duties ', 'Foreign Direct Investments', 'New Vehicle Registrations', 'Vehicle Sales Asia', 'Tax Road Transport', 'ema_0.1'), R²: 1.00000, Time: 0.00539 sec\n",
            "Checking combination 316/888030: ('petroleum_imports_crudeOil', 'Taxes_on_Customs_and_Other_Import Duties ', 'Foreign Direct Investments', 'New Vehicle Registrations', 'Vehicle Sales Asia', 'Tax Road Transport', 'dayofweek'), R²: 1.00000, Time: 0.00555 sec\n",
            "Checking combination 317/888030: ('petroleum_imports_crudeOil', 'Taxes_on_Customs_and_Other_Import Duties ', 'Foreign Direct Investments', 'New Vehicle Registrations', 'Vehicle Sales Asia', 'Tax Road Transport', 'month'), R²: 1.00000, Time: 0.00507 sec\n",
            "Checking combination 318/888030: ('petroleum_imports_crudeOil', 'Taxes_on_Customs_and_Other_Import Duties ', 'Foreign Direct Investments', 'New Vehicle Registrations', 'Vehicle Sales Asia', 'Tax Road Transport', 'quarter'), R²: 1.00000, Time: 0.00672 sec\n",
            "Checking combination 319/888030: ('petroleum_imports_crudeOil', 'Taxes_on_Customs_and_Other_Import Duties ', 'Foreign Direct Investments', 'New Vehicle Registrations', 'Vehicle Sales Asia', 'Tax Road Transport', 'is_weekend'), R²: 1.00000, Time: 0.00727 sec\n",
            "Checking combination 320/888030: ('petroleum_imports_crudeOil', 'Taxes_on_Customs_and_Other_Import Duties ', 'Foreign Direct Investments', 'New Vehicle Registrations', 'Vehicle Sales Asia', 'Tax Road Transport', 'log_fuel_consumption'), R²: 1.00000, Time: 0.00567 sec\n",
            "Checking combination 321/888030: ('petroleum_imports_crudeOil', 'Taxes_on_Customs_and_Other_Import Duties ', 'Foreign Direct Investments', 'New Vehicle Registrations', 'Vehicle Sales Asia', 'Tax Road Transport', 'boxcox_fuel_consumption'), R²: 1.00000, Time: 0.00385 sec\n",
            "Checking combination 322/888030: ('petroleum_imports_crudeOil', 'Taxes_on_Customs_and_Other_Import Duties ', 'Foreign Direct Investments', 'New Vehicle Registrations', 'Vehicle Sales Asia', 'GDP FCE Households', 'Diesel User Price'), R²: 1.00000, Time: 0.00561 sec\n",
            "Checking combination 323/888030: ('petroleum_imports_crudeOil', 'Taxes_on_Customs_and_Other_Import Duties ', 'Foreign Direct Investments', 'New Vehicle Registrations', 'Vehicle Sales Asia', 'GDP FCE Households', 'Petrol User Price'), R²: 1.00000, Time: 0.00500 sec\n",
            "Checking combination 324/888030: ('petroleum_imports_crudeOil', 'Taxes_on_Customs_and_Other_Import Duties ', 'Foreign Direct Investments', 'New Vehicle Registrations', 'Vehicle Sales Asia', 'GDP FCE Households', 'Consumption_Oil'), R²: 1.00000, Time: 0.00393 sec\n",
            "Checking combination 325/888030: ('petroleum_imports_crudeOil', 'Taxes_on_Customs_and_Other_Import Duties ', 'Foreign Direct Investments', 'New Vehicle Registrations', 'Vehicle Sales Asia', 'GDP FCE Households', 'Sales 90 Octane'), R²: 1.00000, Time: 0.00402 sec\n",
            "Checking combination 326/888030: ('petroleum_imports_crudeOil', 'Taxes_on_Customs_and_Other_Import Duties ', 'Foreign Direct Investments', 'New Vehicle Registrations', 'Vehicle Sales Asia', 'GDP FCE Households', 'Sales 95 Octane'), R²: 1.00000, Time: 0.00418 sec\n",
            "Checking combination 327/888030: ('petroleum_imports_crudeOil', 'Taxes_on_Customs_and_Other_Import Duties ', 'Foreign Direct Investments', 'New Vehicle Registrations', 'Vehicle Sales Asia', 'GDP FCE Households', 'Sales Auto Diesel'), R²: 1.00000, Time: 0.00380 sec\n",
            "Checking combination 328/888030: ('petroleum_imports_crudeOil', 'Taxes_on_Customs_and_Other_Import Duties ', 'Foreign Direct Investments', 'New Vehicle Registrations', 'Vehicle Sales Asia', 'GDP FCE Households', 'rolling_std_7'), R²: 1.00000, Time: 0.00387 sec\n",
            "Checking combination 329/888030: ('petroleum_imports_crudeOil', 'Taxes_on_Customs_and_Other_Import Duties ', 'Foreign Direct Investments', 'New Vehicle Registrations', 'Vehicle Sales Asia', 'GDP FCE Households', 'rolling_median_7'), R²: 1.00000, Time: 0.00380 sec\n",
            "Checking combination 330/888030: ('petroleum_imports_crudeOil', 'Taxes_on_Customs_and_Other_Import Duties ', 'Foreign Direct Investments', 'New Vehicle Registrations', 'Vehicle Sales Asia', 'GDP FCE Households', 'ema_0.1'), R²: 1.00000, Time: 0.00384 sec\n",
            "Checking combination 331/888030: ('petroleum_imports_crudeOil', 'Taxes_on_Customs_and_Other_Import Duties ', 'Foreign Direct Investments', 'New Vehicle Registrations', 'Vehicle Sales Asia', 'GDP FCE Households', 'dayofweek'), R²: 1.00000, Time: 0.00401 sec\n",
            "Checking combination 332/888030: ('petroleum_imports_crudeOil', 'Taxes_on_Customs_and_Other_Import Duties ', 'Foreign Direct Investments', 'New Vehicle Registrations', 'Vehicle Sales Asia', 'GDP FCE Households', 'month'), R²: 1.00000, Time: 0.00389 sec\n",
            "Checking combination 333/888030: ('petroleum_imports_crudeOil', 'Taxes_on_Customs_and_Other_Import Duties ', 'Foreign Direct Investments', 'New Vehicle Registrations', 'Vehicle Sales Asia', 'GDP FCE Households', 'quarter'), R²: 1.00000, Time: 0.00388 sec\n",
            "Checking combination 334/888030: ('petroleum_imports_crudeOil', 'Taxes_on_Customs_and_Other_Import Duties ', 'Foreign Direct Investments', 'New Vehicle Registrations', 'Vehicle Sales Asia', 'GDP FCE Households', 'is_weekend'), R²: 1.00000, Time: 0.00392 sec\n",
            "Checking combination 335/888030: ('petroleum_imports_crudeOil', 'Taxes_on_Customs_and_Other_Import Duties ', 'Foreign Direct Investments', 'New Vehicle Registrations', 'Vehicle Sales Asia', 'GDP FCE Households', 'log_fuel_consumption'), R²: 1.00000, Time: 0.00373 sec\n",
            "Checking combination 336/888030: ('petroleum_imports_crudeOil', 'Taxes_on_Customs_and_Other_Import Duties ', 'Foreign Direct Investments', 'New Vehicle Registrations', 'Vehicle Sales Asia', 'GDP FCE Households', 'boxcox_fuel_consumption'), R²: 1.00000, Time: 0.00402 sec\n",
            "Checking combination 337/888030: ('petroleum_imports_crudeOil', 'Taxes_on_Customs_and_Other_Import Duties ', 'Foreign Direct Investments', 'New Vehicle Registrations', 'Vehicle Sales Asia', 'Diesel User Price', 'Petrol User Price'), R²: 1.00000, Time: 0.00471 sec\n",
            "Checking combination 338/888030: ('petroleum_imports_crudeOil', 'Taxes_on_Customs_and_Other_Import Duties ', 'Foreign Direct Investments', 'New Vehicle Registrations', 'Vehicle Sales Asia', 'Diesel User Price', 'Consumption_Oil'), R²: 1.00000, Time: 0.00654 sec\n",
            "Checking combination 339/888030: ('petroleum_imports_crudeOil', 'Taxes_on_Customs_and_Other_Import Duties ', 'Foreign Direct Investments', 'New Vehicle Registrations', 'Vehicle Sales Asia', 'Diesel User Price', 'Sales 90 Octane'), R²: 1.00000, Time: 0.00540 sec\n",
            "Checking combination 340/888030: ('petroleum_imports_crudeOil', 'Taxes_on_Customs_and_Other_Import Duties ', 'Foreign Direct Investments', 'New Vehicle Registrations', 'Vehicle Sales Asia', 'Diesel User Price', 'Sales 95 Octane'), R²: 1.00000, Time: 0.00438 sec\n",
            "Checking combination 341/888030: ('petroleum_imports_crudeOil', 'Taxes_on_Customs_and_Other_Import Duties ', 'Foreign Direct Investments', 'New Vehicle Registrations', 'Vehicle Sales Asia', 'Diesel User Price', 'Sales Auto Diesel'), R²: 1.00000, Time: 0.00393 sec\n",
            "Checking combination 342/888030: ('petroleum_imports_crudeOil', 'Taxes_on_Customs_and_Other_Import Duties ', 'Foreign Direct Investments', 'New Vehicle Registrations', 'Vehicle Sales Asia', 'Diesel User Price', 'rolling_std_7'), R²: 1.00000, Time: 0.00377 sec\n",
            "Checking combination 343/888030: ('petroleum_imports_crudeOil', 'Taxes_on_Customs_and_Other_Import Duties ', 'Foreign Direct Investments', 'New Vehicle Registrations', 'Vehicle Sales Asia', 'Diesel User Price', 'rolling_median_7'), R²: 1.00000, Time: 0.00373 sec\n",
            "Checking combination 344/888030: ('petroleum_imports_crudeOil', 'Taxes_on_Customs_and_Other_Import Duties ', 'Foreign Direct Investments', 'New Vehicle Registrations', 'Vehicle Sales Asia', 'Diesel User Price', 'ema_0.1'), R²: 1.00000, Time: 0.00379 sec\n",
            "Checking combination 345/888030: ('petroleum_imports_crudeOil', 'Taxes_on_Customs_and_Other_Import Duties ', 'Foreign Direct Investments', 'New Vehicle Registrations', 'Vehicle Sales Asia', 'Diesel User Price', 'dayofweek'), R²: 1.00000, Time: 0.00454 sec\n",
            "Checking combination 346/888030: ('petroleum_imports_crudeOil', 'Taxes_on_Customs_and_Other_Import Duties ', 'Foreign Direct Investments', 'New Vehicle Registrations', 'Vehicle Sales Asia', 'Diesel User Price', 'month'), R²: 1.00000, Time: 0.00466 sec\n",
            "Checking combination 347/888030: ('petroleum_imports_crudeOil', 'Taxes_on_Customs_and_Other_Import Duties ', 'Foreign Direct Investments', 'New Vehicle Registrations', 'Vehicle Sales Asia', 'Diesel User Price', 'quarter'), R²: 1.00000, Time: 0.00503 sec\n",
            "Checking combination 348/888030: ('petroleum_imports_crudeOil', 'Taxes_on_Customs_and_Other_Import Duties ', 'Foreign Direct Investments', 'New Vehicle Registrations', 'Vehicle Sales Asia', 'Diesel User Price', 'is_weekend'), R²: 1.00000, Time: 0.00443 sec\n",
            "Checking combination 349/888030: ('petroleum_imports_crudeOil', 'Taxes_on_Customs_and_Other_Import Duties ', 'Foreign Direct Investments', 'New Vehicle Registrations', 'Vehicle Sales Asia', 'Diesel User Price', 'log_fuel_consumption'), R²: 1.00000, Time: 0.00385 sec\n",
            "Checking combination 350/888030: ('petroleum_imports_crudeOil', 'Taxes_on_Customs_and_Other_Import Duties ', 'Foreign Direct Investments', 'New Vehicle Registrations', 'Vehicle Sales Asia', 'Diesel User Price', 'boxcox_fuel_consumption'), R²: 1.00000, Time: 0.00374 sec\n",
            "Checking combination 351/888030: ('petroleum_imports_crudeOil', 'Taxes_on_Customs_and_Other_Import Duties ', 'Foreign Direct Investments', 'New Vehicle Registrations', 'Vehicle Sales Asia', 'Petrol User Price', 'Consumption_Oil'), R²: 1.00000, Time: 0.00362 sec\n",
            "Checking combination 352/888030: ('petroleum_imports_crudeOil', 'Taxes_on_Customs_and_Other_Import Duties ', 'Foreign Direct Investments', 'New Vehicle Registrations', 'Vehicle Sales Asia', 'Petrol User Price', 'Sales 90 Octane'), R²: 1.00000, Time: 0.00371 sec\n",
            "Checking combination 353/888030: ('petroleum_imports_crudeOil', 'Taxes_on_Customs_and_Other_Import Duties ', 'Foreign Direct Investments', 'New Vehicle Registrations', 'Vehicle Sales Asia', 'Petrol User Price', 'Sales 95 Octane'), R²: 1.00000, Time: 0.00357 sec\n",
            "Checking combination 354/888030: ('petroleum_imports_crudeOil', 'Taxes_on_Customs_and_Other_Import Duties ', 'Foreign Direct Investments', 'New Vehicle Registrations', 'Vehicle Sales Asia', 'Petrol User Price', 'Sales Auto Diesel'), R²: 1.00000, Time: 0.00356 sec\n",
            "Checking combination 355/888030: ('petroleum_imports_crudeOil', 'Taxes_on_Customs_and_Other_Import Duties ', 'Foreign Direct Investments', 'New Vehicle Registrations', 'Vehicle Sales Asia', 'Petrol User Price', 'rolling_std_7'), R²: 1.00000, Time: 0.00376 sec\n",
            "Checking combination 356/888030: ('petroleum_imports_crudeOil', 'Taxes_on_Customs_and_Other_Import Duties ', 'Foreign Direct Investments', 'New Vehicle Registrations', 'Vehicle Sales Asia', 'Petrol User Price', 'rolling_median_7'), R²: 1.00000, Time: 0.00552 sec\n",
            "Checking combination 357/888030: ('petroleum_imports_crudeOil', 'Taxes_on_Customs_and_Other_Import Duties ', 'Foreign Direct Investments', 'New Vehicle Registrations', 'Vehicle Sales Asia', 'Petrol User Price', 'ema_0.1'), R²: 1.00000, Time: 0.00764 sec\n",
            "Checking combination 358/888030: ('petroleum_imports_crudeOil', 'Taxes_on_Customs_and_Other_Import Duties ', 'Foreign Direct Investments', 'New Vehicle Registrations', 'Vehicle Sales Asia', 'Petrol User Price', 'dayofweek'), R²: 1.00000, Time: 0.00702 sec\n",
            "Checking combination 359/888030: ('petroleum_imports_crudeOil', 'Taxes_on_Customs_and_Other_Import Duties ', 'Foreign Direct Investments', 'New Vehicle Registrations', 'Vehicle Sales Asia', 'Petrol User Price', 'month'), R²: 1.00000, Time: 0.00726 sec\n",
            "Checking combination 360/888030: ('petroleum_imports_crudeOil', 'Taxes_on_Customs_and_Other_Import Duties ', 'Foreign Direct Investments', 'New Vehicle Registrations', 'Vehicle Sales Asia', 'Petrol User Price', 'quarter'), R²: 1.00000, Time: 0.00652 sec\n",
            "Checking combination 361/888030: ('petroleum_imports_crudeOil', 'Taxes_on_Customs_and_Other_Import Duties ', 'Foreign Direct Investments', 'New Vehicle Registrations', 'Vehicle Sales Asia', 'Petrol User Price', 'is_weekend'), R²: 1.00000, Time: 0.00572 sec\n",
            "Checking combination 362/888030: ('petroleum_imports_crudeOil', 'Taxes_on_Customs_and_Other_Import Duties ', 'Foreign Direct Investments', 'New Vehicle Registrations', 'Vehicle Sales Asia', 'Petrol User Price', 'log_fuel_consumption'), R²: 1.00000, Time: 0.00416 sec\n",
            "Checking combination 363/888030: ('petroleum_imports_crudeOil', 'Taxes_on_Customs_and_Other_Import Duties ', 'Foreign Direct Investments', 'New Vehicle Registrations', 'Vehicle Sales Asia', 'Petrol User Price', 'boxcox_fuel_consumption'), R²: 1.00000, Time: 0.00381 sec\n",
            "Checking combination 364/888030: ('petroleum_imports_crudeOil', 'Taxes_on_Customs_and_Other_Import Duties ', 'Foreign Direct Investments', 'New Vehicle Registrations', 'Vehicle Sales Asia', 'Consumption_Oil', 'Sales 90 Octane'), R²: 1.00000, Time: 0.00712 sec\n",
            "Checking combination 365/888030: ('petroleum_imports_crudeOil', 'Taxes_on_Customs_and_Other_Import Duties ', 'Foreign Direct Investments', 'New Vehicle Registrations', 'Vehicle Sales Asia', 'Consumption_Oil', 'Sales 95 Octane'), R²: 1.00000, Time: 0.00565 sec\n",
            "Checking combination 366/888030: ('petroleum_imports_crudeOil', 'Taxes_on_Customs_and_Other_Import Duties ', 'Foreign Direct Investments', 'New Vehicle Registrations', 'Vehicle Sales Asia', 'Consumption_Oil', 'Sales Auto Diesel'), R²: 1.00000, Time: 0.00398 sec\n",
            "Checking combination 367/888030: ('petroleum_imports_crudeOil', 'Taxes_on_Customs_and_Other_Import Duties ', 'Foreign Direct Investments', 'New Vehicle Registrations', 'Vehicle Sales Asia', 'Consumption_Oil', 'rolling_std_7'), R²: 1.00000, Time: 0.00383 sec\n",
            "Checking combination 368/888030: ('petroleum_imports_crudeOil', 'Taxes_on_Customs_and_Other_Import Duties ', 'Foreign Direct Investments', 'New Vehicle Registrations', 'Vehicle Sales Asia', 'Consumption_Oil', 'rolling_median_7'), R²: 1.00000, Time: 0.00365 sec\n",
            "Checking combination 369/888030: ('petroleum_imports_crudeOil', 'Taxes_on_Customs_and_Other_Import Duties ', 'Foreign Direct Investments', 'New Vehicle Registrations', 'Vehicle Sales Asia', 'Consumption_Oil', 'ema_0.1'), R²: 1.00000, Time: 0.00365 sec\n",
            "Checking combination 370/888030: ('petroleum_imports_crudeOil', 'Taxes_on_Customs_and_Other_Import Duties ', 'Foreign Direct Investments', 'New Vehicle Registrations', 'Vehicle Sales Asia', 'Consumption_Oil', 'dayofweek'), R²: 1.00000, Time: 0.00403 sec\n",
            "Checking combination 371/888030: ('petroleum_imports_crudeOil', 'Taxes_on_Customs_and_Other_Import Duties ', 'Foreign Direct Investments', 'New Vehicle Registrations', 'Vehicle Sales Asia', 'Consumption_Oil', 'month'), R²: 1.00000, Time: 0.00438 sec\n",
            "Checking combination 372/888030: ('petroleum_imports_crudeOil', 'Taxes_on_Customs_and_Other_Import Duties ', 'Foreign Direct Investments', 'New Vehicle Registrations', 'Vehicle Sales Asia', 'Consumption_Oil', 'quarter'), R²: 1.00000, Time: 0.00407 sec\n",
            "Checking combination 373/888030: ('petroleum_imports_crudeOil', 'Taxes_on_Customs_and_Other_Import Duties ', 'Foreign Direct Investments', 'New Vehicle Registrations', 'Vehicle Sales Asia', 'Consumption_Oil', 'is_weekend'), R²: 1.00000, Time: 0.00417 sec\n",
            "Checking combination 374/888030: ('petroleum_imports_crudeOil', 'Taxes_on_Customs_and_Other_Import Duties ', 'Foreign Direct Investments', 'New Vehicle Registrations', 'Vehicle Sales Asia', 'Consumption_Oil', 'log_fuel_consumption'), R²: 1.00000, Time: 0.00370 sec\n",
            "Checking combination 375/888030: ('petroleum_imports_crudeOil', 'Taxes_on_Customs_and_Other_Import Duties ', 'Foreign Direct Investments', 'New Vehicle Registrations', 'Vehicle Sales Asia', 'Consumption_Oil', 'boxcox_fuel_consumption'), R²: 1.00000, Time: 0.00375 sec\n",
            "Checking combination 376/888030: ('petroleum_imports_crudeOil', 'Taxes_on_Customs_and_Other_Import Duties ', 'Foreign Direct Investments', 'New Vehicle Registrations', 'Vehicle Sales Asia', 'Sales 90 Octane', 'Sales 95 Octane'), R²: 1.00000, Time: 0.00385 sec\n",
            "Checking combination 377/888030: ('petroleum_imports_crudeOil', 'Taxes_on_Customs_and_Other_Import Duties ', 'Foreign Direct Investments', 'New Vehicle Registrations', 'Vehicle Sales Asia', 'Sales 90 Octane', 'Sales Auto Diesel'), R²: 1.00000, Time: 0.00379 sec\n",
            "Checking combination 378/888030: ('petroleum_imports_crudeOil', 'Taxes_on_Customs_and_Other_Import Duties ', 'Foreign Direct Investments', 'New Vehicle Registrations', 'Vehicle Sales Asia', 'Sales 90 Octane', 'rolling_std_7'), R²: 1.00000, Time: 0.00432 sec\n",
            "Checking combination 379/888030: ('petroleum_imports_crudeOil', 'Taxes_on_Customs_and_Other_Import Duties ', 'Foreign Direct Investments', 'New Vehicle Registrations', 'Vehicle Sales Asia', 'Sales 90 Octane', 'rolling_median_7'), R²: 1.00000, Time: 0.00423 sec\n",
            "Checking combination 380/888030: ('petroleum_imports_crudeOil', 'Taxes_on_Customs_and_Other_Import Duties ', 'Foreign Direct Investments', 'New Vehicle Registrations', 'Vehicle Sales Asia', 'Sales 90 Octane', 'ema_0.1'), R²: 1.00000, Time: 0.00432 sec\n",
            "Checking combination 381/888030: ('petroleum_imports_crudeOil', 'Taxes_on_Customs_and_Other_Import Duties ', 'Foreign Direct Investments', 'New Vehicle Registrations', 'Vehicle Sales Asia', 'Sales 90 Octane', 'dayofweek'), R²: 1.00000, Time: 0.00431 sec\n",
            "Checking combination 382/888030: ('petroleum_imports_crudeOil', 'Taxes_on_Customs_and_Other_Import Duties ', 'Foreign Direct Investments', 'New Vehicle Registrations', 'Vehicle Sales Asia', 'Sales 90 Octane', 'month'), R²: 1.00000, Time: 0.00424 sec\n",
            "Checking combination 383/888030: ('petroleum_imports_crudeOil', 'Taxes_on_Customs_and_Other_Import Duties ', 'Foreign Direct Investments', 'New Vehicle Registrations', 'Vehicle Sales Asia', 'Sales 90 Octane', 'quarter'), R²: 1.00000, Time: 0.00499 sec\n",
            "Checking combination 384/888030: ('petroleum_imports_crudeOil', 'Taxes_on_Customs_and_Other_Import Duties ', 'Foreign Direct Investments', 'New Vehicle Registrations', 'Vehicle Sales Asia', 'Sales 90 Octane', 'is_weekend'), R²: 1.00000, Time: 0.00510 sec\n",
            "Checking combination 385/888030: ('petroleum_imports_crudeOil', 'Taxes_on_Customs_and_Other_Import Duties ', 'Foreign Direct Investments', 'New Vehicle Registrations', 'Vehicle Sales Asia', 'Sales 90 Octane', 'log_fuel_consumption'), R²: 1.00000, Time: 0.00394 sec\n",
            "Checking combination 386/888030: ('petroleum_imports_crudeOil', 'Taxes_on_Customs_and_Other_Import Duties ', 'Foreign Direct Investments', 'New Vehicle Registrations', 'Vehicle Sales Asia', 'Sales 90 Octane', 'boxcox_fuel_consumption'), R²: 1.00000, Time: 0.00377 sec\n",
            "Checking combination 387/888030: ('petroleum_imports_crudeOil', 'Taxes_on_Customs_and_Other_Import Duties ', 'Foreign Direct Investments', 'New Vehicle Registrations', 'Vehicle Sales Asia', 'Sales 95 Octane', 'Sales Auto Diesel'), R²: 1.00000, Time: 0.00371 sec\n",
            "Checking combination 388/888030: ('petroleum_imports_crudeOil', 'Taxes_on_Customs_and_Other_Import Duties ', 'Foreign Direct Investments', 'New Vehicle Registrations', 'Vehicle Sales Asia', 'Sales 95 Octane', 'rolling_std_7'), R²: 1.00000, Time: 0.00376 sec\n",
            "Checking combination 389/888030: ('petroleum_imports_crudeOil', 'Taxes_on_Customs_and_Other_Import Duties ', 'Foreign Direct Investments', 'New Vehicle Registrations', 'Vehicle Sales Asia', 'Sales 95 Octane', 'rolling_median_7'), R²: 1.00000, Time: 0.00460 sec\n",
            "Checking combination 390/888030: ('petroleum_imports_crudeOil', 'Taxes_on_Customs_and_Other_Import Duties ', 'Foreign Direct Investments', 'New Vehicle Registrations', 'Vehicle Sales Asia', 'Sales 95 Octane', 'ema_0.1'), R²: 1.00000, Time: 0.00454 sec\n",
            "Checking combination 391/888030: ('petroleum_imports_crudeOil', 'Taxes_on_Customs_and_Other_Import Duties ', 'Foreign Direct Investments', 'New Vehicle Registrations', 'Vehicle Sales Asia', 'Sales 95 Octane', 'dayofweek'), R²: 1.00000, Time: 0.00463 sec\n",
            "Checking combination 392/888030: ('petroleum_imports_crudeOil', 'Taxes_on_Customs_and_Other_Import Duties ', 'Foreign Direct Investments', 'New Vehicle Registrations', 'Vehicle Sales Asia', 'Sales 95 Octane', 'month'), R²: 1.00000, Time: 0.00417 sec\n",
            "Checking combination 393/888030: ('petroleum_imports_crudeOil', 'Taxes_on_Customs_and_Other_Import Duties ', 'Foreign Direct Investments', 'New Vehicle Registrations', 'Vehicle Sales Asia', 'Sales 95 Octane', 'quarter'), R²: 1.00000, Time: 0.00490 sec\n",
            "Checking combination 394/888030: ('petroleum_imports_crudeOil', 'Taxes_on_Customs_and_Other_Import Duties ', 'Foreign Direct Investments', 'New Vehicle Registrations', 'Vehicle Sales Asia', 'Sales 95 Octane', 'is_weekend'), R²: 1.00000, Time: 0.00577 sec\n",
            "Checking combination 395/888030: ('petroleum_imports_crudeOil', 'Taxes_on_Customs_and_Other_Import Duties ', 'Foreign Direct Investments', 'New Vehicle Registrations', 'Vehicle Sales Asia', 'Sales 95 Octane', 'log_fuel_consumption'), R²: 1.00000, Time: 0.00417 sec\n",
            "Checking combination 396/888030: ('petroleum_imports_crudeOil', 'Taxes_on_Customs_and_Other_Import Duties ', 'Foreign Direct Investments', 'New Vehicle Registrations', 'Vehicle Sales Asia', 'Sales 95 Octane', 'boxcox_fuel_consumption'), R²: 1.00000, Time: 0.00376 sec\n",
            "Checking combination 397/888030: ('petroleum_imports_crudeOil', 'Taxes_on_Customs_and_Other_Import Duties ', 'Foreign Direct Investments', 'New Vehicle Registrations', 'Vehicle Sales Asia', 'Sales Auto Diesel', 'rolling_std_7'), R²: 1.00000, Time: 0.00378 sec\n",
            "Checking combination 398/888030: ('petroleum_imports_crudeOil', 'Taxes_on_Customs_and_Other_Import Duties ', 'Foreign Direct Investments', 'New Vehicle Registrations', 'Vehicle Sales Asia', 'Sales Auto Diesel', 'rolling_median_7'), R²: 1.00000, Time: 0.00378 sec\n",
            "Checking combination 399/888030: ('petroleum_imports_crudeOil', 'Taxes_on_Customs_and_Other_Import Duties ', 'Foreign Direct Investments', 'New Vehicle Registrations', 'Vehicle Sales Asia', 'Sales Auto Diesel', 'ema_0.1'), R²: 1.00000, Time: 0.00373 sec\n",
            "Checking combination 400/888030: ('petroleum_imports_crudeOil', 'Taxes_on_Customs_and_Other_Import Duties ', 'Foreign Direct Investments', 'New Vehicle Registrations', 'Vehicle Sales Asia', 'Sales Auto Diesel', 'dayofweek'), R²: 1.00000, Time: 0.00395 sec\n",
            "Checking combination 401/888030: ('petroleum_imports_crudeOil', 'Taxes_on_Customs_and_Other_Import Duties ', 'Foreign Direct Investments', 'New Vehicle Registrations', 'Vehicle Sales Asia', 'Sales Auto Diesel', 'month'), R²: 1.00000, Time: 0.00395 sec\n",
            "Checking combination 402/888030: ('petroleum_imports_crudeOil', 'Taxes_on_Customs_and_Other_Import Duties ', 'Foreign Direct Investments', 'New Vehicle Registrations', 'Vehicle Sales Asia', 'Sales Auto Diesel', 'quarter'), R²: 1.00000, Time: 0.00406 sec\n",
            "Checking combination 403/888030: ('petroleum_imports_crudeOil', 'Taxes_on_Customs_and_Other_Import Duties ', 'Foreign Direct Investments', 'New Vehicle Registrations', 'Vehicle Sales Asia', 'Sales Auto Diesel', 'is_weekend'), R²: 1.00000, Time: 0.00418 sec\n",
            "Checking combination 404/888030: ('petroleum_imports_crudeOil', 'Taxes_on_Customs_and_Other_Import Duties ', 'Foreign Direct Investments', 'New Vehicle Registrations', 'Vehicle Sales Asia', 'Sales Auto Diesel', 'log_fuel_consumption'), R²: 1.00000, Time: 0.00364 sec\n",
            "Checking combination 405/888030: ('petroleum_imports_crudeOil', 'Taxes_on_Customs_and_Other_Import Duties ', 'Foreign Direct Investments', 'New Vehicle Registrations', 'Vehicle Sales Asia', 'Sales Auto Diesel', 'boxcox_fuel_consumption'), R²: 1.00000, Time: 0.00360 sec\n",
            "Checking combination 406/888030: ('petroleum_imports_crudeOil', 'Taxes_on_Customs_and_Other_Import Duties ', 'Foreign Direct Investments', 'New Vehicle Registrations', 'Vehicle Sales Asia', 'rolling_std_7', 'rolling_median_7'), R²: 1.00000, Time: 0.00389 sec\n",
            "Checking combination 407/888030: ('petroleum_imports_crudeOil', 'Taxes_on_Customs_and_Other_Import Duties ', 'Foreign Direct Investments', 'New Vehicle Registrations', 'Vehicle Sales Asia', 'rolling_std_7', 'ema_0.1'), R²: 1.00000, Time: 0.00374 sec\n",
            "Checking combination 408/888030: ('petroleum_imports_crudeOil', 'Taxes_on_Customs_and_Other_Import Duties ', 'Foreign Direct Investments', 'New Vehicle Registrations', 'Vehicle Sales Asia', 'rolling_std_7', 'dayofweek'), R²: 1.00000, Time: 0.00392 sec\n",
            "Checking combination 409/888030: ('petroleum_imports_crudeOil', 'Taxes_on_Customs_and_Other_Import Duties ', 'Foreign Direct Investments', 'New Vehicle Registrations', 'Vehicle Sales Asia', 'rolling_std_7', 'month'), R²: 1.00000, Time: 0.00402 sec\n",
            "Checking combination 410/888030: ('petroleum_imports_crudeOil', 'Taxes_on_Customs_and_Other_Import Duties ', 'Foreign Direct Investments', 'New Vehicle Registrations', 'Vehicle Sales Asia', 'rolling_std_7', 'quarter'), R²: 1.00000, Time: 0.00439 sec\n",
            "Checking combination 411/888030: ('petroleum_imports_crudeOil', 'Taxes_on_Customs_and_Other_Import Duties ', 'Foreign Direct Investments', 'New Vehicle Registrations', 'Vehicle Sales Asia', 'rolling_std_7', 'is_weekend'), R²: 1.00000, Time: 0.00430 sec\n",
            "Checking combination 412/888030: ('petroleum_imports_crudeOil', 'Taxes_on_Customs_and_Other_Import Duties ', 'Foreign Direct Investments', 'New Vehicle Registrations', 'Vehicle Sales Asia', 'rolling_std_7', 'log_fuel_consumption'), R²: 1.00000, Time: 0.00392 sec\n",
            "Checking combination 413/888030: ('petroleum_imports_crudeOil', 'Taxes_on_Customs_and_Other_Import Duties ', 'Foreign Direct Investments', 'New Vehicle Registrations', 'Vehicle Sales Asia', 'rolling_std_7', 'boxcox_fuel_consumption'), R²: 1.00000, Time: 0.00639 sec\n",
            "Checking combination 414/888030: ('petroleum_imports_crudeOil', 'Taxes_on_Customs_and_Other_Import Duties ', 'Foreign Direct Investments', 'New Vehicle Registrations', 'Vehicle Sales Asia', 'rolling_median_7', 'ema_0.1'), R²: 1.00000, Time: 0.00636 sec\n",
            "Checking combination 415/888030: ('petroleum_imports_crudeOil', 'Taxes_on_Customs_and_Other_Import Duties ', 'Foreign Direct Investments', 'New Vehicle Registrations', 'Vehicle Sales Asia', 'rolling_median_7', 'dayofweek'), R²: 1.00000, Time: 0.00599 sec\n",
            "Checking combination 416/888030: ('petroleum_imports_crudeOil', 'Taxes_on_Customs_and_Other_Import Duties ', 'Foreign Direct Investments', 'New Vehicle Registrations', 'Vehicle Sales Asia', 'rolling_median_7', 'month'), R²: 1.00000, Time: 0.00450 sec\n",
            "Checking combination 417/888030: ('petroleum_imports_crudeOil', 'Taxes_on_Customs_and_Other_Import Duties ', 'Foreign Direct Investments', 'New Vehicle Registrations', 'Vehicle Sales Asia', 'rolling_median_7', 'quarter'), R²: 1.00000, Time: 0.00412 sec\n",
            "Checking combination 418/888030: ('petroleum_imports_crudeOil', 'Taxes_on_Customs_and_Other_Import Duties ', 'Foreign Direct Investments', 'New Vehicle Registrations', 'Vehicle Sales Asia', 'rolling_median_7', 'is_weekend'), R²: 1.00000, Time: 0.00398 sec\n",
            "Checking combination 419/888030: ('petroleum_imports_crudeOil', 'Taxes_on_Customs_and_Other_Import Duties ', 'Foreign Direct Investments', 'New Vehicle Registrations', 'Vehicle Sales Asia', 'rolling_median_7', 'log_fuel_consumption'), R²: 1.00000, Time: 0.00374 sec\n",
            "Checking combination 420/888030: ('petroleum_imports_crudeOil', 'Taxes_on_Customs_and_Other_Import Duties ', 'Foreign Direct Investments', 'New Vehicle Registrations', 'Vehicle Sales Asia', 'rolling_median_7', 'boxcox_fuel_consumption'), R²: 1.00000, Time: 0.00385 sec\n",
            "Checking combination 421/888030: ('petroleum_imports_crudeOil', 'Taxes_on_Customs_and_Other_Import Duties ', 'Foreign Direct Investments', 'New Vehicle Registrations', 'Vehicle Sales Asia', 'ema_0.1', 'dayofweek'), R²: 1.00000, Time: 0.00398 sec\n",
            "Checking combination 422/888030: ('petroleum_imports_crudeOil', 'Taxes_on_Customs_and_Other_Import Duties ', 'Foreign Direct Investments', 'New Vehicle Registrations', 'Vehicle Sales Asia', 'ema_0.1', 'month'), R²: 1.00000, Time: 0.00387 sec\n",
            "Checking combination 423/888030: ('petroleum_imports_crudeOil', 'Taxes_on_Customs_and_Other_Import Duties ', 'Foreign Direct Investments', 'New Vehicle Registrations', 'Vehicle Sales Asia', 'ema_0.1', 'quarter'), R²: 1.00000, Time: 0.00394 sec\n",
            "Checking combination 424/888030: ('petroleum_imports_crudeOil', 'Taxes_on_Customs_and_Other_Import Duties ', 'Foreign Direct Investments', 'New Vehicle Registrations', 'Vehicle Sales Asia', 'ema_0.1', 'is_weekend'), R²: 1.00000, Time: 0.00437 sec\n",
            "Checking combination 425/888030: ('petroleum_imports_crudeOil', 'Taxes_on_Customs_and_Other_Import Duties ', 'Foreign Direct Investments', 'New Vehicle Registrations', 'Vehicle Sales Asia', 'ema_0.1', 'log_fuel_consumption'), R²: 1.00000, Time: 0.00373 sec\n",
            "Checking combination 426/888030: ('petroleum_imports_crudeOil', 'Taxes_on_Customs_and_Other_Import Duties ', 'Foreign Direct Investments', 'New Vehicle Registrations', 'Vehicle Sales Asia', 'ema_0.1', 'boxcox_fuel_consumption'), R²: 1.00000, Time: 0.00398 sec\n",
            "Checking combination 427/888030: ('petroleum_imports_crudeOil', 'Taxes_on_Customs_and_Other_Import Duties ', 'Foreign Direct Investments', 'New Vehicle Registrations', 'Vehicle Sales Asia', 'dayofweek', 'month'), R²: 1.00000, Time: 0.00517 sec\n",
            "Checking combination 428/888030: ('petroleum_imports_crudeOil', 'Taxes_on_Customs_and_Other_Import Duties ', 'Foreign Direct Investments', 'New Vehicle Registrations', 'Vehicle Sales Asia', 'dayofweek', 'quarter'), R²: 1.00000, Time: 0.00455 sec\n",
            "Checking combination 429/888030: ('petroleum_imports_crudeOil', 'Taxes_on_Customs_and_Other_Import Duties ', 'Foreign Direct Investments', 'New Vehicle Registrations', 'Vehicle Sales Asia', 'dayofweek', 'is_weekend'), R²: 1.00000, Time: 0.00398 sec\n",
            "Checking combination 430/888030: ('petroleum_imports_crudeOil', 'Taxes_on_Customs_and_Other_Import Duties ', 'Foreign Direct Investments', 'New Vehicle Registrations', 'Vehicle Sales Asia', 'dayofweek', 'log_fuel_consumption'), R²: 1.00000, Time: 0.00390 sec\n",
            "Checking combination 431/888030: ('petroleum_imports_crudeOil', 'Taxes_on_Customs_and_Other_Import Duties ', 'Foreign Direct Investments', 'New Vehicle Registrations', 'Vehicle Sales Asia', 'dayofweek', 'boxcox_fuel_consumption'), R²: 1.00000, Time: 0.00451 sec\n",
            "Checking combination 432/888030: ('petroleum_imports_crudeOil', 'Taxes_on_Customs_and_Other_Import Duties ', 'Foreign Direct Investments', 'New Vehicle Registrations', 'Vehicle Sales Asia', 'month', 'quarter'), R²: 1.00000, Time: 0.00445 sec\n",
            "Checking combination 433/888030: ('petroleum_imports_crudeOil', 'Taxes_on_Customs_and_Other_Import Duties ', 'Foreign Direct Investments', 'New Vehicle Registrations', 'Vehicle Sales Asia', 'month', 'is_weekend'), R²: 1.00000, Time: 0.00462 sec\n",
            "Checking combination 434/888030: ('petroleum_imports_crudeOil', 'Taxes_on_Customs_and_Other_Import Duties ', 'Foreign Direct Investments', 'New Vehicle Registrations', 'Vehicle Sales Asia', 'month', 'log_fuel_consumption'), R²: 1.00000, Time: 0.00440 sec\n",
            "Checking combination 435/888030: ('petroleum_imports_crudeOil', 'Taxes_on_Customs_and_Other_Import Duties ', 'Foreign Direct Investments', 'New Vehicle Registrations', 'Vehicle Sales Asia', 'month', 'boxcox_fuel_consumption'), R²: 1.00000, Time: 0.00390 sec\n",
            "Checking combination 436/888030: ('petroleum_imports_crudeOil', 'Taxes_on_Customs_and_Other_Import Duties ', 'Foreign Direct Investments', 'New Vehicle Registrations', 'Vehicle Sales Asia', 'quarter', 'is_weekend'), R²: 1.00000, Time: 0.00471 sec\n",
            "Checking combination 437/888030: ('petroleum_imports_crudeOil', 'Taxes_on_Customs_and_Other_Import Duties ', 'Foreign Direct Investments', 'New Vehicle Registrations', 'Vehicle Sales Asia', 'quarter', 'log_fuel_consumption'), R²: 1.00000, Time: 0.00398 sec\n",
            "Checking combination 438/888030: ('petroleum_imports_crudeOil', 'Taxes_on_Customs_and_Other_Import Duties ', 'Foreign Direct Investments', 'New Vehicle Registrations', 'Vehicle Sales Asia', 'quarter', 'boxcox_fuel_consumption'), R²: 1.00000, Time: 0.00443 sec\n",
            "Checking combination 439/888030: ('petroleum_imports_crudeOil', 'Taxes_on_Customs_and_Other_Import Duties ', 'Foreign Direct Investments', 'New Vehicle Registrations', 'Vehicle Sales Asia', 'is_weekend', 'log_fuel_consumption'), R²: 1.00000, Time: 0.00441 sec\n",
            "Checking combination 440/888030: ('petroleum_imports_crudeOil', 'Taxes_on_Customs_and_Other_Import Duties ', 'Foreign Direct Investments', 'New Vehicle Registrations', 'Vehicle Sales Asia', 'is_weekend', 'boxcox_fuel_consumption'), R²: 1.00000, Time: 0.00404 sec\n",
            "Checking combination 441/888030: ('petroleum_imports_crudeOil', 'Taxes_on_Customs_and_Other_Import Duties ', 'Foreign Direct Investments', 'New Vehicle Registrations', 'Vehicle Sales Asia', 'log_fuel_consumption', 'boxcox_fuel_consumption'), R²: 1.00000, Time: 0.00375 sec\n",
            "Checking combination 442/888030: ('petroleum_imports_crudeOil', 'Taxes_on_Customs_and_Other_Import Duties ', 'Foreign Direct Investments', 'New Vehicle Registrations', 'No.of Vessels Colombo', 'Imports of Refined Products', 'Tax income profits_gains'), R²: 1.00000, Time: 0.00379 sec\n",
            "Checking combination 443/888030: ('petroleum_imports_crudeOil', 'Taxes_on_Customs_and_Other_Import Duties ', 'Foreign Direct Investments', 'New Vehicle Registrations', 'No.of Vessels Colombo', 'Imports of Refined Products', 'Tax Goods & Services'), R²: 1.00000, Time: 0.00364 sec\n",
            "Checking combination 444/888030: ('petroleum_imports_crudeOil', 'Taxes_on_Customs_and_Other_Import Duties ', 'Foreign Direct Investments', 'New Vehicle Registrations', 'No.of Vessels Colombo', 'Imports of Refined Products', 'Tax Road Transport'), R²: 1.00000, Time: 0.00362 sec\n",
            "Checking combination 445/888030: ('petroleum_imports_crudeOil', 'Taxes_on_Customs_and_Other_Import Duties ', 'Foreign Direct Investments', 'New Vehicle Registrations', 'No.of Vessels Colombo', 'Imports of Refined Products', 'GDP FCE Households'), R²: 1.00000, Time: 0.00365 sec\n",
            "Checking combination 446/888030: ('petroleum_imports_crudeOil', 'Taxes_on_Customs_and_Other_Import Duties ', 'Foreign Direct Investments', 'New Vehicle Registrations', 'No.of Vessels Colombo', 'Imports of Refined Products', 'Diesel User Price'), R²: 1.00000, Time: 0.00356 sec\n",
            "Checking combination 447/888030: ('petroleum_imports_crudeOil', 'Taxes_on_Customs_and_Other_Import Duties ', 'Foreign Direct Investments', 'New Vehicle Registrations', 'No.of Vessels Colombo', 'Imports of Refined Products', 'Petrol User Price'), R²: 1.00000, Time: 0.00363 sec\n",
            "Checking combination 448/888030: ('petroleum_imports_crudeOil', 'Taxes_on_Customs_and_Other_Import Duties ', 'Foreign Direct Investments', 'New Vehicle Registrations', 'No.of Vessels Colombo', 'Imports of Refined Products', 'Consumption_Oil'), R²: 1.00000, Time: 0.00367 sec\n",
            "Checking combination 449/888030: ('petroleum_imports_crudeOil', 'Taxes_on_Customs_and_Other_Import Duties ', 'Foreign Direct Investments', 'New Vehicle Registrations', 'No.of Vessels Colombo', 'Imports of Refined Products', 'Sales 90 Octane'), R²: 1.00000, Time: 0.00359 sec\n",
            "Checking combination 450/888030: ('petroleum_imports_crudeOil', 'Taxes_on_Customs_and_Other_Import Duties ', 'Foreign Direct Investments', 'New Vehicle Registrations', 'No.of Vessels Colombo', 'Imports of Refined Products', 'Sales 95 Octane'), R²: 1.00000, Time: 0.00358 sec\n",
            "Checking combination 451/888030: ('petroleum_imports_crudeOil', 'Taxes_on_Customs_and_Other_Import Duties ', 'Foreign Direct Investments', 'New Vehicle Registrations', 'No.of Vessels Colombo', 'Imports of Refined Products', 'Sales Auto Diesel'), R²: 1.00000, Time: 0.00373 sec\n",
            "Checking combination 452/888030: ('petroleum_imports_crudeOil', 'Taxes_on_Customs_and_Other_Import Duties ', 'Foreign Direct Investments', 'New Vehicle Registrations', 'No.of Vessels Colombo', 'Imports of Refined Products', 'rolling_std_7'), R²: 1.00000, Time: 0.00353 sec\n",
            "Checking combination 453/888030: ('petroleum_imports_crudeOil', 'Taxes_on_Customs_and_Other_Import Duties ', 'Foreign Direct Investments', 'New Vehicle Registrations', 'No.of Vessels Colombo', 'Imports of Refined Products', 'rolling_median_7'), R²: 1.00000, Time: 0.00397 sec\n",
            "Checking combination 454/888030: ('petroleum_imports_crudeOil', 'Taxes_on_Customs_and_Other_Import Duties ', 'Foreign Direct Investments', 'New Vehicle Registrations', 'No.of Vessels Colombo', 'Imports of Refined Products', 'ema_0.1'), R²: 1.00000, Time: 0.00416 sec\n",
            "Checking combination 455/888030: ('petroleum_imports_crudeOil', 'Taxes_on_Customs_and_Other_Import Duties ', 'Foreign Direct Investments', 'New Vehicle Registrations', 'No.of Vessels Colombo', 'Imports of Refined Products', 'dayofweek'), R²: 1.00000, Time: 0.00397 sec\n",
            "Checking combination 456/888030: ('petroleum_imports_crudeOil', 'Taxes_on_Customs_and_Other_Import Duties ', 'Foreign Direct Investments', 'New Vehicle Registrations', 'No.of Vessels Colombo', 'Imports of Refined Products', 'month'), R²: 1.00000, Time: 0.00390 sec\n",
            "Checking combination 457/888030: ('petroleum_imports_crudeOil', 'Taxes_on_Customs_and_Other_Import Duties ', 'Foreign Direct Investments', 'New Vehicle Registrations', 'No.of Vessels Colombo', 'Imports of Refined Products', 'quarter'), R²: 1.00000, Time: 0.00373 sec\n",
            "Checking combination 458/888030: ('petroleum_imports_crudeOil', 'Taxes_on_Customs_and_Other_Import Duties ', 'Foreign Direct Investments', 'New Vehicle Registrations', 'No.of Vessels Colombo', 'Imports of Refined Products', 'is_weekend'), R²: 1.00000, Time: 0.00377 sec\n",
            "Checking combination 459/888030: ('petroleum_imports_crudeOil', 'Taxes_on_Customs_and_Other_Import Duties ', 'Foreign Direct Investments', 'New Vehicle Registrations', 'No.of Vessels Colombo', 'Imports of Refined Products', 'log_fuel_consumption'), R²: 1.00000, Time: 0.00372 sec\n",
            "Checking combination 460/888030: ('petroleum_imports_crudeOil', 'Taxes_on_Customs_and_Other_Import Duties ', 'Foreign Direct Investments', 'New Vehicle Registrations', 'No.of Vessels Colombo', 'Imports of Refined Products', 'boxcox_fuel_consumption'), R²: 1.00000, Time: 0.00378 sec\n",
            "Checking combination 461/888030: ('petroleum_imports_crudeOil', 'Taxes_on_Customs_and_Other_Import Duties ', 'Foreign Direct Investments', 'New Vehicle Registrations', 'No.of Vessels Colombo', 'Tax income profits_gains', 'Tax Goods & Services'), R²: 1.00000, Time: 0.00372 sec\n",
            "Checking combination 462/888030: ('petroleum_imports_crudeOil', 'Taxes_on_Customs_and_Other_Import Duties ', 'Foreign Direct Investments', 'New Vehicle Registrations', 'No.of Vessels Colombo', 'Tax income profits_gains', 'Tax Road Transport'), R²: 1.00000, Time: 0.00386 sec\n",
            "Checking combination 463/888030: ('petroleum_imports_crudeOil', 'Taxes_on_Customs_and_Other_Import Duties ', 'Foreign Direct Investments', 'New Vehicle Registrations', 'No.of Vessels Colombo', 'Tax income profits_gains', 'GDP FCE Households'), R²: 1.00000, Time: 0.00553 sec\n",
            "Checking combination 464/888030: ('petroleum_imports_crudeOil', 'Taxes_on_Customs_and_Other_Import Duties ', 'Foreign Direct Investments', 'New Vehicle Registrations', 'No.of Vessels Colombo', 'Tax income profits_gains', 'Diesel User Price'), R²: 1.00000, Time: 0.00440 sec\n",
            "Checking combination 465/888030: ('petroleum_imports_crudeOil', 'Taxes_on_Customs_and_Other_Import Duties ', 'Foreign Direct Investments', 'New Vehicle Registrations', 'No.of Vessels Colombo', 'Tax income profits_gains', 'Petrol User Price'), R²: 1.00000, Time: 0.00478 sec\n",
            "Checking combination 466/888030: ('petroleum_imports_crudeOil', 'Taxes_on_Customs_and_Other_Import Duties ', 'Foreign Direct Investments', 'New Vehicle Registrations', 'No.of Vessels Colombo', 'Tax income profits_gains', 'Consumption_Oil'), R²: 1.00000, Time: 0.00576 sec\n",
            "Checking combination 467/888030: ('petroleum_imports_crudeOil', 'Taxes_on_Customs_and_Other_Import Duties ', 'Foreign Direct Investments', 'New Vehicle Registrations', 'No.of Vessels Colombo', 'Tax income profits_gains', 'Sales 90 Octane'), R²: 1.00000, Time: 0.00595 sec\n",
            "Checking combination 468/888030: ('petroleum_imports_crudeOil', 'Taxes_on_Customs_and_Other_Import Duties ', 'Foreign Direct Investments', 'New Vehicle Registrations', 'No.of Vessels Colombo', 'Tax income profits_gains', 'Sales 95 Octane'), R²: 1.00000, Time: 0.00428 sec\n",
            "Checking combination 469/888030: ('petroleum_imports_crudeOil', 'Taxes_on_Customs_and_Other_Import Duties ', 'Foreign Direct Investments', 'New Vehicle Registrations', 'No.of Vessels Colombo', 'Tax income profits_gains', 'Sales Auto Diesel'), R²: 1.00000, Time: 0.00397 sec\n",
            "Checking combination 470/888030: ('petroleum_imports_crudeOil', 'Taxes_on_Customs_and_Other_Import Duties ', 'Foreign Direct Investments', 'New Vehicle Registrations', 'No.of Vessels Colombo', 'Tax income profits_gains', 'rolling_std_7'), R²: 1.00000, Time: 0.00375 sec\n",
            "Checking combination 471/888030: ('petroleum_imports_crudeOil', 'Taxes_on_Customs_and_Other_Import Duties ', 'Foreign Direct Investments', 'New Vehicle Registrations', 'No.of Vessels Colombo', 'Tax income profits_gains', 'rolling_median_7'), R²: 1.00000, Time: 0.00358 sec\n",
            "Checking combination 472/888030: ('petroleum_imports_crudeOil', 'Taxes_on_Customs_and_Other_Import Duties ', 'Foreign Direct Investments', 'New Vehicle Registrations', 'No.of Vessels Colombo', 'Tax income profits_gains', 'ema_0.1'), R²: 1.00000, Time: 0.00354 sec\n",
            "Checking combination 473/888030: ('petroleum_imports_crudeOil', 'Taxes_on_Customs_and_Other_Import Duties ', 'Foreign Direct Investments', 'New Vehicle Registrations', 'No.of Vessels Colombo', 'Tax income profits_gains', 'dayofweek'), R²: 1.00000, Time: 0.00375 sec\n",
            "Checking combination 474/888030: ('petroleum_imports_crudeOil', 'Taxes_on_Customs_and_Other_Import Duties ', 'Foreign Direct Investments', 'New Vehicle Registrations', 'No.of Vessels Colombo', 'Tax income profits_gains', 'month'), R²: 1.00000, Time: 0.00376 sec\n",
            "Checking combination 475/888030: ('petroleum_imports_crudeOil', 'Taxes_on_Customs_and_Other_Import Duties ', 'Foreign Direct Investments', 'New Vehicle Registrations', 'No.of Vessels Colombo', 'Tax income profits_gains', 'quarter'), R²: 1.00000, Time: 0.00395 sec\n",
            "Checking combination 476/888030: ('petroleum_imports_crudeOil', 'Taxes_on_Customs_and_Other_Import Duties ', 'Foreign Direct Investments', 'New Vehicle Registrations', 'No.of Vessels Colombo', 'Tax income profits_gains', 'is_weekend'), R²: 1.00000, Time: 0.00381 sec\n",
            "Checking combination 477/888030: ('petroleum_imports_crudeOil', 'Taxes_on_Customs_and_Other_Import Duties ', 'Foreign Direct Investments', 'New Vehicle Registrations', 'No.of Vessels Colombo', 'Tax income profits_gains', 'log_fuel_consumption'), R²: 1.00000, Time: 0.00375 sec\n",
            "Checking combination 478/888030: ('petroleum_imports_crudeOil', 'Taxes_on_Customs_and_Other_Import Duties ', 'Foreign Direct Investments', 'New Vehicle Registrations', 'No.of Vessels Colombo', 'Tax income profits_gains', 'boxcox_fuel_consumption'), R²: 1.00000, Time: 0.00458 sec\n",
            "Checking combination 479/888030: ('petroleum_imports_crudeOil', 'Taxes_on_Customs_and_Other_Import Duties ', 'Foreign Direct Investments', 'New Vehicle Registrations', 'No.of Vessels Colombo', 'Tax Goods & Services', 'Tax Road Transport'), R²: 1.00000, Time: 0.00432 sec\n",
            "Checking combination 480/888030: ('petroleum_imports_crudeOil', 'Taxes_on_Customs_and_Other_Import Duties ', 'Foreign Direct Investments', 'New Vehicle Registrations', 'No.of Vessels Colombo', 'Tax Goods & Services', 'GDP FCE Households'), R²: 1.00000, Time: 0.00380 sec\n",
            "Checking combination 481/888030: ('petroleum_imports_crudeOil', 'Taxes_on_Customs_and_Other_Import Duties ', 'Foreign Direct Investments', 'New Vehicle Registrations', 'No.of Vessels Colombo', 'Tax Goods & Services', 'Diesel User Price'), R²: 1.00000, Time: 0.00359 sec\n",
            "Checking combination 482/888030: ('petroleum_imports_crudeOil', 'Taxes_on_Customs_and_Other_Import Duties ', 'Foreign Direct Investments', 'New Vehicle Registrations', 'No.of Vessels Colombo', 'Tax Goods & Services', 'Petrol User Price'), R²: 1.00000, Time: 0.00359 sec\n",
            "Checking combination 483/888030: ('petroleum_imports_crudeOil', 'Taxes_on_Customs_and_Other_Import Duties ', 'Foreign Direct Investments', 'New Vehicle Registrations', 'No.of Vessels Colombo', 'Tax Goods & Services', 'Consumption_Oil'), R²: 1.00000, Time: 0.00367 sec\n",
            "Checking combination 484/888030: ('petroleum_imports_crudeOil', 'Taxes_on_Customs_and_Other_Import Duties ', 'Foreign Direct Investments', 'New Vehicle Registrations', 'No.of Vessels Colombo', 'Tax Goods & Services', 'Sales 90 Octane'), R²: 1.00000, Time: 0.00414 sec\n",
            "Checking combination 485/888030: ('petroleum_imports_crudeOil', 'Taxes_on_Customs_and_Other_Import Duties ', 'Foreign Direct Investments', 'New Vehicle Registrations', 'No.of Vessels Colombo', 'Tax Goods & Services', 'Sales 95 Octane'), R²: 1.00000, Time: 0.00355 sec\n",
            "Checking combination 486/888030: ('petroleum_imports_crudeOil', 'Taxes_on_Customs_and_Other_Import Duties ', 'Foreign Direct Investments', 'New Vehicle Registrations', 'No.of Vessels Colombo', 'Tax Goods & Services', 'Sales Auto Diesel'), R²: 1.00000, Time: 0.00365 sec\n",
            "Checking combination 487/888030: ('petroleum_imports_crudeOil', 'Taxes_on_Customs_and_Other_Import Duties ', 'Foreign Direct Investments', 'New Vehicle Registrations', 'No.of Vessels Colombo', 'Tax Goods & Services', 'rolling_std_7'), R²: 1.00000, Time: 0.00353 sec\n",
            "Checking combination 488/888030: ('petroleum_imports_crudeOil', 'Taxes_on_Customs_and_Other_Import Duties ', 'Foreign Direct Investments', 'New Vehicle Registrations', 'No.of Vessels Colombo', 'Tax Goods & Services', 'rolling_median_7'), R²: 1.00000, Time: 0.00354 sec\n",
            "Checking combination 489/888030: ('petroleum_imports_crudeOil', 'Taxes_on_Customs_and_Other_Import Duties ', 'Foreign Direct Investments', 'New Vehicle Registrations', 'No.of Vessels Colombo', 'Tax Goods & Services', 'ema_0.1'), R²: 1.00000, Time: 0.00350 sec\n",
            "Checking combination 490/888030: ('petroleum_imports_crudeOil', 'Taxes_on_Customs_and_Other_Import Duties ', 'Foreign Direct Investments', 'New Vehicle Registrations', 'No.of Vessels Colombo', 'Tax Goods & Services', 'dayofweek'), R²: 1.00000, Time: 0.00374 sec\n",
            "Checking combination 491/888030: ('petroleum_imports_crudeOil', 'Taxes_on_Customs_and_Other_Import Duties ', 'Foreign Direct Investments', 'New Vehicle Registrations', 'No.of Vessels Colombo', 'Tax Goods & Services', 'month'), R²: 1.00000, Time: 0.00375 sec\n",
            "Checking combination 492/888030: ('petroleum_imports_crudeOil', 'Taxes_on_Customs_and_Other_Import Duties ', 'Foreign Direct Investments', 'New Vehicle Registrations', 'No.of Vessels Colombo', 'Tax Goods & Services', 'quarter'), R²: 1.00000, Time: 0.00375 sec\n",
            "Checking combination 493/888030: ('petroleum_imports_crudeOil', 'Taxes_on_Customs_and_Other_Import Duties ', 'Foreign Direct Investments', 'New Vehicle Registrations', 'No.of Vessels Colombo', 'Tax Goods & Services', 'is_weekend'), R²: 1.00000, Time: 0.00376 sec\n",
            "Checking combination 494/888030: ('petroleum_imports_crudeOil', 'Taxes_on_Customs_and_Other_Import Duties ', 'Foreign Direct Investments', 'New Vehicle Registrations', 'No.of Vessels Colombo', 'Tax Goods & Services', 'log_fuel_consumption'), R²: 1.00000, Time: 0.00352 sec\n",
            "Checking combination 495/888030: ('petroleum_imports_crudeOil', 'Taxes_on_Customs_and_Other_Import Duties ', 'Foreign Direct Investments', 'New Vehicle Registrations', 'No.of Vessels Colombo', 'Tax Goods & Services', 'boxcox_fuel_consumption'), R²: 1.00000, Time: 0.00352 sec\n",
            "Checking combination 496/888030: ('petroleum_imports_crudeOil', 'Taxes_on_Customs_and_Other_Import Duties ', 'Foreign Direct Investments', 'New Vehicle Registrations', 'No.of Vessels Colombo', 'Tax Road Transport', 'GDP FCE Households'), R²: 1.00000, Time: 0.00353 sec\n",
            "Checking combination 497/888030: ('petroleum_imports_crudeOil', 'Taxes_on_Customs_and_Other_Import Duties ', 'Foreign Direct Investments', 'New Vehicle Registrations', 'No.of Vessels Colombo', 'Tax Road Transport', 'Diesel User Price'), R²: 1.00000, Time: 0.00360 sec\n",
            "Checking combination 498/888030: ('petroleum_imports_crudeOil', 'Taxes_on_Customs_and_Other_Import Duties ', 'Foreign Direct Investments', 'New Vehicle Registrations', 'No.of Vessels Colombo', 'Tax Road Transport', 'Petrol User Price'), R²: 1.00000, Time: 0.00348 sec\n",
            "Checking combination 499/888030: ('petroleum_imports_crudeOil', 'Taxes_on_Customs_and_Other_Import Duties ', 'Foreign Direct Investments', 'New Vehicle Registrations', 'No.of Vessels Colombo', 'Tax Road Transport', 'Consumption_Oil'), R²: 1.00000, Time: 0.00457 sec\n",
            "Checking combination 500/888030: ('petroleum_imports_crudeOil', 'Taxes_on_Customs_and_Other_Import Duties ', 'Foreign Direct Investments', 'New Vehicle Registrations', 'No.of Vessels Colombo', 'Tax Road Transport', 'Sales 90 Octane'), R²: 1.00000, Time: 0.00453 sec\n",
            "Checking combination 501/888030: ('petroleum_imports_crudeOil', 'Taxes_on_Customs_and_Other_Import Duties ', 'Foreign Direct Investments', 'New Vehicle Registrations', 'No.of Vessels Colombo', 'Tax Road Transport', 'Sales 95 Octane'), R²: 1.00000, Time: 0.00412 sec\n",
            "Checking combination 502/888030: ('petroleum_imports_crudeOil', 'Taxes_on_Customs_and_Other_Import Duties ', 'Foreign Direct Investments', 'New Vehicle Registrations', 'No.of Vessels Colombo', 'Tax Road Transport', 'Sales Auto Diesel'), R²: 1.00000, Time: 0.00448 sec\n",
            "Checking combination 503/888030: ('petroleum_imports_crudeOil', 'Taxes_on_Customs_and_Other_Import Duties ', 'Foreign Direct Investments', 'New Vehicle Registrations', 'No.of Vessels Colombo', 'Tax Road Transport', 'rolling_std_7'), R²: 1.00000, Time: 0.00469 sec\n",
            "Checking combination 504/888030: ('petroleum_imports_crudeOil', 'Taxes_on_Customs_and_Other_Import Duties ', 'Foreign Direct Investments', 'New Vehicle Registrations', 'No.of Vessels Colombo', 'Tax Road Transport', 'rolling_median_7'), R²: 1.00000, Time: 0.00440 sec\n",
            "Checking combination 505/888030: ('petroleum_imports_crudeOil', 'Taxes_on_Customs_and_Other_Import Duties ', 'Foreign Direct Investments', 'New Vehicle Registrations', 'No.of Vessels Colombo', 'Tax Road Transport', 'ema_0.1'), R²: 1.00000, Time: 0.00444 sec\n",
            "Checking combination 506/888030: ('petroleum_imports_crudeOil', 'Taxes_on_Customs_and_Other_Import Duties ', 'Foreign Direct Investments', 'New Vehicle Registrations', 'No.of Vessels Colombo', 'Tax Road Transport', 'dayofweek'), R²: 1.00000, Time: 0.00451 sec\n",
            "Checking combination 507/888030: ('petroleum_imports_crudeOil', 'Taxes_on_Customs_and_Other_Import Duties ', 'Foreign Direct Investments', 'New Vehicle Registrations', 'No.of Vessels Colombo', 'Tax Road Transport', 'month'), R²: 1.00000, Time: 0.00462 sec\n",
            "Checking combination 508/888030: ('petroleum_imports_crudeOil', 'Taxes_on_Customs_and_Other_Import Duties ', 'Foreign Direct Investments', 'New Vehicle Registrations', 'No.of Vessels Colombo', 'Tax Road Transport', 'quarter'), R²: 1.00000, Time: 0.00479 sec\n",
            "Checking combination 509/888030: ('petroleum_imports_crudeOil', 'Taxes_on_Customs_and_Other_Import Duties ', 'Foreign Direct Investments', 'New Vehicle Registrations', 'No.of Vessels Colombo', 'Tax Road Transport', 'is_weekend'), R²: 1.00000, Time: 0.00492 sec\n",
            "Checking combination 510/888030: ('petroleum_imports_crudeOil', 'Taxes_on_Customs_and_Other_Import Duties ', 'Foreign Direct Investments', 'New Vehicle Registrations', 'No.of Vessels Colombo', 'Tax Road Transport', 'log_fuel_consumption'), R²: 1.00000, Time: 0.00556 sec\n",
            "Checking combination 511/888030: ('petroleum_imports_crudeOil', 'Taxes_on_Customs_and_Other_Import Duties ', 'Foreign Direct Investments', 'New Vehicle Registrations', 'No.of Vessels Colombo', 'Tax Road Transport', 'boxcox_fuel_consumption'), R²: 1.00000, Time: 0.00579 sec\n",
            "Checking combination 512/888030: ('petroleum_imports_crudeOil', 'Taxes_on_Customs_and_Other_Import Duties ', 'Foreign Direct Investments', 'New Vehicle Registrations', 'No.of Vessels Colombo', 'GDP FCE Households', 'Diesel User Price'), R²: 1.00000, Time: 0.00522 sec\n",
            "Checking combination 513/888030: ('petroleum_imports_crudeOil', 'Taxes_on_Customs_and_Other_Import Duties ', 'Foreign Direct Investments', 'New Vehicle Registrations', 'No.of Vessels Colombo', 'GDP FCE Households', 'Petrol User Price'), R²: 1.00000, Time: 0.00562 sec\n",
            "Checking combination 514/888030: ('petroleum_imports_crudeOil', 'Taxes_on_Customs_and_Other_Import Duties ', 'Foreign Direct Investments', 'New Vehicle Registrations', 'No.of Vessels Colombo', 'GDP FCE Households', 'Consumption_Oil'), R²: 1.00000, Time: 0.00668 sec\n",
            "Checking combination 515/888030: ('petroleum_imports_crudeOil', 'Taxes_on_Customs_and_Other_Import Duties ', 'Foreign Direct Investments', 'New Vehicle Registrations', 'No.of Vessels Colombo', 'GDP FCE Households', 'Sales 90 Octane'), R²: 1.00000, Time: 0.01529 sec\n",
            "Checking combination 516/888030: ('petroleum_imports_crudeOil', 'Taxes_on_Customs_and_Other_Import Duties ', 'Foreign Direct Investments', 'New Vehicle Registrations', 'No.of Vessels Colombo', 'GDP FCE Households', 'Sales 95 Octane'), R²: 1.00000, Time: 0.00637 sec\n",
            "Checking combination 517/888030: ('petroleum_imports_crudeOil', 'Taxes_on_Customs_and_Other_Import Duties ', 'Foreign Direct Investments', 'New Vehicle Registrations', 'No.of Vessels Colombo', 'GDP FCE Households', 'Sales Auto Diesel'), R²: 0.98437, Time: 0.00420 sec\n",
            "Checking combination 518/888030: ('petroleum_imports_crudeOil', 'Taxes_on_Customs_and_Other_Import Duties ', 'Foreign Direct Investments', 'New Vehicle Registrations', 'No.of Vessels Colombo', 'GDP FCE Households', 'rolling_std_7'), R²: 0.82074, Time: 0.00382 sec\n",
            "Checking combination 519/888030: ('petroleum_imports_crudeOil', 'Taxes_on_Customs_and_Other_Import Duties ', 'Foreign Direct Investments', 'New Vehicle Registrations', 'No.of Vessels Colombo', 'GDP FCE Households', 'rolling_median_7'), R²: 0.91210, Time: 0.00403 sec\n",
            "R² reached 0.91210, stopping the process.\n"
          ]
        }
      ]
    },
    {
      "cell_type": "code",
      "source": [
        "# Print results\n",
        "for features, r2 in feature_combinations:\n",
        "    print(f\"Features: {features}, R²: {r2}\")"
      ],
      "metadata": {
        "id": "W5kgL8VkIv27"
      },
      "execution_count": 105,
      "outputs": []
    },
    {
      "cell_type": "code",
      "source": [
        "# the final results to use\n",
        "final_cols = ['petroleum_imports_crudeOil', 'Taxes_on_Customs_and_Other_Import Duties ',\n",
        "              'Foreign Direct Investments', 'New Vehicle Registrations', 'No.of Vessels Colombo',\n",
        "              'GDP FCE Households', 'rolling_median_7']"
      ],
      "metadata": {
        "id": "utk3KPtBmgJk"
      },
      "execution_count": 106,
      "outputs": []
    },
    {
      "cell_type": "code",
      "source": [
        "fc = df['fuel_consumption']\n",
        "df = df[final_cols]\n",
        "df['fuel_consumption'] =fc"
      ],
      "metadata": {
        "id": "BDEtq0jZosPL",
        "colab": {
          "base_uri": "https://localhost:8080/"
        },
        "outputId": "de9732fe-2d3d-4bef-8ccd-a9d006899d9b"
      },
      "execution_count": 107,
      "outputs": [
        {
          "output_type": "stream",
          "name": "stderr",
          "text": [
            "<ipython-input-107-1160fae286d3>:3: SettingWithCopyWarning:\n",
            "\n",
            "\n",
            "A value is trying to be set on a copy of a slice from a DataFrame.\n",
            "Try using .loc[row_indexer,col_indexer] = value instead\n",
            "\n",
            "See the caveats in the documentation: https://pandas.pydata.org/pandas-docs/stable/user_guide/indexing.html#returning-a-view-versus-a-copy\n",
            "\n"
          ]
        }
      ]
    },
    {
      "cell_type": "code",
      "source": [
        "df.isnull().sum()"
      ],
      "metadata": {
        "colab": {
          "base_uri": "https://localhost:8080/",
          "height": 335
        },
        "id": "vLGtBwqFQew2",
        "outputId": "307c100a-bfe5-42f3-a3bb-8120ee745c9f"
      },
      "execution_count": 108,
      "outputs": [
        {
          "output_type": "execute_result",
          "data": {
            "text/plain": [
              "petroleum_imports_crudeOil                   0\n",
              "Taxes_on_Customs_and_Other_Import Duties     0\n",
              "Foreign Direct Investments                   0\n",
              "New Vehicle Registrations                    0\n",
              "No.of Vessels Colombo                        0\n",
              "GDP FCE Households                           0\n",
              "rolling_median_7                             0\n",
              "fuel_consumption                             0\n",
              "dtype: int64"
            ],
            "text/html": [
              "<div>\n",
              "<style scoped>\n",
              "    .dataframe tbody tr th:only-of-type {\n",
              "        vertical-align: middle;\n",
              "    }\n",
              "\n",
              "    .dataframe tbody tr th {\n",
              "        vertical-align: top;\n",
              "    }\n",
              "\n",
              "    .dataframe thead th {\n",
              "        text-align: right;\n",
              "    }\n",
              "</style>\n",
              "<table border=\"1\" class=\"dataframe\">\n",
              "  <thead>\n",
              "    <tr style=\"text-align: right;\">\n",
              "      <th></th>\n",
              "      <th>0</th>\n",
              "    </tr>\n",
              "  </thead>\n",
              "  <tbody>\n",
              "    <tr>\n",
              "      <th>petroleum_imports_crudeOil</th>\n",
              "      <td>0</td>\n",
              "    </tr>\n",
              "    <tr>\n",
              "      <th>Taxes_on_Customs_and_Other_Import Duties</th>\n",
              "      <td>0</td>\n",
              "    </tr>\n",
              "    <tr>\n",
              "      <th>Foreign Direct Investments</th>\n",
              "      <td>0</td>\n",
              "    </tr>\n",
              "    <tr>\n",
              "      <th>New Vehicle Registrations</th>\n",
              "      <td>0</td>\n",
              "    </tr>\n",
              "    <tr>\n",
              "      <th>No.of Vessels Colombo</th>\n",
              "      <td>0</td>\n",
              "    </tr>\n",
              "    <tr>\n",
              "      <th>GDP FCE Households</th>\n",
              "      <td>0</td>\n",
              "    </tr>\n",
              "    <tr>\n",
              "      <th>rolling_median_7</th>\n",
              "      <td>0</td>\n",
              "    </tr>\n",
              "    <tr>\n",
              "      <th>fuel_consumption</th>\n",
              "      <td>0</td>\n",
              "    </tr>\n",
              "  </tbody>\n",
              "</table>\n",
              "</div><br><label><b>dtype:</b> int64</label>"
            ]
          },
          "metadata": {},
          "execution_count": 108
        }
      ]
    },
    {
      "cell_type": "code",
      "source": [
        "X = df.drop('fuel_consumption',axis=1)\n",
        "# y = df['fuel_consumption']\n",
        "X_train, X_test, y_train, y_test = train_test_split(X,y, test_size=0.2, random_state= 42)\n",
        "print(\"Training shape\",X_train.shape)\n",
        "print(\"Test df shape\",X_test.shape)\n",
        "rf_model.fit(X_train, y_train)\n",
        "\n",
        "# Make predictions on the test set\n",
        "y_pred_rf = rf_model.predict(X_test)\n",
        "predictions = y_pred_rf  # Replace with y_pred_lr if you're using Linear Regression\n",
        "\n",
        "# Calculate the evaluation metrics\n",
        "mae = mean_absolute_error(y_test, predictions)\n",
        "mse = mean_squared_error(y_test, predictions)\n",
        "rmse = np.sqrt(mse)\n",
        "r2 = r2_score(y_test, predictions)\n",
        "\n",
        "# Print out all the metrics\n",
        "print(f'Mean Absolute Error (MAE): {mae}')\n",
        "print(f'Mean Squared Error (MSE): {mse}')\n",
        "print(f'Root Mean Squared Error (RMSE): {rmse}')\n",
        "print(f'R-squared (R²): {r2}')"
      ],
      "metadata": {
        "id": "ubT_wyA2PRW9",
        "colab": {
          "base_uri": "https://localhost:8080/"
        },
        "outputId": "8aabf628-c83f-4e72-8b84-f7cf039f902f"
      },
      "execution_count": 109,
      "outputs": [
        {
          "output_type": "stream",
          "name": "stdout",
          "text": [
            "Training shape (208, 7)\n",
            "Test df shape (52, 7)\n",
            "Mean Absolute Error (MAE): 6.346153847284293e-06\n",
            "Mean Squared Error (MSE): 2.0942307692483447e-09\n",
            "Root Mean Squared Error (RMSE): 4.576276618877343e-05\n",
            "R-squared (R²): 0.9999991550918518\n"
          ]
        }
      ]
    },
    {
      "cell_type": "code",
      "source": [
        "df_fe = df[['fuel_consumption','petroleum_imports_crudeOil', 'Vehicle Sales', 'Sales 90 Octane', 'Sales 95 Octane',\n",
        "                     'Sales Auto Diesel', 'Diesel User Price', 'Petrol User Price', 'Tax Road Transport',\n",
        "                     'Imports of Refined Products','No.of Vessels Colombo','Taxes_on_Customs_and_Other_Import Duties ',\n",
        "                     'Foreign Direct Investments','Consumption_Oil']]\n"
      ],
      "metadata": {
        "id": "sJgapnetm6gM",
        "colab": {
          "base_uri": "https://localhost:8080/",
          "height": 370
        },
        "outputId": "e249521f-60bf-42d8-a09e-bcc67b99852e"
      },
      "execution_count": 110,
      "outputs": [
        {
          "output_type": "error",
          "ename": "KeyError",
          "evalue": "\"['Vehicle Sales', 'Sales 90 Octane', 'Sales 95 Octane', 'Sales Auto Diesel', 'Diesel User Price', 'Petrol User Price', 'Tax Road Transport', 'Imports of Refined Products', 'Consumption_Oil'] not in index\"",
          "traceback": [
            "\u001b[0;31m---------------------------------------------------------------------------\u001b[0m",
            "\u001b[0;31mKeyError\u001b[0m                                  Traceback (most recent call last)",
            "\u001b[0;32m<ipython-input-110-71877503c029>\u001b[0m in \u001b[0;36m<cell line: 0>\u001b[0;34m()\u001b[0m\n\u001b[0;32m----> 1\u001b[0;31m df_fe = df[['fuel_consumption','petroleum_imports_crudeOil', 'Vehicle Sales', 'Sales 90 Octane', 'Sales 95 Octane',\n\u001b[0m\u001b[1;32m      2\u001b[0m                      \u001b[0;34m'Sales Auto Diesel'\u001b[0m\u001b[0;34m,\u001b[0m \u001b[0;34m'Diesel User Price'\u001b[0m\u001b[0;34m,\u001b[0m \u001b[0;34m'Petrol User Price'\u001b[0m\u001b[0;34m,\u001b[0m \u001b[0;34m'Tax Road Transport'\u001b[0m\u001b[0;34m,\u001b[0m\u001b[0;34m\u001b[0m\u001b[0;34m\u001b[0m\u001b[0m\n\u001b[1;32m      3\u001b[0m                      \u001b[0;34m'Imports of Refined Products'\u001b[0m\u001b[0;34m,\u001b[0m\u001b[0;34m'No.of Vessels Colombo'\u001b[0m\u001b[0;34m,\u001b[0m\u001b[0;34m'Taxes_on_Customs_and_Other_Import Duties '\u001b[0m\u001b[0;34m,\u001b[0m\u001b[0;34m\u001b[0m\u001b[0;34m\u001b[0m\u001b[0m\n\u001b[1;32m      4\u001b[0m                      'Foreign Direct Investments','Consumption_Oil']]\n",
            "\u001b[0;32m/usr/local/lib/python3.11/dist-packages/pandas/core/frame.py\u001b[0m in \u001b[0;36m__getitem__\u001b[0;34m(self, key)\u001b[0m\n\u001b[1;32m   4106\u001b[0m             \u001b[0;32mif\u001b[0m \u001b[0mis_iterator\u001b[0m\u001b[0;34m(\u001b[0m\u001b[0mkey\u001b[0m\u001b[0;34m)\u001b[0m\u001b[0;34m:\u001b[0m\u001b[0;34m\u001b[0m\u001b[0;34m\u001b[0m\u001b[0m\n\u001b[1;32m   4107\u001b[0m                 \u001b[0mkey\u001b[0m \u001b[0;34m=\u001b[0m \u001b[0mlist\u001b[0m\u001b[0;34m(\u001b[0m\u001b[0mkey\u001b[0m\u001b[0;34m)\u001b[0m\u001b[0;34m\u001b[0m\u001b[0;34m\u001b[0m\u001b[0m\n\u001b[0;32m-> 4108\u001b[0;31m             \u001b[0mindexer\u001b[0m \u001b[0;34m=\u001b[0m \u001b[0mself\u001b[0m\u001b[0;34m.\u001b[0m\u001b[0mcolumns\u001b[0m\u001b[0;34m.\u001b[0m\u001b[0m_get_indexer_strict\u001b[0m\u001b[0;34m(\u001b[0m\u001b[0mkey\u001b[0m\u001b[0;34m,\u001b[0m \u001b[0;34m\"columns\"\u001b[0m\u001b[0;34m)\u001b[0m\u001b[0;34m[\u001b[0m\u001b[0;36m1\u001b[0m\u001b[0;34m]\u001b[0m\u001b[0;34m\u001b[0m\u001b[0;34m\u001b[0m\u001b[0m\n\u001b[0m\u001b[1;32m   4109\u001b[0m \u001b[0;34m\u001b[0m\u001b[0m\n\u001b[1;32m   4110\u001b[0m         \u001b[0;31m# take() does not accept boolean indexers\u001b[0m\u001b[0;34m\u001b[0m\u001b[0;34m\u001b[0m\u001b[0m\n",
            "\u001b[0;32m/usr/local/lib/python3.11/dist-packages/pandas/core/indexes/base.py\u001b[0m in \u001b[0;36m_get_indexer_strict\u001b[0;34m(self, key, axis_name)\u001b[0m\n\u001b[1;32m   6198\u001b[0m             \u001b[0mkeyarr\u001b[0m\u001b[0;34m,\u001b[0m \u001b[0mindexer\u001b[0m\u001b[0;34m,\u001b[0m \u001b[0mnew_indexer\u001b[0m \u001b[0;34m=\u001b[0m \u001b[0mself\u001b[0m\u001b[0;34m.\u001b[0m\u001b[0m_reindex_non_unique\u001b[0m\u001b[0;34m(\u001b[0m\u001b[0mkeyarr\u001b[0m\u001b[0;34m)\u001b[0m\u001b[0;34m\u001b[0m\u001b[0;34m\u001b[0m\u001b[0m\n\u001b[1;32m   6199\u001b[0m \u001b[0;34m\u001b[0m\u001b[0m\n\u001b[0;32m-> 6200\u001b[0;31m         \u001b[0mself\u001b[0m\u001b[0;34m.\u001b[0m\u001b[0m_raise_if_missing\u001b[0m\u001b[0;34m(\u001b[0m\u001b[0mkeyarr\u001b[0m\u001b[0;34m,\u001b[0m \u001b[0mindexer\u001b[0m\u001b[0;34m,\u001b[0m \u001b[0maxis_name\u001b[0m\u001b[0;34m)\u001b[0m\u001b[0;34m\u001b[0m\u001b[0;34m\u001b[0m\u001b[0m\n\u001b[0m\u001b[1;32m   6201\u001b[0m \u001b[0;34m\u001b[0m\u001b[0m\n\u001b[1;32m   6202\u001b[0m         \u001b[0mkeyarr\u001b[0m \u001b[0;34m=\u001b[0m \u001b[0mself\u001b[0m\u001b[0;34m.\u001b[0m\u001b[0mtake\u001b[0m\u001b[0;34m(\u001b[0m\u001b[0mindexer\u001b[0m\u001b[0;34m)\u001b[0m\u001b[0;34m\u001b[0m\u001b[0;34m\u001b[0m\u001b[0m\n",
            "\u001b[0;32m/usr/local/lib/python3.11/dist-packages/pandas/core/indexes/base.py\u001b[0m in \u001b[0;36m_raise_if_missing\u001b[0;34m(self, key, indexer, axis_name)\u001b[0m\n\u001b[1;32m   6250\u001b[0m \u001b[0;34m\u001b[0m\u001b[0m\n\u001b[1;32m   6251\u001b[0m             \u001b[0mnot_found\u001b[0m \u001b[0;34m=\u001b[0m \u001b[0mlist\u001b[0m\u001b[0;34m(\u001b[0m\u001b[0mensure_index\u001b[0m\u001b[0;34m(\u001b[0m\u001b[0mkey\u001b[0m\u001b[0;34m)\u001b[0m\u001b[0;34m[\u001b[0m\u001b[0mmissing_mask\u001b[0m\u001b[0;34m.\u001b[0m\u001b[0mnonzero\u001b[0m\u001b[0;34m(\u001b[0m\u001b[0;34m)\u001b[0m\u001b[0;34m[\u001b[0m\u001b[0;36m0\u001b[0m\u001b[0;34m]\u001b[0m\u001b[0;34m]\u001b[0m\u001b[0;34m.\u001b[0m\u001b[0munique\u001b[0m\u001b[0;34m(\u001b[0m\u001b[0;34m)\u001b[0m\u001b[0;34m)\u001b[0m\u001b[0;34m\u001b[0m\u001b[0;34m\u001b[0m\u001b[0m\n\u001b[0;32m-> 6252\u001b[0;31m             \u001b[0;32mraise\u001b[0m \u001b[0mKeyError\u001b[0m\u001b[0;34m(\u001b[0m\u001b[0;34mf\"{not_found} not in index\"\u001b[0m\u001b[0;34m)\u001b[0m\u001b[0;34m\u001b[0m\u001b[0;34m\u001b[0m\u001b[0m\n\u001b[0m\u001b[1;32m   6253\u001b[0m \u001b[0;34m\u001b[0m\u001b[0m\n\u001b[1;32m   6254\u001b[0m     \u001b[0;34m@\u001b[0m\u001b[0moverload\u001b[0m\u001b[0;34m\u001b[0m\u001b[0;34m\u001b[0m\u001b[0m\n",
            "\u001b[0;31mKeyError\u001b[0m: \"['Vehicle Sales', 'Sales 90 Octane', 'Sales 95 Octane', 'Sales Auto Diesel', 'Diesel User Price', 'Petrol User Price', 'Tax Road Transport', 'Imports of Refined Products', 'Consumption_Oil'] not in index\""
          ]
        }
      ]
    },
    {
      "cell_type": "code",
      "source": [
        "feature_combinations = feature_selection(df_fe, target_col='fuel_consumption', num_features=7, r2_lower=0.89, r2_upper=0.92)"
      ],
      "metadata": {
        "id": "499Hsnqpnx69"
      },
      "execution_count": null,
      "outputs": []
    },
    {
      "cell_type": "code",
      "source": [],
      "metadata": {
        "id": "vTXKtRM3n13v"
      },
      "execution_count": null,
      "outputs": []
    }
  ]
}