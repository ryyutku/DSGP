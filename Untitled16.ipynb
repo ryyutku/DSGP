{
  "nbformat": 4,
  "nbformat_minor": 0,
  "metadata": {
    "colab": {
      "provenance": [],
      "authorship_tag": "ABX9TyPM9zwGhjjUdV+dKtDPdUIu",
      "include_colab_link": true
    },
    "kernelspec": {
      "name": "python3",
      "display_name": "Python 3"
    },
    "language_info": {
      "name": "python"
    }
  },
  "cells": [
    {
      "cell_type": "markdown",
      "metadata": {
        "id": "view-in-github",
        "colab_type": "text"
      },
      "source": [
        "<a href=\"https://colab.research.google.com/github/ryyutku/DSGP/blob/anuk/Untitled16.ipynb\" target=\"_parent\"><img src=\"https://colab.research.google.com/assets/colab-badge.svg\" alt=\"Open In Colab\"/></a>"
      ]
    },
    {
      "cell_type": "code",
      "source": [
        "import pandas as pd\n",
        "import numpy as np\n",
        "from sklearn.preprocessing import MinMaxScaler"
      ],
      "metadata": {
        "id": "--gZxp1TmKH9"
      },
      "execution_count": 20,
      "outputs": []
    },
    {
      "cell_type": "code",
      "source": [
        "files = [\"Avg_Daily_Sales_Litres_ceypetco.csv\",\"Avg_Daily_Sales_MT_ceypetco.csv\",\"CIEC Data.csv\",\"GDP_historical_data.csv\",\"Import_Data_WITS.csv\",\"Population_colombo.csv\",\"Sales_IOC.csv\",\"Transport_Report_Tables.csv\" ]"
      ],
      "metadata": {
        "id": "2DrAIJJgpiAe"
      },
      "execution_count": 21,
      "outputs": []
    },
    {
      "cell_type": "code",
      "source": [
        "ceypetco_sales_l_df = pd.read_csv(files[0]) # int64\n",
        "ceypetco_sales_m_df = pd.read_csv(files[1]) # int64\n",
        "ciec_df = pd.read_csv(files[2]) # float64\n",
        "gdp_df = pd.read_csv(files[3]) # converted to float64\n",
        "import_df = pd.read_csv(files[4]) # contains float64, int64 for years, object for the partner names and countries\n",
        "population_df = pd.read_csv(files[5]) # converted float64\n",
        "ioc_sales_df = pd.read_csv(files[6]) # converted to float64\n",
        "transport_df = pd.read_csv(files[7]) # converted to float64\n"
      ],
      "metadata": {
        "id": "I0RaI_lYqsfC"
      },
      "execution_count": 22,
      "outputs": []
    },
    {
      "cell_type": "code",
      "source": [
        "# Converting the ioc_sales data into float\n",
        "ioc_sales_df = ioc_sales_df.replace({r'[\\n,]': ''}, regex=True)\n",
        "ioc_sales_df = ioc_sales_df.astype(float)"
      ],
      "metadata": {
        "id": "c4LPoMBUr0AO"
      },
      "execution_count": 23,
      "outputs": []
    },
    {
      "cell_type": "code",
      "source": [
        "# Converting the gdp historical data into float\n",
        "gdp_df = gdp_df.replace({r'[$%B,]':''},regex=True)\n",
        "gdp_df = gdp_df.replace('',np.nan)\n",
        "gdp_df = gdp_df.astype(float)"
      ],
      "metadata": {
        "id": "6qWfNVE8uoo5"
      },
      "execution_count": 24,
      "outputs": []
    },
    {
      "cell_type": "code",
      "source": [
        "# converting the population df to float\n",
        "population_df = population_df.replace({r'[,%]':''},regex=True)\n",
        "population_df = population_df.replace('',np.nan)\n",
        "population_df = population_df.astype(float)"
      ],
      "metadata": {
        "id": "-hslLy4xwHOR"
      },
      "execution_count": 25,
      "outputs": []
    },
    {
      "cell_type": "code",
      "source": [
        "# converting the transport df to float\n",
        "transport_df_str = transport_df.iloc[:,0:2]\n",
        "transport_df_n = transport_df.iloc[:, 2:].replace({r'[,%]':''},regex=True)\n",
        "transport_df_n = transport_df_n.astype(float)\n",
        "transport_df = transport_df_str.join(transport_df_n)"
      ],
      "metadata": {
        "id": "uA4TwGw2w4jc"
      },
      "execution_count": 26,
      "outputs": []
    },
    {
      "cell_type": "code",
      "source": [
        "ciec_df['date'] = pd.to_datetime((ciec_df['date']))"
      ],
      "metadata": {
        "id": "1Rjm5BlTQm4U"
      },
      "execution_count": 27,
      "outputs": []
    },
    {
      "cell_type": "code",
      "source": [
        "ciec_df.columns"
      ],
      "metadata": {
        "colab": {
          "base_uri": "https://localhost:8080/"
        },
        "id": "30qsiRZ4RjJj",
        "outputId": "aa63026e-f276-4752-bfe5-4d4323e4ab6e"
      },
      "execution_count": 28,
      "outputs": [
        {
          "output_type": "execute_result",
          "data": {
            "text/plain": [
              "Index(['date', 'fuel_consumption', 'petroleum_imports_crudeOil',\n",
              "       'Taxes_on_Customs_and_Other_Import Duties ',\n",
              "       'Foreign Direct Investments', 'GDP Goods and Services',\n",
              "       'GDP: Gross National Income', 'Government Debt',\n",
              "       'New Vehicle Registrations', 'Vehicle Sales', 'Port Stay Duration',\n",
              "       'Vehicle Sales Asia', 'No.of Vessels Colombo',\n",
              "       'Imports of Refined Products', 'Colombo port calls',\n",
              "       'Tax income profits_gains', 'Tax on Export', 'Tax Goods & Services',\n",
              "       'Tax Road Transport', 'GDP FCE Households', 'Diesel User Price',\n",
              "       'Petrol User Price', 'Consumption_Oil', 'Sales 90 Octane',\n",
              "       'Sales 95 Octane', 'Sales Auto Diesel', 'Household_income',\n",
              "       'Fuel_other_manufacture'],\n",
              "      dtype='object')"
            ]
          },
          "metadata": {},
          "execution_count": 28
        }
      ]
    },
    {
      "cell_type": "code",
      "source": [
        "len(ciec_df.columns)"
      ],
      "metadata": {
        "colab": {
          "base_uri": "https://localhost:8080/"
        },
        "id": "RDfr2ou0gwk-",
        "outputId": "aa1b19f9-7e8d-4dc0-a8f0-c4e16591c1c7"
      },
      "execution_count": 29,
      "outputs": [
        {
          "output_type": "execute_result",
          "data": {
            "text/plain": [
              "28"
            ]
          },
          "metadata": {},
          "execution_count": 29
        }
      ]
    },
    {
      "cell_type": "code",
      "source": [
        "ciec_cols = ['fuel_consumption', 'petroleum_imports_crudeOil',\n",
        "       'Taxes_on_Customs_and_Other_Import Duties ',\n",
        "       'Foreign Direct Investments', 'GDP Goods and Services',\n",
        "       'GDP: Gross National Income', 'Government Debt',\n",
        "       'New Vehicle Registrations', 'Vehicle Sales', 'Port Stay Duration',\n",
        "       'Vehicle Sales Asia', 'No.of Vessels Colombo',\n",
        "       'Imports of Refined Products', 'Colombo port calls',\n",
        "       'Tax income profits_gains', 'Tax on Export', 'Tax Goods & Services',\n",
        "       'Tax Road Transport', 'GDP FCE Households', 'Diesel User Price',\n",
        "       'Petrol User Price', 'Consumption_Oil', 'Sales 90 Octane',\n",
        "       'Sales 95 Octane', 'Sales Auto Diesel', 'Household_income',\n",
        "       'Fuel_other_manufacture']"
      ],
      "metadata": {
        "id": "S03nNqtltjcr"
      },
      "execution_count": 30,
      "outputs": []
    },
    {
      "cell_type": "markdown",
      "source": [
        "### **Scaling and Normalizing the Data**"
      ],
      "metadata": {
        "id": "VmnAOMbotatU"
      }
    },
    {
      "cell_type": "code",
      "source": [
        "# making a copy\n",
        "ciec = ciec_df.copy()"
      ],
      "metadata": {
        "id": "yYGPJtXXwt_g"
      },
      "execution_count": 31,
      "outputs": []
    },
    {
      "cell_type": "code",
      "source": [
        "date = ciec_df['date']"
      ],
      "metadata": {
        "id": "BRj9aoShw765"
      },
      "execution_count": 32,
      "outputs": []
    },
    {
      "cell_type": "code",
      "source": [
        "scaler = MinMaxScaler()"
      ],
      "metadata": {
        "id": "fF4dYaMluEaU"
      },
      "execution_count": 33,
      "outputs": []
    },
    {
      "cell_type": "code",
      "source": [
        "ciec[ciec_cols] = scaler.fit_transform(ciec[ciec_cols])\n",
        "ciec['date'] = date"
      ],
      "metadata": {
        "id": "8bRDqkxKtaHj"
      },
      "execution_count": 34,
      "outputs": []
    },
    {
      "cell_type": "markdown",
      "source": [
        "### **Building the Demand Proxy Feature Column**"
      ],
      "metadata": {
        "id": "0TSnmT5L3vBU"
      }
    },
    {
      "cell_type": "markdown",
      "source": [
        "In the dataset of CIEC data, the supposed to be y variable 'fuel_consumption' contains data until 2014, so it is necessary to build a proxy variable with combination of other variables to determine the fuel demand in Sri Lanka."
      ],
      "metadata": {
        "id": "sTDy5MOlr5xH"
      }
    },
    {
      "cell_type": "code",
      "source": [
        "# Method to calculate correlation against 'fuel_consumption' and other features\n",
        "def fuel_consumption_corr(df,feature):\n",
        "  # Get the columns of the features to be correlated agains fuel_consumption in ciec\n",
        "  fuel_consumption = df[ciec['fuel_consumption'].notna()]\n",
        "  feature_corr = df[df[feature].notna()]\n",
        "\n",
        "  # Identifying the data ranges which both the columns are valid\n",
        "  start_date = max(fuel_consumption['date'].min(),feature_corr['date'].min())\n",
        "  end_date = min(fuel_consumption['date'].max(),feature_corr['date'].max())\n",
        "\n",
        "  # Filtering the data range to only include the intersecting data range\n",
        "  filtered_df = df[(df['date'] >= start_date) & (df['date'] <= end_date)]\n",
        "\n",
        "  # Calculating the correlation\n",
        "  correlation = filtered_df['fuel_consumption'].corr(filtered_df[feature])\n",
        "\n",
        "  return correlation\n",
        "\n",
        "\n"
      ],
      "metadata": {
        "id": "-CTh7AyHSgUt"
      },
      "execution_count": 47,
      "outputs": []
    },
    {
      "cell_type": "markdown",
      "source": [
        "There are 7 factors that can summarized as to which can affect demand.\n",
        "\n",
        "\n",
        "*   Income of consumers\n",
        "*   Price of substitutes\n",
        "*   Price of complements\n",
        "*   Changes in tast/Fashion\n",
        "*   Seasonal\n",
        "*   Advertising\n",
        "*   Price\n",
        "\n",
        "Features of the CIEC data dataset will be distributed accordingly to have a proper fixed \"target variable\"\n",
        "\n"
      ],
      "metadata": {
        "id": "j9r_UkstZIOw"
      }
    },
    {
      "cell_type": "code",
      "source": [
        "income_of_consumers = [\n",
        "    'GDP: Gross National Income', 'Foreign Direct Investments',\n",
        "    'GDP FCE Households', 'Tax income profits_gains', 'Household_income'\n",
        "]\n",
        "\n",
        "price_of_substitutes = ['Sales 90 Octane', 'Sales 95 Octane','Sales Auto Diesel','Consumption_Oil']\n",
        "price_of_complements = ['New Vehicle Registrations', 'Vehicle Sales','Vehicle Sales Asia','No.of Vessels Colombo','Port Stay Duration','Fuel_other_manufacture']\n",
        "price = ['Diesel User Price','Petrol User Price']\n",
        "seasonal = ['Imports of Refined Products','Colombo port calls']\n"
      ],
      "metadata": {
        "id": "4czMkS-CZzy6"
      },
      "execution_count": 104,
      "outputs": []
    },
    {
      "cell_type": "code",
      "source": [
        "demand_factors = income_of_consumers + price_of_substitutes + price_of_complements + price + seasonal"
      ],
      "metadata": {
        "id": "vkc8qu8cjH-X"
      },
      "execution_count": 91,
      "outputs": []
    },
    {
      "cell_type": "code",
      "source": [
        "for cols in demand_factors:\n",
        "  print(cols,\":\",fuel_consumption_corr(ciec,cols))"
      ],
      "metadata": {
        "colab": {
          "base_uri": "https://localhost:8080/"
        },
        "id": "TzcMTheMjB8p",
        "outputId": "7b961f02-d5c0-4aff-fbdc-3ab0cd7dc1dd"
      },
      "execution_count": 92,
      "outputs": [
        {
          "output_type": "stream",
          "name": "stdout",
          "text": [
            "GDP: Gross National Income : 0.5771154097165387\n",
            "Foreign Direct Investments : 0.016701608742766813\n",
            "GDP FCE Households : 0.6213174075360737\n",
            "Tax income profits_gains : 0.6797987093453305\n",
            "Household_income : -0.7464069423338254\n",
            "Sales 90 Octane : 0.7638219560761796\n",
            "Sales 95 Octane : 0.7767870472492998\n",
            "Sales Auto Diesel : 0.9642519644854153\n",
            "Consumption_Oil : 0.9598220451897032\n",
            "New Vehicle Registrations : 0.710940691420204\n",
            "Vehicle Sales : 0.8283821219636843\n",
            "Vehicle Sales Asia : -0.07213670624393759\n",
            "No.of Vessels Colombo : 0.17888589812176617\n",
            "Port Stay Duration : nan\n",
            "Fuel_other_manufacture : nan\n",
            "Diesel User Price : 0.42929679961766626\n",
            "Petrol User Price : -0.8393110671118198\n",
            "Imports of Refined Products : 0.6530356879648631\n",
            "Colombo port calls : nan\n"
          ]
        },
        {
          "output_type": "stream",
          "name": "stderr",
          "text": [
            "/usr/local/lib/python3.11/dist-packages/numpy/lib/function_base.py:2897: RuntimeWarning: invalid value encountered in divide\n",
            "  c /= stddev[:, None]\n",
            "/usr/local/lib/python3.11/dist-packages/numpy/lib/function_base.py:2898: RuntimeWarning: invalid value encountered in divide\n",
            "  c /= stddev[None, :]\n"
          ]
        }
      ]
    },
    {
      "cell_type": "markdown",
      "source": [
        "Checking correlation with other features that are not in demand factors"
      ],
      "metadata": {
        "id": "l5ZRgRO5g4TW"
      }
    },
    {
      "cell_type": "code",
      "source": [
        "selected_columns = set(income_of_consumers + price_of_complements + price_of_substitutes + price + seasonal)\n",
        "other_cols = [col for col in ciec_cols if col not in selected_columns]\n",
        "\n",
        "print(other_cols)\n"
      ],
      "metadata": {
        "colab": {
          "base_uri": "https://localhost:8080/"
        },
        "id": "2B0FJKMLc5OH",
        "outputId": "95dbdaf1-f87b-4f3a-c5a3-01caf53df56b"
      },
      "execution_count": 89,
      "outputs": [
        {
          "output_type": "stream",
          "name": "stdout",
          "text": [
            "['fuel_consumption', 'petroleum_imports_crudeOil', 'Taxes_on_Customs_and_Other_Import Duties ', 'GDP Goods and Services', 'Government Debt', 'Tax on Export', 'Tax Goods & Services', 'Tax Road Transport']\n"
          ]
        }
      ]
    },
    {
      "cell_type": "code",
      "source": [
        "for col in other_cols:\n",
        "  print(col,\":\",fuel_consumption_corr(ciec,col))"
      ],
      "metadata": {
        "colab": {
          "base_uri": "https://localhost:8080/"
        },
        "id": "Zn93E9KWhTVS",
        "outputId": "f90c7ce0-4a34-4a68-ef40-39a74580e8b1"
      },
      "execution_count": 90,
      "outputs": [
        {
          "output_type": "stream",
          "name": "stdout",
          "text": [
            "fuel_consumption : 0.9999999999999998\n",
            "petroleum_imports_crudeOil : 0.7242259405166621\n",
            "Taxes_on_Customs_and_Other_Import Duties  : -0.7757441984816745\n",
            "GDP Goods and Services : 0.7256692082264405\n",
            "Government Debt : nan\n",
            "Tax on Export : 0.4514010595209357\n",
            "Tax Goods & Services : -0.7490537772963195\n",
            "Tax Road Transport : 0.7285810018850449\n"
          ]
        },
        {
          "output_type": "stream",
          "name": "stderr",
          "text": [
            "/usr/local/lib/python3.11/dist-packages/numpy/lib/function_base.py:2897: RuntimeWarning: invalid value encountered in divide\n",
            "  c /= stddev[:, None]\n",
            "/usr/local/lib/python3.11/dist-packages/numpy/lib/function_base.py:2898: RuntimeWarning: invalid value encountered in divide\n",
            "  c /= stddev[None, :]\n"
          ]
        }
      ]
    },
    {
      "cell_type": "markdown",
      "source": [
        "Checking the correlation with the demand forecasting factors"
      ],
      "metadata": {
        "id": "e1xQdCbAkHie"
      }
    },
    {
      "cell_type": "code",
      "source": [
        "\n",
        "import pandas as pd\n",
        "\n",
        "def calculate_category_correlation(df, category_features, category_name):\n",
        "\n",
        "    # Convert 'date' column to datetime if not already\n",
        "    df['date'] = pd.to_datetime(df['date'])\n",
        "\n",
        "    # Drop rows where 'fuel_consumption' is NaN\n",
        "    df_valid_fuel = df.dropna(subset=['fuel_consumption'])\n",
        "\n",
        "    # Drop rows where all category features are NaN\n",
        "    df_valid_category = df.dropna(subset=category_features, how='all')\n",
        "\n",
        "    # Find the overlapping date range where both 'fuel_consumption' and the category features exist\n",
        "    start_date = max(df_valid_fuel['date'].min(), df_valid_category['date'].min())\n",
        "    end_date = min(df_valid_fuel['date'].max(), df_valid_category['date'].max())\n",
        "\n",
        "    # Filter data to include only the overlapping date range\n",
        "    df_filtered = df[(df['date'] >= start_date) & (df['date'] <= end_date)]\n",
        "\n",
        "    # Create a new column representing the aggregated category (e.g., mean of all category features)\n",
        "    df_filtered[category_name] = df_filtered[category_features].mean(axis=1, skipna=True)\n",
        "\n",
        "    # Compute correlation between 'fuel_consumption' and the aggregated category\n",
        "    correlation = df_filtered[['fuel_consumption', category_name]].corr().iloc[0, 1]\n",
        "\n",
        "    return correlation\n",
        "\n"
      ],
      "metadata": {
        "id": "THG22m7ikO9o"
      },
      "execution_count": 100,
      "outputs": []
    },
    {
      "cell_type": "code",
      "source": [
        "print(ciec.columns)"
      ],
      "metadata": {
        "colab": {
          "base_uri": "https://localhost:8080/"
        },
        "id": "A-eZyI3hmSDt",
        "outputId": "64725b20-3870-47a7-91d0-2f00881d0e44"
      },
      "execution_count": 102,
      "outputs": [
        {
          "output_type": "stream",
          "name": "stdout",
          "text": [
            "Index(['date', 'fuel_consumption', 'petroleum_imports_crudeOil',\n",
            "       'Taxes_on_Customs_and_Other_Import Duties ',\n",
            "       'Foreign Direct Investments', 'GDP Goods and Services',\n",
            "       'GDP: Gross National Income', 'Government Debt',\n",
            "       'New Vehicle Registrations', 'Vehicle Sales', 'Port Stay Duration',\n",
            "       'Vehicle Sales Asia', 'No.of Vessels Colombo',\n",
            "       'Imports of Refined Products', 'Colombo port calls',\n",
            "       'Tax income profits_gains', 'Tax on Export', 'Tax Goods & Services',\n",
            "       'Tax Road Transport', 'GDP FCE Households', 'Diesel User Price',\n",
            "       'Petrol User Price', 'Consumption_Oil', 'Sales 90 Octane',\n",
            "       'Sales 95 Octane', 'Sales Auto Diesel', 'Household_income',\n",
            "       'Fuel_other_manufacture'],\n",
            "      dtype='object')\n"
          ]
        }
      ]
    },
    {
      "cell_type": "code",
      "source": [
        "print(income_of_consumers)"
      ],
      "metadata": {
        "colab": {
          "base_uri": "https://localhost:8080/"
        },
        "id": "Rm-yao_ImVdP",
        "outputId": "48e9d293-7758-4e12-c6b4-2fbf444c970e"
      },
      "execution_count": 103,
      "outputs": [
        {
          "output_type": "stream",
          "name": "stdout",
          "text": [
            "['GDP_Gross_National_Income', 'Foreign_Direct_Investments', 'GDP_FCE_Households', 'Tax_income_profits_gains', 'Household_income']\n"
          ]
        }
      ]
    },
    {
      "cell_type": "code",
      "source": [
        "# Compute correlation between 'fuel_consumption' and 'income_of_consumers'\n",
        "correlation = calculate_category_correlation(ciec, income_of_consumers, \"Income_of_Consumers\")\n",
        "\n",
        "print(f\"Correlation between fuel_consumption and Income of Consumers: {correlation}\")"
      ],
      "metadata": {
        "colab": {
          "base_uri": "https://localhost:8080/"
        },
        "id": "chqYxwh1kest",
        "outputId": "99de2ca1-f864-44b1-ff43-781b16c11d9b"
      },
      "execution_count": 105,
      "outputs": [
        {
          "output_type": "stream",
          "name": "stdout",
          "text": [
            "Correlation between fuel_consumption and Income of Consumers: 0.01178330649220857\n"
          ]
        },
        {
          "output_type": "stream",
          "name": "stderr",
          "text": [
            "<ipython-input-100-13d31fb32e21>:22: SettingWithCopyWarning: \n",
            "A value is trying to be set on a copy of a slice from a DataFrame.\n",
            "Try using .loc[row_indexer,col_indexer] = value instead\n",
            "\n",
            "See the caveats in the documentation: https://pandas.pydata.org/pandas-docs/stable/user_guide/indexing.html#returning-a-view-versus-a-copy\n",
            "  df_filtered[category_name] = df_filtered[category_features].mean(axis=1, skipna=True)\n"
          ]
        }
      ]
    },
    {
      "cell_type": "code",
      "source": [
        "# Compute correlation between 'fuel_consumption' and 'income_of_consumers'\n",
        "correlation = calculate_category_correlation(ciec, price_of_substitutes, \"Price_Of_Substitutes\")\n",
        "\n",
        "print(f\"Correlation between fuel_consumption and Price of Substitute: {correlation}\")"
      ],
      "metadata": {
        "colab": {
          "base_uri": "https://localhost:8080/"
        },
        "id": "zt6seWPAl_wU",
        "outputId": "b0d74280-b9b1-403e-b1ee-6309d8b2f8d9"
      },
      "execution_count": 107,
      "outputs": [
        {
          "output_type": "stream",
          "name": "stdout",
          "text": [
            "Correlation between fuel_consumption and Price of Substitute: 0.9567724317957925\n"
          ]
        },
        {
          "output_type": "stream",
          "name": "stderr",
          "text": [
            "<ipython-input-100-13d31fb32e21>:22: SettingWithCopyWarning: \n",
            "A value is trying to be set on a copy of a slice from a DataFrame.\n",
            "Try using .loc[row_indexer,col_indexer] = value instead\n",
            "\n",
            "See the caveats in the documentation: https://pandas.pydata.org/pandas-docs/stable/user_guide/indexing.html#returning-a-view-versus-a-copy\n",
            "  df_filtered[category_name] = df_filtered[category_features].mean(axis=1, skipna=True)\n"
          ]
        }
      ]
    },
    {
      "cell_type": "code",
      "source": [
        "# Compute correlation between 'fuel_consumption' and 'income_of_consumers'\n",
        "correlation = calculate_category_correlation(ciec, price_of_complements, \"Price_Of_Complements\")\n",
        "\n",
        "print(f\"Correlation between fuel_consumption and Price of Complements: {correlation}\")"
      ],
      "metadata": {
        "colab": {
          "base_uri": "https://localhost:8080/"
        },
        "id": "zre8M8bBnazZ",
        "outputId": "e36b2d47-506d-43f4-f77f-c23637c3adbd"
      },
      "execution_count": 108,
      "outputs": [
        {
          "output_type": "stream",
          "name": "stdout",
          "text": [
            "Correlation between fuel_consumption and Price of Complements: 0.78387068377676\n"
          ]
        },
        {
          "output_type": "stream",
          "name": "stderr",
          "text": [
            "<ipython-input-100-13d31fb32e21>:22: SettingWithCopyWarning: \n",
            "A value is trying to be set on a copy of a slice from a DataFrame.\n",
            "Try using .loc[row_indexer,col_indexer] = value instead\n",
            "\n",
            "See the caveats in the documentation: https://pandas.pydata.org/pandas-docs/stable/user_guide/indexing.html#returning-a-view-versus-a-copy\n",
            "  df_filtered[category_name] = df_filtered[category_features].mean(axis=1, skipna=True)\n"
          ]
        }
      ]
    },
    {
      "cell_type": "code",
      "source": [
        "# Compute correlation between 'fuel_consumption' and 'income_of_consumers'\n",
        "correlation = calculate_category_correlation(ciec, price, \"Price\")\n",
        "\n",
        "print(f\"Correlation between fuel_consumption and Price: {correlation}\")"
      ],
      "metadata": {
        "colab": {
          "base_uri": "https://localhost:8080/"
        },
        "id": "mR-tfxVQnk1s",
        "outputId": "e6a20bce-5bf9-47e5-b5f9-8b8abb34dba7"
      },
      "execution_count": 109,
      "outputs": [
        {
          "output_type": "stream",
          "name": "stdout",
          "text": [
            "Correlation between fuel_consumption and Price: -0.15192262464733997\n"
          ]
        },
        {
          "output_type": "stream",
          "name": "stderr",
          "text": [
            "<ipython-input-100-13d31fb32e21>:22: SettingWithCopyWarning: \n",
            "A value is trying to be set on a copy of a slice from a DataFrame.\n",
            "Try using .loc[row_indexer,col_indexer] = value instead\n",
            "\n",
            "See the caveats in the documentation: https://pandas.pydata.org/pandas-docs/stable/user_guide/indexing.html#returning-a-view-versus-a-copy\n",
            "  df_filtered[category_name] = df_filtered[category_features].mean(axis=1, skipna=True)\n"
          ]
        }
      ]
    },
    {
      "cell_type": "code",
      "source": [
        "# Compute correlation between 'fuel_consumption' and 'income_of_consumers'\n",
        "correlation = calculate_category_correlation(ciec, seasonal, \"Seasonal\")\n",
        "\n",
        "print(f\"Correlation between fuel_consumption and Seasonal: {correlation}\")"
      ],
      "metadata": {
        "colab": {
          "base_uri": "https://localhost:8080/"
        },
        "id": "UZOPvRYAnpiK",
        "outputId": "7cdef218-48b4-4ac0-c9a5-497fe02a79a5"
      },
      "execution_count": 110,
      "outputs": [
        {
          "output_type": "stream",
          "name": "stdout",
          "text": [
            "Correlation between fuel_consumption and Seasonal: 0.6530356879648683\n"
          ]
        },
        {
          "output_type": "stream",
          "name": "stderr",
          "text": [
            "<ipython-input-100-13d31fb32e21>:22: SettingWithCopyWarning: \n",
            "A value is trying to be set on a copy of a slice from a DataFrame.\n",
            "Try using .loc[row_indexer,col_indexer] = value instead\n",
            "\n",
            "See the caveats in the documentation: https://pandas.pydata.org/pandas-docs/stable/user_guide/indexing.html#returning-a-view-versus-a-copy\n",
            "  df_filtered[category_name] = df_filtered[category_features].mean(axis=1, skipna=True)\n"
          ]
        }
      ]
    },
    {
      "cell_type": "markdown",
      "source": [
        "Setting the proxy target variable"
      ],
      "metadata": {
        "id": "tbqWQhEHxs9N"
      }
    },
    {
      "cell_type": "code",
      "source": [],
      "metadata": {
        "id": "woJhw04gnvMh"
      },
      "execution_count": 106,
      "outputs": []
    }
  ]
}