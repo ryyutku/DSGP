{
  "nbformat": 4,
  "nbformat_minor": 0,
  "metadata": {
    "colab": {
      "provenance": [],
      "include_colab_link": true
    },
    "kernelspec": {
      "name": "python3",
      "display_name": "Python 3"
    },
    "language_info": {
      "name": "python"
    }
  },
  "cells": [
    {
      "cell_type": "markdown",
      "metadata": {
        "id": "view-in-github",
        "colab_type": "text"
      },
      "source": [
        "<a href=\"https://colab.research.google.com/github/ryyutku/DSGP/blob/anuk/Future%20Data%20Model/Fill_missing_1.ipynb\" target=\"_parent\"><img src=\"https://colab.research.google.com/assets/colab-badge.svg\" alt=\"Open In Colab\"/></a>"
      ]
    },
    {
      "cell_type": "code",
      "execution_count": 1,
      "metadata": {
        "id": "w4Ts2_ucp3t1"
      },
      "outputs": [],
      "source": [
        "import pandas as pd\n",
        "import numpy as np\n",
        "import matplotlib.pyplot as plt\n",
        "from sklearn.preprocessing import MinMaxScaler, StandardScaler\n",
        "\n",
        "import statsmodels.api as sm\n",
        "from scipy.stats import linregress\n",
        "from statsmodels.tsa.stattools import adfuller\n",
        "from sklearn.linear_model import LinearRegression\n",
        "from sklearn.preprocessing import PolynomialFeatures\n",
        "from scipy.optimize import curve_fit"
      ]
    },
    {
      "cell_type": "code",
      "source": [
        "files = [\"Avg_Daily_Sales_Litres_ceypetco.csv\",\"Avg_Daily_Sales_MT_ceypetco.csv\",\"CIEC Data.csv\",\"GDP_historical_data.csv\",\"Import_Data_WITS.csv\",\"Population_colombo.csv\",\"Sales_IOC.csv\",\"Transport_Report_Tables.csv\" ]"
      ],
      "metadata": {
        "id": "-C_uhDArmdrX"
      },
      "execution_count": 2,
      "outputs": []
    },
    {
      "cell_type": "code",
      "source": [
        "ciec_df = pd.read_csv(files[2]) # float64"
      ],
      "metadata": {
        "id": "blpO1CoMmx2e"
      },
      "execution_count": 3,
      "outputs": []
    },
    {
      "cell_type": "code",
      "source": [
        "ciec_df['date'] = pd.to_datetime((ciec_df['date']))"
      ],
      "metadata": {
        "id": "1Rjm5BlTQm4U"
      },
      "execution_count": 4,
      "outputs": []
    },
    {
      "cell_type": "code",
      "source": [
        "ciec_df.columns"
      ],
      "metadata": {
        "colab": {
          "base_uri": "https://localhost:8080/"
        },
        "id": "djkoxXXXnBhv",
        "outputId": "f0c75c34-579d-4bf8-df95-23d075afc359"
      },
      "execution_count": 5,
      "outputs": [
        {
          "output_type": "execute_result",
          "data": {
            "text/plain": [
              "Index(['date', 'fuel_consumption', 'petroleum_imports_crudeOil',\n",
              "       'Taxes_on_Customs_and_Other_Import Duties',\n",
              "       'Foreign Direct Investments', 'GDP Goods and Services',\n",
              "       'GDP: Gross National Income', 'Government Debt',\n",
              "       'New Vehicle Registrations', 'Vehicle Sales', 'Port Stay Duration',\n",
              "       'Vehicle Sales Asia', 'No.of Vessels Colombo',\n",
              "       'Imports of Refined Products', 'Colombo port calls',\n",
              "       'Tax income profits_gains', 'Tax on Export', 'Tax Goods & Services',\n",
              "       'Tax Road Transport', 'GDP FCE Households', 'Diesel User Price',\n",
              "       'Petrol User Price', 'Consumption_Oil', 'Sales 90 Octane',\n",
              "       'Sales 95 Octane', 'Sales Auto Diesel', 'Household_income',\n",
              "       'Fuel_other_manufacture'],\n",
              "      dtype='object')"
            ]
          },
          "metadata": {},
          "execution_count": 5
        }
      ]
    },
    {
      "cell_type": "code",
      "source": [
        "ciec_df_cols = ['date', 'fuel_consumption', 'petroleum_imports_crudeOil',\n",
        "       'Taxes_on_Customs_and_Other_Import Duties',\n",
        "       'Foreign Direct Investments', 'GDP Goods and Services',\n",
        "       'GDP: Gross National Income', 'Government Debt',\n",
        "       'New Vehicle Registrations', 'Vehicle Sales', 'Port Stay Duration',\n",
        "       'Vehicle Sales Asia', 'No.of Vessels Colombo',\n",
        "       'Imports of Refined Products', 'Colombo port calls',\n",
        "       'Tax income profits_gains', 'Tax on Export', 'Tax Goods & Services',\n",
        "       'Tax Road Transport', 'GDP FCE Households', 'Diesel User Price',\n",
        "       'Petrol User Price', 'Consumption_Oil', 'Sales 90 Octane',\n",
        "       'Sales 95 Octane', 'Sales Auto Diesel', 'Household_income',\n",
        "       'Fuel_other_manufacture']"
      ],
      "metadata": {
        "id": "uTO9F0Y6nFS9"
      },
      "execution_count": 6,
      "outputs": []
    },
    {
      "cell_type": "code",
      "source": [
        "ciec_df.dtypes"
      ],
      "metadata": {
        "colab": {
          "base_uri": "https://localhost:8080/",
          "height": 962
        },
        "id": "htfRfPWp82l6",
        "outputId": "606a0aa5-c08f-421c-a23b-14e56298f526",
        "collapsed": true
      },
      "execution_count": 7,
      "outputs": [
        {
          "output_type": "execute_result",
          "data": {
            "text/plain": [
              "date                                        datetime64[ns]\n",
              "fuel_consumption                                   float64\n",
              "petroleum_imports_crudeOil                         float64\n",
              "Taxes_on_Customs_and_Other_Import Duties           float64\n",
              "Foreign Direct Investments                         float64\n",
              "GDP Goods and Services                             float64\n",
              "GDP: Gross National Income                         float64\n",
              "Government Debt                                    float64\n",
              "New Vehicle Registrations                          float64\n",
              "Vehicle Sales                                      float64\n",
              "Port Stay Duration                                 float64\n",
              "Vehicle Sales Asia                                 float64\n",
              "No.of Vessels Colombo                              float64\n",
              "Imports of Refined Products                        float64\n",
              "Colombo port calls                                 float64\n",
              "Tax income profits_gains                           float64\n",
              "Tax on Export                                      float64\n",
              "Tax Goods & Services                               float64\n",
              "Tax Road Transport                                 float64\n",
              "GDP FCE Households                                 float64\n",
              "Diesel User Price                                  float64\n",
              "Petrol User Price                                  float64\n",
              "Consumption_Oil                                    float64\n",
              "Sales 90 Octane                                    float64\n",
              "Sales 95 Octane                                    float64\n",
              "Sales Auto Diesel                                  float64\n",
              "Household_income                                   float64\n",
              "Fuel_other_manufacture                             float64\n",
              "dtype: object"
            ],
            "text/html": [
              "<div>\n",
              "<style scoped>\n",
              "    .dataframe tbody tr th:only-of-type {\n",
              "        vertical-align: middle;\n",
              "    }\n",
              "\n",
              "    .dataframe tbody tr th {\n",
              "        vertical-align: top;\n",
              "    }\n",
              "\n",
              "    .dataframe thead th {\n",
              "        text-align: right;\n",
              "    }\n",
              "</style>\n",
              "<table border=\"1\" class=\"dataframe\">\n",
              "  <thead>\n",
              "    <tr style=\"text-align: right;\">\n",
              "      <th></th>\n",
              "      <th>0</th>\n",
              "    </tr>\n",
              "  </thead>\n",
              "  <tbody>\n",
              "    <tr>\n",
              "      <th>date</th>\n",
              "      <td>datetime64[ns]</td>\n",
              "    </tr>\n",
              "    <tr>\n",
              "      <th>fuel_consumption</th>\n",
              "      <td>float64</td>\n",
              "    </tr>\n",
              "    <tr>\n",
              "      <th>petroleum_imports_crudeOil</th>\n",
              "      <td>float64</td>\n",
              "    </tr>\n",
              "    <tr>\n",
              "      <th>Taxes_on_Customs_and_Other_Import Duties</th>\n",
              "      <td>float64</td>\n",
              "    </tr>\n",
              "    <tr>\n",
              "      <th>Foreign Direct Investments</th>\n",
              "      <td>float64</td>\n",
              "    </tr>\n",
              "    <tr>\n",
              "      <th>GDP Goods and Services</th>\n",
              "      <td>float64</td>\n",
              "    </tr>\n",
              "    <tr>\n",
              "      <th>GDP: Gross National Income</th>\n",
              "      <td>float64</td>\n",
              "    </tr>\n",
              "    <tr>\n",
              "      <th>Government Debt</th>\n",
              "      <td>float64</td>\n",
              "    </tr>\n",
              "    <tr>\n",
              "      <th>New Vehicle Registrations</th>\n",
              "      <td>float64</td>\n",
              "    </tr>\n",
              "    <tr>\n",
              "      <th>Vehicle Sales</th>\n",
              "      <td>float64</td>\n",
              "    </tr>\n",
              "    <tr>\n",
              "      <th>Port Stay Duration</th>\n",
              "      <td>float64</td>\n",
              "    </tr>\n",
              "    <tr>\n",
              "      <th>Vehicle Sales Asia</th>\n",
              "      <td>float64</td>\n",
              "    </tr>\n",
              "    <tr>\n",
              "      <th>No.of Vessels Colombo</th>\n",
              "      <td>float64</td>\n",
              "    </tr>\n",
              "    <tr>\n",
              "      <th>Imports of Refined Products</th>\n",
              "      <td>float64</td>\n",
              "    </tr>\n",
              "    <tr>\n",
              "      <th>Colombo port calls</th>\n",
              "      <td>float64</td>\n",
              "    </tr>\n",
              "    <tr>\n",
              "      <th>Tax income profits_gains</th>\n",
              "      <td>float64</td>\n",
              "    </tr>\n",
              "    <tr>\n",
              "      <th>Tax on Export</th>\n",
              "      <td>float64</td>\n",
              "    </tr>\n",
              "    <tr>\n",
              "      <th>Tax Goods &amp; Services</th>\n",
              "      <td>float64</td>\n",
              "    </tr>\n",
              "    <tr>\n",
              "      <th>Tax Road Transport</th>\n",
              "      <td>float64</td>\n",
              "    </tr>\n",
              "    <tr>\n",
              "      <th>GDP FCE Households</th>\n",
              "      <td>float64</td>\n",
              "    </tr>\n",
              "    <tr>\n",
              "      <th>Diesel User Price</th>\n",
              "      <td>float64</td>\n",
              "    </tr>\n",
              "    <tr>\n",
              "      <th>Petrol User Price</th>\n",
              "      <td>float64</td>\n",
              "    </tr>\n",
              "    <tr>\n",
              "      <th>Consumption_Oil</th>\n",
              "      <td>float64</td>\n",
              "    </tr>\n",
              "    <tr>\n",
              "      <th>Sales 90 Octane</th>\n",
              "      <td>float64</td>\n",
              "    </tr>\n",
              "    <tr>\n",
              "      <th>Sales 95 Octane</th>\n",
              "      <td>float64</td>\n",
              "    </tr>\n",
              "    <tr>\n",
              "      <th>Sales Auto Diesel</th>\n",
              "      <td>float64</td>\n",
              "    </tr>\n",
              "    <tr>\n",
              "      <th>Household_income</th>\n",
              "      <td>float64</td>\n",
              "    </tr>\n",
              "    <tr>\n",
              "      <th>Fuel_other_manufacture</th>\n",
              "      <td>float64</td>\n",
              "    </tr>\n",
              "  </tbody>\n",
              "</table>\n",
              "</div><br><label><b>dtype:</b> object</label>"
            ]
          },
          "metadata": {},
          "execution_count": 7
        }
      ]
    },
    {
      "cell_type": "markdown",
      "source": [
        "## **Checking the relationships of the columns to see how they must be interpolated**"
      ],
      "metadata": {
        "id": "W9yq6fmGoBZt"
      }
    },
    {
      "cell_type": "markdown",
      "source": [
        "Checking how the columns are related to other columns, For forecasting the null values"
      ],
      "metadata": {
        "id": "6PYfcrfvrTGJ"
      }
    },
    {
      "cell_type": "code",
      "source": [
        "def calculate_category_correlation(df,feature1, feature2):\n",
        "    # Drop rows where 'feature1' is NaN\n",
        "    df_valid_feature1 = df.dropna(subset=[feature1])\n",
        "\n",
        "    # Drop rows where 'feature2' are NaN\n",
        "    df_valid_feature2 = df.dropna(subset=[feature2], how='all')\n",
        "\n",
        "    # Find the overlapping date range where both 'feature1' and the 'feature2' exist\n",
        "    start_date = max(df_valid_feature1['date'].min(), df_valid_feature2['date'].min())\n",
        "    end_date = min(df_valid_feature1['date'].max(), df_valid_feature2['date'].max())\n",
        "\n",
        "    # Filter data to include only the overlapping date range\n",
        "    df_filtered = df[(df['date'] >= start_date) & (df['date'] <= end_date)]\n",
        "\n",
        "    # Compute correlation between 'fuel_consumption' and the aggregated category\n",
        "    correlation = df_filtered[[feature1, feature2]].corr().iloc[0, 1]\n",
        "\n",
        "    return correlation"
      ],
      "metadata": {
        "id": "0BhokyGioOZ_"
      },
      "execution_count": 8,
      "outputs": []
    },
    {
      "cell_type": "code",
      "source": [
        "def find_strong_correlations(df, columns, threshold=0.8):\n",
        "  strong_correlations = {}\n",
        "  for i in columns:\n",
        "    for j in columns:\n",
        "      if i != j:\n",
        "        correlation = calculate_category_correlation(df, i, j)\n",
        "        if abs(correlation) >= threshold:\n",
        "          if i not in strong_correlations:\n",
        "            strong_correlations[i] = []\n",
        "          strong_correlations[i].append((j,correlation))\n",
        "\n",
        "\n",
        "  if strong_correlations:\n",
        "    print(\"THE STRONG CORRELATIONS\")\n",
        "    for feature, related_features  in strong_correlations.items():\n",
        "      for related_feature, corr in related_features:\n",
        "        print(f\"{feature} and {related_feature} have a correlation of {corr:.2f}\")\n",
        "  else:\n",
        "    print(\"NO STRONG CORRELATIONS\")\n",
        "\n",
        "  return strong_correlations\n"
      ],
      "metadata": {
        "id": "ekmyZNRSxJqB"
      },
      "execution_count": 9,
      "outputs": []
    },
    {
      "cell_type": "code",
      "source": [
        "strong_correlations = find_strong_correlations(ciec_df,ciec_df_cols)"
      ],
      "metadata": {
        "colab": {
          "base_uri": "https://localhost:8080/"
        },
        "id": "RqigDCpZywuq",
        "outputId": "365dc0b7-8d37-44e7-eb42-a4100bedb464"
      },
      "execution_count": 10,
      "outputs": [
        {
          "output_type": "stream",
          "name": "stdout",
          "text": [
            "THE STRONG CORRELATIONS\n",
            "date and fuel_consumption have a correlation of 0.90\n",
            "date and GDP Goods and Services have a correlation of 0.91\n",
            "date and GDP: Gross National Income have a correlation of 0.93\n",
            "date and Government Debt have a correlation of 0.94\n",
            "date and Imports of Refined Products have a correlation of 0.88\n",
            "date and Tax income profits_gains have a correlation of 0.81\n",
            "date and Tax Goods & Services have a correlation of -0.93\n",
            "date and GDP FCE Households have a correlation of 0.89\n",
            "date and Petrol User Price have a correlation of -0.87\n",
            "date and Consumption_Oil have a correlation of 0.94\n",
            "date and Sales 90 Octane have a correlation of 0.96\n",
            "date and Sales 95 Octane have a correlation of 0.83\n",
            "date and Sales Auto Diesel have a correlation of 0.81\n",
            "date and Household_income have a correlation of 0.82\n",
            "fuel_consumption and date have a correlation of 0.90\n",
            "fuel_consumption and Vehicle Sales have a correlation of 0.83\n",
            "fuel_consumption and Petrol User Price have a correlation of -0.84\n",
            "fuel_consumption and Consumption_Oil have a correlation of 0.94\n",
            "fuel_consumption and Sales Auto Diesel have a correlation of 0.94\n",
            "petroleum_imports_crudeOil and Diesel User Price have a correlation of 0.81\n",
            "GDP Goods and Services and date have a correlation of 0.91\n",
            "GDP Goods and Services and GDP: Gross National Income have a correlation of 0.96\n",
            "GDP Goods and Services and Government Debt have a correlation of 0.93\n",
            "GDP Goods and Services and Tax income profits_gains have a correlation of 0.87\n",
            "GDP Goods and Services and GDP FCE Households have a correlation of 0.95\n",
            "GDP Goods and Services and Fuel_other_manufacture have a correlation of 0.87\n",
            "GDP: Gross National Income and date have a correlation of 0.93\n",
            "GDP: Gross National Income and GDP Goods and Services have a correlation of 0.96\n",
            "GDP: Gross National Income and Government Debt have a correlation of 0.97\n",
            "GDP: Gross National Income and Tax income profits_gains have a correlation of 0.90\n",
            "GDP: Gross National Income and GDP FCE Households have a correlation of 0.99\n",
            "GDP: Gross National Income and Sales 90 Octane have a correlation of 0.80\n",
            "GDP: Gross National Income and Fuel_other_manufacture have a correlation of 0.86\n",
            "Government Debt and date have a correlation of 0.94\n",
            "Government Debt and GDP Goods and Services have a correlation of 0.93\n",
            "Government Debt and GDP: Gross National Income have a correlation of 0.97\n",
            "Government Debt and New Vehicle Registrations have a correlation of -0.82\n",
            "Government Debt and Tax income profits_gains have a correlation of 0.86\n",
            "Government Debt and Tax Road Transport have a correlation of -0.91\n",
            "Government Debt and GDP FCE Households have a correlation of 0.96\n",
            "Government Debt and Sales Auto Diesel have a correlation of -0.82\n",
            "Government Debt and Fuel_other_manufacture have a correlation of 0.87\n",
            "New Vehicle Registrations and Government Debt have a correlation of -0.82\n",
            "Vehicle Sales and fuel_consumption have a correlation of 0.83\n",
            "Vehicle Sales and Vehicle Sales Asia have a correlation of 0.91\n",
            "Vehicle Sales and Tax on Export have a correlation of -0.88\n",
            "Vehicle Sales Asia and Vehicle Sales have a correlation of 0.91\n",
            "Imports of Refined Products and date have a correlation of 0.88\n",
            "Imports of Refined Products and Tax income profits_gains have a correlation of 0.86\n",
            "Imports of Refined Products and Tax Goods & Services have a correlation of -0.88\n",
            "Imports of Refined Products and Sales 90 Octane have a correlation of 0.84\n",
            "Tax income profits_gains and date have a correlation of 0.81\n",
            "Tax income profits_gains and GDP Goods and Services have a correlation of 0.87\n",
            "Tax income profits_gains and GDP: Gross National Income have a correlation of 0.90\n",
            "Tax income profits_gains and Government Debt have a correlation of 0.86\n",
            "Tax income profits_gains and Imports of Refined Products have a correlation of 0.86\n",
            "Tax income profits_gains and GDP FCE Households have a correlation of 0.92\n",
            "Tax income profits_gains and Sales 90 Octane have a correlation of 0.93\n",
            "Tax on Export and Vehicle Sales have a correlation of -0.88\n",
            "Tax Goods & Services and date have a correlation of -0.93\n",
            "Tax Goods & Services and Imports of Refined Products have a correlation of -0.88\n",
            "Tax Goods & Services and Consumption_Oil have a correlation of -0.81\n",
            "Tax Goods & Services and Sales 90 Octane have a correlation of -0.84\n",
            "Tax Road Transport and Government Debt have a correlation of -0.91\n",
            "GDP FCE Households and date have a correlation of 0.89\n",
            "GDP FCE Households and GDP Goods and Services have a correlation of 0.95\n",
            "GDP FCE Households and GDP: Gross National Income have a correlation of 0.99\n",
            "GDP FCE Households and Government Debt have a correlation of 0.96\n",
            "GDP FCE Households and Tax income profits_gains have a correlation of 0.92\n",
            "GDP FCE Households and Fuel_other_manufacture have a correlation of 0.88\n",
            "Diesel User Price and petroleum_imports_crudeOil have a correlation of 0.81\n",
            "Petrol User Price and date have a correlation of -0.87\n",
            "Petrol User Price and fuel_consumption have a correlation of -0.84\n",
            "Petrol User Price and Consumption_Oil have a correlation of -0.88\n",
            "Petrol User Price and Sales 90 Octane have a correlation of -0.84\n",
            "Petrol User Price and Sales 95 Octane have a correlation of -0.80\n",
            "Consumption_Oil and date have a correlation of 0.94\n",
            "Consumption_Oil and fuel_consumption have a correlation of 0.94\n",
            "Consumption_Oil and Tax Goods & Services have a correlation of -0.81\n",
            "Consumption_Oil and Petrol User Price have a correlation of -0.88\n",
            "Consumption_Oil and Sales 90 Octane have a correlation of 0.92\n",
            "Consumption_Oil and Sales 95 Octane have a correlation of 0.95\n",
            "Consumption_Oil and Sales Auto Diesel have a correlation of 0.80\n",
            "Sales 90 Octane and date have a correlation of 0.96\n",
            "Sales 90 Octane and GDP: Gross National Income have a correlation of 0.80\n",
            "Sales 90 Octane and Imports of Refined Products have a correlation of 0.84\n",
            "Sales 90 Octane and Tax income profits_gains have a correlation of 0.93\n",
            "Sales 90 Octane and Tax Goods & Services have a correlation of -0.84\n",
            "Sales 90 Octane and Petrol User Price have a correlation of -0.84\n",
            "Sales 90 Octane and Consumption_Oil have a correlation of 0.92\n",
            "Sales 90 Octane and Sales 95 Octane have a correlation of 0.91\n",
            "Sales 95 Octane and date have a correlation of 0.83\n",
            "Sales 95 Octane and Petrol User Price have a correlation of -0.80\n",
            "Sales 95 Octane and Consumption_Oil have a correlation of 0.95\n",
            "Sales 95 Octane and Sales 90 Octane have a correlation of 0.91\n",
            "Sales Auto Diesel and date have a correlation of 0.81\n",
            "Sales Auto Diesel and fuel_consumption have a correlation of 0.94\n",
            "Sales Auto Diesel and Government Debt have a correlation of -0.82\n",
            "Sales Auto Diesel and Consumption_Oil have a correlation of 0.80\n",
            "Household_income and date have a correlation of 0.82\n",
            "Fuel_other_manufacture and GDP Goods and Services have a correlation of 0.87\n",
            "Fuel_other_manufacture and GDP: Gross National Income have a correlation of 0.86\n",
            "Fuel_other_manufacture and Government Debt have a correlation of 0.87\n",
            "Fuel_other_manufacture and GDP FCE Households have a correlation of 0.88\n"
          ]
        }
      ]
    },
    {
      "cell_type": "code",
      "source": [
        "ciec_df.isnull().mean() *100"
      ],
      "metadata": {
        "colab": {
          "base_uri": "https://localhost:8080/",
          "height": 962
        },
        "id": "9OitwfvQ0r4M",
        "outputId": "9cfd8676-839c-4095-b86d-6cfc72087c3a",
        "collapsed": true
      },
      "execution_count": 11,
      "outputs": [
        {
          "output_type": "execute_result",
          "data": {
            "text/plain": [
              "date                                         0.000000\n",
              "fuel_consumption                            28.649535\n",
              "petroleum_imports_crudeOil                   8.747950\n",
              "Taxes_on_Customs_and_Other_Import Duties     3.007108\n",
              "Foreign Direct Investments                  37.288136\n",
              "GDP Goods and Services                      57.900492\n",
              "GDP: Gross National Income                  57.900492\n",
              "Government Debt                             69.327501\n",
              "New Vehicle Registrations                    0.601422\n",
              "Vehicle Sales                               57.189721\n",
              "Port Stay Duration                          91.416074\n",
              "Vehicle Sales Asia                          57.189721\n",
              "No.of Vessels Colombo                       25.861126\n",
              "Imports of Refined Products                  8.747950\n",
              "Colombo port calls                          91.525424\n",
              "Tax income profits_gains                     3.007108\n",
              "Tax on Export                               51.448879\n",
              "Tax Goods & Services                         3.007108\n",
              "Tax Road Transport                          51.503554\n",
              "GDP FCE Households                          57.900492\n",
              "Diesel User Price                            8.693275\n",
              "Petrol User Price                            8.693275\n",
              "Consumption_Oil                              3.007108\n",
              "Sales 90 Octane                              8.747950\n",
              "Sales 95 Octane                             31.547294\n",
              "Sales Auto Diesel                           11.536359\n",
              "Household_income                            95.735375\n",
              "Fuel_other_manufacture                      68.890104\n",
              "dtype: float64"
            ],
            "text/html": [
              "<div>\n",
              "<style scoped>\n",
              "    .dataframe tbody tr th:only-of-type {\n",
              "        vertical-align: middle;\n",
              "    }\n",
              "\n",
              "    .dataframe tbody tr th {\n",
              "        vertical-align: top;\n",
              "    }\n",
              "\n",
              "    .dataframe thead th {\n",
              "        text-align: right;\n",
              "    }\n",
              "</style>\n",
              "<table border=\"1\" class=\"dataframe\">\n",
              "  <thead>\n",
              "    <tr style=\"text-align: right;\">\n",
              "      <th></th>\n",
              "      <th>0</th>\n",
              "    </tr>\n",
              "  </thead>\n",
              "  <tbody>\n",
              "    <tr>\n",
              "      <th>date</th>\n",
              "      <td>0.000000</td>\n",
              "    </tr>\n",
              "    <tr>\n",
              "      <th>fuel_consumption</th>\n",
              "      <td>28.649535</td>\n",
              "    </tr>\n",
              "    <tr>\n",
              "      <th>petroleum_imports_crudeOil</th>\n",
              "      <td>8.747950</td>\n",
              "    </tr>\n",
              "    <tr>\n",
              "      <th>Taxes_on_Customs_and_Other_Import Duties</th>\n",
              "      <td>3.007108</td>\n",
              "    </tr>\n",
              "    <tr>\n",
              "      <th>Foreign Direct Investments</th>\n",
              "      <td>37.288136</td>\n",
              "    </tr>\n",
              "    <tr>\n",
              "      <th>GDP Goods and Services</th>\n",
              "      <td>57.900492</td>\n",
              "    </tr>\n",
              "    <tr>\n",
              "      <th>GDP: Gross National Income</th>\n",
              "      <td>57.900492</td>\n",
              "    </tr>\n",
              "    <tr>\n",
              "      <th>Government Debt</th>\n",
              "      <td>69.327501</td>\n",
              "    </tr>\n",
              "    <tr>\n",
              "      <th>New Vehicle Registrations</th>\n",
              "      <td>0.601422</td>\n",
              "    </tr>\n",
              "    <tr>\n",
              "      <th>Vehicle Sales</th>\n",
              "      <td>57.189721</td>\n",
              "    </tr>\n",
              "    <tr>\n",
              "      <th>Port Stay Duration</th>\n",
              "      <td>91.416074</td>\n",
              "    </tr>\n",
              "    <tr>\n",
              "      <th>Vehicle Sales Asia</th>\n",
              "      <td>57.189721</td>\n",
              "    </tr>\n",
              "    <tr>\n",
              "      <th>No.of Vessels Colombo</th>\n",
              "      <td>25.861126</td>\n",
              "    </tr>\n",
              "    <tr>\n",
              "      <th>Imports of Refined Products</th>\n",
              "      <td>8.747950</td>\n",
              "    </tr>\n",
              "    <tr>\n",
              "      <th>Colombo port calls</th>\n",
              "      <td>91.525424</td>\n",
              "    </tr>\n",
              "    <tr>\n",
              "      <th>Tax income profits_gains</th>\n",
              "      <td>3.007108</td>\n",
              "    </tr>\n",
              "    <tr>\n",
              "      <th>Tax on Export</th>\n",
              "      <td>51.448879</td>\n",
              "    </tr>\n",
              "    <tr>\n",
              "      <th>Tax Goods &amp; Services</th>\n",
              "      <td>3.007108</td>\n",
              "    </tr>\n",
              "    <tr>\n",
              "      <th>Tax Road Transport</th>\n",
              "      <td>51.503554</td>\n",
              "    </tr>\n",
              "    <tr>\n",
              "      <th>GDP FCE Households</th>\n",
              "      <td>57.900492</td>\n",
              "    </tr>\n",
              "    <tr>\n",
              "      <th>Diesel User Price</th>\n",
              "      <td>8.693275</td>\n",
              "    </tr>\n",
              "    <tr>\n",
              "      <th>Petrol User Price</th>\n",
              "      <td>8.693275</td>\n",
              "    </tr>\n",
              "    <tr>\n",
              "      <th>Consumption_Oil</th>\n",
              "      <td>3.007108</td>\n",
              "    </tr>\n",
              "    <tr>\n",
              "      <th>Sales 90 Octane</th>\n",
              "      <td>8.747950</td>\n",
              "    </tr>\n",
              "    <tr>\n",
              "      <th>Sales 95 Octane</th>\n",
              "      <td>31.547294</td>\n",
              "    </tr>\n",
              "    <tr>\n",
              "      <th>Sales Auto Diesel</th>\n",
              "      <td>11.536359</td>\n",
              "    </tr>\n",
              "    <tr>\n",
              "      <th>Household_income</th>\n",
              "      <td>95.735375</td>\n",
              "    </tr>\n",
              "    <tr>\n",
              "      <th>Fuel_other_manufacture</th>\n",
              "      <td>68.890104</td>\n",
              "    </tr>\n",
              "  </tbody>\n",
              "</table>\n",
              "</div><br><label><b>dtype:</b> float64</label>"
            ]
          },
          "metadata": {},
          "execution_count": 11
        }
      ]
    },
    {
      "cell_type": "markdown",
      "source": [
        "**Null value analysis**\\\n",
        "0-10% - date, consumption_oil"
      ],
      "metadata": {
        "id": "4fWrxIr21WMe"
      }
    },
    {
      "cell_type": "markdown",
      "source": [
        "10-30% - fuel_consumption, New Vehicle Registrations (Interpolation will be applied)"
      ],
      "metadata": {
        "id": "d-WFKZCi1zdq"
      }
    },
    {
      "cell_type": "markdown",
      "source": [
        "30-50% -petroleum_imports_crude_oil, Taxes_on_Customs_and_Other_Import Duties, Imports of Refined Products, Tax income profits_gains, Tax Goods & Services, Diesel User Price, Petrol User Price, Sales 90 Octane, Sales Auto Diesel,"
      ],
      "metadata": {
        "id": "MpSUHZZO2D59"
      }
    },
    {
      "cell_type": "markdown",
      "source": [
        "50% + - Foreign Direct Investments, GDP Goods and Services, GDP: Gross National Income, GDP: Gross National Income, Government Debt, Vehicle Sales, Port Stay Duration, Vehicle Sales Asia, No.of Vessels Colombo, Colombo port calls, Tax on Export, Tax Road Transport, GDP FCE Households, Sales 95 Octane, Household_income, Fuel_other_manufacture. (Interplation will be applied)"
      ],
      "metadata": {
        "id": "j9trq6X42xx5"
      }
    },
    {
      "cell_type": "markdown",
      "source": [
        "**Need to cutdown the range from which data is considered, few possible time frames to start with are 1990,1999,2005,2006,2010 **"
      ],
      "metadata": {
        "id": "DgTnYtGQ4thn"
      }
    },
    {
      "cell_type": "code",
      "source": [
        "def get_correlating_list(feature, dict):\n",
        "  list = []\n",
        "  values = dict[feature]\n",
        "  for v1,v2 in values:\n",
        "    list.append(v1)\n",
        "  return list"
      ],
      "metadata": {
        "id": "P5QJ7Ot66IGc"
      },
      "execution_count": 12,
      "outputs": []
    },
    {
      "cell_type": "code",
      "source": [
        "proxy_df = pd.DataFrame()"
      ],
      "metadata": {
        "id": "T7V0DuTL63Av"
      },
      "execution_count": 13,
      "outputs": []
    },
    {
      "cell_type": "code",
      "source": [
        "# Making a copy of ciec_df\n",
        "df = ciec_df.copy()"
      ],
      "metadata": {
        "id": "ZNZVYsTW9R_B"
      },
      "execution_count": 14,
      "outputs": []
    },
    {
      "cell_type": "markdown",
      "source": [
        "## **Scaling The data**"
      ],
      "metadata": {
        "id": "qjfJLcAH_Gdj"
      }
    },
    {
      "cell_type": "code",
      "source": [
        "# scaler = StandardScaler()\n",
        "# m_scaler = MinMaxScaler()"
      ],
      "metadata": {
        "id": "ZiSVv6cAA8fJ"
      },
      "execution_count": 15,
      "outputs": []
    },
    {
      "cell_type": "markdown",
      "source": [
        "Using z-score scaling (Standard Scaler) for the columns following normal distribution"
      ],
      "metadata": {
        "id": "_KXY2mnV_K1t"
      }
    },
    {
      "cell_type": "code",
      "source": [
        "# z_cols = ['fuel_consumption', 'GDP: Gross National Income', 'GDP Goods and Services',\n",
        "#           'Foreign Direct Investments', 'Household_income', 'Tax income profits_gains',\n",
        "#           'Tax on Export', 'Tax Goods & Services', 'Tax Road Transport', 'Government Debt', 'Vehicle Sales']"
      ],
      "metadata": {
        "id": "7YJzN0q7_GOo"
      },
      "execution_count": 16,
      "outputs": []
    },
    {
      "cell_type": "code",
      "source": [
        "# df[z_cols] = scaler.fit_transform(ciec_df[z_cols])"
      ],
      "metadata": {
        "id": "xMrJ-KAWA68t"
      },
      "execution_count": 17,
      "outputs": []
    },
    {
      "cell_type": "markdown",
      "source": [
        "Using min-max scaling for price related values"
      ],
      "metadata": {
        "id": "E0yYLf8I_l1j"
      }
    },
    {
      "cell_type": "code",
      "source": [
        "# m_cols = ['Diesel User Price', 'Petrol User Price', 'petroleum_imports_crudeOil','Imports of Refined Products', 'Consumption_Oil']"
      ],
      "metadata": {
        "id": "VLFYXzPV_GM6"
      },
      "execution_count": 18,
      "outputs": []
    },
    {
      "cell_type": "code",
      "source": [
        "# df[m_cols] = m_scaler.fit_transform(ciec_df[m_cols])"
      ],
      "metadata": {
        "id": "mr8e_9cJBNJo"
      },
      "execution_count": 19,
      "outputs": []
    },
    {
      "cell_type": "markdown",
      "source": [
        "Adding log transformation for highly skewed data"
      ],
      "metadata": {
        "id": "UBbun4BX_304"
      }
    },
    {
      "cell_type": "code",
      "source": [
        "# l_cols = ['GDP: Gross National Income', 'Foreign Direct Investments', 'Household_income', 'Tax income profits_gains']"
      ],
      "metadata": {
        "id": "i2fF0__I_F9w"
      },
      "execution_count": 20,
      "outputs": []
    },
    {
      "cell_type": "code",
      "source": [
        "# df[l_cols] = np.log1p(df[l_cols])"
      ],
      "metadata": {
        "id": "fsxJplCs9VqM"
      },
      "execution_count": 21,
      "outputs": []
    },
    {
      "cell_type": "markdown",
      "source": [
        "## **Building Proxy features for the columns using the columns inside the df**"
      ],
      "metadata": {
        "id": "OUcACgH_6skW"
      }
    },
    {
      "cell_type": "markdown",
      "source": [
        "**Linear Regression**"
      ],
      "metadata": {
        "id": "8cg3P94LJrrv"
      }
    },
    {
      "cell_type": "code",
      "source": [
        "from sklearn.linear_model import LinearRegression\n",
        "from sklearn.preprocessing import MinMaxScaler\n",
        "import numpy as np\n",
        "import pandas as pd\n",
        "\n",
        "def fill_missing_with_regression(df, target_feature, correlated_features):\n",
        "    df = df.copy()\n",
        "\n",
        "    correlated_features = [col for col in correlated_features if col != 'date']\n",
        "\n",
        "    if len(correlated_features) == 0:\n",
        "        print(f\"No valid correlated features for {target_feature}.\")\n",
        "        return df\n",
        "\n",
        "    missing_mask = df[target_feature].isna()\n",
        "    valid_data = df.dropna(subset=[target_feature] + correlated_features)\n",
        "\n",
        "    print(f\"Valid data available for {target_feature}: {len(valid_data)} rows\")\n",
        "\n",
        "    if valid_data.empty:\n",
        "        print(f\"Not enough valid data to train regression for {target_feature}.\")\n",
        "        return df\n",
        "\n",
        "    df[correlated_features] = df[correlated_features].fillna(method='ffill').fillna(method='bfill')\n",
        "\n",
        "    # Apply MinMax scaling\n",
        "    scaler_X = MinMaxScaler()\n",
        "    scaler_y = MinMaxScaler()\n",
        "\n",
        "    X_train = scaler_X.fit_transform(valid_data[correlated_features].astype(float))\n",
        "    y_train = scaler_y.fit_transform(valid_data[[target_feature]].astype(float))\n",
        "\n",
        "    model = LinearRegression()\n",
        "    model.fit(X_train, y_train.ravel())\n",
        "\n",
        "    X_missing = df.loc[missing_mask, correlated_features].dropna()\n",
        "\n",
        "    print(f\"Missing values to predict for {target_feature}: {len(X_missing)} rows\")\n",
        "\n",
        "    if X_missing.empty:\n",
        "        print(f\"No valid correlated features available to predict missing {target_feature}.\")\n",
        "        return df\n",
        "\n",
        "    X_missing_scaled = scaler_X.transform(X_missing.astype(float))\n",
        "\n",
        "    # Predict missing values (scaled)\n",
        "    predicted_values_scaled = model.predict(X_missing_scaled)\n",
        "\n",
        "    # Inverse transform to get back real values\n",
        "    predicted_values = scaler_y.inverse_transform(predicted_values_scaled.reshape(-1, 1)).flatten()\n",
        "\n",
        "    df.loc[X_missing.index, target_feature] = predicted_values\n",
        "\n",
        "    return df\n"
      ],
      "metadata": {
        "id": "gs59daHnIQu6"
      },
      "execution_count": 22,
      "outputs": []
    },
    {
      "cell_type": "code",
      "source": [
        "strong_correlations.pop('date')"
      ],
      "metadata": {
        "colab": {
          "base_uri": "https://localhost:8080/"
        },
        "id": "pdKqZEcgJLpv",
        "outputId": "95c13e77-1294-4721-df81-3e96508b9325"
      },
      "execution_count": 28,
      "outputs": [
        {
          "output_type": "execute_result",
          "data": {
            "text/plain": [
              "[('fuel_consumption', 0.8980379064063567),\n",
              " ('GDP Goods and Services', 0.9123678001007717),\n",
              " ('GDP: Gross National Income', 0.9265286159980275),\n",
              " ('Government Debt', 0.937401419133558),\n",
              " ('Imports of Refined Products', 0.8828305073744521),\n",
              " ('Tax income profits_gains', 0.8097488342146448),\n",
              " ('Tax Goods & Services', -0.926198376101571),\n",
              " ('GDP FCE Households', 0.8907816212623615),\n",
              " ('Petrol User Price', -0.86664851830941),\n",
              " ('Consumption_Oil', 0.9352428882633094),\n",
              " ('Sales 90 Octane', 0.9577905774640867),\n",
              " ('Sales 95 Octane', 0.8290028944585407),\n",
              " ('Sales Auto Diesel', 0.8133006833969103),\n",
              " ('Household_income', 0.8165636911551781)]"
            ]
          },
          "metadata": {},
          "execution_count": 28
        }
      ]
    },
    {
      "cell_type": "code",
      "source": [
        "for feature in strong_correlations:\n",
        "  print()\n",
        "  print(\"Filling values for...\",feature)\n",
        "  list = get_correlating_list(feature, strong_correlations)\n",
        "  df = fill_missing_with_regression(df, feature, list[:5])\n",
        "  print(\"correlation:\",ciec_df['fuel_consumption'].corr(df['fuel_consumption']))\n",
        "  print(\"missing values:\",df[feature].isnull().mean())\n",
        "  print()"
      ],
      "metadata": {
        "colab": {
          "base_uri": "https://localhost:8080/"
        },
        "id": "LUsrL8TVIUSl",
        "outputId": "27ad3d88-012b-49ef-fe10-89ff881ddcc4"
      },
      "execution_count": 31,
      "outputs": [
        {
          "output_type": "stream",
          "name": "stdout",
          "text": [
            "\n",
            "Filling values for... fuel_consumption\n",
            "Valid data available for fuel_consumption: 1829 rows\n",
            "Missing values to predict for fuel_consumption: 0 rows\n",
            "No valid correlated features available to predict missing fuel_consumption.\n",
            "correlation: 0.9999999999999998\n",
            "missing values: 0.0\n",
            "\n",
            "\n",
            "Filling values for... petroleum_imports_crudeOil\n",
            "Valid data available for petroleum_imports_crudeOil: 1829 rows\n",
            "Missing values to predict for petroleum_imports_crudeOil: 0 rows\n",
            "No valid correlated features available to predict missing petroleum_imports_crudeOil.\n",
            "correlation: 0.9999999999999998\n",
            "missing values: 0.0\n",
            "\n",
            "\n",
            "Filling values for... GDP Goods and Services\n",
            "Valid data available for GDP Goods and Services: 1829 rows\n",
            "Missing values to predict for GDP Goods and Services: 0 rows\n",
            "No valid correlated features available to predict missing GDP Goods and Services.\n",
            "correlation: 0.9999999999999998\n",
            "missing values: 0.0\n",
            "\n",
            "\n",
            "Filling values for... GDP: Gross National Income\n",
            "Valid data available for GDP: Gross National Income: 1829 rows\n",
            "Missing values to predict for GDP: Gross National Income: 0 rows\n",
            "No valid correlated features available to predict missing GDP: Gross National Income.\n",
            "correlation: 0.9999999999999998\n",
            "missing values: 0.0\n",
            "\n",
            "\n",
            "Filling values for... Government Debt\n",
            "Valid data available for Government Debt: 1829 rows\n"
          ]
        },
        {
          "output_type": "stream",
          "name": "stderr",
          "text": [
            "<ipython-input-22-0392ab3b69c5>:24: FutureWarning: DataFrame.fillna with 'method' is deprecated and will raise in a future version. Use obj.ffill() or obj.bfill() instead.\n",
            "  df[correlated_features] = df[correlated_features].fillna(method='ffill').fillna(method='bfill')\n",
            "<ipython-input-22-0392ab3b69c5>:24: FutureWarning: DataFrame.fillna with 'method' is deprecated and will raise in a future version. Use obj.ffill() or obj.bfill() instead.\n",
            "  df[correlated_features] = df[correlated_features].fillna(method='ffill').fillna(method='bfill')\n",
            "<ipython-input-22-0392ab3b69c5>:24: FutureWarning: DataFrame.fillna with 'method' is deprecated and will raise in a future version. Use obj.ffill() or obj.bfill() instead.\n",
            "  df[correlated_features] = df[correlated_features].fillna(method='ffill').fillna(method='bfill')\n",
            "<ipython-input-22-0392ab3b69c5>:24: FutureWarning: DataFrame.fillna with 'method' is deprecated and will raise in a future version. Use obj.ffill() or obj.bfill() instead.\n",
            "  df[correlated_features] = df[correlated_features].fillna(method='ffill').fillna(method='bfill')\n",
            "<ipython-input-22-0392ab3b69c5>:24: FutureWarning: DataFrame.fillna with 'method' is deprecated and will raise in a future version. Use obj.ffill() or obj.bfill() instead.\n",
            "  df[correlated_features] = df[correlated_features].fillna(method='ffill').fillna(method='bfill')\n"
          ]
        },
        {
          "output_type": "stream",
          "name": "stdout",
          "text": [
            "Missing values to predict for Government Debt: 0 rows\n",
            "No valid correlated features available to predict missing Government Debt.\n",
            "correlation: 0.9999999999999998\n",
            "missing values: 0.0\n",
            "\n",
            "\n",
            "Filling values for... New Vehicle Registrations\n",
            "Valid data available for New Vehicle Registrations: 1829 rows\n",
            "Missing values to predict for New Vehicle Registrations: 0 rows\n",
            "No valid correlated features available to predict missing New Vehicle Registrations.\n",
            "correlation: 0.9999999999999998\n",
            "missing values: 0.0\n",
            "\n",
            "\n",
            "Filling values for... Vehicle Sales\n",
            "Valid data available for Vehicle Sales: 1829 rows\n",
            "Missing values to predict for Vehicle Sales: 0 rows\n",
            "No valid correlated features available to predict missing Vehicle Sales.\n",
            "correlation: 0.9999999999999998\n",
            "missing values: 0.0\n",
            "\n",
            "\n",
            "Filling values for... Vehicle Sales Asia\n",
            "Valid data available for Vehicle Sales Asia: 1829 rows\n",
            "Missing values to predict for Vehicle Sales Asia: 0 rows\n",
            "No valid correlated features available to predict missing Vehicle Sales Asia.\n",
            "correlation: 0.9999999999999998\n",
            "missing values: 0.0\n",
            "\n",
            "\n",
            "Filling values for... Imports of Refined Products\n",
            "Valid data available for Imports of Refined Products: 1829 rows\n",
            "Missing values to predict for Imports of Refined Products: 0 rows\n",
            "No valid correlated features available to predict missing Imports of Refined Products.\n",
            "correlation: 0.9999999999999998\n",
            "missing values: 0.0\n",
            "\n",
            "\n",
            "Filling values for... Tax income profits_gains\n",
            "Valid data available for Tax income profits_gains: 1829 rows\n",
            "Missing values to predict for Tax income profits_gains: 0 rows\n",
            "No valid correlated features available to predict missing Tax income profits_gains.\n",
            "correlation: 0.9999999999999998\n",
            "missing values: 0.0\n",
            "\n",
            "\n",
            "Filling values for... Tax on Export\n",
            "Valid data available for Tax on Export: 1829 rows\n",
            "Missing values to predict for Tax on Export: 0 rows\n",
            "No valid correlated features available to predict missing Tax on Export.\n",
            "correlation: 0.9999999999999998\n",
            "missing values: 0.0\n",
            "\n",
            "\n",
            "Filling values for... Tax Goods & Services\n",
            "Valid data available for Tax Goods & Services: 1829 rows\n",
            "Missing values to predict for Tax Goods & Services: 0 rows\n",
            "No valid correlated features available to predict missing Tax Goods & Services.\n",
            "correlation: 0.9999999999999998\n",
            "missing values: 0.0\n",
            "\n",
            "\n",
            "Filling values for... Tax Road Transport\n",
            "Valid data available for Tax Road Transport: 1829 rows\n",
            "Missing values to predict for Tax Road Transport: 0 rows\n",
            "No valid correlated features available to predict missing Tax Road Transport.\n",
            "correlation: 0.9999999999999998\n",
            "missing values: 0.0\n",
            "\n",
            "\n",
            "Filling values for... GDP FCE Households\n",
            "Valid data available for GDP FCE Households: 1829 rows\n",
            "Missing values to predict for GDP FCE Households: 0 rows\n",
            "No valid correlated features available to predict missing GDP FCE Households.\n",
            "correlation: 0.9999999999999998\n",
            "missing values: 0.0\n",
            "\n",
            "\n",
            "Filling values for... Diesel User Price\n",
            "Valid data available for Diesel User Price: 1829 rows\n"
          ]
        },
        {
          "output_type": "stream",
          "name": "stderr",
          "text": [
            "<ipython-input-22-0392ab3b69c5>:24: FutureWarning: DataFrame.fillna with 'method' is deprecated and will raise in a future version. Use obj.ffill() or obj.bfill() instead.\n",
            "  df[correlated_features] = df[correlated_features].fillna(method='ffill').fillna(method='bfill')\n",
            "<ipython-input-22-0392ab3b69c5>:24: FutureWarning: DataFrame.fillna with 'method' is deprecated and will raise in a future version. Use obj.ffill() or obj.bfill() instead.\n",
            "  df[correlated_features] = df[correlated_features].fillna(method='ffill').fillna(method='bfill')\n",
            "<ipython-input-22-0392ab3b69c5>:24: FutureWarning: DataFrame.fillna with 'method' is deprecated and will raise in a future version. Use obj.ffill() or obj.bfill() instead.\n",
            "  df[correlated_features] = df[correlated_features].fillna(method='ffill').fillna(method='bfill')\n",
            "<ipython-input-22-0392ab3b69c5>:24: FutureWarning: DataFrame.fillna with 'method' is deprecated and will raise in a future version. Use obj.ffill() or obj.bfill() instead.\n",
            "  df[correlated_features] = df[correlated_features].fillna(method='ffill').fillna(method='bfill')\n",
            "<ipython-input-22-0392ab3b69c5>:24: FutureWarning: DataFrame.fillna with 'method' is deprecated and will raise in a future version. Use obj.ffill() or obj.bfill() instead.\n",
            "  df[correlated_features] = df[correlated_features].fillna(method='ffill').fillna(method='bfill')\n",
            "<ipython-input-22-0392ab3b69c5>:24: FutureWarning: DataFrame.fillna with 'method' is deprecated and will raise in a future version. Use obj.ffill() or obj.bfill() instead.\n",
            "  df[correlated_features] = df[correlated_features].fillna(method='ffill').fillna(method='bfill')\n",
            "<ipython-input-22-0392ab3b69c5>:24: FutureWarning: DataFrame.fillna with 'method' is deprecated and will raise in a future version. Use obj.ffill() or obj.bfill() instead.\n",
            "  df[correlated_features] = df[correlated_features].fillna(method='ffill').fillna(method='bfill')\n",
            "<ipython-input-22-0392ab3b69c5>:24: FutureWarning: DataFrame.fillna with 'method' is deprecated and will raise in a future version. Use obj.ffill() or obj.bfill() instead.\n",
            "  df[correlated_features] = df[correlated_features].fillna(method='ffill').fillna(method='bfill')\n",
            "<ipython-input-22-0392ab3b69c5>:24: FutureWarning: DataFrame.fillna with 'method' is deprecated and will raise in a future version. Use obj.ffill() or obj.bfill() instead.\n",
            "  df[correlated_features] = df[correlated_features].fillna(method='ffill').fillna(method='bfill')\n",
            "<ipython-input-22-0392ab3b69c5>:24: FutureWarning: DataFrame.fillna with 'method' is deprecated and will raise in a future version. Use obj.ffill() or obj.bfill() instead.\n",
            "  df[correlated_features] = df[correlated_features].fillna(method='ffill').fillna(method='bfill')\n"
          ]
        },
        {
          "output_type": "stream",
          "name": "stdout",
          "text": [
            "Missing values to predict for Diesel User Price: 0 rows\n",
            "No valid correlated features available to predict missing Diesel User Price.\n",
            "correlation: 0.9999999999999998\n",
            "missing values: 0.0\n",
            "\n",
            "\n",
            "Filling values for... Petrol User Price\n",
            "Valid data available for Petrol User Price: 1829 rows\n",
            "Missing values to predict for Petrol User Price: 0 rows\n",
            "No valid correlated features available to predict missing Petrol User Price.\n",
            "correlation: 0.9999999999999998\n",
            "missing values: 0.0\n",
            "\n",
            "\n",
            "Filling values for... Consumption_Oil\n",
            "Valid data available for Consumption_Oil: 1829 rows\n",
            "Missing values to predict for Consumption_Oil: 0 rows\n",
            "No valid correlated features available to predict missing Consumption_Oil.\n",
            "correlation: 0.9999999999999998\n",
            "missing values: 0.0\n",
            "\n",
            "\n",
            "Filling values for... Sales 90 Octane\n",
            "Valid data available for Sales 90 Octane: 1829 rows\n",
            "Missing values to predict for Sales 90 Octane: 0 rows\n",
            "No valid correlated features available to predict missing Sales 90 Octane.\n",
            "correlation: 0.9999999999999998\n",
            "missing values: 0.0\n",
            "\n",
            "\n",
            "Filling values for... Sales 95 Octane\n",
            "Valid data available for Sales 95 Octane: 1829 rows\n",
            "Missing values to predict for Sales 95 Octane: 0 rows\n",
            "No valid correlated features available to predict missing Sales 95 Octane.\n",
            "correlation: 0.9999999999999998\n",
            "missing values: 0.0\n",
            "\n",
            "\n",
            "Filling values for... Sales Auto Diesel\n",
            "Valid data available for Sales Auto Diesel: 1829 rows\n",
            "Missing values to predict for Sales Auto Diesel: 0 rows\n",
            "No valid correlated features available to predict missing Sales Auto Diesel.\n",
            "correlation: 0.9999999999999998\n",
            "missing values: 0.0\n",
            "\n",
            "\n",
            "Filling values for... Household_income\n",
            "No valid correlated features for Household_income.\n",
            "correlation: 0.9999999999999998\n",
            "missing values: 0.9573537452159651\n",
            "\n",
            "\n",
            "Filling values for... Fuel_other_manufacture\n",
            "Valid data available for Fuel_other_manufacture: 1829 rows\n",
            "Missing values to predict for Fuel_other_manufacture: 0 rows\n",
            "No valid correlated features available to predict missing Fuel_other_manufacture.\n",
            "correlation: 0.9999999999999998\n",
            "missing values: 0.0\n",
            "\n"
          ]
        },
        {
          "output_type": "stream",
          "name": "stderr",
          "text": [
            "<ipython-input-22-0392ab3b69c5>:24: FutureWarning: DataFrame.fillna with 'method' is deprecated and will raise in a future version. Use obj.ffill() or obj.bfill() instead.\n",
            "  df[correlated_features] = df[correlated_features].fillna(method='ffill').fillna(method='bfill')\n",
            "<ipython-input-22-0392ab3b69c5>:24: FutureWarning: DataFrame.fillna with 'method' is deprecated and will raise in a future version. Use obj.ffill() or obj.bfill() instead.\n",
            "  df[correlated_features] = df[correlated_features].fillna(method='ffill').fillna(method='bfill')\n",
            "<ipython-input-22-0392ab3b69c5>:24: FutureWarning: DataFrame.fillna with 'method' is deprecated and will raise in a future version. Use obj.ffill() or obj.bfill() instead.\n",
            "  df[correlated_features] = df[correlated_features].fillna(method='ffill').fillna(method='bfill')\n",
            "<ipython-input-22-0392ab3b69c5>:24: FutureWarning: DataFrame.fillna with 'method' is deprecated and will raise in a future version. Use obj.ffill() or obj.bfill() instead.\n",
            "  df[correlated_features] = df[correlated_features].fillna(method='ffill').fillna(method='bfill')\n",
            "<ipython-input-22-0392ab3b69c5>:24: FutureWarning: DataFrame.fillna with 'method' is deprecated and will raise in a future version. Use obj.ffill() or obj.bfill() instead.\n",
            "  df[correlated_features] = df[correlated_features].fillna(method='ffill').fillna(method='bfill')\n",
            "<ipython-input-22-0392ab3b69c5>:24: FutureWarning: DataFrame.fillna with 'method' is deprecated and will raise in a future version. Use obj.ffill() or obj.bfill() instead.\n",
            "  df[correlated_features] = df[correlated_features].fillna(method='ffill').fillna(method='bfill')\n"
          ]
        }
      ]
    },
    {
      "cell_type": "markdown",
      "source": [
        "#### **Summary of performing regression filling**"
      ],
      "metadata": {
        "id": "sn3nhPjaOf25"
      }
    },
    {
      "cell_type": "code",
      "source": [
        "df.isnull().mean() *100"
      ],
      "metadata": {
        "id": "aStt3bnEdiLc"
      },
      "execution_count": null,
      "outputs": []
    },
    {
      "cell_type": "markdown",
      "source": [
        "The following columns doesnt have any strong correlations \\\n",
        "'Foreign Direct Investments' \\\n",
        "'Household_income' \\\n",
        "'Colombo port calls' \\\n",
        "'Port Stay Duration' \\\n",
        "'No.of Vessels Colomob' \\"
      ],
      "metadata": {
        "id": "p0tVVPmBXsfL"
      }
    },
    {
      "cell_type": "markdown",
      "source": [
        "## **Building a Demand Proxy Target Variable**"
      ],
      "metadata": {
        "id": "paA7B5d2Xiqy"
      }
    },
    {
      "cell_type": "code",
      "source": [],
      "metadata": {
        "id": "Zq0shK3WXh-Q"
      },
      "execution_count": null,
      "outputs": []
    },
    {
      "cell_type": "markdown",
      "source": [
        "## **Analyzing Data**"
      ],
      "metadata": {
        "id": "fImGFGisW9U8"
      }
    },
    {
      "cell_type": "code",
      "source": [],
      "metadata": {
        "id": "z7wFIheiXM2q"
      },
      "execution_count": null,
      "outputs": []
    }
  ]
}